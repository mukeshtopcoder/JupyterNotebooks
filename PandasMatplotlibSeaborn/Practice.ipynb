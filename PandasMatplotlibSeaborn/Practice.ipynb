{
 "cells": [
  {
   "cell_type": "code",
   "execution_count": 40,
   "id": "33f92e5b-5a28-4312-9b69-38bc439640b3",
   "metadata": {},
   "outputs": [],
   "source": [
    "import requests"
   ]
  },
  {
   "cell_type": "code",
   "execution_count": 42,
   "id": "413d8ffc-8385-46b2-a165-314582b42d84",
   "metadata": {},
   "outputs": [],
   "source": [
    "url = \"https://github.com/topics\""
   ]
  },
  {
   "cell_type": "code",
   "execution_count": 43,
   "id": "5dc49ca4-630b-4248-9177-28390a904d2d",
   "metadata": {},
   "outputs": [],
   "source": [
    "response = requests.get(url)"
   ]
  },
  {
   "cell_type": "code",
   "execution_count": 46,
   "id": "bfc048ed-0af5-4e21-b0e1-d3795acc3e9f",
   "metadata": {},
   "outputs": [
    {
     "data": {
      "text/plain": [
       "200"
      ]
     },
     "execution_count": 46,
     "metadata": {},
     "output_type": "execute_result"
    }
   ],
   "source": [
    "response.status_code"
   ]
  },
  {
   "cell_type": "code",
   "execution_count": 55,
   "id": "bf2653cb-a273-4875-80ed-d873648c0a8a",
   "metadata": {},
   "outputs": [],
   "source": [
    "contents = str(response.text)"
   ]
  },
  {
   "cell_type": "code",
   "execution_count": 56,
   "id": "18eb29b9-fa5c-436a-8083-9cb96095f932",
   "metadata": {},
   "outputs": [
    {
     "data": {
      "text/plain": [
       "'\\n\\n<!DOCTYPE html>\\n<html\\n  lang=\"en\"\\n  \\n  data-color-mode=\"auto\" data-light-theme=\"light\" data-dark-theme=\"dark\"\\n  data-a11y-animated-images=\"system\" data-a11y-link-underlines=\"true\"\\n  \\n  >\\n\\n\\n\\n  <head>\\n    <meta charset=\"utf-8\">\\n  <link rel=\"dns-prefetch\" href=\"https://github.githubassets.com\">\\n  <link rel=\"dns-prefetch\" href=\"https://avatars.githubusercontent.com\">\\n  <link rel=\"dns-prefetch\" href=\"https://github-cloud.s3.amazonaws.com\">\\n  <link rel=\"dns-prefetch\" href=\"https://user-images.githubusercontent.com/\">\\n  <link rel=\"preconnect\" href=\"https://github.githubassets.com\" crossorigin>\\n  <link rel=\"preconnect\" href=\"https://avatars.githubusercontent.com\">\\n\\n  \\n\\n  <link crossorigin=\"anonymous\" media=\"all\" rel=\"stylesheet\" href=\"https://github.githubassets.com/assets/light-0cfd1fd8509e.css\" /><link crossorigin=\"anonymous\" media=\"all\" rel=\"stylesheet\" href=\"https://github.githubassets.com/assets/dark-d782f59290e2.css\" /><link data-color-theme=\"dark_dimmed\" crossorigin=\"anonymous\" media='"
      ]
     },
     "execution_count": 56,
     "metadata": {},
     "output_type": "execute_result"
    }
   ],
   "source": [
    "contents[:1000]"
   ]
  },
  {
   "cell_type": "code",
   "execution_count": 62,
   "id": "f580248f-c1d8-45c7-b8b1-8994301bea76",
   "metadata": {},
   "outputs": [],
   "source": [
    "with open(\"webpage.html\",\"w\",encoding=\"utf-8\") as file:\n",
    "    file.write(contents)"
   ]
  },
  {
   "cell_type": "code",
   "execution_count": 63,
   "id": "19273db3-bb22-4dc8-9d07-b986b29a987e",
   "metadata": {},
   "outputs": [],
   "source": [
    "from bs4 import BeautifulSoup"
   ]
  },
  {
   "cell_type": "code",
   "execution_count": 64,
   "id": "a572ca84-fc6a-425c-b435-c915fc9bebd4",
   "metadata": {},
   "outputs": [],
   "source": [
    "doc = BeautifulSoup(contents,\"html.parser\")"
   ]
  },
  {
   "cell_type": "code",
   "execution_count": 66,
   "id": "f1fd1773-1adc-4574-a551-3289f9a72e87",
   "metadata": {},
   "outputs": [
    {
     "data": {
      "text/plain": [
       "bs4.BeautifulSoup"
      ]
     },
     "execution_count": 66,
     "metadata": {},
     "output_type": "execute_result"
    }
   ],
   "source": [
    "type(doc)"
   ]
  },
  {
   "cell_type": "code",
   "execution_count": 76,
   "id": "019ea6fd-7dc7-4dde-8236-b677275185ee",
   "metadata": {},
   "outputs": [],
   "source": [
    "title = doc.find_all('p',{\"class\":\"f3 lh-condensed mb-0 mt-1 Link--primary\"})"
   ]
  },
  {
   "cell_type": "code",
   "execution_count": 77,
   "id": "f4057e12-3de9-4ab0-86f1-26c9c31c4bc8",
   "metadata": {},
   "outputs": [
    {
     "data": {
      "text/plain": [
       "30"
      ]
     },
     "execution_count": 77,
     "metadata": {},
     "output_type": "execute_result"
    }
   ],
   "source": [
    "len(title)"
   ]
  },
  {
   "cell_type": "code",
   "execution_count": 78,
   "id": "d3a93beb-ddcb-43de-ab37-96dc2bdfa802",
   "metadata": {},
   "outputs": [
    {
     "data": {
      "text/plain": [
       "[<p class=\"f3 lh-condensed mb-0 mt-1 Link--primary\">3D</p>,\n",
       " <p class=\"f3 lh-condensed mb-0 mt-1 Link--primary\">Ajax</p>,\n",
       " <p class=\"f3 lh-condensed mb-0 mt-1 Link--primary\">Algorithm</p>,\n",
       " <p class=\"f3 lh-condensed mb-0 mt-1 Link--primary\">Amp</p>,\n",
       " <p class=\"f3 lh-condensed mb-0 mt-1 Link--primary\">Android</p>,\n",
       " <p class=\"f3 lh-condensed mb-0 mt-1 Link--primary\">Angular</p>,\n",
       " <p class=\"f3 lh-condensed mb-0 mt-1 Link--primary\">Ansible</p>,\n",
       " <p class=\"f3 lh-condensed mb-0 mt-1 Link--primary\">API</p>,\n",
       " <p class=\"f3 lh-condensed mb-0 mt-1 Link--primary\">Arduino</p>,\n",
       " <p class=\"f3 lh-condensed mb-0 mt-1 Link--primary\">ASP.NET</p>,\n",
       " <p class=\"f3 lh-condensed mb-0 mt-1 Link--primary\">Awesome Lists</p>,\n",
       " <p class=\"f3 lh-condensed mb-0 mt-1 Link--primary\">Amazon Web Services</p>,\n",
       " <p class=\"f3 lh-condensed mb-0 mt-1 Link--primary\">Azure</p>,\n",
       " <p class=\"f3 lh-condensed mb-0 mt-1 Link--primary\">Babel</p>,\n",
       " <p class=\"f3 lh-condensed mb-0 mt-1 Link--primary\">Bash</p>,\n",
       " <p class=\"f3 lh-condensed mb-0 mt-1 Link--primary\">Bitcoin</p>,\n",
       " <p class=\"f3 lh-condensed mb-0 mt-1 Link--primary\">Bootstrap</p>,\n",
       " <p class=\"f3 lh-condensed mb-0 mt-1 Link--primary\">Bot</p>,\n",
       " <p class=\"f3 lh-condensed mb-0 mt-1 Link--primary\">C</p>,\n",
       " <p class=\"f3 lh-condensed mb-0 mt-1 Link--primary\">Chrome</p>,\n",
       " <p class=\"f3 lh-condensed mb-0 mt-1 Link--primary\">Chrome extension</p>,\n",
       " <p class=\"f3 lh-condensed mb-0 mt-1 Link--primary\">Command-line interface</p>,\n",
       " <p class=\"f3 lh-condensed mb-0 mt-1 Link--primary\">Clojure</p>,\n",
       " <p class=\"f3 lh-condensed mb-0 mt-1 Link--primary\">Code quality</p>,\n",
       " <p class=\"f3 lh-condensed mb-0 mt-1 Link--primary\">Code review</p>,\n",
       " <p class=\"f3 lh-condensed mb-0 mt-1 Link--primary\">Compiler</p>,\n",
       " <p class=\"f3 lh-condensed mb-0 mt-1 Link--primary\">Continuous integration</p>,\n",
       " <p class=\"f3 lh-condensed mb-0 mt-1 Link--primary\">C++</p>,\n",
       " <p class=\"f3 lh-condensed mb-0 mt-1 Link--primary\">Cryptocurrency</p>,\n",
       " <p class=\"f3 lh-condensed mb-0 mt-1 Link--primary\">Crystal</p>]"
      ]
     },
     "execution_count": 78,
     "metadata": {},
     "output_type": "execute_result"
    }
   ],
   "source": [
    "title"
   ]
  },
  {
   "cell_type": "code",
   "execution_count": 80,
   "id": "0db6765e-9a81-42b7-adf5-cc2473e33aec",
   "metadata": {},
   "outputs": [],
   "source": [
    "description = doc.find_all('p',{\"class\":\"f5 color-fg-muted mb-0 mt-1\"})"
   ]
  },
  {
   "cell_type": "code",
   "execution_count": 82,
   "id": "2e3c9f99-cc1f-4f94-aeb3-e259a5e46051",
   "metadata": {},
   "outputs": [
    {
     "data": {
      "text/plain": [
       "[<p class=\"f5 color-fg-muted mb-0 mt-1\">\n",
       "           3D refers to the use of three-dimensional graphics, modeling, and animation in various industries.\n",
       "         </p>,\n",
       " <p class=\"f5 color-fg-muted mb-0 mt-1\">\n",
       "           Ajax is a technique for creating interactive web applications.\n",
       "         </p>,\n",
       " <p class=\"f5 color-fg-muted mb-0 mt-1\">\n",
       "           Algorithms are self-contained sequences that carry out a variety of tasks.\n",
       "         </p>]"
      ]
     },
     "execution_count": 82,
     "metadata": {},
     "output_type": "execute_result"
    }
   ],
   "source": [
    "description[:3]"
   ]
  },
  {
   "cell_type": "code",
   "execution_count": 100,
   "id": "c158c9e3-3cb8-4001-aa65-f744d9b14e1a",
   "metadata": {},
   "outputs": [
    {
     "data": {
      "text/plain": [
       "'/topics/3d'"
      ]
     },
     "execution_count": 100,
     "metadata": {},
     "output_type": "execute_result"
    }
   ],
   "source": [
    "title_link = doc.find_all('a',{\"class\":\"no-underline flex-grow-0\"})\n",
    "title_link[0]['href']"
   ]
  },
  {
   "cell_type": "code",
   "execution_count": 101,
   "id": "b3e2c692-2bcf-4ffd-b2f9-b68cc5d8a79f",
   "metadata": {},
   "outputs": [
    {
     "data": {
      "text/plain": [
       "['https://github.com/topics/3d',\n",
       " 'https://github.com/topics/ajax',\n",
       " 'https://github.com/topics/algorithm',\n",
       " 'https://github.com/topics/amphp',\n",
       " 'https://github.com/topics/android',\n",
       " 'https://github.com/topics/angular',\n",
       " 'https://github.com/topics/ansible',\n",
       " 'https://github.com/topics/api',\n",
       " 'https://github.com/topics/arduino',\n",
       " 'https://github.com/topics/aspnet',\n",
       " 'https://github.com/topics/awesome',\n",
       " 'https://github.com/topics/aws',\n",
       " 'https://github.com/topics/azure',\n",
       " 'https://github.com/topics/babel',\n",
       " 'https://github.com/topics/bash',\n",
       " 'https://github.com/topics/bitcoin',\n",
       " 'https://github.com/topics/bootstrap',\n",
       " 'https://github.com/topics/bot',\n",
       " 'https://github.com/topics/c',\n",
       " 'https://github.com/topics/chrome',\n",
       " 'https://github.com/topics/chrome-extension',\n",
       " 'https://github.com/topics/cli',\n",
       " 'https://github.com/topics/clojure',\n",
       " 'https://github.com/topics/code-quality',\n",
       " 'https://github.com/topics/code-review',\n",
       " 'https://github.com/topics/compiler',\n",
       " 'https://github.com/topics/continuous-integration',\n",
       " 'https://github.com/topics/cpp',\n",
       " 'https://github.com/topics/cryptocurrency',\n",
       " 'https://github.com/topics/crystal']"
      ]
     },
     "execution_count": 101,
     "metadata": {},
     "output_type": "execute_result"
    }
   ],
   "source": [
    "links = []\n",
    "for i in range(0,len(title_link)):\n",
    "    links.append(\"https://github.com\"+title_link[i]['href'])\n",
    "links"
   ]
  },
  {
   "cell_type": "code",
   "execution_count": 103,
   "id": "90c9d7f3-804a-496c-9ce2-ccba327f1448",
   "metadata": {},
   "outputs": [
    {
     "data": {
      "text/plain": [
       "['3D',\n",
       " 'Ajax',\n",
       " 'Algorithm',\n",
       " 'Amp',\n",
       " 'Android',\n",
       " 'Angular',\n",
       " 'Ansible',\n",
       " 'API',\n",
       " 'Arduino',\n",
       " 'ASP.NET',\n",
       " 'Awesome Lists',\n",
       " 'Amazon Web Services',\n",
       " 'Azure',\n",
       " 'Babel',\n",
       " 'Bash',\n",
       " 'Bitcoin',\n",
       " 'Bootstrap',\n",
       " 'Bot',\n",
       " 'C',\n",
       " 'Chrome',\n",
       " 'Chrome extension',\n",
       " 'Command-line interface',\n",
       " 'Clojure',\n",
       " 'Code quality',\n",
       " 'Code review',\n",
       " 'Compiler',\n",
       " 'Continuous integration',\n",
       " 'C++',\n",
       " 'Cryptocurrency',\n",
       " 'Crystal']"
      ]
     },
     "execution_count": 103,
     "metadata": {},
     "output_type": "execute_result"
    }
   ],
   "source": [
    "titles = []\n",
    "for i in range(0,len(title)):\n",
    "    titles.append(title[i].text)\n",
    "titles"
   ]
  },
  {
   "cell_type": "code",
   "execution_count": 117,
   "id": "8b032578-89e2-45f1-8e03-c1abd9e6d81e",
   "metadata": {},
   "outputs": [
    {
     "data": {
      "text/plain": [
       "['3D refers to the use of three-dimensional graphics, modeling, and animation in various industries.',\n",
       " 'Ajax is a technique for creating interactive web applications.',\n",
       " 'Algorithms are self-contained sequences that carry out a variety of tasks.',\n",
       " 'Amp is a non-blocking concurrency library for PHP.',\n",
       " 'Android is an operating system built by Google designed for mobile devices.',\n",
       " 'Angular is an open source web application platform.',\n",
       " 'Ansible is a simple and powerful automation engine.',\n",
       " 'An API (Application Programming Interface) is a collection of protocols and subroutines for building software.',\n",
       " 'Arduino is an open source platform for building electronic devices.',\n",
       " 'ASP.NET is a web framework for building modern web apps and services.',\n",
       " 'An awesome list is a list of awesome things curated by the community.',\n",
       " 'Amazon Web Services provides on-demand cloud computing platforms on a subscription basis.',\n",
       " 'Azure is a cloud computing service created by Microsoft.',\n",
       " 'Babel is a compiler for writing next generation JavaScript, today.',\n",
       " 'Bash is a shell and command language interpreter for the GNU operating system.',\n",
       " 'Bitcoin is a cryptocurrency developed by Satoshi Nakamoto.',\n",
       " 'Bootstrap is an HTML, CSS, and JavaScript framework.',\n",
       " 'A bot is an application that runs automated tasks over the Internet.',\n",
       " 'C is a general purpose programming language that first appeared in 1972.',\n",
       " 'Chrome is a web browser from the tech company Google.',\n",
       " 'Chrome extensions enable users to customize the Chrome browsing experience.',\n",
       " 'A CLI, or command-line interface, is a console that helps users issue commands to a program.',\n",
       " 'Clojure is a dynamic, general-purpose programming language.',\n",
       " 'Automate your code review with style, quality, security, and test‑coverage checks when you need them.',\n",
       " 'Ensure your code meets quality standards and ship with confidence.',\n",
       " 'Compilers are software that translate higher-level programming languages to lower-level languages (e.g. machine code).',\n",
       " 'Automatically build and test your code as you push it upstream, preventing bugs from being deployed to production.',\n",
       " 'C++ is a general purpose and object-oriented programming language.',\n",
       " 'A cryptocurrency is a digital currency that uses cryptography.',\n",
       " 'Crystal is a self-hosted, general purpose programming language.']"
      ]
     },
     "execution_count": 117,
     "metadata": {},
     "output_type": "execute_result"
    }
   ],
   "source": [
    "descriptions = []\n",
    "for i in range(0,len(description)):\n",
    "    descriptions.append(description[i].text.strip())\n",
    "descriptions"
   ]
  },
  {
   "cell_type": "code",
   "execution_count": 118,
   "id": "43753775-936a-4a2d-bb77-8e21f29c754e",
   "metadata": {},
   "outputs": [],
   "source": [
    "import pandas as pd"
   ]
  },
  {
   "cell_type": "code",
   "execution_count": 129,
   "id": "980e0ded-35a3-4273-8e9f-a600d89c2d41",
   "metadata": {},
   "outputs": [
    {
     "data": {
      "text/html": [
       "<div>\n",
       "<style scoped>\n",
       "    .dataframe tbody tr th:only-of-type {\n",
       "        vertical-align: middle;\n",
       "    }\n",
       "\n",
       "    .dataframe tbody tr th {\n",
       "        vertical-align: top;\n",
       "    }\n",
       "\n",
       "    .dataframe thead th {\n",
       "        text-align: right;\n",
       "    }\n",
       "</style>\n",
       "<table border=\"1\" class=\"dataframe\">\n",
       "  <thead>\n",
       "    <tr style=\"text-align: right;\">\n",
       "      <th></th>\n",
       "      <th>Title</th>\n",
       "      <th>Link</th>\n",
       "      <th>Description</th>\n",
       "    </tr>\n",
       "  </thead>\n",
       "  <tbody>\n",
       "    <tr>\n",
       "      <th>0</th>\n",
       "      <td>3D</td>\n",
       "      <td>https://github.com/topics/3d</td>\n",
       "      <td>3D refers to the use of three-dimensional grap...</td>\n",
       "    </tr>\n",
       "    <tr>\n",
       "      <th>1</th>\n",
       "      <td>Ajax</td>\n",
       "      <td>https://github.com/topics/ajax</td>\n",
       "      <td>Ajax is a technique for creating interactive w...</td>\n",
       "    </tr>\n",
       "    <tr>\n",
       "      <th>2</th>\n",
       "      <td>Algorithm</td>\n",
       "      <td>https://github.com/topics/algorithm</td>\n",
       "      <td>Algorithms are self-contained sequences that c...</td>\n",
       "    </tr>\n",
       "  </tbody>\n",
       "</table>\n",
       "</div>"
      ],
      "text/plain": [
       "       Title                                 Link  \\\n",
       "0         3D         https://github.com/topics/3d   \n",
       "1       Ajax       https://github.com/topics/ajax   \n",
       "2  Algorithm  https://github.com/topics/algorithm   \n",
       "\n",
       "                                         Description  \n",
       "0  3D refers to the use of three-dimensional grap...  \n",
       "1  Ajax is a technique for creating interactive w...  \n",
       "2  Algorithms are self-contained sequences that c...  "
      ]
     },
     "execution_count": 129,
     "metadata": {},
     "output_type": "execute_result"
    }
   ],
   "source": [
    "df = pd.DataFrame({\n",
    "    \"Title\":titles,\n",
    "    \"Link\":links,\n",
    "    \"Description\":descriptions\n",
    "})\n",
    "df.head(3)"
   ]
  },
  {
   "cell_type": "code",
   "execution_count": 132,
   "id": "497cf506-670a-4466-98a3-652a629519ed",
   "metadata": {},
   "outputs": [],
   "source": [
    "df.to_csv('topics.csv',index=None)"
   ]
  }
 ],
 "metadata": {
  "kernelspec": {
   "display_name": "Python 3 (ipykernel)",
   "language": "python",
   "name": "python3"
  },
  "language_info": {
   "codemirror_mode": {
    "name": "ipython",
    "version": 3
   },
   "file_extension": ".py",
   "mimetype": "text/x-python",
   "name": "python",
   "nbconvert_exporter": "python",
   "pygments_lexer": "ipython3",
   "version": "3.13.1"
  }
 },
 "nbformat": 4,
 "nbformat_minor": 5
}
