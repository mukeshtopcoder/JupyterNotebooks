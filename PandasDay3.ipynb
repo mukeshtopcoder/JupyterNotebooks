{
 "cells": [
  {
   "cell_type": "code",
   "execution_count": 1,
   "id": "b7bc9c2d-de1d-42d5-8395-70d17e302f31",
   "metadata": {},
   "outputs": [],
   "source": [
    "import pandas as pd"
   ]
  },
  {
   "cell_type": "code",
   "execution_count": 9,
   "id": "fe9e0872-fe79-4b50-b487-178c061f0497",
   "metadata": {},
   "outputs": [],
   "source": [
    "df = pd.read_csv(\"c:/users/saini/Downloads/shopping_trends.csv\")"
   ]
  },
  {
   "cell_type": "code",
   "execution_count": 10,
   "id": "e1d13df6-d19d-479b-b397-1d2bbfd54862",
   "metadata": {},
   "outputs": [
    {
     "data": {
      "text/html": [
       "<div>\n",
       "<style scoped>\n",
       "    .dataframe tbody tr th:only-of-type {\n",
       "        vertical-align: middle;\n",
       "    }\n",
       "\n",
       "    .dataframe tbody tr th {\n",
       "        vertical-align: top;\n",
       "    }\n",
       "\n",
       "    .dataframe thead th {\n",
       "        text-align: right;\n",
       "    }\n",
       "</style>\n",
       "<table border=\"1\" class=\"dataframe\">\n",
       "  <thead>\n",
       "    <tr style=\"text-align: right;\">\n",
       "      <th></th>\n",
       "      <th>Customer ID</th>\n",
       "      <th>Age</th>\n",
       "      <th>Gender</th>\n",
       "      <th>Item Purchased</th>\n",
       "      <th>Category</th>\n",
       "      <th>Purchase Amount (USD)</th>\n",
       "      <th>Location</th>\n",
       "      <th>Size</th>\n",
       "      <th>Color</th>\n",
       "      <th>Season</th>\n",
       "      <th>Review Rating</th>\n",
       "      <th>Subscription Status</th>\n",
       "      <th>Payment Method</th>\n",
       "      <th>Shipping Type</th>\n",
       "      <th>Discount Applied</th>\n",
       "      <th>Promo Code Used</th>\n",
       "      <th>Previous Purchases</th>\n",
       "      <th>Preferred Payment Method</th>\n",
       "      <th>Frequency of Purchases</th>\n",
       "    </tr>\n",
       "  </thead>\n",
       "  <tbody>\n",
       "    <tr>\n",
       "      <th>0</th>\n",
       "      <td>1</td>\n",
       "      <td>55</td>\n",
       "      <td>Male</td>\n",
       "      <td>Blouse</td>\n",
       "      <td>Clothing</td>\n",
       "      <td>53</td>\n",
       "      <td>Kentucky</td>\n",
       "      <td>L</td>\n",
       "      <td>Gray</td>\n",
       "      <td>Winter</td>\n",
       "      <td>3.1</td>\n",
       "      <td>Yes</td>\n",
       "      <td>Credit Card</td>\n",
       "      <td>Express</td>\n",
       "      <td>Yes</td>\n",
       "      <td>Yes</td>\n",
       "      <td>14</td>\n",
       "      <td>Venmo</td>\n",
       "      <td>Fortnightly</td>\n",
       "    </tr>\n",
       "    <tr>\n",
       "      <th>1</th>\n",
       "      <td>2</td>\n",
       "      <td>19</td>\n",
       "      <td>Male</td>\n",
       "      <td>Sweater</td>\n",
       "      <td>Clothing</td>\n",
       "      <td>64</td>\n",
       "      <td>Maine</td>\n",
       "      <td>L</td>\n",
       "      <td>Maroon</td>\n",
       "      <td>Winter</td>\n",
       "      <td>3.1</td>\n",
       "      <td>Yes</td>\n",
       "      <td>Bank Transfer</td>\n",
       "      <td>Express</td>\n",
       "      <td>Yes</td>\n",
       "      <td>Yes</td>\n",
       "      <td>2</td>\n",
       "      <td>Cash</td>\n",
       "      <td>Fortnightly</td>\n",
       "    </tr>\n",
       "    <tr>\n",
       "      <th>2</th>\n",
       "      <td>3</td>\n",
       "      <td>50</td>\n",
       "      <td>Male</td>\n",
       "      <td>Jeans</td>\n",
       "      <td>Clothing</td>\n",
       "      <td>73</td>\n",
       "      <td>Massachusetts</td>\n",
       "      <td>S</td>\n",
       "      <td>Maroon</td>\n",
       "      <td>Spring</td>\n",
       "      <td>3.1</td>\n",
       "      <td>Yes</td>\n",
       "      <td>Cash</td>\n",
       "      <td>Free Shipping</td>\n",
       "      <td>Yes</td>\n",
       "      <td>Yes</td>\n",
       "      <td>23</td>\n",
       "      <td>Credit Card</td>\n",
       "      <td>Weekly</td>\n",
       "    </tr>\n",
       "    <tr>\n",
       "      <th>3</th>\n",
       "      <td>4</td>\n",
       "      <td>21</td>\n",
       "      <td>Male</td>\n",
       "      <td>Sandals</td>\n",
       "      <td>Footwear</td>\n",
       "      <td>90</td>\n",
       "      <td>Rhode Island</td>\n",
       "      <td>M</td>\n",
       "      <td>Maroon</td>\n",
       "      <td>Spring</td>\n",
       "      <td>3.5</td>\n",
       "      <td>Yes</td>\n",
       "      <td>PayPal</td>\n",
       "      <td>Next Day Air</td>\n",
       "      <td>Yes</td>\n",
       "      <td>Yes</td>\n",
       "      <td>49</td>\n",
       "      <td>PayPal</td>\n",
       "      <td>Weekly</td>\n",
       "    </tr>\n",
       "    <tr>\n",
       "      <th>4</th>\n",
       "      <td>5</td>\n",
       "      <td>45</td>\n",
       "      <td>Male</td>\n",
       "      <td>Blouse</td>\n",
       "      <td>Clothing</td>\n",
       "      <td>49</td>\n",
       "      <td>Oregon</td>\n",
       "      <td>M</td>\n",
       "      <td>Turquoise</td>\n",
       "      <td>Spring</td>\n",
       "      <td>2.7</td>\n",
       "      <td>Yes</td>\n",
       "      <td>Cash</td>\n",
       "      <td>Free Shipping</td>\n",
       "      <td>Yes</td>\n",
       "      <td>Yes</td>\n",
       "      <td>31</td>\n",
       "      <td>PayPal</td>\n",
       "      <td>Annually</td>\n",
       "    </tr>\n",
       "    <tr>\n",
       "      <th>...</th>\n",
       "      <td>...</td>\n",
       "      <td>...</td>\n",
       "      <td>...</td>\n",
       "      <td>...</td>\n",
       "      <td>...</td>\n",
       "      <td>...</td>\n",
       "      <td>...</td>\n",
       "      <td>...</td>\n",
       "      <td>...</td>\n",
       "      <td>...</td>\n",
       "      <td>...</td>\n",
       "      <td>...</td>\n",
       "      <td>...</td>\n",
       "      <td>...</td>\n",
       "      <td>...</td>\n",
       "      <td>...</td>\n",
       "      <td>...</td>\n",
       "      <td>...</td>\n",
       "      <td>...</td>\n",
       "    </tr>\n",
       "    <tr>\n",
       "      <th>3895</th>\n",
       "      <td>3896</td>\n",
       "      <td>40</td>\n",
       "      <td>Female</td>\n",
       "      <td>Hoodie</td>\n",
       "      <td>Clothing</td>\n",
       "      <td>28</td>\n",
       "      <td>Virginia</td>\n",
       "      <td>L</td>\n",
       "      <td>Turquoise</td>\n",
       "      <td>Summer</td>\n",
       "      <td>4.2</td>\n",
       "      <td>No</td>\n",
       "      <td>Cash</td>\n",
       "      <td>2-Day Shipping</td>\n",
       "      <td>No</td>\n",
       "      <td>No</td>\n",
       "      <td>32</td>\n",
       "      <td>Venmo</td>\n",
       "      <td>Weekly</td>\n",
       "    </tr>\n",
       "    <tr>\n",
       "      <th>3896</th>\n",
       "      <td>3897</td>\n",
       "      <td>52</td>\n",
       "      <td>Female</td>\n",
       "      <td>Backpack</td>\n",
       "      <td>Accessories</td>\n",
       "      <td>49</td>\n",
       "      <td>Iowa</td>\n",
       "      <td>L</td>\n",
       "      <td>White</td>\n",
       "      <td>Spring</td>\n",
       "      <td>4.5</td>\n",
       "      <td>No</td>\n",
       "      <td>PayPal</td>\n",
       "      <td>Store Pickup</td>\n",
       "      <td>No</td>\n",
       "      <td>No</td>\n",
       "      <td>41</td>\n",
       "      <td>Bank Transfer</td>\n",
       "      <td>Bi-Weekly</td>\n",
       "    </tr>\n",
       "    <tr>\n",
       "      <th>3897</th>\n",
       "      <td>3898</td>\n",
       "      <td>46</td>\n",
       "      <td>Female</td>\n",
       "      <td>Belt</td>\n",
       "      <td>Accessories</td>\n",
       "      <td>33</td>\n",
       "      <td>New Jersey</td>\n",
       "      <td>L</td>\n",
       "      <td>Green</td>\n",
       "      <td>Spring</td>\n",
       "      <td>2.9</td>\n",
       "      <td>No</td>\n",
       "      <td>Credit Card</td>\n",
       "      <td>Standard</td>\n",
       "      <td>No</td>\n",
       "      <td>No</td>\n",
       "      <td>24</td>\n",
       "      <td>Venmo</td>\n",
       "      <td>Quarterly</td>\n",
       "    </tr>\n",
       "    <tr>\n",
       "      <th>3898</th>\n",
       "      <td>3899</td>\n",
       "      <td>44</td>\n",
       "      <td>Female</td>\n",
       "      <td>Shoes</td>\n",
       "      <td>Footwear</td>\n",
       "      <td>77</td>\n",
       "      <td>Minnesota</td>\n",
       "      <td>S</td>\n",
       "      <td>Brown</td>\n",
       "      <td>Summer</td>\n",
       "      <td>3.8</td>\n",
       "      <td>No</td>\n",
       "      <td>PayPal</td>\n",
       "      <td>Express</td>\n",
       "      <td>No</td>\n",
       "      <td>No</td>\n",
       "      <td>24</td>\n",
       "      <td>Venmo</td>\n",
       "      <td>Weekly</td>\n",
       "    </tr>\n",
       "    <tr>\n",
       "      <th>3899</th>\n",
       "      <td>3900</td>\n",
       "      <td>52</td>\n",
       "      <td>Female</td>\n",
       "      <td>Handbag</td>\n",
       "      <td>Accessories</td>\n",
       "      <td>81</td>\n",
       "      <td>California</td>\n",
       "      <td>M</td>\n",
       "      <td>Beige</td>\n",
       "      <td>Spring</td>\n",
       "      <td>3.1</td>\n",
       "      <td>No</td>\n",
       "      <td>Bank Transfer</td>\n",
       "      <td>Store Pickup</td>\n",
       "      <td>No</td>\n",
       "      <td>No</td>\n",
       "      <td>33</td>\n",
       "      <td>Venmo</td>\n",
       "      <td>Quarterly</td>\n",
       "    </tr>\n",
       "  </tbody>\n",
       "</table>\n",
       "<p>3900 rows × 19 columns</p>\n",
       "</div>"
      ],
      "text/plain": [
       "      Customer ID  Age  Gender Item Purchased     Category  \\\n",
       "0               1   55    Male         Blouse     Clothing   \n",
       "1               2   19    Male        Sweater     Clothing   \n",
       "2               3   50    Male          Jeans     Clothing   \n",
       "3               4   21    Male        Sandals     Footwear   \n",
       "4               5   45    Male         Blouse     Clothing   \n",
       "...           ...  ...     ...            ...          ...   \n",
       "3895         3896   40  Female         Hoodie     Clothing   \n",
       "3896         3897   52  Female       Backpack  Accessories   \n",
       "3897         3898   46  Female           Belt  Accessories   \n",
       "3898         3899   44  Female          Shoes     Footwear   \n",
       "3899         3900   52  Female        Handbag  Accessories   \n",
       "\n",
       "      Purchase Amount (USD)       Location Size      Color  Season  \\\n",
       "0                        53       Kentucky    L       Gray  Winter   \n",
       "1                        64          Maine    L     Maroon  Winter   \n",
       "2                        73  Massachusetts    S     Maroon  Spring   \n",
       "3                        90   Rhode Island    M     Maroon  Spring   \n",
       "4                        49         Oregon    M  Turquoise  Spring   \n",
       "...                     ...            ...  ...        ...     ...   \n",
       "3895                     28       Virginia    L  Turquoise  Summer   \n",
       "3896                     49           Iowa    L      White  Spring   \n",
       "3897                     33     New Jersey    L      Green  Spring   \n",
       "3898                     77      Minnesota    S      Brown  Summer   \n",
       "3899                     81     California    M      Beige  Spring   \n",
       "\n",
       "      Review Rating Subscription Status Payment Method   Shipping Type  \\\n",
       "0               3.1                 Yes    Credit Card         Express   \n",
       "1               3.1                 Yes  Bank Transfer         Express   \n",
       "2               3.1                 Yes           Cash   Free Shipping   \n",
       "3               3.5                 Yes         PayPal    Next Day Air   \n",
       "4               2.7                 Yes           Cash   Free Shipping   \n",
       "...             ...                 ...            ...             ...   \n",
       "3895            4.2                  No           Cash  2-Day Shipping   \n",
       "3896            4.5                  No         PayPal    Store Pickup   \n",
       "3897            2.9                  No    Credit Card        Standard   \n",
       "3898            3.8                  No         PayPal         Express   \n",
       "3899            3.1                  No  Bank Transfer    Store Pickup   \n",
       "\n",
       "     Discount Applied Promo Code Used  Previous Purchases  \\\n",
       "0                 Yes             Yes                  14   \n",
       "1                 Yes             Yes                   2   \n",
       "2                 Yes             Yes                  23   \n",
       "3                 Yes             Yes                  49   \n",
       "4                 Yes             Yes                  31   \n",
       "...               ...             ...                 ...   \n",
       "3895               No              No                  32   \n",
       "3896               No              No                  41   \n",
       "3897               No              No                  24   \n",
       "3898               No              No                  24   \n",
       "3899               No              No                  33   \n",
       "\n",
       "     Preferred Payment Method Frequency of Purchases  \n",
       "0                       Venmo            Fortnightly  \n",
       "1                        Cash            Fortnightly  \n",
       "2                 Credit Card                 Weekly  \n",
       "3                      PayPal                 Weekly  \n",
       "4                      PayPal               Annually  \n",
       "...                       ...                    ...  \n",
       "3895                    Venmo                 Weekly  \n",
       "3896            Bank Transfer              Bi-Weekly  \n",
       "3897                    Venmo              Quarterly  \n",
       "3898                    Venmo                 Weekly  \n",
       "3899                    Venmo              Quarterly  \n",
       "\n",
       "[3900 rows x 19 columns]"
      ]
     },
     "execution_count": 10,
     "metadata": {},
     "output_type": "execute_result"
    }
   ],
   "source": [
    "df"
   ]
  },
  {
   "cell_type": "code",
   "execution_count": 13,
   "id": "de9a7664-e917-4d46-9b33-3ac38e9a1509",
   "metadata": {},
   "outputs": [
    {
     "data": {
      "text/plain": [
       "(3900, 19)"
      ]
     },
     "execution_count": 13,
     "metadata": {},
     "output_type": "execute_result"
    }
   ],
   "source": [
    "df.shape"
   ]
  },
  {
   "cell_type": "code",
   "execution_count": 14,
   "id": "efe76174-1f7a-42eb-8411-ccbe88d6bc95",
   "metadata": {},
   "outputs": [
    {
     "data": {
      "text/plain": [
       "Customer ID                 0\n",
       "Age                         0\n",
       "Gender                      0\n",
       "Item Purchased              0\n",
       "Category                    0\n",
       "Purchase Amount (USD)       0\n",
       "Location                    0\n",
       "Size                        0\n",
       "Color                       0\n",
       "Season                      0\n",
       "Review Rating               0\n",
       "Subscription Status         0\n",
       "Payment Method              0\n",
       "Shipping Type               0\n",
       "Discount Applied            0\n",
       "Promo Code Used             0\n",
       "Previous Purchases          0\n",
       "Preferred Payment Method    0\n",
       "Frequency of Purchases      0\n",
       "dtype: int64"
      ]
     },
     "execution_count": 14,
     "metadata": {},
     "output_type": "execute_result"
    }
   ],
   "source": [
    "df.isnull().sum()"
   ]
  },
  {
   "cell_type": "code",
   "execution_count": 15,
   "id": "f3394180-61e1-486b-8a2a-6f8958aec9b1",
   "metadata": {},
   "outputs": [],
   "source": [
    "df = df.ffill()"
   ]
  },
  {
   "cell_type": "code",
   "execution_count": 16,
   "id": "61d610b2-e05c-4b50-a8b4-181200526085",
   "metadata": {},
   "outputs": [
    {
     "data": {
      "text/plain": [
       "Customer ID                 0\n",
       "Age                         0\n",
       "Gender                      0\n",
       "Item Purchased              0\n",
       "Category                    0\n",
       "Purchase Amount (USD)       0\n",
       "Location                    0\n",
       "Size                        0\n",
       "Color                       0\n",
       "Season                      0\n",
       "Review Rating               0\n",
       "Subscription Status         0\n",
       "Payment Method              0\n",
       "Shipping Type               0\n",
       "Discount Applied            0\n",
       "Promo Code Used             0\n",
       "Previous Purchases          0\n",
       "Preferred Payment Method    0\n",
       "Frequency of Purchases      0\n",
       "dtype: int64"
      ]
     },
     "execution_count": 16,
     "metadata": {},
     "output_type": "execute_result"
    }
   ],
   "source": [
    "df.isnull().sum()"
   ]
  },
  {
   "cell_type": "code",
   "execution_count": 17,
   "id": "41cd7846-458f-451c-93eb-74afd6b52c27",
   "metadata": {},
   "outputs": [
    {
     "data": {
      "text/html": [
       "<div>\n",
       "<style scoped>\n",
       "    .dataframe tbody tr th:only-of-type {\n",
       "        vertical-align: middle;\n",
       "    }\n",
       "\n",
       "    .dataframe tbody tr th {\n",
       "        vertical-align: top;\n",
       "    }\n",
       "\n",
       "    .dataframe thead th {\n",
       "        text-align: right;\n",
       "    }\n",
       "</style>\n",
       "<table border=\"1\" class=\"dataframe\">\n",
       "  <thead>\n",
       "    <tr style=\"text-align: right;\">\n",
       "      <th></th>\n",
       "      <th>Customer ID</th>\n",
       "      <th>Age</th>\n",
       "      <th>Gender</th>\n",
       "      <th>Item Purchased</th>\n",
       "      <th>Category</th>\n",
       "      <th>Purchase Amount (USD)</th>\n",
       "      <th>Location</th>\n",
       "      <th>Size</th>\n",
       "      <th>Color</th>\n",
       "      <th>Season</th>\n",
       "      <th>Review Rating</th>\n",
       "      <th>Subscription Status</th>\n",
       "      <th>Payment Method</th>\n",
       "      <th>Shipping Type</th>\n",
       "      <th>Discount Applied</th>\n",
       "      <th>Promo Code Used</th>\n",
       "      <th>Previous Purchases</th>\n",
       "      <th>Preferred Payment Method</th>\n",
       "      <th>Frequency of Purchases</th>\n",
       "    </tr>\n",
       "  </thead>\n",
       "  <tbody>\n",
       "    <tr>\n",
       "      <th>0</th>\n",
       "      <td>1</td>\n",
       "      <td>55</td>\n",
       "      <td>Male</td>\n",
       "      <td>Blouse</td>\n",
       "      <td>Clothing</td>\n",
       "      <td>53</td>\n",
       "      <td>Kentucky</td>\n",
       "      <td>L</td>\n",
       "      <td>Gray</td>\n",
       "      <td>Winter</td>\n",
       "      <td>3.1</td>\n",
       "      <td>Yes</td>\n",
       "      <td>Credit Card</td>\n",
       "      <td>Express</td>\n",
       "      <td>Yes</td>\n",
       "      <td>Yes</td>\n",
       "      <td>14</td>\n",
       "      <td>Venmo</td>\n",
       "      <td>Fortnightly</td>\n",
       "    </tr>\n",
       "    <tr>\n",
       "      <th>1</th>\n",
       "      <td>2</td>\n",
       "      <td>19</td>\n",
       "      <td>Male</td>\n",
       "      <td>Sweater</td>\n",
       "      <td>Clothing</td>\n",
       "      <td>64</td>\n",
       "      <td>Maine</td>\n",
       "      <td>L</td>\n",
       "      <td>Maroon</td>\n",
       "      <td>Winter</td>\n",
       "      <td>3.1</td>\n",
       "      <td>Yes</td>\n",
       "      <td>Bank Transfer</td>\n",
       "      <td>Express</td>\n",
       "      <td>Yes</td>\n",
       "      <td>Yes</td>\n",
       "      <td>2</td>\n",
       "      <td>Cash</td>\n",
       "      <td>Fortnightly</td>\n",
       "    </tr>\n",
       "    <tr>\n",
       "      <th>2</th>\n",
       "      <td>3</td>\n",
       "      <td>50</td>\n",
       "      <td>Male</td>\n",
       "      <td>Jeans</td>\n",
       "      <td>Clothing</td>\n",
       "      <td>73</td>\n",
       "      <td>Massachusetts</td>\n",
       "      <td>S</td>\n",
       "      <td>Maroon</td>\n",
       "      <td>Spring</td>\n",
       "      <td>3.1</td>\n",
       "      <td>Yes</td>\n",
       "      <td>Cash</td>\n",
       "      <td>Free Shipping</td>\n",
       "      <td>Yes</td>\n",
       "      <td>Yes</td>\n",
       "      <td>23</td>\n",
       "      <td>Credit Card</td>\n",
       "      <td>Weekly</td>\n",
       "    </tr>\n",
       "    <tr>\n",
       "      <th>3</th>\n",
       "      <td>4</td>\n",
       "      <td>21</td>\n",
       "      <td>Male</td>\n",
       "      <td>Sandals</td>\n",
       "      <td>Footwear</td>\n",
       "      <td>90</td>\n",
       "      <td>Rhode Island</td>\n",
       "      <td>M</td>\n",
       "      <td>Maroon</td>\n",
       "      <td>Spring</td>\n",
       "      <td>3.5</td>\n",
       "      <td>Yes</td>\n",
       "      <td>PayPal</td>\n",
       "      <td>Next Day Air</td>\n",
       "      <td>Yes</td>\n",
       "      <td>Yes</td>\n",
       "      <td>49</td>\n",
       "      <td>PayPal</td>\n",
       "      <td>Weekly</td>\n",
       "    </tr>\n",
       "    <tr>\n",
       "      <th>4</th>\n",
       "      <td>5</td>\n",
       "      <td>45</td>\n",
       "      <td>Male</td>\n",
       "      <td>Blouse</td>\n",
       "      <td>Clothing</td>\n",
       "      <td>49</td>\n",
       "      <td>Oregon</td>\n",
       "      <td>M</td>\n",
       "      <td>Turquoise</td>\n",
       "      <td>Spring</td>\n",
       "      <td>2.7</td>\n",
       "      <td>Yes</td>\n",
       "      <td>Cash</td>\n",
       "      <td>Free Shipping</td>\n",
       "      <td>Yes</td>\n",
       "      <td>Yes</td>\n",
       "      <td>31</td>\n",
       "      <td>PayPal</td>\n",
       "      <td>Annually</td>\n",
       "    </tr>\n",
       "  </tbody>\n",
       "</table>\n",
       "</div>"
      ],
      "text/plain": [
       "   Customer ID  Age Gender Item Purchased  Category  Purchase Amount (USD)  \\\n",
       "0            1   55   Male         Blouse  Clothing                     53   \n",
       "1            2   19   Male        Sweater  Clothing                     64   \n",
       "2            3   50   Male          Jeans  Clothing                     73   \n",
       "3            4   21   Male        Sandals  Footwear                     90   \n",
       "4            5   45   Male         Blouse  Clothing                     49   \n",
       "\n",
       "        Location Size      Color  Season  Review Rating Subscription Status  \\\n",
       "0       Kentucky    L       Gray  Winter            3.1                 Yes   \n",
       "1          Maine    L     Maroon  Winter            3.1                 Yes   \n",
       "2  Massachusetts    S     Maroon  Spring            3.1                 Yes   \n",
       "3   Rhode Island    M     Maroon  Spring            3.5                 Yes   \n",
       "4         Oregon    M  Turquoise  Spring            2.7                 Yes   \n",
       "\n",
       "  Payment Method  Shipping Type Discount Applied Promo Code Used  \\\n",
       "0    Credit Card        Express              Yes             Yes   \n",
       "1  Bank Transfer        Express              Yes             Yes   \n",
       "2           Cash  Free Shipping              Yes             Yes   \n",
       "3         PayPal   Next Day Air              Yes             Yes   \n",
       "4           Cash  Free Shipping              Yes             Yes   \n",
       "\n",
       "   Previous Purchases Preferred Payment Method Frequency of Purchases  \n",
       "0                  14                    Venmo            Fortnightly  \n",
       "1                   2                     Cash            Fortnightly  \n",
       "2                  23              Credit Card                 Weekly  \n",
       "3                  49                   PayPal                 Weekly  \n",
       "4                  31                   PayPal               Annually  "
      ]
     },
     "execution_count": 17,
     "metadata": {},
     "output_type": "execute_result"
    }
   ],
   "source": [
    "df.head()"
   ]
  },
  {
   "cell_type": "code",
   "execution_count": 19,
   "id": "68171e7d-ebed-4570-9c20-fd4605b390e1",
   "metadata": {},
   "outputs": [
    {
     "data": {
      "text/plain": [
       "18"
      ]
     },
     "execution_count": 19,
     "metadata": {},
     "output_type": "execute_result"
    }
   ],
   "source": [
    "# Minimum Age\n",
    "min(df[\"Age\"])"
   ]
  },
  {
   "cell_type": "code",
   "execution_count": 20,
   "id": "11f0e148-561a-4073-a724-f644c2828a99",
   "metadata": {},
   "outputs": [
    {
     "data": {
      "text/plain": [
       "70"
      ]
     },
     "execution_count": 20,
     "metadata": {},
     "output_type": "execute_result"
    }
   ],
   "source": [
    "# Maximum Age\n",
    "max(df[\"Age\"])"
   ]
  },
  {
   "cell_type": "code",
   "execution_count": 21,
   "id": "9f3f19c9-6ba2-4f4c-baf9-47134e44b320",
   "metadata": {},
   "outputs": [
    {
     "data": {
      "text/plain": [
       "array([55, 19, 50, 21, 45, 46, 63, 27, 26, 57, 53, 30, 61, 65, 64, 25, 52,\n",
       "       66, 31, 56, 18, 38, 54, 33, 36, 35, 29, 70, 69, 67, 20, 39, 42, 68,\n",
       "       49, 59, 47, 40, 41, 48, 22, 24, 44, 37, 58, 32, 62, 51, 28, 43, 34,\n",
       "       23, 60])"
      ]
     },
     "execution_count": 21,
     "metadata": {},
     "output_type": "execute_result"
    }
   ],
   "source": [
    "df[\"Age\"].unique()"
   ]
  },
  {
   "cell_type": "code",
   "execution_count": 22,
   "id": "1ab7ec1d-dc59-4d63-9c3f-bab116ee75d1",
   "metadata": {},
   "outputs": [],
   "source": [
    "# 18-30 , 31-50 , 50+\n",
    "def makeAgeGroup(age):\n",
    "    if(age<31):\n",
    "        return '18-30'\n",
    "    elif(age<51):\n",
    "        return '31-50'\n",
    "    else:\n",
    "        return '50+'"
   ]
  },
  {
   "cell_type": "code",
   "execution_count": 23,
   "id": "92dcdf5b-703c-4a90-b8d8-e17218bb4be3",
   "metadata": {},
   "outputs": [],
   "source": [
    "df['Age_Group'] = df[\"Age\"].map(makeAgeGroup)"
   ]
  },
  {
   "cell_type": "code",
   "execution_count": 25,
   "id": "c1f20b80-33ea-444e-bb01-0b1d2c1aa537",
   "metadata": {},
   "outputs": [
    {
     "data": {
      "text/html": [
       "<div>\n",
       "<style scoped>\n",
       "    .dataframe tbody tr th:only-of-type {\n",
       "        vertical-align: middle;\n",
       "    }\n",
       "\n",
       "    .dataframe tbody tr th {\n",
       "        vertical-align: top;\n",
       "    }\n",
       "\n",
       "    .dataframe thead th {\n",
       "        text-align: right;\n",
       "    }\n",
       "</style>\n",
       "<table border=\"1\" class=\"dataframe\">\n",
       "  <thead>\n",
       "    <tr style=\"text-align: right;\">\n",
       "      <th></th>\n",
       "      <th>Customer ID</th>\n",
       "      <th>Age</th>\n",
       "      <th>Gender</th>\n",
       "      <th>Item Purchased</th>\n",
       "      <th>Category</th>\n",
       "      <th>Purchase Amount (USD)</th>\n",
       "      <th>Location</th>\n",
       "      <th>Size</th>\n",
       "      <th>Color</th>\n",
       "      <th>Season</th>\n",
       "      <th>Review Rating</th>\n",
       "      <th>Subscription Status</th>\n",
       "      <th>Payment Method</th>\n",
       "      <th>Shipping Type</th>\n",
       "      <th>Discount Applied</th>\n",
       "      <th>Promo Code Used</th>\n",
       "      <th>Previous Purchases</th>\n",
       "      <th>Preferred Payment Method</th>\n",
       "      <th>Frequency of Purchases</th>\n",
       "      <th>Age_Group</th>\n",
       "    </tr>\n",
       "  </thead>\n",
       "  <tbody>\n",
       "    <tr>\n",
       "      <th>0</th>\n",
       "      <td>1</td>\n",
       "      <td>55</td>\n",
       "      <td>Male</td>\n",
       "      <td>Blouse</td>\n",
       "      <td>Clothing</td>\n",
       "      <td>53</td>\n",
       "      <td>Kentucky</td>\n",
       "      <td>L</td>\n",
       "      <td>Gray</td>\n",
       "      <td>Winter</td>\n",
       "      <td>3.1</td>\n",
       "      <td>Yes</td>\n",
       "      <td>Credit Card</td>\n",
       "      <td>Express</td>\n",
       "      <td>Yes</td>\n",
       "      <td>Yes</td>\n",
       "      <td>14</td>\n",
       "      <td>Venmo</td>\n",
       "      <td>Fortnightly</td>\n",
       "      <td>50+</td>\n",
       "    </tr>\n",
       "    <tr>\n",
       "      <th>1</th>\n",
       "      <td>2</td>\n",
       "      <td>19</td>\n",
       "      <td>Male</td>\n",
       "      <td>Sweater</td>\n",
       "      <td>Clothing</td>\n",
       "      <td>64</td>\n",
       "      <td>Maine</td>\n",
       "      <td>L</td>\n",
       "      <td>Maroon</td>\n",
       "      <td>Winter</td>\n",
       "      <td>3.1</td>\n",
       "      <td>Yes</td>\n",
       "      <td>Bank Transfer</td>\n",
       "      <td>Express</td>\n",
       "      <td>Yes</td>\n",
       "      <td>Yes</td>\n",
       "      <td>2</td>\n",
       "      <td>Cash</td>\n",
       "      <td>Fortnightly</td>\n",
       "      <td>18-30</td>\n",
       "    </tr>\n",
       "    <tr>\n",
       "      <th>2</th>\n",
       "      <td>3</td>\n",
       "      <td>50</td>\n",
       "      <td>Male</td>\n",
       "      <td>Jeans</td>\n",
       "      <td>Clothing</td>\n",
       "      <td>73</td>\n",
       "      <td>Massachusetts</td>\n",
       "      <td>S</td>\n",
       "      <td>Maroon</td>\n",
       "      <td>Spring</td>\n",
       "      <td>3.1</td>\n",
       "      <td>Yes</td>\n",
       "      <td>Cash</td>\n",
       "      <td>Free Shipping</td>\n",
       "      <td>Yes</td>\n",
       "      <td>Yes</td>\n",
       "      <td>23</td>\n",
       "      <td>Credit Card</td>\n",
       "      <td>Weekly</td>\n",
       "      <td>31-50</td>\n",
       "    </tr>\n",
       "    <tr>\n",
       "      <th>3</th>\n",
       "      <td>4</td>\n",
       "      <td>21</td>\n",
       "      <td>Male</td>\n",
       "      <td>Sandals</td>\n",
       "      <td>Footwear</td>\n",
       "      <td>90</td>\n",
       "      <td>Rhode Island</td>\n",
       "      <td>M</td>\n",
       "      <td>Maroon</td>\n",
       "      <td>Spring</td>\n",
       "      <td>3.5</td>\n",
       "      <td>Yes</td>\n",
       "      <td>PayPal</td>\n",
       "      <td>Next Day Air</td>\n",
       "      <td>Yes</td>\n",
       "      <td>Yes</td>\n",
       "      <td>49</td>\n",
       "      <td>PayPal</td>\n",
       "      <td>Weekly</td>\n",
       "      <td>18-30</td>\n",
       "    </tr>\n",
       "    <tr>\n",
       "      <th>4</th>\n",
       "      <td>5</td>\n",
       "      <td>45</td>\n",
       "      <td>Male</td>\n",
       "      <td>Blouse</td>\n",
       "      <td>Clothing</td>\n",
       "      <td>49</td>\n",
       "      <td>Oregon</td>\n",
       "      <td>M</td>\n",
       "      <td>Turquoise</td>\n",
       "      <td>Spring</td>\n",
       "      <td>2.7</td>\n",
       "      <td>Yes</td>\n",
       "      <td>Cash</td>\n",
       "      <td>Free Shipping</td>\n",
       "      <td>Yes</td>\n",
       "      <td>Yes</td>\n",
       "      <td>31</td>\n",
       "      <td>PayPal</td>\n",
       "      <td>Annually</td>\n",
       "      <td>31-50</td>\n",
       "    </tr>\n",
       "  </tbody>\n",
       "</table>\n",
       "</div>"
      ],
      "text/plain": [
       "   Customer ID  Age Gender Item Purchased  Category  Purchase Amount (USD)  \\\n",
       "0            1   55   Male         Blouse  Clothing                     53   \n",
       "1            2   19   Male        Sweater  Clothing                     64   \n",
       "2            3   50   Male          Jeans  Clothing                     73   \n",
       "3            4   21   Male        Sandals  Footwear                     90   \n",
       "4            5   45   Male         Blouse  Clothing                     49   \n",
       "\n",
       "        Location Size      Color  Season  Review Rating Subscription Status  \\\n",
       "0       Kentucky    L       Gray  Winter            3.1                 Yes   \n",
       "1          Maine    L     Maroon  Winter            3.1                 Yes   \n",
       "2  Massachusetts    S     Maroon  Spring            3.1                 Yes   \n",
       "3   Rhode Island    M     Maroon  Spring            3.5                 Yes   \n",
       "4         Oregon    M  Turquoise  Spring            2.7                 Yes   \n",
       "\n",
       "  Payment Method  Shipping Type Discount Applied Promo Code Used  \\\n",
       "0    Credit Card        Express              Yes             Yes   \n",
       "1  Bank Transfer        Express              Yes             Yes   \n",
       "2           Cash  Free Shipping              Yes             Yes   \n",
       "3         PayPal   Next Day Air              Yes             Yes   \n",
       "4           Cash  Free Shipping              Yes             Yes   \n",
       "\n",
       "   Previous Purchases Preferred Payment Method Frequency of Purchases  \\\n",
       "0                  14                    Venmo            Fortnightly   \n",
       "1                   2                     Cash            Fortnightly   \n",
       "2                  23              Credit Card                 Weekly   \n",
       "3                  49                   PayPal                 Weekly   \n",
       "4                  31                   PayPal               Annually   \n",
       "\n",
       "  Age_Group  \n",
       "0       50+  \n",
       "1     18-30  \n",
       "2     31-50  \n",
       "3     18-30  \n",
       "4     31-50  "
      ]
     },
     "execution_count": 25,
     "metadata": {},
     "output_type": "execute_result"
    }
   ],
   "source": [
    "df.head()"
   ]
  },
  {
   "cell_type": "code",
   "execution_count": 26,
   "id": "3e84904f-dad6-4a87-94c1-f97e299cca8f",
   "metadata": {},
   "outputs": [
    {
     "data": {
      "text/plain": [
       "Index(['Customer ID', 'Age', 'Gender', 'Item Purchased', 'Category',\n",
       "       'Purchase Amount (USD)', 'Location', 'Size', 'Color', 'Season',\n",
       "       'Review Rating', 'Subscription Status', 'Payment Method',\n",
       "       'Shipping Type', 'Discount Applied', 'Promo Code Used',\n",
       "       'Previous Purchases', 'Preferred Payment Method',\n",
       "       'Frequency of Purchases', 'Age_Group'],\n",
       "      dtype='object')"
      ]
     },
     "execution_count": 26,
     "metadata": {},
     "output_type": "execute_result"
    }
   ],
   "source": [
    "df.columns"
   ]
  },
  {
   "cell_type": "code",
   "execution_count": 36,
   "id": "5a32d755-dda1-4408-9ae4-1d93c07c5c35",
   "metadata": {},
   "outputs": [],
   "source": [
    "df['Total Purchase (INR)'] = (df['Purchase Amount (USD)']+df['Previous Purchases'])*85"
   ]
  },
  {
   "cell_type": "code",
   "execution_count": 38,
   "id": "8e59d565-809d-40f3-a36f-f2fc3a2a35c0",
   "metadata": {},
   "outputs": [
    {
     "data": {
      "text/plain": [
       "Index(['Customer ID', 'Age', 'Gender', 'Item Purchased', 'Category',\n",
       "       'Purchase Amount (USD)', 'Location', 'Size', 'Color', 'Season',\n",
       "       'Review Rating', 'Subscription Status', 'Payment Method',\n",
       "       'Shipping Type', 'Discount Applied', 'Promo Code Used',\n",
       "       'Previous Purchases', 'Preferred Payment Method',\n",
       "       'Frequency of Purchases', 'Age_Group', 'Total Purchase',\n",
       "       'Total Purchase (USD)', 'Total Purchase (INR)'],\n",
       "      dtype='object')"
      ]
     },
     "execution_count": 38,
     "metadata": {},
     "output_type": "execute_result"
    }
   ],
   "source": [
    "df.columns"
   ]
  },
  {
   "cell_type": "code",
   "execution_count": 39,
   "id": "bdf3b33b-6fee-4b7c-89d1-dcac78e91bd0",
   "metadata": {},
   "outputs": [
    {
     "data": {
      "text/html": [
       "<div>\n",
       "<style scoped>\n",
       "    .dataframe tbody tr th:only-of-type {\n",
       "        vertical-align: middle;\n",
       "    }\n",
       "\n",
       "    .dataframe tbody tr th {\n",
       "        vertical-align: top;\n",
       "    }\n",
       "\n",
       "    .dataframe thead th {\n",
       "        text-align: right;\n",
       "    }\n",
       "</style>\n",
       "<table border=\"1\" class=\"dataframe\">\n",
       "  <thead>\n",
       "    <tr style=\"text-align: right;\">\n",
       "      <th></th>\n",
       "      <th>Customer ID</th>\n",
       "      <th>Age</th>\n",
       "      <th>Gender</th>\n",
       "      <th>Item Purchased</th>\n",
       "      <th>Category</th>\n",
       "      <th>Purchase Amount (USD)</th>\n",
       "      <th>Location</th>\n",
       "      <th>Size</th>\n",
       "      <th>Color</th>\n",
       "      <th>Season</th>\n",
       "      <th>...</th>\n",
       "      <th>Shipping Type</th>\n",
       "      <th>Discount Applied</th>\n",
       "      <th>Promo Code Used</th>\n",
       "      <th>Previous Purchases</th>\n",
       "      <th>Preferred Payment Method</th>\n",
       "      <th>Frequency of Purchases</th>\n",
       "      <th>Age_Group</th>\n",
       "      <th>Total Purchase</th>\n",
       "      <th>Total Purchase (USD)</th>\n",
       "      <th>Total Purchase (INR)</th>\n",
       "    </tr>\n",
       "  </thead>\n",
       "  <tbody>\n",
       "    <tr>\n",
       "      <th>0</th>\n",
       "      <td>1</td>\n",
       "      <td>55</td>\n",
       "      <td>Male</td>\n",
       "      <td>Blouse</td>\n",
       "      <td>Clothing</td>\n",
       "      <td>53</td>\n",
       "      <td>Kentucky</td>\n",
       "      <td>L</td>\n",
       "      <td>Gray</td>\n",
       "      <td>Winter</td>\n",
       "      <td>...</td>\n",
       "      <td>Express</td>\n",
       "      <td>Yes</td>\n",
       "      <td>Yes</td>\n",
       "      <td>14</td>\n",
       "      <td>Venmo</td>\n",
       "      <td>Fortnightly</td>\n",
       "      <td>50+</td>\n",
       "      <td>5695</td>\n",
       "      <td>67</td>\n",
       "      <td>5695</td>\n",
       "    </tr>\n",
       "    <tr>\n",
       "      <th>1</th>\n",
       "      <td>2</td>\n",
       "      <td>19</td>\n",
       "      <td>Male</td>\n",
       "      <td>Sweater</td>\n",
       "      <td>Clothing</td>\n",
       "      <td>64</td>\n",
       "      <td>Maine</td>\n",
       "      <td>L</td>\n",
       "      <td>Maroon</td>\n",
       "      <td>Winter</td>\n",
       "      <td>...</td>\n",
       "      <td>Express</td>\n",
       "      <td>Yes</td>\n",
       "      <td>Yes</td>\n",
       "      <td>2</td>\n",
       "      <td>Cash</td>\n",
       "      <td>Fortnightly</td>\n",
       "      <td>18-30</td>\n",
       "      <td>5610</td>\n",
       "      <td>66</td>\n",
       "      <td>5610</td>\n",
       "    </tr>\n",
       "    <tr>\n",
       "      <th>2</th>\n",
       "      <td>3</td>\n",
       "      <td>50</td>\n",
       "      <td>Male</td>\n",
       "      <td>Jeans</td>\n",
       "      <td>Clothing</td>\n",
       "      <td>73</td>\n",
       "      <td>Massachusetts</td>\n",
       "      <td>S</td>\n",
       "      <td>Maroon</td>\n",
       "      <td>Spring</td>\n",
       "      <td>...</td>\n",
       "      <td>Free Shipping</td>\n",
       "      <td>Yes</td>\n",
       "      <td>Yes</td>\n",
       "      <td>23</td>\n",
       "      <td>Credit Card</td>\n",
       "      <td>Weekly</td>\n",
       "      <td>31-50</td>\n",
       "      <td>8160</td>\n",
       "      <td>96</td>\n",
       "      <td>8160</td>\n",
       "    </tr>\n",
       "    <tr>\n",
       "      <th>3</th>\n",
       "      <td>4</td>\n",
       "      <td>21</td>\n",
       "      <td>Male</td>\n",
       "      <td>Sandals</td>\n",
       "      <td>Footwear</td>\n",
       "      <td>90</td>\n",
       "      <td>Rhode Island</td>\n",
       "      <td>M</td>\n",
       "      <td>Maroon</td>\n",
       "      <td>Spring</td>\n",
       "      <td>...</td>\n",
       "      <td>Next Day Air</td>\n",
       "      <td>Yes</td>\n",
       "      <td>Yes</td>\n",
       "      <td>49</td>\n",
       "      <td>PayPal</td>\n",
       "      <td>Weekly</td>\n",
       "      <td>18-30</td>\n",
       "      <td>11815</td>\n",
       "      <td>139</td>\n",
       "      <td>11815</td>\n",
       "    </tr>\n",
       "    <tr>\n",
       "      <th>4</th>\n",
       "      <td>5</td>\n",
       "      <td>45</td>\n",
       "      <td>Male</td>\n",
       "      <td>Blouse</td>\n",
       "      <td>Clothing</td>\n",
       "      <td>49</td>\n",
       "      <td>Oregon</td>\n",
       "      <td>M</td>\n",
       "      <td>Turquoise</td>\n",
       "      <td>Spring</td>\n",
       "      <td>...</td>\n",
       "      <td>Free Shipping</td>\n",
       "      <td>Yes</td>\n",
       "      <td>Yes</td>\n",
       "      <td>31</td>\n",
       "      <td>PayPal</td>\n",
       "      <td>Annually</td>\n",
       "      <td>31-50</td>\n",
       "      <td>6800</td>\n",
       "      <td>80</td>\n",
       "      <td>6800</td>\n",
       "    </tr>\n",
       "  </tbody>\n",
       "</table>\n",
       "<p>5 rows × 23 columns</p>\n",
       "</div>"
      ],
      "text/plain": [
       "   Customer ID  Age Gender Item Purchased  Category  Purchase Amount (USD)  \\\n",
       "0            1   55   Male         Blouse  Clothing                     53   \n",
       "1            2   19   Male        Sweater  Clothing                     64   \n",
       "2            3   50   Male          Jeans  Clothing                     73   \n",
       "3            4   21   Male        Sandals  Footwear                     90   \n",
       "4            5   45   Male         Blouse  Clothing                     49   \n",
       "\n",
       "        Location Size      Color  Season  ...  Shipping Type Discount Applied  \\\n",
       "0       Kentucky    L       Gray  Winter  ...        Express              Yes   \n",
       "1          Maine    L     Maroon  Winter  ...        Express              Yes   \n",
       "2  Massachusetts    S     Maroon  Spring  ...  Free Shipping              Yes   \n",
       "3   Rhode Island    M     Maroon  Spring  ...   Next Day Air              Yes   \n",
       "4         Oregon    M  Turquoise  Spring  ...  Free Shipping              Yes   \n",
       "\n",
       "  Promo Code Used Previous Purchases Preferred Payment Method  \\\n",
       "0             Yes                 14                    Venmo   \n",
       "1             Yes                  2                     Cash   \n",
       "2             Yes                 23              Credit Card   \n",
       "3             Yes                 49                   PayPal   \n",
       "4             Yes                 31                   PayPal   \n",
       "\n",
       "  Frequency of Purchases  Age_Group Total Purchase Total Purchase (USD)  \\\n",
       "0            Fortnightly        50+           5695                   67   \n",
       "1            Fortnightly      18-30           5610                   66   \n",
       "2                 Weekly      31-50           8160                   96   \n",
       "3                 Weekly      18-30          11815                  139   \n",
       "4               Annually      31-50           6800                   80   \n",
       "\n",
       "  Total Purchase (INR)  \n",
       "0                 5695  \n",
       "1                 5610  \n",
       "2                 8160  \n",
       "3                11815  \n",
       "4                 6800  \n",
       "\n",
       "[5 rows x 23 columns]"
      ]
     },
     "execution_count": 39,
     "metadata": {},
     "output_type": "execute_result"
    }
   ],
   "source": [
    "df.head()"
   ]
  },
  {
   "cell_type": "code",
   "execution_count": 41,
   "id": "84231d20-9b20-4170-87f1-9979b73d6dc0",
   "metadata": {},
   "outputs": [],
   "source": [
    "df = df.drop(columns=['Total Purchase'])"
   ]
  },
  {
   "cell_type": "code",
   "execution_count": 42,
   "id": "580ba31a-b77f-49c3-99a3-2bc51912b96c",
   "metadata": {},
   "outputs": [
    {
     "data": {
      "text/plain": [
       "Index(['Customer ID', 'Age', 'Gender', 'Item Purchased', 'Category',\n",
       "       'Purchase Amount (USD)', 'Location', 'Size', 'Color', 'Season',\n",
       "       'Review Rating', 'Subscription Status', 'Payment Method',\n",
       "       'Shipping Type', 'Discount Applied', 'Promo Code Used',\n",
       "       'Previous Purchases', 'Preferred Payment Method',\n",
       "       'Frequency of Purchases', 'Age_Group', 'Total Purchase (USD)',\n",
       "       'Total Purchase (INR)'],\n",
       "      dtype='object')"
      ]
     },
     "execution_count": 42,
     "metadata": {},
     "output_type": "execute_result"
    }
   ],
   "source": [
    "df.columns"
   ]
  },
  {
   "cell_type": "code",
   "execution_count": 43,
   "id": "c34ca44a-1011-4763-a2cd-5b0f2fa752c8",
   "metadata": {},
   "outputs": [
    {
     "data": {
      "text/html": [
       "<div>\n",
       "<style scoped>\n",
       "    .dataframe tbody tr th:only-of-type {\n",
       "        vertical-align: middle;\n",
       "    }\n",
       "\n",
       "    .dataframe tbody tr th {\n",
       "        vertical-align: top;\n",
       "    }\n",
       "\n",
       "    .dataframe thead th {\n",
       "        text-align: right;\n",
       "    }\n",
       "</style>\n",
       "<table border=\"1\" class=\"dataframe\">\n",
       "  <thead>\n",
       "    <tr style=\"text-align: right;\">\n",
       "      <th></th>\n",
       "      <th>Customer ID</th>\n",
       "      <th>Age</th>\n",
       "      <th>Gender</th>\n",
       "      <th>Item Purchased</th>\n",
       "      <th>Category</th>\n",
       "      <th>Purchase Amount (USD)</th>\n",
       "      <th>Location</th>\n",
       "      <th>Size</th>\n",
       "      <th>Color</th>\n",
       "      <th>Season</th>\n",
       "      <th>...</th>\n",
       "      <th>Payment Method</th>\n",
       "      <th>Shipping Type</th>\n",
       "      <th>Discount Applied</th>\n",
       "      <th>Promo Code Used</th>\n",
       "      <th>Previous Purchases</th>\n",
       "      <th>Preferred Payment Method</th>\n",
       "      <th>Frequency of Purchases</th>\n",
       "      <th>Age_Group</th>\n",
       "      <th>Total Purchase (USD)</th>\n",
       "      <th>Total Purchase (INR)</th>\n",
       "    </tr>\n",
       "  </thead>\n",
       "  <tbody>\n",
       "    <tr>\n",
       "      <th>0</th>\n",
       "      <td>1</td>\n",
       "      <td>55</td>\n",
       "      <td>Male</td>\n",
       "      <td>Blouse</td>\n",
       "      <td>Clothing</td>\n",
       "      <td>53</td>\n",
       "      <td>Kentucky</td>\n",
       "      <td>L</td>\n",
       "      <td>Gray</td>\n",
       "      <td>Winter</td>\n",
       "      <td>...</td>\n",
       "      <td>Credit Card</td>\n",
       "      <td>Express</td>\n",
       "      <td>Yes</td>\n",
       "      <td>Yes</td>\n",
       "      <td>14</td>\n",
       "      <td>Venmo</td>\n",
       "      <td>Fortnightly</td>\n",
       "      <td>50+</td>\n",
       "      <td>67</td>\n",
       "      <td>5695</td>\n",
       "    </tr>\n",
       "    <tr>\n",
       "      <th>1</th>\n",
       "      <td>2</td>\n",
       "      <td>19</td>\n",
       "      <td>Male</td>\n",
       "      <td>Sweater</td>\n",
       "      <td>Clothing</td>\n",
       "      <td>64</td>\n",
       "      <td>Maine</td>\n",
       "      <td>L</td>\n",
       "      <td>Maroon</td>\n",
       "      <td>Winter</td>\n",
       "      <td>...</td>\n",
       "      <td>Bank Transfer</td>\n",
       "      <td>Express</td>\n",
       "      <td>Yes</td>\n",
       "      <td>Yes</td>\n",
       "      <td>2</td>\n",
       "      <td>Cash</td>\n",
       "      <td>Fortnightly</td>\n",
       "      <td>18-30</td>\n",
       "      <td>66</td>\n",
       "      <td>5610</td>\n",
       "    </tr>\n",
       "    <tr>\n",
       "      <th>2</th>\n",
       "      <td>3</td>\n",
       "      <td>50</td>\n",
       "      <td>Male</td>\n",
       "      <td>Jeans</td>\n",
       "      <td>Clothing</td>\n",
       "      <td>73</td>\n",
       "      <td>Massachusetts</td>\n",
       "      <td>S</td>\n",
       "      <td>Maroon</td>\n",
       "      <td>Spring</td>\n",
       "      <td>...</td>\n",
       "      <td>Cash</td>\n",
       "      <td>Free Shipping</td>\n",
       "      <td>Yes</td>\n",
       "      <td>Yes</td>\n",
       "      <td>23</td>\n",
       "      <td>Credit Card</td>\n",
       "      <td>Weekly</td>\n",
       "      <td>31-50</td>\n",
       "      <td>96</td>\n",
       "      <td>8160</td>\n",
       "    </tr>\n",
       "    <tr>\n",
       "      <th>3</th>\n",
       "      <td>4</td>\n",
       "      <td>21</td>\n",
       "      <td>Male</td>\n",
       "      <td>Sandals</td>\n",
       "      <td>Footwear</td>\n",
       "      <td>90</td>\n",
       "      <td>Rhode Island</td>\n",
       "      <td>M</td>\n",
       "      <td>Maroon</td>\n",
       "      <td>Spring</td>\n",
       "      <td>...</td>\n",
       "      <td>PayPal</td>\n",
       "      <td>Next Day Air</td>\n",
       "      <td>Yes</td>\n",
       "      <td>Yes</td>\n",
       "      <td>49</td>\n",
       "      <td>PayPal</td>\n",
       "      <td>Weekly</td>\n",
       "      <td>18-30</td>\n",
       "      <td>139</td>\n",
       "      <td>11815</td>\n",
       "    </tr>\n",
       "    <tr>\n",
       "      <th>4</th>\n",
       "      <td>5</td>\n",
       "      <td>45</td>\n",
       "      <td>Male</td>\n",
       "      <td>Blouse</td>\n",
       "      <td>Clothing</td>\n",
       "      <td>49</td>\n",
       "      <td>Oregon</td>\n",
       "      <td>M</td>\n",
       "      <td>Turquoise</td>\n",
       "      <td>Spring</td>\n",
       "      <td>...</td>\n",
       "      <td>Cash</td>\n",
       "      <td>Free Shipping</td>\n",
       "      <td>Yes</td>\n",
       "      <td>Yes</td>\n",
       "      <td>31</td>\n",
       "      <td>PayPal</td>\n",
       "      <td>Annually</td>\n",
       "      <td>31-50</td>\n",
       "      <td>80</td>\n",
       "      <td>6800</td>\n",
       "    </tr>\n",
       "  </tbody>\n",
       "</table>\n",
       "<p>5 rows × 22 columns</p>\n",
       "</div>"
      ],
      "text/plain": [
       "   Customer ID  Age Gender Item Purchased  Category  Purchase Amount (USD)  \\\n",
       "0            1   55   Male         Blouse  Clothing                     53   \n",
       "1            2   19   Male        Sweater  Clothing                     64   \n",
       "2            3   50   Male          Jeans  Clothing                     73   \n",
       "3            4   21   Male        Sandals  Footwear                     90   \n",
       "4            5   45   Male         Blouse  Clothing                     49   \n",
       "\n",
       "        Location Size      Color  Season  ...  Payment Method  Shipping Type  \\\n",
       "0       Kentucky    L       Gray  Winter  ...     Credit Card        Express   \n",
       "1          Maine    L     Maroon  Winter  ...   Bank Transfer        Express   \n",
       "2  Massachusetts    S     Maroon  Spring  ...            Cash  Free Shipping   \n",
       "3   Rhode Island    M     Maroon  Spring  ...          PayPal   Next Day Air   \n",
       "4         Oregon    M  Turquoise  Spring  ...            Cash  Free Shipping   \n",
       "\n",
       "  Discount Applied Promo Code Used Previous Purchases  \\\n",
       "0              Yes             Yes                 14   \n",
       "1              Yes             Yes                  2   \n",
       "2              Yes             Yes                 23   \n",
       "3              Yes             Yes                 49   \n",
       "4              Yes             Yes                 31   \n",
       "\n",
       "  Preferred Payment Method  Frequency of Purchases Age_Group  \\\n",
       "0                    Venmo             Fortnightly       50+   \n",
       "1                     Cash             Fortnightly     18-30   \n",
       "2              Credit Card                  Weekly     31-50   \n",
       "3                   PayPal                  Weekly     18-30   \n",
       "4                   PayPal                Annually     31-50   \n",
       "\n",
       "  Total Purchase (USD) Total Purchase (INR)  \n",
       "0                   67                 5695  \n",
       "1                   66                 5610  \n",
       "2                   96                 8160  \n",
       "3                  139                11815  \n",
       "4                   80                 6800  \n",
       "\n",
       "[5 rows x 22 columns]"
      ]
     },
     "execution_count": 43,
     "metadata": {},
     "output_type": "execute_result"
    }
   ],
   "source": [
    "df.head()"
   ]
  },
  {
   "cell_type": "code",
   "execution_count": 44,
   "id": "7dcce133-9405-41e3-8a6f-d87b04b8be34",
   "metadata": {},
   "outputs": [
    {
     "data": {
      "text/plain": [
       "array(['Male', 'Female'], dtype=object)"
      ]
     },
     "execution_count": 44,
     "metadata": {},
     "output_type": "execute_result"
    }
   ],
   "source": [
    "df['Gender'].unique()"
   ]
  },
  {
   "cell_type": "code",
   "execution_count": 45,
   "id": "d9c9e409-24ff-4d0f-98b6-008e53f8b2e2",
   "metadata": {},
   "outputs": [],
   "source": [
    "df['Gender'] = df['Gender'].map(lambda gen : gen[0])"
   ]
  },
  {
   "cell_type": "code",
   "execution_count": 46,
   "id": "3a08570a-b90c-4785-99ac-9eb7d14a857d",
   "metadata": {},
   "outputs": [
    {
     "data": {
      "text/plain": [
       "0       M\n",
       "1       M\n",
       "2       M\n",
       "3       M\n",
       "4       M\n",
       "       ..\n",
       "3895    F\n",
       "3896    F\n",
       "3897    F\n",
       "3898    F\n",
       "3899    F\n",
       "Name: Gender, Length: 3900, dtype: object"
      ]
     },
     "execution_count": 46,
     "metadata": {},
     "output_type": "execute_result"
    }
   ],
   "source": [
    "df['Gender']"
   ]
  },
  {
   "cell_type": "code",
   "execution_count": 47,
   "id": "b932bc89-33b5-4381-8761-8c8648913ae4",
   "metadata": {},
   "outputs": [
    {
     "data": {
      "text/html": [
       "<div>\n",
       "<style scoped>\n",
       "    .dataframe tbody tr th:only-of-type {\n",
       "        vertical-align: middle;\n",
       "    }\n",
       "\n",
       "    .dataframe tbody tr th {\n",
       "        vertical-align: top;\n",
       "    }\n",
       "\n",
       "    .dataframe thead th {\n",
       "        text-align: right;\n",
       "    }\n",
       "</style>\n",
       "<table border=\"1\" class=\"dataframe\">\n",
       "  <thead>\n",
       "    <tr style=\"text-align: right;\">\n",
       "      <th></th>\n",
       "      <th>Customer ID</th>\n",
       "      <th>Age</th>\n",
       "      <th>Gender</th>\n",
       "      <th>Item Purchased</th>\n",
       "      <th>Category</th>\n",
       "      <th>Purchase Amount (USD)</th>\n",
       "      <th>Location</th>\n",
       "      <th>Size</th>\n",
       "      <th>Color</th>\n",
       "      <th>Season</th>\n",
       "      <th>...</th>\n",
       "      <th>Payment Method</th>\n",
       "      <th>Shipping Type</th>\n",
       "      <th>Discount Applied</th>\n",
       "      <th>Promo Code Used</th>\n",
       "      <th>Previous Purchases</th>\n",
       "      <th>Preferred Payment Method</th>\n",
       "      <th>Frequency of Purchases</th>\n",
       "      <th>Age_Group</th>\n",
       "      <th>Total Purchase (USD)</th>\n",
       "      <th>Total Purchase (INR)</th>\n",
       "    </tr>\n",
       "  </thead>\n",
       "  <tbody>\n",
       "    <tr>\n",
       "      <th>0</th>\n",
       "      <td>1</td>\n",
       "      <td>55</td>\n",
       "      <td>M</td>\n",
       "      <td>Blouse</td>\n",
       "      <td>Clothing</td>\n",
       "      <td>53</td>\n",
       "      <td>Kentucky</td>\n",
       "      <td>L</td>\n",
       "      <td>Gray</td>\n",
       "      <td>Winter</td>\n",
       "      <td>...</td>\n",
       "      <td>Credit Card</td>\n",
       "      <td>Express</td>\n",
       "      <td>Yes</td>\n",
       "      <td>Yes</td>\n",
       "      <td>14</td>\n",
       "      <td>Venmo</td>\n",
       "      <td>Fortnightly</td>\n",
       "      <td>50+</td>\n",
       "      <td>67</td>\n",
       "      <td>5695</td>\n",
       "    </tr>\n",
       "    <tr>\n",
       "      <th>1</th>\n",
       "      <td>2</td>\n",
       "      <td>19</td>\n",
       "      <td>M</td>\n",
       "      <td>Sweater</td>\n",
       "      <td>Clothing</td>\n",
       "      <td>64</td>\n",
       "      <td>Maine</td>\n",
       "      <td>L</td>\n",
       "      <td>Maroon</td>\n",
       "      <td>Winter</td>\n",
       "      <td>...</td>\n",
       "      <td>Bank Transfer</td>\n",
       "      <td>Express</td>\n",
       "      <td>Yes</td>\n",
       "      <td>Yes</td>\n",
       "      <td>2</td>\n",
       "      <td>Cash</td>\n",
       "      <td>Fortnightly</td>\n",
       "      <td>18-30</td>\n",
       "      <td>66</td>\n",
       "      <td>5610</td>\n",
       "    </tr>\n",
       "    <tr>\n",
       "      <th>2</th>\n",
       "      <td>3</td>\n",
       "      <td>50</td>\n",
       "      <td>M</td>\n",
       "      <td>Jeans</td>\n",
       "      <td>Clothing</td>\n",
       "      <td>73</td>\n",
       "      <td>Massachusetts</td>\n",
       "      <td>S</td>\n",
       "      <td>Maroon</td>\n",
       "      <td>Spring</td>\n",
       "      <td>...</td>\n",
       "      <td>Cash</td>\n",
       "      <td>Free Shipping</td>\n",
       "      <td>Yes</td>\n",
       "      <td>Yes</td>\n",
       "      <td>23</td>\n",
       "      <td>Credit Card</td>\n",
       "      <td>Weekly</td>\n",
       "      <td>31-50</td>\n",
       "      <td>96</td>\n",
       "      <td>8160</td>\n",
       "    </tr>\n",
       "    <tr>\n",
       "      <th>3</th>\n",
       "      <td>4</td>\n",
       "      <td>21</td>\n",
       "      <td>M</td>\n",
       "      <td>Sandals</td>\n",
       "      <td>Footwear</td>\n",
       "      <td>90</td>\n",
       "      <td>Rhode Island</td>\n",
       "      <td>M</td>\n",
       "      <td>Maroon</td>\n",
       "      <td>Spring</td>\n",
       "      <td>...</td>\n",
       "      <td>PayPal</td>\n",
       "      <td>Next Day Air</td>\n",
       "      <td>Yes</td>\n",
       "      <td>Yes</td>\n",
       "      <td>49</td>\n",
       "      <td>PayPal</td>\n",
       "      <td>Weekly</td>\n",
       "      <td>18-30</td>\n",
       "      <td>139</td>\n",
       "      <td>11815</td>\n",
       "    </tr>\n",
       "    <tr>\n",
       "      <th>4</th>\n",
       "      <td>5</td>\n",
       "      <td>45</td>\n",
       "      <td>M</td>\n",
       "      <td>Blouse</td>\n",
       "      <td>Clothing</td>\n",
       "      <td>49</td>\n",
       "      <td>Oregon</td>\n",
       "      <td>M</td>\n",
       "      <td>Turquoise</td>\n",
       "      <td>Spring</td>\n",
       "      <td>...</td>\n",
       "      <td>Cash</td>\n",
       "      <td>Free Shipping</td>\n",
       "      <td>Yes</td>\n",
       "      <td>Yes</td>\n",
       "      <td>31</td>\n",
       "      <td>PayPal</td>\n",
       "      <td>Annually</td>\n",
       "      <td>31-50</td>\n",
       "      <td>80</td>\n",
       "      <td>6800</td>\n",
       "    </tr>\n",
       "  </tbody>\n",
       "</table>\n",
       "<p>5 rows × 22 columns</p>\n",
       "</div>"
      ],
      "text/plain": [
       "   Customer ID  Age Gender Item Purchased  Category  Purchase Amount (USD)  \\\n",
       "0            1   55      M         Blouse  Clothing                     53   \n",
       "1            2   19      M        Sweater  Clothing                     64   \n",
       "2            3   50      M          Jeans  Clothing                     73   \n",
       "3            4   21      M        Sandals  Footwear                     90   \n",
       "4            5   45      M         Blouse  Clothing                     49   \n",
       "\n",
       "        Location Size      Color  Season  ...  Payment Method  Shipping Type  \\\n",
       "0       Kentucky    L       Gray  Winter  ...     Credit Card        Express   \n",
       "1          Maine    L     Maroon  Winter  ...   Bank Transfer        Express   \n",
       "2  Massachusetts    S     Maroon  Spring  ...            Cash  Free Shipping   \n",
       "3   Rhode Island    M     Maroon  Spring  ...          PayPal   Next Day Air   \n",
       "4         Oregon    M  Turquoise  Spring  ...            Cash  Free Shipping   \n",
       "\n",
       "  Discount Applied Promo Code Used Previous Purchases  \\\n",
       "0              Yes             Yes                 14   \n",
       "1              Yes             Yes                  2   \n",
       "2              Yes             Yes                 23   \n",
       "3              Yes             Yes                 49   \n",
       "4              Yes             Yes                 31   \n",
       "\n",
       "  Preferred Payment Method  Frequency of Purchases Age_Group  \\\n",
       "0                    Venmo             Fortnightly       50+   \n",
       "1                     Cash             Fortnightly     18-30   \n",
       "2              Credit Card                  Weekly     31-50   \n",
       "3                   PayPal                  Weekly     18-30   \n",
       "4                   PayPal                Annually     31-50   \n",
       "\n",
       "  Total Purchase (USD) Total Purchase (INR)  \n",
       "0                   67                 5695  \n",
       "1                   66                 5610  \n",
       "2                   96                 8160  \n",
       "3                  139                11815  \n",
       "4                   80                 6800  \n",
       "\n",
       "[5 rows x 22 columns]"
      ]
     },
     "execution_count": 47,
     "metadata": {},
     "output_type": "execute_result"
    }
   ],
   "source": [
    "df.head()"
   ]
  },
  {
   "cell_type": "code",
   "execution_count": 48,
   "id": "9b12bb36-2248-4c21-bdaf-d3ba35ba26f7",
   "metadata": {},
   "outputs": [
    {
     "data": {
      "text/plain": [
       "Index(['Customer ID', 'Age', 'Gender', 'Item Purchased', 'Category',\n",
       "       'Purchase Amount (USD)', 'Location', 'Size', 'Color', 'Season',\n",
       "       'Review Rating', 'Subscription Status', 'Payment Method',\n",
       "       'Shipping Type', 'Discount Applied', 'Promo Code Used',\n",
       "       'Previous Purchases', 'Preferred Payment Method',\n",
       "       'Frequency of Purchases', 'Age_Group', 'Total Purchase (USD)',\n",
       "       'Total Purchase (INR)'],\n",
       "      dtype='object')"
      ]
     },
     "execution_count": 48,
     "metadata": {},
     "output_type": "execute_result"
    }
   ],
   "source": [
    "df.columns"
   ]
  },
  {
   "cell_type": "code",
   "execution_count": 50,
   "id": "6b2a88e3-d0cc-4599-8738-09d294897c98",
   "metadata": {},
   "outputs": [],
   "source": [
    "data = pd.read_csv('c:/users/saini/Downloads/final_dataset.csv')"
   ]
  },
  {
   "cell_type": "code",
   "execution_count": 51,
   "id": "de3b0ab0-8172-45df-aee8-f34183641320",
   "metadata": {},
   "outputs": [
    {
     "data": {
      "text/html": [
       "<div>\n",
       "<style scoped>\n",
       "    .dataframe tbody tr th:only-of-type {\n",
       "        vertical-align: middle;\n",
       "    }\n",
       "\n",
       "    .dataframe tbody tr th {\n",
       "        vertical-align: top;\n",
       "    }\n",
       "\n",
       "    .dataframe thead th {\n",
       "        text-align: right;\n",
       "    }\n",
       "</style>\n",
       "<table border=\"1\" class=\"dataframe\">\n",
       "  <thead>\n",
       "    <tr style=\"text-align: right;\">\n",
       "      <th></th>\n",
       "      <th>id</th>\n",
       "      <th>Title</th>\n",
       "      <th>Movie Link</th>\n",
       "      <th>Year</th>\n",
       "      <th>Duration</th>\n",
       "      <th>MPA</th>\n",
       "      <th>Rating</th>\n",
       "      <th>Votes</th>\n",
       "      <th>budget</th>\n",
       "      <th>grossWorldWide</th>\n",
       "      <th>...</th>\n",
       "      <th>writers</th>\n",
       "      <th>stars</th>\n",
       "      <th>genres</th>\n",
       "      <th>countries_origin</th>\n",
       "      <th>filming_locations</th>\n",
       "      <th>production_companies</th>\n",
       "      <th>Languages</th>\n",
       "      <th>wins</th>\n",
       "      <th>nominations</th>\n",
       "      <th>oscars</th>\n",
       "    </tr>\n",
       "  </thead>\n",
       "  <tbody>\n",
       "    <tr>\n",
       "      <th>0</th>\n",
       "      <td>tt0073195</td>\n",
       "      <td>Jaws</td>\n",
       "      <td>https://www.imdb.com/title/tt0073195</td>\n",
       "      <td>1975</td>\n",
       "      <td>2h 4m</td>\n",
       "      <td>PG</td>\n",
       "      <td>8.1</td>\n",
       "      <td>683K</td>\n",
       "      <td>7000000.0</td>\n",
       "      <td>477220580.0</td>\n",
       "      <td>...</td>\n",
       "      <td>['Peter Benchley', 'Carl Gottlieb']</td>\n",
       "      <td>['Roy Scheider', 'Robert Shaw', 'Richard Dreyf...</td>\n",
       "      <td>['Monster Horror', 'Sea Adventure', 'Survival'...</td>\n",
       "      <td>['United States']</td>\n",
       "      <td>[\"Water Street, Edgartown, Martha's Vineyard, ...</td>\n",
       "      <td>['Zanuck/Brown Productions', 'Universal Pictur...</td>\n",
       "      <td>['English']</td>\n",
       "      <td>0</td>\n",
       "      <td>20</td>\n",
       "      <td>0</td>\n",
       "    </tr>\n",
       "    <tr>\n",
       "      <th>1</th>\n",
       "      <td>tt0073629</td>\n",
       "      <td>The Rocky Horror Picture Show</td>\n",
       "      <td>https://www.imdb.com/title/tt0073629</td>\n",
       "      <td>1975</td>\n",
       "      <td>1h 40m</td>\n",
       "      <td>R</td>\n",
       "      <td>7.4</td>\n",
       "      <td>173K</td>\n",
       "      <td>1200000.0</td>\n",
       "      <td>115798478.0</td>\n",
       "      <td>...</td>\n",
       "      <td>[\"Richard O'Brien\", 'Jim Sharman']</td>\n",
       "      <td>['Tim Curry', 'Susan Sarandon', 'Barry Bostwick']</td>\n",
       "      <td>['Dark Comedy', 'Raunchy Comedy', 'Rock Musica...</td>\n",
       "      <td>['United Kingdom', 'United States']</td>\n",
       "      <td>['Oakley Court, Windsor Road, Oakley Green, Wi...</td>\n",
       "      <td>['Twentieth Century Fox', 'Michael White Produ...</td>\n",
       "      <td>['English']</td>\n",
       "      <td>0</td>\n",
       "      <td>4</td>\n",
       "      <td>0</td>\n",
       "    </tr>\n",
       "    <tr>\n",
       "      <th>2</th>\n",
       "      <td>tt0073486</td>\n",
       "      <td>One Flew Over the Cuckoo's Nest</td>\n",
       "      <td>https://www.imdb.com/title/tt0073486</td>\n",
       "      <td>1975</td>\n",
       "      <td>2h 13m</td>\n",
       "      <td>R</td>\n",
       "      <td>8.7</td>\n",
       "      <td>1.1M</td>\n",
       "      <td>3000000.0</td>\n",
       "      <td>109115366.0</td>\n",
       "      <td>...</td>\n",
       "      <td>['Lawrence Hauben', 'Bo Goldman', 'Ken Kesey']</td>\n",
       "      <td>['Jack Nicholson', 'Louise Fletcher', 'Michael...</td>\n",
       "      <td>['Medical Drama', 'Psychological Drama', 'Drama']</td>\n",
       "      <td>['United States']</td>\n",
       "      <td>['Oregon State Mental Hospital - 2600 Center S...</td>\n",
       "      <td>['Fantasy Films', 'N.V. Zvaluw']</td>\n",
       "      <td>['English']</td>\n",
       "      <td>0</td>\n",
       "      <td>15</td>\n",
       "      <td>0</td>\n",
       "    </tr>\n",
       "    <tr>\n",
       "      <th>3</th>\n",
       "      <td>tt0072890</td>\n",
       "      <td>Dog Day Afternoon</td>\n",
       "      <td>https://www.imdb.com/title/tt0072890</td>\n",
       "      <td>1975</td>\n",
       "      <td>2h 5m</td>\n",
       "      <td>R</td>\n",
       "      <td>8.0</td>\n",
       "      <td>279K</td>\n",
       "      <td>1800000.0</td>\n",
       "      <td>50002721.0</td>\n",
       "      <td>...</td>\n",
       "      <td>['Frank Pierson', 'P.F. Kluge', 'Thomas Moore']</td>\n",
       "      <td>['Al Pacino', 'John Cazale', 'Penelope Allen']</td>\n",
       "      <td>['Heist', 'True Crime', 'Biography', 'Crime', ...</td>\n",
       "      <td>['United States']</td>\n",
       "      <td>['285 Prospect Park West, Brooklyn, New York C...</td>\n",
       "      <td>['Warner Bros.', 'Artists Entertainment Complex']</td>\n",
       "      <td>['English']</td>\n",
       "      <td>0</td>\n",
       "      <td>20</td>\n",
       "      <td>0</td>\n",
       "    </tr>\n",
       "    <tr>\n",
       "      <th>4</th>\n",
       "      <td>tt0073692</td>\n",
       "      <td>Shampoo</td>\n",
       "      <td>https://www.imdb.com/title/tt0073692</td>\n",
       "      <td>1975</td>\n",
       "      <td>1h 50m</td>\n",
       "      <td>R</td>\n",
       "      <td>6.4</td>\n",
       "      <td>15K</td>\n",
       "      <td>4000000.0</td>\n",
       "      <td>49407734.0</td>\n",
       "      <td>...</td>\n",
       "      <td>['Robert Towne', 'Warren Beatty']</td>\n",
       "      <td>['Warren Beatty', 'Julie Christie', 'Goldie Ha...</td>\n",
       "      <td>['Satire', 'Comedy', 'Drama']</td>\n",
       "      <td>['United States']</td>\n",
       "      <td>['2270 Bowmont Drive, Beverly Hills, Californi...</td>\n",
       "      <td>['Persky-Bright / Vista', 'Columbia Pictures',...</td>\n",
       "      <td>['English']</td>\n",
       "      <td>0</td>\n",
       "      <td>11</td>\n",
       "      <td>0</td>\n",
       "    </tr>\n",
       "  </tbody>\n",
       "</table>\n",
       "<p>5 rows × 23 columns</p>\n",
       "</div>"
      ],
      "text/plain": [
       "          id                            Title  \\\n",
       "0  tt0073195                             Jaws   \n",
       "1  tt0073629    The Rocky Horror Picture Show   \n",
       "2  tt0073486  One Flew Over the Cuckoo's Nest   \n",
       "3  tt0072890                Dog Day Afternoon   \n",
       "4  tt0073692                          Shampoo   \n",
       "\n",
       "                             Movie Link  Year Duration MPA  Rating Votes  \\\n",
       "0  https://www.imdb.com/title/tt0073195  1975    2h 4m  PG     8.1  683K   \n",
       "1  https://www.imdb.com/title/tt0073629  1975   1h 40m   R     7.4  173K   \n",
       "2  https://www.imdb.com/title/tt0073486  1975   2h 13m   R     8.7  1.1M   \n",
       "3  https://www.imdb.com/title/tt0072890  1975    2h 5m   R     8.0  279K   \n",
       "4  https://www.imdb.com/title/tt0073692  1975   1h 50m   R     6.4   15K   \n",
       "\n",
       "      budget  grossWorldWide  ...  \\\n",
       "0  7000000.0     477220580.0  ...   \n",
       "1  1200000.0     115798478.0  ...   \n",
       "2  3000000.0     109115366.0  ...   \n",
       "3  1800000.0      50002721.0  ...   \n",
       "4  4000000.0      49407734.0  ...   \n",
       "\n",
       "                                           writers  \\\n",
       "0              ['Peter Benchley', 'Carl Gottlieb']   \n",
       "1               [\"Richard O'Brien\", 'Jim Sharman']   \n",
       "2   ['Lawrence Hauben', 'Bo Goldman', 'Ken Kesey']   \n",
       "3  ['Frank Pierson', 'P.F. Kluge', 'Thomas Moore']   \n",
       "4                ['Robert Towne', 'Warren Beatty']   \n",
       "\n",
       "                                               stars  \\\n",
       "0  ['Roy Scheider', 'Robert Shaw', 'Richard Dreyf...   \n",
       "1  ['Tim Curry', 'Susan Sarandon', 'Barry Bostwick']   \n",
       "2  ['Jack Nicholson', 'Louise Fletcher', 'Michael...   \n",
       "3     ['Al Pacino', 'John Cazale', 'Penelope Allen']   \n",
       "4  ['Warren Beatty', 'Julie Christie', 'Goldie Ha...   \n",
       "\n",
       "                                              genres  \\\n",
       "0  ['Monster Horror', 'Sea Adventure', 'Survival'...   \n",
       "1  ['Dark Comedy', 'Raunchy Comedy', 'Rock Musica...   \n",
       "2  ['Medical Drama', 'Psychological Drama', 'Drama']   \n",
       "3  ['Heist', 'True Crime', 'Biography', 'Crime', ...   \n",
       "4                      ['Satire', 'Comedy', 'Drama']   \n",
       "\n",
       "                      countries_origin  \\\n",
       "0                    ['United States']   \n",
       "1  ['United Kingdom', 'United States']   \n",
       "2                    ['United States']   \n",
       "3                    ['United States']   \n",
       "4                    ['United States']   \n",
       "\n",
       "                                   filming_locations  \\\n",
       "0  [\"Water Street, Edgartown, Martha's Vineyard, ...   \n",
       "1  ['Oakley Court, Windsor Road, Oakley Green, Wi...   \n",
       "2  ['Oregon State Mental Hospital - 2600 Center S...   \n",
       "3  ['285 Prospect Park West, Brooklyn, New York C...   \n",
       "4  ['2270 Bowmont Drive, Beverly Hills, Californi...   \n",
       "\n",
       "                                production_companies    Languages wins  \\\n",
       "0  ['Zanuck/Brown Productions', 'Universal Pictur...  ['English']    0   \n",
       "1  ['Twentieth Century Fox', 'Michael White Produ...  ['English']    0   \n",
       "2                   ['Fantasy Films', 'N.V. Zvaluw']  ['English']    0   \n",
       "3  ['Warner Bros.', 'Artists Entertainment Complex']  ['English']    0   \n",
       "4  ['Persky-Bright / Vista', 'Columbia Pictures',...  ['English']    0   \n",
       "\n",
       "  nominations oscars  \n",
       "0          20      0  \n",
       "1           4      0  \n",
       "2          15      0  \n",
       "3          20      0  \n",
       "4          11      0  \n",
       "\n",
       "[5 rows x 23 columns]"
      ]
     },
     "execution_count": 51,
     "metadata": {},
     "output_type": "execute_result"
    }
   ],
   "source": [
    "data.head()"
   ]
  },
  {
   "cell_type": "code",
   "execution_count": 52,
   "id": "2efa00a8-878d-4823-b50e-328c77b3d331",
   "metadata": {},
   "outputs": [
    {
     "data": {
      "text/plain": [
       "id                           0\n",
       "Title                        0\n",
       "Movie Link                   0\n",
       "Year                         0\n",
       "Duration                   221\n",
       "MPA                       7976\n",
       "Rating                     138\n",
       "Votes                      138\n",
       "budget                   21785\n",
       "grossWorldWide           15378\n",
       "gross_US_Canada          16029\n",
       "opening_weekend_Gross    18077\n",
       "directors                  359\n",
       "writers                   1576\n",
       "stars                      473\n",
       "genres                     382\n",
       "countries_origin           366\n",
       "filming_locations         6729\n",
       "production_companies      1378\n",
       "Languages                  474\n",
       "wins                         0\n",
       "nominations                  0\n",
       "oscars                       0\n",
       "dtype: int64"
      ]
     },
     "execution_count": 52,
     "metadata": {},
     "output_type": "execute_result"
    }
   ],
   "source": [
    "data.isnull().sum()"
   ]
  },
  {
   "cell_type": "code",
   "execution_count": 54,
   "id": "fc11a1c7-37f8-4f76-a0a0-baf7be731c8e",
   "metadata": {},
   "outputs": [],
   "source": [
    "data = data.ffill()"
   ]
  },
  {
   "cell_type": "code",
   "execution_count": 55,
   "id": "1f289244-9319-4e1f-bc1f-9321a337a938",
   "metadata": {},
   "outputs": [
    {
     "data": {
      "text/plain": [
       "id                       0\n",
       "Title                    0\n",
       "Movie Link               0\n",
       "Year                     0\n",
       "Duration                 0\n",
       "MPA                      0\n",
       "Rating                   0\n",
       "Votes                    0\n",
       "budget                   0\n",
       "grossWorldWide           0\n",
       "gross_US_Canada          0\n",
       "opening_weekend_Gross    0\n",
       "directors                0\n",
       "writers                  0\n",
       "stars                    0\n",
       "genres                   0\n",
       "countries_origin         0\n",
       "filming_locations        0\n",
       "production_companies     0\n",
       "Languages                0\n",
       "wins                     0\n",
       "nominations              0\n",
       "oscars                   0\n",
       "dtype: int64"
      ]
     },
     "execution_count": 55,
     "metadata": {},
     "output_type": "execute_result"
    }
   ],
   "source": [
    "data.isnull().sum()"
   ]
  },
  {
   "cell_type": "code",
   "execution_count": 57,
   "id": "0f434485-7524-406f-b153-a5509bce8c4b",
   "metadata": {},
   "outputs": [],
   "source": [
    "df = data.copy()"
   ]
  },
  {
   "cell_type": "code",
   "execution_count": 58,
   "id": "2a3b4315-47b0-453b-8b61-704d79eab8a4",
   "metadata": {},
   "outputs": [
    {
     "data": {
      "text/plain": [
       "Index(['id', 'Title', 'Movie Link', 'Year', 'Duration', 'MPA', 'Rating',\n",
       "       'Votes', 'budget', 'grossWorldWide', 'gross_US_Canada',\n",
       "       'opening_weekend_Gross', 'directors', 'writers', 'stars', 'genres',\n",
       "       'countries_origin', 'filming_locations', 'production_companies',\n",
       "       'Languages', 'wins', 'nominations', 'oscars'],\n",
       "      dtype='object')"
      ]
     },
     "execution_count": 58,
     "metadata": {},
     "output_type": "execute_result"
    }
   ],
   "source": [
    "df.columns"
   ]
  },
  {
   "cell_type": "code",
   "execution_count": 60,
   "id": "bb1ec292-b3d5-4b00-b8b8-8478f7a446ee",
   "metadata": {},
   "outputs": [
    {
     "data": {
      "text/plain": [
       "count    3.360000e+04\n",
       "mean     2.128653e+08\n",
       "std      6.796476e+09\n",
       "min      1.000000e+00\n",
       "25%      6.000000e+05\n",
       "50%      3.000000e+06\n",
       "75%      1.300000e+07\n",
       "max      3.000000e+11\n",
       "Name: budget, dtype: float64"
      ]
     },
     "execution_count": 60,
     "metadata": {},
     "output_type": "execute_result"
    }
   ],
   "source": [
    "df['budget'].describe()"
   ]
  },
  {
   "cell_type": "code",
   "execution_count": 65,
   "id": "d8f319cb-a3a1-4000-a543-ba7baa0c8a34",
   "metadata": {},
   "outputs": [],
   "source": [
    "# Outlier\n",
    "sal = [4,7,4,7,4,2,4,7,9,3,100]"
   ]
  },
  {
   "cell_type": "code",
   "execution_count": 66,
   "id": "3b107ce0-4b36-4bde-9aa3-b50c2742cbe1",
   "metadata": {},
   "outputs": [
    {
     "data": {
      "text/plain": [
       "13.727272727272727"
      ]
     },
     "execution_count": 66,
     "metadata": {},
     "output_type": "execute_result"
    }
   ],
   "source": [
    "sum(sal)/len(sal)"
   ]
  },
  {
   "cell_type": "code",
   "execution_count": 67,
   "id": "8689a17c-50d8-4521-b9a7-048ee55f2a44",
   "metadata": {},
   "outputs": [],
   "source": [
    "import matplotlib.pyplot as plt\n",
    "import seaborn as sns"
   ]
  },
  {
   "cell_type": "code",
   "execution_count": 68,
   "id": "361ffc80-b017-40e6-a870-deed7dcb8326",
   "metadata": {
    "scrolled": true
   },
   "outputs": [
    {
     "data": {
      "text/plain": [
       "<Axes: xlabel='budget'>"
      ]
     },
     "execution_count": 68,
     "metadata": {},
     "output_type": "execute_result"
    },
    {
     "data": {
      "image/png": "[encoded data removed]",
      "text/plain": [
       "<Figure size 640x480 with 1 Axes>"
      ]
     },
     "metadata": {},
     "output_type": "display_data"
    }
   ],
   "source": [
    "sns.boxplot(x='budget',data=df)"
   ]
  },
  {
   "cell_type": "code",
   "execution_count": 69,
   "id": "308c5ac5-a030-46e0-9137-c8b2f26c423f",
   "metadata": {},
   "outputs": [
    {
     "name": "stderr",
     "output_type": "stream",
     "text": [
      "C:\\Users\\saini\\AppData\\Local\\Temp\\ipykernel_9256\\1352556383.py:1: UserWarning: \n",
      "\n",
      "`distplot` is a deprecated function and will be removed in seaborn v0.14.0.\n",
      "\n",
      "Please adapt your code to use either `displot` (a figure-level function with\n",
      "similar flexibility) or `histplot` (an axes-level function for histograms).\n",
      "\n",
      "For a guide to updating your code to use the new functions, please see\n",
      "https://gist.github.com/mwaskom/de44147ed2974457ad6372750bbe5751\n",
      "\n",
      "  sns.distplot(df['budget'])\n"
     ]
    },
    {
     "data": {
      "text/plain": [
       "<Axes: xlabel='budget', ylabel='Density'>"
      ]
     },
     "execution_count": 69,
     "metadata": {},
     "output_type": "execute_result"
    },
    {
     "data": {
      "image/png": "[encoded data removed]",
      "text/plain": [
       "<Figure size 640x480 with 1 Axes>"
      ]
     },
     "metadata": {},
     "output_type": "display_data"
    }
   ],
   "source": [
    "sns.distplot(df['budget'])"
   ]
  },
  {
   "cell_type": "code",
   "execution_count": 70,
   "id": "6adc4d0e-cff3-49c4-b56f-ad7326983d2b",
   "metadata": {},
   "outputs": [
    {
     "data": {
      "text/plain": [
       "0        7000000.0\n",
       "1        1200000.0\n",
       "2        3000000.0\n",
       "3        1800000.0\n",
       "4        4000000.0\n",
       "           ...    \n",
       "33595      60000.0\n",
       "33596      60000.0\n",
       "33597      60000.0\n",
       "33598      60000.0\n",
       "33599      60000.0\n",
       "Name: budget, Length: 33600, dtype: float64"
      ]
     },
     "execution_count": 70,
     "metadata": {},
     "output_type": "execute_result"
    }
   ],
   "source": [
    "df['budget']"
   ]
  },
  {
   "cell_type": "code",
   "execution_count": 71,
   "id": "409a6a1f-5234-4be9-a29b-89139d372c7e",
   "metadata": {},
   "outputs": [
    {
     "data": {
      "text/plain": [
       "count    3.360000e+04\n",
       "mean     2.128653e+08\n",
       "std      6.796476e+09\n",
       "min      1.000000e+00\n",
       "25%      6.000000e+05\n",
       "50%      3.000000e+06\n",
       "75%      1.300000e+07\n",
       "max      3.000000e+11\n",
       "Name: budget, dtype: float64"
      ]
     },
     "execution_count": 71,
     "metadata": {},
     "output_type": "execute_result"
    }
   ],
   "source": [
    "df['budget'].describe()"
   ]
  },
  {
   "cell_type": "code",
   "execution_count": 73,
   "id": "0257a696-14dc-4677-987a-500acc4fc1dc",
   "metadata": {},
   "outputs": [
    {
     "data": {
      "text/plain": [
       "np.float64(600000.0)"
      ]
     },
     "execution_count": 73,
     "metadata": {},
     "output_type": "execute_result"
    }
   ],
   "source": [
    "Q1 = df['budget'].quantile(0.25)\n",
    "Q1"
   ]
  },
  {
   "cell_type": "code",
   "execution_count": 74,
   "id": "f032ee67-d55e-47eb-99ca-5dd333c8cb75",
   "metadata": {},
   "outputs": [
    {
     "data": {
      "text/plain": [
       "np.float64(13000000.0)"
      ]
     },
     "execution_count": 74,
     "metadata": {},
     "output_type": "execute_result"
    }
   ],
   "source": [
    "Q3 = df['budget'].quantile(0.75)\n",
    "Q3"
   ]
  },
  {
   "cell_type": "code",
   "execution_count": 75,
   "id": "e30f987e-c63c-42e5-93bf-3a486f648e86",
   "metadata": {},
   "outputs": [
    {
     "data": {
      "text/plain": [
       "np.float64(12400000.0)"
      ]
     },
     "execution_count": 75,
     "metadata": {},
     "output_type": "execute_result"
    }
   ],
   "source": [
    "IQR = Q3-Q1\n",
    "IQR"
   ]
  },
  {
   "cell_type": "code",
   "execution_count": 77,
   "id": "9569eefc-d015-423b-96c0-a2bdb8b6aca2",
   "metadata": {},
   "outputs": [
    {
     "data": {
      "text/plain": [
       "(np.float64(-18000000.0), np.float64(31600000.0))"
      ]
     },
     "execution_count": 77,
     "metadata": {},
     "output_type": "execute_result"
    }
   ],
   "source": [
    "min_range = Q1-(IQR*1.5)\n",
    "max_range = Q3+(IQR*1.5)\n",
    "min_range , max_range"
   ]
  },
  {
   "cell_type": "code",
   "execution_count": 78,
   "id": "681e1a86-47d7-4d04-bc8b-018dc1ee7f19",
   "metadata": {},
   "outputs": [],
   "source": [
    "df = df[df['budget']<max_range]"
   ]
  },
  {
   "cell_type": "code",
   "execution_count": 79,
   "id": "db3740c4-9152-44d7-9182-2d2d47ff0069",
   "metadata": {},
   "outputs": [
    {
     "data": {
      "text/plain": [
       "(29377, 23)"
      ]
     },
     "execution_count": 79,
     "metadata": {},
     "output_type": "execute_result"
    }
   ],
   "source": [
    "df.shape"
   ]
  },
  {
   "cell_type": "code",
   "execution_count": 80,
   "id": "d3203c96-a7af-4c67-aa33-0860d23f57d5",
   "metadata": {},
   "outputs": [
    {
     "data": {
      "text/plain": [
       "4223"
      ]
     },
     "execution_count": 80,
     "metadata": {},
     "output_type": "execute_result"
    }
   ],
   "source": [
    "33600-29377"
   ]
  },
  {
   "cell_type": "code",
   "execution_count": 81,
   "id": "6e126c3d-be09-43ae-968b-ab0a25927eb9",
   "metadata": {},
   "outputs": [
    {
     "data": {
      "text/plain": [
       "count    2.937700e+04\n",
       "mean     5.453849e+06\n",
       "std      7.256063e+06\n",
       "min      1.000000e+00\n",
       "25%      5.000000e+05\n",
       "50%      2.200000e+06\n",
       "75%      7.700000e+06\n",
       "max      3.150000e+07\n",
       "Name: budget, dtype: float64"
      ]
     },
     "execution_count": 81,
     "metadata": {},
     "output_type": "execute_result"
    }
   ],
   "source": [
    "df['budget'].describe()"
   ]
  },
  {
   "cell_type": "code",
   "execution_count": 82,
   "id": "2c345845-24bf-4ccd-95a5-b0df56ba06e3",
   "metadata": {},
   "outputs": [
    {
     "data": {
      "text/plain": [
       "<Axes: xlabel='budget'>"
      ]
     },
     "execution_count": 82,
     "metadata": {},
     "output_type": "execute_result"
    },
    {
     "data": {
      "image/png": "[encoded data removed]",
      "text/plain": [
       "<Figure size 640x480 with 1 Axes>"
      ]
     },
     "metadata": {},
     "output_type": "display_data"
    }
   ],
   "source": [
    "sns.boxplot(x='budget',data=df)"
   ]
  },
  {
   "cell_type": "code",
   "execution_count": 83,
   "id": "0280427c-b10b-44d0-9ec5-3868d0373f84",
   "metadata": {},
   "outputs": [
    {
     "name": "stderr",
     "output_type": "stream",
     "text": [
      "C:\\Users\\saini\\AppData\\Local\\Temp\\ipykernel_9256\\1352556383.py:1: UserWarning: \n",
      "\n",
      "`distplot` is a deprecated function and will be removed in seaborn v0.14.0.\n",
      "\n",
      "Please adapt your code to use either `displot` (a figure-level function with\n",
      "similar flexibility) or `histplot` (an axes-level function for histograms).\n",
      "\n",
      "For a guide to updating your code to use the new functions, please see\n",
      "https://gist.github.com/mwaskom/de44147ed2974457ad6372750bbe5751\n",
      "\n",
      "  sns.distplot(df['budget'])\n"
     ]
    },
    {
     "data": {
      "text/plain": [
       "<Axes: xlabel='budget', ylabel='Density'>"
      ]
     },
     "execution_count": 83,
     "metadata": {},
     "output_type": "execute_result"
    },
    {
     "data": {
      "image/png": "[encoded data removed]",
      "text/plain": [
       "<Figure size 640x480 with 1 Axes>"
      ]
     },
     "metadata": {},
     "output_type": "display_data"
    }
   ],
   "source": [
    "sns.distplot(df['budget'])"
   ]
  },
  {
   "cell_type": "code",
   "execution_count": 84,
   "id": "2adafa8a-dcf7-4639-8e90-cde80d5fa35c",
   "metadata": {},
   "outputs": [
    {
     "data": {
      "text/plain": [
       "4223"
      ]
     },
     "execution_count": 84,
     "metadata": {},
     "output_type": "execute_result"
    }
   ],
   "source": [
    "33600-29377"
   ]
  },
  {
   "cell_type": "code",
   "execution_count": 85,
   "id": "84f6804a-9719-438e-9ef3-eae62ba8c461",
   "metadata": {},
   "outputs": [
    {
     "data": {
      "text/plain": [
       "12.56845238095238"
      ]
     },
     "execution_count": 85,
     "metadata": {},
     "output_type": "execute_result"
    }
   ],
   "source": [
    "4223/33600*100"
   ]
  },
  {
   "cell_type": "code",
   "execution_count": 88,
   "id": "57c92bd6-1ff9-4f08-82d6-c4c992a1972c",
   "metadata": {},
   "outputs": [],
   "source": [
    "df = data\n",
    "df['z_score'] = ( df['budget'] - df['budget'].mean() )/df['budget'].std()"
   ]
  },
  {
   "cell_type": "code",
   "execution_count": 91,
   "id": "241018f4-a173-4cd5-b485-fa2699b028aa",
   "metadata": {},
   "outputs": [
    {
     "data": {
      "text/html": [
       "<div>\n",
       "<style scoped>\n",
       "    .dataframe tbody tr th:only-of-type {\n",
       "        vertical-align: middle;\n",
       "    }\n",
       "\n",
       "    .dataframe tbody tr th {\n",
       "        vertical-align: top;\n",
       "    }\n",
       "\n",
       "    .dataframe thead th {\n",
       "        text-align: right;\n",
       "    }\n",
       "</style>\n",
       "<table border=\"1\" class=\"dataframe\">\n",
       "  <thead>\n",
       "    <tr style=\"text-align: right;\">\n",
       "      <th></th>\n",
       "      <th>id</th>\n",
       "      <th>Title</th>\n",
       "      <th>Movie Link</th>\n",
       "      <th>Year</th>\n",
       "      <th>Duration</th>\n",
       "      <th>MPA</th>\n",
       "      <th>Rating</th>\n",
       "      <th>Votes</th>\n",
       "      <th>budget</th>\n",
       "      <th>grossWorldWide</th>\n",
       "      <th>...</th>\n",
       "      <th>stars</th>\n",
       "      <th>genres</th>\n",
       "      <th>countries_origin</th>\n",
       "      <th>filming_locations</th>\n",
       "      <th>production_companies</th>\n",
       "      <th>Languages</th>\n",
       "      <th>wins</th>\n",
       "      <th>nominations</th>\n",
       "      <th>oscars</th>\n",
       "      <th>z_score</th>\n",
       "    </tr>\n",
       "  </thead>\n",
       "  <tbody>\n",
       "    <tr>\n",
       "      <th>0</th>\n",
       "      <td>tt0073195</td>\n",
       "      <td>Jaws</td>\n",
       "      <td>https://www.imdb.com/title/tt0073195</td>\n",
       "      <td>1975</td>\n",
       "      <td>2h 4m</td>\n",
       "      <td>PG</td>\n",
       "      <td>8.1</td>\n",
       "      <td>683K</td>\n",
       "      <td>7000000.0</td>\n",
       "      <td>477220580.0</td>\n",
       "      <td>...</td>\n",
       "      <td>['Roy Scheider', 'Robert Shaw', 'Richard Dreyf...</td>\n",
       "      <td>['Monster Horror', 'Sea Adventure', 'Survival'...</td>\n",
       "      <td>['United States']</td>\n",
       "      <td>[\"Water Street, Edgartown, Martha's Vineyard, ...</td>\n",
       "      <td>['Zanuck/Brown Productions', 'Universal Pictur...</td>\n",
       "      <td>['English']</td>\n",
       "      <td>0</td>\n",
       "      <td>20</td>\n",
       "      <td>0</td>\n",
       "      <td>-0.030290</td>\n",
       "    </tr>\n",
       "    <tr>\n",
       "      <th>1</th>\n",
       "      <td>tt0073629</td>\n",
       "      <td>The Rocky Horror Picture Show</td>\n",
       "      <td>https://www.imdb.com/title/tt0073629</td>\n",
       "      <td>1975</td>\n",
       "      <td>1h 40m</td>\n",
       "      <td>R</td>\n",
       "      <td>7.4</td>\n",
       "      <td>173K</td>\n",
       "      <td>1200000.0</td>\n",
       "      <td>115798478.0</td>\n",
       "      <td>...</td>\n",
       "      <td>['Tim Curry', 'Susan Sarandon', 'Barry Bostwick']</td>\n",
       "      <td>['Dark Comedy', 'Raunchy Comedy', 'Rock Musica...</td>\n",
       "      <td>['United Kingdom', 'United States']</td>\n",
       "      <td>['Oakley Court, Windsor Road, Oakley Green, Wi...</td>\n",
       "      <td>['Twentieth Century Fox', 'Michael White Produ...</td>\n",
       "      <td>['English']</td>\n",
       "      <td>0</td>\n",
       "      <td>4</td>\n",
       "      <td>0</td>\n",
       "      <td>-0.031143</td>\n",
       "    </tr>\n",
       "    <tr>\n",
       "      <th>2</th>\n",
       "      <td>tt0073486</td>\n",
       "      <td>One Flew Over the Cuckoo's Nest</td>\n",
       "      <td>https://www.imdb.com/title/tt0073486</td>\n",
       "      <td>1975</td>\n",
       "      <td>2h 13m</td>\n",
       "      <td>R</td>\n",
       "      <td>8.7</td>\n",
       "      <td>1.1M</td>\n",
       "      <td>3000000.0</td>\n",
       "      <td>109115366.0</td>\n",
       "      <td>...</td>\n",
       "      <td>['Jack Nicholson', 'Louise Fletcher', 'Michael...</td>\n",
       "      <td>['Medical Drama', 'Psychological Drama', 'Drama']</td>\n",
       "      <td>['United States']</td>\n",
       "      <td>['Oregon State Mental Hospital - 2600 Center S...</td>\n",
       "      <td>['Fantasy Films', 'N.V. Zvaluw']</td>\n",
       "      <td>['English']</td>\n",
       "      <td>0</td>\n",
       "      <td>15</td>\n",
       "      <td>0</td>\n",
       "      <td>-0.030879</td>\n",
       "    </tr>\n",
       "    <tr>\n",
       "      <th>3</th>\n",
       "      <td>tt0072890</td>\n",
       "      <td>Dog Day Afternoon</td>\n",
       "      <td>https://www.imdb.com/title/tt0072890</td>\n",
       "      <td>1975</td>\n",
       "      <td>2h 5m</td>\n",
       "      <td>R</td>\n",
       "      <td>8.0</td>\n",
       "      <td>279K</td>\n",
       "      <td>1800000.0</td>\n",
       "      <td>50002721.0</td>\n",
       "      <td>...</td>\n",
       "      <td>['Al Pacino', 'John Cazale', 'Penelope Allen']</td>\n",
       "      <td>['Heist', 'True Crime', 'Biography', 'Crime', ...</td>\n",
       "      <td>['United States']</td>\n",
       "      <td>['285 Prospect Park West, Brooklyn, New York C...</td>\n",
       "      <td>['Warner Bros.', 'Artists Entertainment Complex']</td>\n",
       "      <td>['English']</td>\n",
       "      <td>0</td>\n",
       "      <td>20</td>\n",
       "      <td>0</td>\n",
       "      <td>-0.031055</td>\n",
       "    </tr>\n",
       "    <tr>\n",
       "      <th>4</th>\n",
       "      <td>tt0073692</td>\n",
       "      <td>Shampoo</td>\n",
       "      <td>https://www.imdb.com/title/tt0073692</td>\n",
       "      <td>1975</td>\n",
       "      <td>1h 50m</td>\n",
       "      <td>R</td>\n",
       "      <td>6.4</td>\n",
       "      <td>15K</td>\n",
       "      <td>4000000.0</td>\n",
       "      <td>49407734.0</td>\n",
       "      <td>...</td>\n",
       "      <td>['Warren Beatty', 'Julie Christie', 'Goldie Ha...</td>\n",
       "      <td>['Satire', 'Comedy', 'Drama']</td>\n",
       "      <td>['United States']</td>\n",
       "      <td>['2270 Bowmont Drive, Beverly Hills, Californi...</td>\n",
       "      <td>['Persky-Bright / Vista', 'Columbia Pictures',...</td>\n",
       "      <td>['English']</td>\n",
       "      <td>0</td>\n",
       "      <td>11</td>\n",
       "      <td>0</td>\n",
       "      <td>-0.030731</td>\n",
       "    </tr>\n",
       "  </tbody>\n",
       "</table>\n",
       "<p>5 rows × 24 columns</p>\n",
       "</div>"
      ],
      "text/plain": [
       "          id                            Title  \\\n",
       "0  tt0073195                             Jaws   \n",
       "1  tt0073629    The Rocky Horror Picture Show   \n",
       "2  tt0073486  One Flew Over the Cuckoo's Nest   \n",
       "3  tt0072890                Dog Day Afternoon   \n",
       "4  tt0073692                          Shampoo   \n",
       "\n",
       "                             Movie Link  Year Duration MPA  Rating Votes  \\\n",
       "0  https://www.imdb.com/title/tt0073195  1975    2h 4m  PG     8.1  683K   \n",
       "1  https://www.imdb.com/title/tt0073629  1975   1h 40m   R     7.4  173K   \n",
       "2  https://www.imdb.com/title/tt0073486  1975   2h 13m   R     8.7  1.1M   \n",
       "3  https://www.imdb.com/title/tt0072890  1975    2h 5m   R     8.0  279K   \n",
       "4  https://www.imdb.com/title/tt0073692  1975   1h 50m   R     6.4   15K   \n",
       "\n",
       "      budget  grossWorldWide  ...  \\\n",
       "0  7000000.0     477220580.0  ...   \n",
       "1  1200000.0     115798478.0  ...   \n",
       "2  3000000.0     109115366.0  ...   \n",
       "3  1800000.0      50002721.0  ...   \n",
       "4  4000000.0      49407734.0  ...   \n",
       "\n",
       "                                               stars  \\\n",
       "0  ['Roy Scheider', 'Robert Shaw', 'Richard Dreyf...   \n",
       "1  ['Tim Curry', 'Susan Sarandon', 'Barry Bostwick']   \n",
       "2  ['Jack Nicholson', 'Louise Fletcher', 'Michael...   \n",
       "3     ['Al Pacino', 'John Cazale', 'Penelope Allen']   \n",
       "4  ['Warren Beatty', 'Julie Christie', 'Goldie Ha...   \n",
       "\n",
       "                                              genres  \\\n",
       "0  ['Monster Horror', 'Sea Adventure', 'Survival'...   \n",
       "1  ['Dark Comedy', 'Raunchy Comedy', 'Rock Musica...   \n",
       "2  ['Medical Drama', 'Psychological Drama', 'Drama']   \n",
       "3  ['Heist', 'True Crime', 'Biography', 'Crime', ...   \n",
       "4                      ['Satire', 'Comedy', 'Drama']   \n",
       "\n",
       "                      countries_origin  \\\n",
       "0                    ['United States']   \n",
       "1  ['United Kingdom', 'United States']   \n",
       "2                    ['United States']   \n",
       "3                    ['United States']   \n",
       "4                    ['United States']   \n",
       "\n",
       "                                   filming_locations  \\\n",
       "0  [\"Water Street, Edgartown, Martha's Vineyard, ...   \n",
       "1  ['Oakley Court, Windsor Road, Oakley Green, Wi...   \n",
       "2  ['Oregon State Mental Hospital - 2600 Center S...   \n",
       "3  ['285 Prospect Park West, Brooklyn, New York C...   \n",
       "4  ['2270 Bowmont Drive, Beverly Hills, Californi...   \n",
       "\n",
       "                                production_companies    Languages wins  \\\n",
       "0  ['Zanuck/Brown Productions', 'Universal Pictur...  ['English']    0   \n",
       "1  ['Twentieth Century Fox', 'Michael White Produ...  ['English']    0   \n",
       "2                   ['Fantasy Films', 'N.V. Zvaluw']  ['English']    0   \n",
       "3  ['Warner Bros.', 'Artists Entertainment Complex']  ['English']    0   \n",
       "4  ['Persky-Bright / Vista', 'Columbia Pictures',...  ['English']    0   \n",
       "\n",
       "  nominations oscars   z_score  \n",
       "0          20      0 -0.030290  \n",
       "1           4      0 -0.031143  \n",
       "2          15      0 -0.030879  \n",
       "3          20      0 -0.031055  \n",
       "4          11      0 -0.030731  \n",
       "\n",
       "[5 rows x 24 columns]"
      ]
     },
     "execution_count": 91,
     "metadata": {},
     "output_type": "execute_result"
    }
   ],
   "source": [
    "df.head()"
   ]
  },
  {
   "cell_type": "code",
   "execution_count": 92,
   "id": "2121c42e-53a8-4229-b867-4b39ac39a0f8",
   "metadata": {},
   "outputs": [
    {
     "data": {
      "text/plain": [
       "(33600, 24)"
      ]
     },
     "execution_count": 92,
     "metadata": {},
     "output_type": "execute_result"
    }
   ],
   "source": [
    "df.shape"
   ]
  },
  {
   "cell_type": "code",
   "execution_count": 93,
   "id": "410aa73b-8108-494c-81a6-810b417ebd7f",
   "metadata": {},
   "outputs": [],
   "source": [
    "df = df[df['z_score']<3]"
   ]
  },
  {
   "cell_type": "code",
   "execution_count": 94,
   "id": "e1e8bebc-6df2-45f9-8049-3b63180907a6",
   "metadata": {},
   "outputs": [
    {
     "data": {
      "text/plain": [
       "(33567, 24)"
      ]
     },
     "execution_count": 94,
     "metadata": {},
     "output_type": "execute_result"
    }
   ],
   "source": [
    "df.shape"
   ]
  },
  {
   "cell_type": "code",
   "execution_count": 95,
   "id": "4a7125a5-8b63-48da-ad81-eefdd6d6e4e6",
   "metadata": {},
   "outputs": [
    {
     "data": {
      "text/plain": [
       "33"
      ]
     },
     "execution_count": 95,
     "metadata": {},
     "output_type": "execute_result"
    }
   ],
   "source": [
    "33600-33567"
   ]
  },
  {
   "cell_type": "code",
   "execution_count": 96,
   "id": "120b955c-c497-4bf1-9898-a7ffaeb814f3",
   "metadata": {},
   "outputs": [
    {
     "data": {
      "text/plain": [
       "0.09821428571428573"
      ]
     },
     "execution_count": 96,
     "metadata": {},
     "output_type": "execute_result"
    }
   ],
   "source": [
    "33/33600*100"
   ]
  },
  {
   "cell_type": "code",
   "execution_count": 97,
   "id": "9bd04f85-d867-4793-86c4-6729e4857515",
   "metadata": {},
   "outputs": [
    {
     "data": {
      "text/plain": [
       "count    3.356700e+04\n",
       "mean     4.740592e+07\n",
       "std      5.484825e+08\n",
       "min      1.000000e+00\n",
       "25%      6.000000e+05\n",
       "50%      3.000000e+06\n",
       "75%      1.300000e+07\n",
       "max      1.900000e+10\n",
       "Name: budget, dtype: float64"
      ]
     },
     "execution_count": 97,
     "metadata": {},
     "output_type": "execute_result"
    }
   ],
   "source": [
    "df['budget'].describe()"
   ]
  },
  {
   "cell_type": "code",
   "execution_count": 98,
   "id": "90787eac-30b0-4380-9b00-7645ffd3f431",
   "metadata": {},
   "outputs": [
    {
     "data": {
      "text/plain": [
       "19000000000.0"
      ]
     },
     "execution_count": 98,
     "metadata": {},
     "output_type": "execute_result"
    }
   ],
   "source": [
    "import math\n",
    "1.9*math.pow(10,10)"
   ]
  },
  {
   "cell_type": "code",
   "execution_count": 99,
   "id": "5dcf4384-84f9-44e6-92a4-26f2d8bbfa6a",
   "metadata": {},
   "outputs": [
    {
     "data": {
      "text/plain": [
       "6.333333333333334"
      ]
     },
     "execution_count": 99,
     "metadata": {},
     "output_type": "execute_result"
    }
   ],
   "source": [
    "1900/30000*100"
   ]
  },
  {
   "cell_type": "code",
   "execution_count": 100,
   "id": "368ce7a3-e017-4b78-b286-e8bdd5f8e89a",
   "metadata": {},
   "outputs": [
    {
     "data": {
      "text/plain": [
       "<Axes: xlabel='budget'>"
      ]
     },
     "execution_count": 100,
     "metadata": {},
     "output_type": "execute_result"
    },
    {
     "data": {
      "image/png": "[encoded data removed]",
      "text/plain": [
       "<Figure size 640x480 with 1 Axes>"
      ]
     },
     "metadata": {},
     "output_type": "display_data"
    }
   ],
   "source": [
    "sns.boxplot(x='budget',data=df)"
   ]
  },
  {
   "cell_type": "code",
   "execution_count": 101,
   "id": "9949bfa7-c7c1-4a66-bdbf-cbe3714af848",
   "metadata": {},
   "outputs": [
    {
     "name": "stderr",
     "output_type": "stream",
     "text": [
      "C:\\Users\\saini\\AppData\\Local\\Temp\\ipykernel_9256\\1352556383.py:1: UserWarning: \n",
      "\n",
      "`distplot` is a deprecated function and will be removed in seaborn v0.14.0.\n",
      "\n",
      "Please adapt your code to use either `displot` (a figure-level function with\n",
      "similar flexibility) or `histplot` (an axes-level function for histograms).\n",
      "\n",
      "For a guide to updating your code to use the new functions, please see\n",
      "https://gist.github.com/mwaskom/de44147ed2974457ad6372750bbe5751\n",
      "\n",
      "  sns.distplot(df['budget'])\n"
     ]
    },
    {
     "data": {
      "text/plain": [
       "<Axes: xlabel='budget', ylabel='Density'>"
      ]
     },
     "execution_count": 101,
     "metadata": {},
     "output_type": "execute_result"
    },
    {
     "data": {
      "image/png": "[encoded data removed]",
      "text/plain": [
       "<Figure size 640x480 with 1 Axes>"
      ]
     },
     "metadata": {},
     "output_type": "display_data"
    }
   ],
   "source": [
    "sns.distplot(df['budget'])"
   ]
  },
  {
   "cell_type": "code",
   "execution_count": null,
   "id": "9b660a15-2cde-428c-a3b1-9b14d65aad24",
   "metadata": {},
   "outputs": [],
   "source": []
  }
 ],
 "metadata": {
  "kernelspec": {
   "display_name": "Python 3 (ipykernel)",
   "language": "python",
   "name": "python3"
  },
  "language_info": {
   "codemirror_mode": {
    "name": "ipython",
    "version": 3
   },
   "file_extension": ".py",
   "mimetype": "text/x-python",
   "name": "python",
   "nbconvert_exporter": "python",
   "pygments_lexer": "ipython3",
   "version": "3.12.5"
  }
 },
 "nbformat": 4,
 "nbformat_minor": 5
}
