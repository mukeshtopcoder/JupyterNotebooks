{
 "cells": [
  {
   "cell_type": "code",
   "execution_count": 1,
   "id": "b7ffd198-83e4-4306-88ea-c5c3bb9fce0b",
   "metadata": {},
   "outputs": [],
   "source": [
    "import pandas as pd"
   ]
  },
  {
   "cell_type": "code",
   "execution_count": 210,
   "id": "1334ab71-ece1-4cf9-b71c-4d846fde3502",
   "metadata": {},
   "outputs": [],
   "source": [
    "df = pd.read_csv(\"C:/Users/saini/OneDrive/Desktop/final_dataset.csv\")"
   ]
  },
  {
   "cell_type": "code",
   "execution_count": 211,
   "id": "0f12f06a-11c5-4db7-ad01-6c85095e36a2",
   "metadata": {},
   "outputs": [
    {
     "data": {
      "text/plain": [
       "(33600, 23)"
      ]
     },
     "execution_count": 211,
     "metadata": {},
     "output_type": "execute_result"
    }
   ],
   "source": [
    "df.shape"
   ]
  },
  {
   "cell_type": "code",
   "execution_count": 8,
   "id": "bb42b6f3-f680-47c3-994f-789ae2b251c8",
   "metadata": {},
   "outputs": [],
   "source": [
    "df2 = pd.read_excel(\"C:/Users/saini/OneDrive/Desktop/Ecomm.xlsx\")"
   ]
  },
  {
   "cell_type": "code",
   "execution_count": 10,
   "id": "86794c46-a368-4775-a7af-6f7aee37a192",
   "metadata": {},
   "outputs": [
    {
     "data": {
      "text/plain": [
       "(24, 12)"
      ]
     },
     "execution_count": 10,
     "metadata": {},
     "output_type": "execute_result"
    }
   ],
   "source": [
    "df2.shape"
   ]
  },
  {
   "cell_type": "code",
   "execution_count": 212,
   "id": "0eda8259-4f78-4561-9983-76c98a0f21f8",
   "metadata": {},
   "outputs": [
    {
     "data": {
      "text/plain": [
       "id                           0\n",
       "Title                        0\n",
       "Movie Link                   0\n",
       "Year                         0\n",
       "Duration                   221\n",
       "MPA                       7976\n",
       "Rating                     138\n",
       "Votes                      138\n",
       "budget                   21785\n",
       "grossWorldWide           15378\n",
       "gross_US_Canada          16029\n",
       "opening_weekend_Gross    18077\n",
       "directors                  359\n",
       "writers                   1576\n",
       "stars                      473\n",
       "genres                     382\n",
       "countries_origin           366\n",
       "filming_locations         6729\n",
       "production_companies      1378\n",
       "Languages                  474\n",
       "wins                         0\n",
       "nominations                  0\n",
       "oscars                       0\n",
       "dtype: int64"
      ]
     },
     "execution_count": 212,
     "metadata": {},
     "output_type": "execute_result"
    }
   ],
   "source": [
    "df1.isnull().sum()"
   ]
  },
  {
   "cell_type": "code",
   "execution_count": 213,
   "id": "6723df6f-223d-4cd8-a25f-074990719998",
   "metadata": {},
   "outputs": [
    {
     "data": {
      "text/html": [
       "<div>\n",
       "<style scoped>\n",
       "    .dataframe tbody tr th:only-of-type {\n",
       "        vertical-align: middle;\n",
       "    }\n",
       "\n",
       "    .dataframe tbody tr th {\n",
       "        vertical-align: top;\n",
       "    }\n",
       "\n",
       "    .dataframe thead th {\n",
       "        text-align: right;\n",
       "    }\n",
       "</style>\n",
       "<table border=\"1\" class=\"dataframe\">\n",
       "  <thead>\n",
       "    <tr style=\"text-align: right;\">\n",
       "      <th></th>\n",
       "      <th>id</th>\n",
       "      <th>Title</th>\n",
       "      <th>Movie Link</th>\n",
       "      <th>Year</th>\n",
       "      <th>Duration</th>\n",
       "      <th>MPA</th>\n",
       "      <th>Rating</th>\n",
       "      <th>Votes</th>\n",
       "      <th>budget</th>\n",
       "      <th>grossWorldWide</th>\n",
       "      <th>...</th>\n",
       "      <th>writers</th>\n",
       "      <th>stars</th>\n",
       "      <th>genres</th>\n",
       "      <th>countries_origin</th>\n",
       "      <th>filming_locations</th>\n",
       "      <th>production_companies</th>\n",
       "      <th>Languages</th>\n",
       "      <th>wins</th>\n",
       "      <th>nominations</th>\n",
       "      <th>oscars</th>\n",
       "    </tr>\n",
       "  </thead>\n",
       "  <tbody>\n",
       "    <tr>\n",
       "      <th>0</th>\n",
       "      <td>tt0073195</td>\n",
       "      <td>Jaws</td>\n",
       "      <td>https://www.imdb.com/title/tt0073195</td>\n",
       "      <td>1975</td>\n",
       "      <td>2h 4m</td>\n",
       "      <td>PG</td>\n",
       "      <td>8.1</td>\n",
       "      <td>683K</td>\n",
       "      <td>7000000.0</td>\n",
       "      <td>477220580.0</td>\n",
       "      <td>...</td>\n",
       "      <td>['Peter Benchley', 'Carl Gottlieb']</td>\n",
       "      <td>['Roy Scheider', 'Robert Shaw', 'Richard Dreyf...</td>\n",
       "      <td>['Monster Horror', 'Sea Adventure', 'Survival'...</td>\n",
       "      <td>['United States']</td>\n",
       "      <td>[\"Water Street, Edgartown, Martha's Vineyard, ...</td>\n",
       "      <td>['Zanuck/Brown Productions', 'Universal Pictur...</td>\n",
       "      <td>['English']</td>\n",
       "      <td>0</td>\n",
       "      <td>20</td>\n",
       "      <td>0</td>\n",
       "    </tr>\n",
       "    <tr>\n",
       "      <th>1</th>\n",
       "      <td>tt0073629</td>\n",
       "      <td>The Rocky Horror Picture Show</td>\n",
       "      <td>https://www.imdb.com/title/tt0073629</td>\n",
       "      <td>1975</td>\n",
       "      <td>1h 40m</td>\n",
       "      <td>R</td>\n",
       "      <td>7.4</td>\n",
       "      <td>173K</td>\n",
       "      <td>1200000.0</td>\n",
       "      <td>115798478.0</td>\n",
       "      <td>...</td>\n",
       "      <td>[\"Richard O'Brien\", 'Jim Sharman']</td>\n",
       "      <td>['Tim Curry', 'Susan Sarandon', 'Barry Bostwick']</td>\n",
       "      <td>['Dark Comedy', 'Raunchy Comedy', 'Rock Musica...</td>\n",
       "      <td>['United Kingdom', 'United States']</td>\n",
       "      <td>['Oakley Court, Windsor Road, Oakley Green, Wi...</td>\n",
       "      <td>['Twentieth Century Fox', 'Michael White Produ...</td>\n",
       "      <td>['English']</td>\n",
       "      <td>0</td>\n",
       "      <td>4</td>\n",
       "      <td>0</td>\n",
       "    </tr>\n",
       "    <tr>\n",
       "      <th>2</th>\n",
       "      <td>tt0073486</td>\n",
       "      <td>One Flew Over the Cuckoo's Nest</td>\n",
       "      <td>https://www.imdb.com/title/tt0073486</td>\n",
       "      <td>1975</td>\n",
       "      <td>2h 13m</td>\n",
       "      <td>R</td>\n",
       "      <td>8.7</td>\n",
       "      <td>1.1M</td>\n",
       "      <td>3000000.0</td>\n",
       "      <td>109115366.0</td>\n",
       "      <td>...</td>\n",
       "      <td>['Lawrence Hauben', 'Bo Goldman', 'Ken Kesey']</td>\n",
       "      <td>['Jack Nicholson', 'Louise Fletcher', 'Michael...</td>\n",
       "      <td>['Medical Drama', 'Psychological Drama', 'Drama']</td>\n",
       "      <td>['United States']</td>\n",
       "      <td>['Oregon State Mental Hospital - 2600 Center S...</td>\n",
       "      <td>['Fantasy Films', 'N.V. Zvaluw']</td>\n",
       "      <td>['English']</td>\n",
       "      <td>0</td>\n",
       "      <td>15</td>\n",
       "      <td>0</td>\n",
       "    </tr>\n",
       "    <tr>\n",
       "      <th>3</th>\n",
       "      <td>tt0072890</td>\n",
       "      <td>Dog Day Afternoon</td>\n",
       "      <td>https://www.imdb.com/title/tt0072890</td>\n",
       "      <td>1975</td>\n",
       "      <td>2h 5m</td>\n",
       "      <td>R</td>\n",
       "      <td>8.0</td>\n",
       "      <td>279K</td>\n",
       "      <td>1800000.0</td>\n",
       "      <td>50002721.0</td>\n",
       "      <td>...</td>\n",
       "      <td>['Frank Pierson', 'P.F. Kluge', 'Thomas Moore']</td>\n",
       "      <td>['Al Pacino', 'John Cazale', 'Penelope Allen']</td>\n",
       "      <td>['Heist', 'True Crime', 'Biography', 'Crime', ...</td>\n",
       "      <td>['United States']</td>\n",
       "      <td>['285 Prospect Park West, Brooklyn, New York C...</td>\n",
       "      <td>['Warner Bros.', 'Artists Entertainment Complex']</td>\n",
       "      <td>['English']</td>\n",
       "      <td>0</td>\n",
       "      <td>20</td>\n",
       "      <td>0</td>\n",
       "    </tr>\n",
       "    <tr>\n",
       "      <th>4</th>\n",
       "      <td>tt0073692</td>\n",
       "      <td>Shampoo</td>\n",
       "      <td>https://www.imdb.com/title/tt0073692</td>\n",
       "      <td>1975</td>\n",
       "      <td>1h 50m</td>\n",
       "      <td>R</td>\n",
       "      <td>6.4</td>\n",
       "      <td>15K</td>\n",
       "      <td>4000000.0</td>\n",
       "      <td>49407734.0</td>\n",
       "      <td>...</td>\n",
       "      <td>['Robert Towne', 'Warren Beatty']</td>\n",
       "      <td>['Warren Beatty', 'Julie Christie', 'Goldie Ha...</td>\n",
       "      <td>['Satire', 'Comedy', 'Drama']</td>\n",
       "      <td>['United States']</td>\n",
       "      <td>['2270 Bowmont Drive, Beverly Hills, Californi...</td>\n",
       "      <td>['Persky-Bright / Vista', 'Columbia Pictures',...</td>\n",
       "      <td>['English']</td>\n",
       "      <td>0</td>\n",
       "      <td>11</td>\n",
       "      <td>0</td>\n",
       "    </tr>\n",
       "  </tbody>\n",
       "</table>\n",
       "<p>5 rows × 23 columns</p>\n",
       "</div>"
      ],
      "text/plain": [
       "          id                            Title  \\\n",
       "0  tt0073195                             Jaws   \n",
       "1  tt0073629    The Rocky Horror Picture Show   \n",
       "2  tt0073486  One Flew Over the Cuckoo's Nest   \n",
       "3  tt0072890                Dog Day Afternoon   \n",
       "4  tt0073692                          Shampoo   \n",
       "\n",
       "                             Movie Link  Year Duration MPA  Rating Votes  \\\n",
       "0  https://www.imdb.com/title/tt0073195  1975    2h 4m  PG     8.1  683K   \n",
       "1  https://www.imdb.com/title/tt0073629  1975   1h 40m   R     7.4  173K   \n",
       "2  https://www.imdb.com/title/tt0073486  1975   2h 13m   R     8.7  1.1M   \n",
       "3  https://www.imdb.com/title/tt0072890  1975    2h 5m   R     8.0  279K   \n",
       "4  https://www.imdb.com/title/tt0073692  1975   1h 50m   R     6.4   15K   \n",
       "\n",
       "      budget  grossWorldWide  ...  \\\n",
       "0  7000000.0     477220580.0  ...   \n",
       "1  1200000.0     115798478.0  ...   \n",
       "2  3000000.0     109115366.0  ...   \n",
       "3  1800000.0      50002721.0  ...   \n",
       "4  4000000.0      49407734.0  ...   \n",
       "\n",
       "                                           writers  \\\n",
       "0              ['Peter Benchley', 'Carl Gottlieb']   \n",
       "1               [\"Richard O'Brien\", 'Jim Sharman']   \n",
       "2   ['Lawrence Hauben', 'Bo Goldman', 'Ken Kesey']   \n",
       "3  ['Frank Pierson', 'P.F. Kluge', 'Thomas Moore']   \n",
       "4                ['Robert Towne', 'Warren Beatty']   \n",
       "\n",
       "                                               stars  \\\n",
       "0  ['Roy Scheider', 'Robert Shaw', 'Richard Dreyf...   \n",
       "1  ['Tim Curry', 'Susan Sarandon', 'Barry Bostwick']   \n",
       "2  ['Jack Nicholson', 'Louise Fletcher', 'Michael...   \n",
       "3     ['Al Pacino', 'John Cazale', 'Penelope Allen']   \n",
       "4  ['Warren Beatty', 'Julie Christie', 'Goldie Ha...   \n",
       "\n",
       "                                              genres  \\\n",
       "0  ['Monster Horror', 'Sea Adventure', 'Survival'...   \n",
       "1  ['Dark Comedy', 'Raunchy Comedy', 'Rock Musica...   \n",
       "2  ['Medical Drama', 'Psychological Drama', 'Drama']   \n",
       "3  ['Heist', 'True Crime', 'Biography', 'Crime', ...   \n",
       "4                      ['Satire', 'Comedy', 'Drama']   \n",
       "\n",
       "                      countries_origin  \\\n",
       "0                    ['United States']   \n",
       "1  ['United Kingdom', 'United States']   \n",
       "2                    ['United States']   \n",
       "3                    ['United States']   \n",
       "4                    ['United States']   \n",
       "\n",
       "                                   filming_locations  \\\n",
       "0  [\"Water Street, Edgartown, Martha's Vineyard, ...   \n",
       "1  ['Oakley Court, Windsor Road, Oakley Green, Wi...   \n",
       "2  ['Oregon State Mental Hospital - 2600 Center S...   \n",
       "3  ['285 Prospect Park West, Brooklyn, New York C...   \n",
       "4  ['2270 Bowmont Drive, Beverly Hills, Californi...   \n",
       "\n",
       "                                production_companies    Languages wins  \\\n",
       "0  ['Zanuck/Brown Productions', 'Universal Pictur...  ['English']    0   \n",
       "1  ['Twentieth Century Fox', 'Michael White Produ...  ['English']    0   \n",
       "2                   ['Fantasy Films', 'N.V. Zvaluw']  ['English']    0   \n",
       "3  ['Warner Bros.', 'Artists Entertainment Complex']  ['English']    0   \n",
       "4  ['Persky-Bright / Vista', 'Columbia Pictures',...  ['English']    0   \n",
       "\n",
       "  nominations oscars  \n",
       "0          20      0  \n",
       "1           4      0  \n",
       "2          15      0  \n",
       "3          20      0  \n",
       "4          11      0  \n",
       "\n",
       "[5 rows x 23 columns]"
      ]
     },
     "execution_count": 213,
     "metadata": {},
     "output_type": "execute_result"
    }
   ],
   "source": [
    "df1.head()"
   ]
  },
  {
   "cell_type": "code",
   "execution_count": 214,
   "id": "42d8f2df-941e-4125-90ae-f5ba7e9ff5ef",
   "metadata": {},
   "outputs": [
    {
     "data": {
      "text/plain": [
       "Index(['id', 'Title', 'Movie Link', 'Year', 'Duration', 'MPA', 'Rating',\n",
       "       'Votes', 'budget', 'grossWorldWide', 'gross_US_Canada',\n",
       "       'opening_weekend_Gross', 'directors', 'writers', 'stars', 'genres',\n",
       "       'countries_origin', 'filming_locations', 'production_companies',\n",
       "       'Languages', 'wins', 'nominations', 'oscars'],\n",
       "      dtype='object')"
      ]
     },
     "execution_count": 214,
     "metadata": {},
     "output_type": "execute_result"
    }
   ],
   "source": [
    "df.columns"
   ]
  },
  {
   "cell_type": "code",
   "execution_count": 215,
   "id": "3de83323-aa0a-46c3-b789-8ad8f476832e",
   "metadata": {},
   "outputs": [],
   "source": [
    "df=df.drop(columns=['id','Title','Movie Link','writers','stars','filming_locations','production_companies'])"
   ]
  },
  {
   "cell_type": "code",
   "execution_count": 216,
   "id": "6b256421-e1da-425a-b7d5-13fe626ae23d",
   "metadata": {},
   "outputs": [
    {
     "data": {
      "text/html": [
       "<div>\n",
       "<style scoped>\n",
       "    .dataframe tbody tr th:only-of-type {\n",
       "        vertical-align: middle;\n",
       "    }\n",
       "\n",
       "    .dataframe tbody tr th {\n",
       "        vertical-align: top;\n",
       "    }\n",
       "\n",
       "    .dataframe thead th {\n",
       "        text-align: right;\n",
       "    }\n",
       "</style>\n",
       "<table border=\"1\" class=\"dataframe\">\n",
       "  <thead>\n",
       "    <tr style=\"text-align: right;\">\n",
       "      <th></th>\n",
       "      <th>Year</th>\n",
       "      <th>Duration</th>\n",
       "      <th>MPA</th>\n",
       "      <th>Rating</th>\n",
       "      <th>Votes</th>\n",
       "      <th>budget</th>\n",
       "      <th>grossWorldWide</th>\n",
       "      <th>gross_US_Canada</th>\n",
       "      <th>opening_weekend_Gross</th>\n",
       "      <th>directors</th>\n",
       "      <th>genres</th>\n",
       "      <th>countries_origin</th>\n",
       "      <th>Languages</th>\n",
       "      <th>wins</th>\n",
       "      <th>nominations</th>\n",
       "      <th>oscars</th>\n",
       "    </tr>\n",
       "  </thead>\n",
       "  <tbody>\n",
       "    <tr>\n",
       "      <th>0</th>\n",
       "      <td>1975</td>\n",
       "      <td>2h 4m</td>\n",
       "      <td>PG</td>\n",
       "      <td>8.1</td>\n",
       "      <td>683K</td>\n",
       "      <td>7000000.0</td>\n",
       "      <td>477220580.0</td>\n",
       "      <td>266567580.0</td>\n",
       "      <td>7061513.0</td>\n",
       "      <td>['Steven Spielberg']</td>\n",
       "      <td>['Monster Horror', 'Sea Adventure', 'Survival'...</td>\n",
       "      <td>['United States']</td>\n",
       "      <td>['English']</td>\n",
       "      <td>0</td>\n",
       "      <td>20</td>\n",
       "      <td>0</td>\n",
       "    </tr>\n",
       "    <tr>\n",
       "      <th>1</th>\n",
       "      <td>1975</td>\n",
       "      <td>1h 40m</td>\n",
       "      <td>R</td>\n",
       "      <td>7.4</td>\n",
       "      <td>173K</td>\n",
       "      <td>1200000.0</td>\n",
       "      <td>115798478.0</td>\n",
       "      <td>112892319.0</td>\n",
       "      <td>NaN</td>\n",
       "      <td>['Jim Sharman']</td>\n",
       "      <td>['Dark Comedy', 'Raunchy Comedy', 'Rock Musica...</td>\n",
       "      <td>['United Kingdom', 'United States']</td>\n",
       "      <td>['English']</td>\n",
       "      <td>0</td>\n",
       "      <td>4</td>\n",
       "      <td>0</td>\n",
       "    </tr>\n",
       "    <tr>\n",
       "      <th>2</th>\n",
       "      <td>1975</td>\n",
       "      <td>2h 13m</td>\n",
       "      <td>R</td>\n",
       "      <td>8.7</td>\n",
       "      <td>1.1M</td>\n",
       "      <td>3000000.0</td>\n",
       "      <td>109115366.0</td>\n",
       "      <td>108981275.0</td>\n",
       "      <td>NaN</td>\n",
       "      <td>['Milos Forman']</td>\n",
       "      <td>['Medical Drama', 'Psychological Drama', 'Drama']</td>\n",
       "      <td>['United States']</td>\n",
       "      <td>['English']</td>\n",
       "      <td>0</td>\n",
       "      <td>15</td>\n",
       "      <td>0</td>\n",
       "    </tr>\n",
       "    <tr>\n",
       "      <th>3</th>\n",
       "      <td>1975</td>\n",
       "      <td>2h 5m</td>\n",
       "      <td>R</td>\n",
       "      <td>8.0</td>\n",
       "      <td>279K</td>\n",
       "      <td>1800000.0</td>\n",
       "      <td>50002721.0</td>\n",
       "      <td>50000000.0</td>\n",
       "      <td>NaN</td>\n",
       "      <td>['Sidney Lumet']</td>\n",
       "      <td>['Heist', 'True Crime', 'Biography', 'Crime', ...</td>\n",
       "      <td>['United States']</td>\n",
       "      <td>['English']</td>\n",
       "      <td>0</td>\n",
       "      <td>20</td>\n",
       "      <td>0</td>\n",
       "    </tr>\n",
       "    <tr>\n",
       "      <th>4</th>\n",
       "      <td>1975</td>\n",
       "      <td>1h 50m</td>\n",
       "      <td>R</td>\n",
       "      <td>6.4</td>\n",
       "      <td>15K</td>\n",
       "      <td>4000000.0</td>\n",
       "      <td>49407734.0</td>\n",
       "      <td>49407734.0</td>\n",
       "      <td>NaN</td>\n",
       "      <td>['Hal Ashby']</td>\n",
       "      <td>['Satire', 'Comedy', 'Drama']</td>\n",
       "      <td>['United States']</td>\n",
       "      <td>['English']</td>\n",
       "      <td>0</td>\n",
       "      <td>11</td>\n",
       "      <td>0</td>\n",
       "    </tr>\n",
       "  </tbody>\n",
       "</table>\n",
       "</div>"
      ],
      "text/plain": [
       "   Year Duration MPA  Rating Votes     budget  grossWorldWide  \\\n",
       "0  1975    2h 4m  PG     8.1  683K  7000000.0     477220580.0   \n",
       "1  1975   1h 40m   R     7.4  173K  1200000.0     115798478.0   \n",
       "2  1975   2h 13m   R     8.7  1.1M  3000000.0     109115366.0   \n",
       "3  1975    2h 5m   R     8.0  279K  1800000.0      50002721.0   \n",
       "4  1975   1h 50m   R     6.4   15K  4000000.0      49407734.0   \n",
       "\n",
       "   gross_US_Canada  opening_weekend_Gross             directors  \\\n",
       "0      266567580.0              7061513.0  ['Steven Spielberg']   \n",
       "1      112892319.0                    NaN       ['Jim Sharman']   \n",
       "2      108981275.0                    NaN      ['Milos Forman']   \n",
       "3       50000000.0                    NaN      ['Sidney Lumet']   \n",
       "4       49407734.0                    NaN         ['Hal Ashby']   \n",
       "\n",
       "                                              genres  \\\n",
       "0  ['Monster Horror', 'Sea Adventure', 'Survival'...   \n",
       "1  ['Dark Comedy', 'Raunchy Comedy', 'Rock Musica...   \n",
       "2  ['Medical Drama', 'Psychological Drama', 'Drama']   \n",
       "3  ['Heist', 'True Crime', 'Biography', 'Crime', ...   \n",
       "4                      ['Satire', 'Comedy', 'Drama']   \n",
       "\n",
       "                      countries_origin    Languages  wins  nominations  oscars  \n",
       "0                    ['United States']  ['English']     0           20       0  \n",
       "1  ['United Kingdom', 'United States']  ['English']     0            4       0  \n",
       "2                    ['United States']  ['English']     0           15       0  \n",
       "3                    ['United States']  ['English']     0           20       0  \n",
       "4                    ['United States']  ['English']     0           11       0  "
      ]
     },
     "execution_count": 216,
     "metadata": {},
     "output_type": "execute_result"
    }
   ],
   "source": [
    "df.head()"
   ]
  },
  {
   "cell_type": "code",
   "execution_count": 217,
   "id": "2048920e-19a2-495e-aee0-89449e03b2f2",
   "metadata": {},
   "outputs": [],
   "source": [
    "df = df.drop(columns=['directors'])"
   ]
  },
  {
   "cell_type": "code",
   "execution_count": 218,
   "id": "6044a567-ac7c-4ec4-9a9d-b9241e93ba03",
   "metadata": {},
   "outputs": [
    {
     "data": {
      "text/html": [
       "<div>\n",
       "<style scoped>\n",
       "    .dataframe tbody tr th:only-of-type {\n",
       "        vertical-align: middle;\n",
       "    }\n",
       "\n",
       "    .dataframe tbody tr th {\n",
       "        vertical-align: top;\n",
       "    }\n",
       "\n",
       "    .dataframe thead th {\n",
       "        text-align: right;\n",
       "    }\n",
       "</style>\n",
       "<table border=\"1\" class=\"dataframe\">\n",
       "  <thead>\n",
       "    <tr style=\"text-align: right;\">\n",
       "      <th></th>\n",
       "      <th>Year</th>\n",
       "      <th>Duration</th>\n",
       "      <th>MPA</th>\n",
       "      <th>Rating</th>\n",
       "      <th>Votes</th>\n",
       "      <th>budget</th>\n",
       "      <th>grossWorldWide</th>\n",
       "      <th>gross_US_Canada</th>\n",
       "      <th>opening_weekend_Gross</th>\n",
       "      <th>genres</th>\n",
       "      <th>countries_origin</th>\n",
       "      <th>Languages</th>\n",
       "      <th>wins</th>\n",
       "      <th>nominations</th>\n",
       "      <th>oscars</th>\n",
       "    </tr>\n",
       "  </thead>\n",
       "  <tbody>\n",
       "    <tr>\n",
       "      <th>0</th>\n",
       "      <td>1975</td>\n",
       "      <td>2h 4m</td>\n",
       "      <td>PG</td>\n",
       "      <td>8.1</td>\n",
       "      <td>683K</td>\n",
       "      <td>7000000.0</td>\n",
       "      <td>477220580.0</td>\n",
       "      <td>266567580.0</td>\n",
       "      <td>7061513.0</td>\n",
       "      <td>['Monster Horror', 'Sea Adventure', 'Survival'...</td>\n",
       "      <td>['United States']</td>\n",
       "      <td>['English']</td>\n",
       "      <td>0</td>\n",
       "      <td>20</td>\n",
       "      <td>0</td>\n",
       "    </tr>\n",
       "    <tr>\n",
       "      <th>1</th>\n",
       "      <td>1975</td>\n",
       "      <td>1h 40m</td>\n",
       "      <td>R</td>\n",
       "      <td>7.4</td>\n",
       "      <td>173K</td>\n",
       "      <td>1200000.0</td>\n",
       "      <td>115798478.0</td>\n",
       "      <td>112892319.0</td>\n",
       "      <td>NaN</td>\n",
       "      <td>['Dark Comedy', 'Raunchy Comedy', 'Rock Musica...</td>\n",
       "      <td>['United Kingdom', 'United States']</td>\n",
       "      <td>['English']</td>\n",
       "      <td>0</td>\n",
       "      <td>4</td>\n",
       "      <td>0</td>\n",
       "    </tr>\n",
       "    <tr>\n",
       "      <th>2</th>\n",
       "      <td>1975</td>\n",
       "      <td>2h 13m</td>\n",
       "      <td>R</td>\n",
       "      <td>8.7</td>\n",
       "      <td>1.1M</td>\n",
       "      <td>3000000.0</td>\n",
       "      <td>109115366.0</td>\n",
       "      <td>108981275.0</td>\n",
       "      <td>NaN</td>\n",
       "      <td>['Medical Drama', 'Psychological Drama', 'Drama']</td>\n",
       "      <td>['United States']</td>\n",
       "      <td>['English']</td>\n",
       "      <td>0</td>\n",
       "      <td>15</td>\n",
       "      <td>0</td>\n",
       "    </tr>\n",
       "    <tr>\n",
       "      <th>3</th>\n",
       "      <td>1975</td>\n",
       "      <td>2h 5m</td>\n",
       "      <td>R</td>\n",
       "      <td>8.0</td>\n",
       "      <td>279K</td>\n",
       "      <td>1800000.0</td>\n",
       "      <td>50002721.0</td>\n",
       "      <td>50000000.0</td>\n",
       "      <td>NaN</td>\n",
       "      <td>['Heist', 'True Crime', 'Biography', 'Crime', ...</td>\n",
       "      <td>['United States']</td>\n",
       "      <td>['English']</td>\n",
       "      <td>0</td>\n",
       "      <td>20</td>\n",
       "      <td>0</td>\n",
       "    </tr>\n",
       "    <tr>\n",
       "      <th>4</th>\n",
       "      <td>1975</td>\n",
       "      <td>1h 50m</td>\n",
       "      <td>R</td>\n",
       "      <td>6.4</td>\n",
       "      <td>15K</td>\n",
       "      <td>4000000.0</td>\n",
       "      <td>49407734.0</td>\n",
       "      <td>49407734.0</td>\n",
       "      <td>NaN</td>\n",
       "      <td>['Satire', 'Comedy', 'Drama']</td>\n",
       "      <td>['United States']</td>\n",
       "      <td>['English']</td>\n",
       "      <td>0</td>\n",
       "      <td>11</td>\n",
       "      <td>0</td>\n",
       "    </tr>\n",
       "  </tbody>\n",
       "</table>\n",
       "</div>"
      ],
      "text/plain": [
       "   Year Duration MPA  Rating Votes     budget  grossWorldWide  \\\n",
       "0  1975    2h 4m  PG     8.1  683K  7000000.0     477220580.0   \n",
       "1  1975   1h 40m   R     7.4  173K  1200000.0     115798478.0   \n",
       "2  1975   2h 13m   R     8.7  1.1M  3000000.0     109115366.0   \n",
       "3  1975    2h 5m   R     8.0  279K  1800000.0      50002721.0   \n",
       "4  1975   1h 50m   R     6.4   15K  4000000.0      49407734.0   \n",
       "\n",
       "   gross_US_Canada  opening_weekend_Gross  \\\n",
       "0      266567580.0              7061513.0   \n",
       "1      112892319.0                    NaN   \n",
       "2      108981275.0                    NaN   \n",
       "3       50000000.0                    NaN   \n",
       "4       49407734.0                    NaN   \n",
       "\n",
       "                                              genres  \\\n",
       "0  ['Monster Horror', 'Sea Adventure', 'Survival'...   \n",
       "1  ['Dark Comedy', 'Raunchy Comedy', 'Rock Musica...   \n",
       "2  ['Medical Drama', 'Psychological Drama', 'Drama']   \n",
       "3  ['Heist', 'True Crime', 'Biography', 'Crime', ...   \n",
       "4                      ['Satire', 'Comedy', 'Drama']   \n",
       "\n",
       "                      countries_origin    Languages  wins  nominations  oscars  \n",
       "0                    ['United States']  ['English']     0           20       0  \n",
       "1  ['United Kingdom', 'United States']  ['English']     0            4       0  \n",
       "2                    ['United States']  ['English']     0           15       0  \n",
       "3                    ['United States']  ['English']     0           20       0  \n",
       "4                    ['United States']  ['English']     0           11       0  "
      ]
     },
     "execution_count": 218,
     "metadata": {},
     "output_type": "execute_result"
    }
   ],
   "source": [
    "df.head()"
   ]
  },
  {
   "cell_type": "code",
   "execution_count": 219,
   "id": "0ee549ab-ad8c-44b1-86eb-15ad896bb880",
   "metadata": {},
   "outputs": [
    {
     "data": {
      "text/plain": [
       "(33600, 15)"
      ]
     },
     "execution_count": 219,
     "metadata": {},
     "output_type": "execute_result"
    }
   ],
   "source": [
    "df.shape"
   ]
  },
  {
   "cell_type": "code",
   "execution_count": 220,
   "id": "c5b639a9-8219-457b-ac4e-8828046063e8",
   "metadata": {},
   "outputs": [
    {
     "data": {
      "text/plain": [
       "Year                         0\n",
       "Duration                   221\n",
       "MPA                       7976\n",
       "Rating                     138\n",
       "Votes                      138\n",
       "budget                   21785\n",
       "grossWorldWide           15378\n",
       "gross_US_Canada          16029\n",
       "opening_weekend_Gross    18077\n",
       "genres                     382\n",
       "countries_origin           366\n",
       "Languages                  474\n",
       "wins                         0\n",
       "nominations                  0\n",
       "oscars                       0\n",
       "dtype: int64"
      ]
     },
     "execution_count": 220,
     "metadata": {},
     "output_type": "execute_result"
    }
   ],
   "source": [
    "df.isnull().sum()"
   ]
  },
  {
   "cell_type": "code",
   "execution_count": 221,
   "id": "94f22201-334c-4414-a148-dc2b3c6ed5b4",
   "metadata": {},
   "outputs": [],
   "source": [
    "df = df.ffill()"
   ]
  },
  {
   "cell_type": "code",
   "execution_count": 222,
   "id": "97447531-2fa2-439f-b629-eee54772d34a",
   "metadata": {},
   "outputs": [
    {
     "data": {
      "text/plain": [
       "Year                     0\n",
       "Duration                 0\n",
       "MPA                      0\n",
       "Rating                   0\n",
       "Votes                    0\n",
       "budget                   0\n",
       "grossWorldWide           0\n",
       "gross_US_Canada          0\n",
       "opening_weekend_Gross    0\n",
       "genres                   0\n",
       "countries_origin         0\n",
       "Languages                0\n",
       "wins                     0\n",
       "nominations              0\n",
       "oscars                   0\n",
       "dtype: int64"
      ]
     },
     "execution_count": 222,
     "metadata": {},
     "output_type": "execute_result"
    }
   ],
   "source": [
    "df.isnull().sum()"
   ]
  },
  {
   "cell_type": "code",
   "execution_count": 223,
   "id": "18746b1d-4f17-4516-a021-2b34af186ea5",
   "metadata": {},
   "outputs": [
    {
     "data": {
      "text/html": [
       "<div>\n",
       "<style scoped>\n",
       "    .dataframe tbody tr th:only-of-type {\n",
       "        vertical-align: middle;\n",
       "    }\n",
       "\n",
       "    .dataframe tbody tr th {\n",
       "        vertical-align: top;\n",
       "    }\n",
       "\n",
       "    .dataframe thead th {\n",
       "        text-align: right;\n",
       "    }\n",
       "</style>\n",
       "<table border=\"1\" class=\"dataframe\">\n",
       "  <thead>\n",
       "    <tr style=\"text-align: right;\">\n",
       "      <th></th>\n",
       "      <th>Year</th>\n",
       "      <th>Duration</th>\n",
       "      <th>MPA</th>\n",
       "      <th>Rating</th>\n",
       "      <th>Votes</th>\n",
       "      <th>budget</th>\n",
       "      <th>grossWorldWide</th>\n",
       "      <th>gross_US_Canada</th>\n",
       "      <th>opening_weekend_Gross</th>\n",
       "      <th>genres</th>\n",
       "      <th>countries_origin</th>\n",
       "      <th>Languages</th>\n",
       "      <th>wins</th>\n",
       "      <th>nominations</th>\n",
       "      <th>oscars</th>\n",
       "    </tr>\n",
       "  </thead>\n",
       "  <tbody>\n",
       "    <tr>\n",
       "      <th>0</th>\n",
       "      <td>1975</td>\n",
       "      <td>2h 4m</td>\n",
       "      <td>PG</td>\n",
       "      <td>8.1</td>\n",
       "      <td>683K</td>\n",
       "      <td>7000000.0</td>\n",
       "      <td>477220580.0</td>\n",
       "      <td>266567580.0</td>\n",
       "      <td>7061513.0</td>\n",
       "      <td>['Monster Horror', 'Sea Adventure', 'Survival'...</td>\n",
       "      <td>['United States']</td>\n",
       "      <td>['English']</td>\n",
       "      <td>0</td>\n",
       "      <td>20</td>\n",
       "      <td>0</td>\n",
       "    </tr>\n",
       "    <tr>\n",
       "      <th>1</th>\n",
       "      <td>1975</td>\n",
       "      <td>1h 40m</td>\n",
       "      <td>R</td>\n",
       "      <td>7.4</td>\n",
       "      <td>173K</td>\n",
       "      <td>1200000.0</td>\n",
       "      <td>115798478.0</td>\n",
       "      <td>112892319.0</td>\n",
       "      <td>7061513.0</td>\n",
       "      <td>['Dark Comedy', 'Raunchy Comedy', 'Rock Musica...</td>\n",
       "      <td>['United Kingdom', 'United States']</td>\n",
       "      <td>['English']</td>\n",
       "      <td>0</td>\n",
       "      <td>4</td>\n",
       "      <td>0</td>\n",
       "    </tr>\n",
       "    <tr>\n",
       "      <th>2</th>\n",
       "      <td>1975</td>\n",
       "      <td>2h 13m</td>\n",
       "      <td>R</td>\n",
       "      <td>8.7</td>\n",
       "      <td>1.1M</td>\n",
       "      <td>3000000.0</td>\n",
       "      <td>109115366.0</td>\n",
       "      <td>108981275.0</td>\n",
       "      <td>7061513.0</td>\n",
       "      <td>['Medical Drama', 'Psychological Drama', 'Drama']</td>\n",
       "      <td>['United States']</td>\n",
       "      <td>['English']</td>\n",
       "      <td>0</td>\n",
       "      <td>15</td>\n",
       "      <td>0</td>\n",
       "    </tr>\n",
       "    <tr>\n",
       "      <th>3</th>\n",
       "      <td>1975</td>\n",
       "      <td>2h 5m</td>\n",
       "      <td>R</td>\n",
       "      <td>8.0</td>\n",
       "      <td>279K</td>\n",
       "      <td>1800000.0</td>\n",
       "      <td>50002721.0</td>\n",
       "      <td>50000000.0</td>\n",
       "      <td>7061513.0</td>\n",
       "      <td>['Heist', 'True Crime', 'Biography', 'Crime', ...</td>\n",
       "      <td>['United States']</td>\n",
       "      <td>['English']</td>\n",
       "      <td>0</td>\n",
       "      <td>20</td>\n",
       "      <td>0</td>\n",
       "    </tr>\n",
       "    <tr>\n",
       "      <th>4</th>\n",
       "      <td>1975</td>\n",
       "      <td>1h 50m</td>\n",
       "      <td>R</td>\n",
       "      <td>6.4</td>\n",
       "      <td>15K</td>\n",
       "      <td>4000000.0</td>\n",
       "      <td>49407734.0</td>\n",
       "      <td>49407734.0</td>\n",
       "      <td>7061513.0</td>\n",
       "      <td>['Satire', 'Comedy', 'Drama']</td>\n",
       "      <td>['United States']</td>\n",
       "      <td>['English']</td>\n",
       "      <td>0</td>\n",
       "      <td>11</td>\n",
       "      <td>0</td>\n",
       "    </tr>\n",
       "  </tbody>\n",
       "</table>\n",
       "</div>"
      ],
      "text/plain": [
       "   Year Duration MPA  Rating Votes     budget  grossWorldWide  \\\n",
       "0  1975    2h 4m  PG     8.1  683K  7000000.0     477220580.0   \n",
       "1  1975   1h 40m   R     7.4  173K  1200000.0     115798478.0   \n",
       "2  1975   2h 13m   R     8.7  1.1M  3000000.0     109115366.0   \n",
       "3  1975    2h 5m   R     8.0  279K  1800000.0      50002721.0   \n",
       "4  1975   1h 50m   R     6.4   15K  4000000.0      49407734.0   \n",
       "\n",
       "   gross_US_Canada  opening_weekend_Gross  \\\n",
       "0      266567580.0              7061513.0   \n",
       "1      112892319.0              7061513.0   \n",
       "2      108981275.0              7061513.0   \n",
       "3       50000000.0              7061513.0   \n",
       "4       49407734.0              7061513.0   \n",
       "\n",
       "                                              genres  \\\n",
       "0  ['Monster Horror', 'Sea Adventure', 'Survival'...   \n",
       "1  ['Dark Comedy', 'Raunchy Comedy', 'Rock Musica...   \n",
       "2  ['Medical Drama', 'Psychological Drama', 'Drama']   \n",
       "3  ['Heist', 'True Crime', 'Biography', 'Crime', ...   \n",
       "4                      ['Satire', 'Comedy', 'Drama']   \n",
       "\n",
       "                      countries_origin    Languages  wins  nominations  oscars  \n",
       "0                    ['United States']  ['English']     0           20       0  \n",
       "1  ['United Kingdom', 'United States']  ['English']     0            4       0  \n",
       "2                    ['United States']  ['English']     0           15       0  \n",
       "3                    ['United States']  ['English']     0           20       0  \n",
       "4                    ['United States']  ['English']     0           11       0  "
      ]
     },
     "execution_count": 223,
     "metadata": {},
     "output_type": "execute_result"
    }
   ],
   "source": [
    "df.head()"
   ]
  },
  {
   "cell_type": "code",
   "execution_count": 224,
   "id": "aaf935f9-bd25-41bf-a54f-b15b277eb77d",
   "metadata": {},
   "outputs": [
    {
     "data": {
      "text/plain": [
       "0         2h 4m\n",
       "1        1h 40m\n",
       "2        2h 13m\n",
       "3         2h 5m\n",
       "4        1h 50m\n",
       "          ...  \n",
       "33595     2h 7m\n",
       "33596    1h 25m\n",
       "33597    1h 31m\n",
       "33598    1h 30m\n",
       "33599    1h 18m\n",
       "Name: Duration, Length: 33600, dtype: object"
      ]
     },
     "execution_count": 224,
     "metadata": {},
     "output_type": "execute_result"
    }
   ],
   "source": [
    "df[\"Duration\"].ffill()"
   ]
  },
  {
   "cell_type": "code",
   "execution_count": 225,
   "id": "53356850-326c-474f-be2a-931fe3d42cee",
   "metadata": {},
   "outputs": [
    {
     "data": {
      "text/html": [
       "<div>\n",
       "<style scoped>\n",
       "    .dataframe tbody tr th:only-of-type {\n",
       "        vertical-align: middle;\n",
       "    }\n",
       "\n",
       "    .dataframe tbody tr th {\n",
       "        vertical-align: top;\n",
       "    }\n",
       "\n",
       "    .dataframe thead th {\n",
       "        text-align: right;\n",
       "    }\n",
       "</style>\n",
       "<table border=\"1\" class=\"dataframe\">\n",
       "  <thead>\n",
       "    <tr style=\"text-align: right;\">\n",
       "      <th></th>\n",
       "      <th>Year</th>\n",
       "      <th>Duration</th>\n",
       "      <th>MPA</th>\n",
       "      <th>Rating</th>\n",
       "      <th>Votes</th>\n",
       "      <th>budget</th>\n",
       "      <th>grossWorldWide</th>\n",
       "      <th>gross_US_Canada</th>\n",
       "      <th>opening_weekend_Gross</th>\n",
       "      <th>genres</th>\n",
       "      <th>countries_origin</th>\n",
       "      <th>Languages</th>\n",
       "      <th>wins</th>\n",
       "      <th>nominations</th>\n",
       "      <th>oscars</th>\n",
       "    </tr>\n",
       "  </thead>\n",
       "  <tbody>\n",
       "    <tr>\n",
       "      <th>0</th>\n",
       "      <td>1975</td>\n",
       "      <td>2h 4m</td>\n",
       "      <td>PG</td>\n",
       "      <td>8.1</td>\n",
       "      <td>683K</td>\n",
       "      <td>7000000.0</td>\n",
       "      <td>477220580.0</td>\n",
       "      <td>266567580.0</td>\n",
       "      <td>7061513.0</td>\n",
       "      <td>['Monster Horror', 'Sea Adventure', 'Survival'...</td>\n",
       "      <td>['United States']</td>\n",
       "      <td>['English']</td>\n",
       "      <td>0</td>\n",
       "      <td>20</td>\n",
       "      <td>0</td>\n",
       "    </tr>\n",
       "    <tr>\n",
       "      <th>1</th>\n",
       "      <td>1975</td>\n",
       "      <td>1h 40m</td>\n",
       "      <td>R</td>\n",
       "      <td>7.4</td>\n",
       "      <td>173K</td>\n",
       "      <td>1200000.0</td>\n",
       "      <td>115798478.0</td>\n",
       "      <td>112892319.0</td>\n",
       "      <td>7061513.0</td>\n",
       "      <td>['Dark Comedy', 'Raunchy Comedy', 'Rock Musica...</td>\n",
       "      <td>['United Kingdom', 'United States']</td>\n",
       "      <td>['English']</td>\n",
       "      <td>0</td>\n",
       "      <td>4</td>\n",
       "      <td>0</td>\n",
       "    </tr>\n",
       "    <tr>\n",
       "      <th>2</th>\n",
       "      <td>1975</td>\n",
       "      <td>2h 13m</td>\n",
       "      <td>R</td>\n",
       "      <td>8.7</td>\n",
       "      <td>1.1M</td>\n",
       "      <td>3000000.0</td>\n",
       "      <td>109115366.0</td>\n",
       "      <td>108981275.0</td>\n",
       "      <td>7061513.0</td>\n",
       "      <td>['Medical Drama', 'Psychological Drama', 'Drama']</td>\n",
       "      <td>['United States']</td>\n",
       "      <td>['English']</td>\n",
       "      <td>0</td>\n",
       "      <td>15</td>\n",
       "      <td>0</td>\n",
       "    </tr>\n",
       "    <tr>\n",
       "      <th>3</th>\n",
       "      <td>1975</td>\n",
       "      <td>2h 5m</td>\n",
       "      <td>R</td>\n",
       "      <td>8.0</td>\n",
       "      <td>279K</td>\n",
       "      <td>1800000.0</td>\n",
       "      <td>50002721.0</td>\n",
       "      <td>50000000.0</td>\n",
       "      <td>7061513.0</td>\n",
       "      <td>['Heist', 'True Crime', 'Biography', 'Crime', ...</td>\n",
       "      <td>['United States']</td>\n",
       "      <td>['English']</td>\n",
       "      <td>0</td>\n",
       "      <td>20</td>\n",
       "      <td>0</td>\n",
       "    </tr>\n",
       "    <tr>\n",
       "      <th>4</th>\n",
       "      <td>1975</td>\n",
       "      <td>1h 50m</td>\n",
       "      <td>R</td>\n",
       "      <td>6.4</td>\n",
       "      <td>15K</td>\n",
       "      <td>4000000.0</td>\n",
       "      <td>49407734.0</td>\n",
       "      <td>49407734.0</td>\n",
       "      <td>7061513.0</td>\n",
       "      <td>['Satire', 'Comedy', 'Drama']</td>\n",
       "      <td>['United States']</td>\n",
       "      <td>['English']</td>\n",
       "      <td>0</td>\n",
       "      <td>11</td>\n",
       "      <td>0</td>\n",
       "    </tr>\n",
       "  </tbody>\n",
       "</table>\n",
       "</div>"
      ],
      "text/plain": [
       "   Year Duration MPA  Rating Votes     budget  grossWorldWide  \\\n",
       "0  1975    2h 4m  PG     8.1  683K  7000000.0     477220580.0   \n",
       "1  1975   1h 40m   R     7.4  173K  1200000.0     115798478.0   \n",
       "2  1975   2h 13m   R     8.7  1.1M  3000000.0     109115366.0   \n",
       "3  1975    2h 5m   R     8.0  279K  1800000.0      50002721.0   \n",
       "4  1975   1h 50m   R     6.4   15K  4000000.0      49407734.0   \n",
       "\n",
       "   gross_US_Canada  opening_weekend_Gross  \\\n",
       "0      266567580.0              7061513.0   \n",
       "1      112892319.0              7061513.0   \n",
       "2      108981275.0              7061513.0   \n",
       "3       50000000.0              7061513.0   \n",
       "4       49407734.0              7061513.0   \n",
       "\n",
       "                                              genres  \\\n",
       "0  ['Monster Horror', 'Sea Adventure', 'Survival'...   \n",
       "1  ['Dark Comedy', 'Raunchy Comedy', 'Rock Musica...   \n",
       "2  ['Medical Drama', 'Psychological Drama', 'Drama']   \n",
       "3  ['Heist', 'True Crime', 'Biography', 'Crime', ...   \n",
       "4                      ['Satire', 'Comedy', 'Drama']   \n",
       "\n",
       "                      countries_origin    Languages  wins  nominations  oscars  \n",
       "0                    ['United States']  ['English']     0           20       0  \n",
       "1  ['United Kingdom', 'United States']  ['English']     0            4       0  \n",
       "2                    ['United States']  ['English']     0           15       0  \n",
       "3                    ['United States']  ['English']     0           20       0  \n",
       "4                    ['United States']  ['English']     0           11       0  "
      ]
     },
     "execution_count": 225,
     "metadata": {},
     "output_type": "execute_result"
    }
   ],
   "source": [
    "df.head()"
   ]
  },
  {
   "cell_type": "code",
   "execution_count": 226,
   "id": "c8e0cef3-ea39-4db7-970b-aab756826824",
   "metadata": {},
   "outputs": [
    {
     "data": {
      "text/plain": [
       "array([1975, 1977, 1966, 1970, 1982, 2020, 2012, 2017, 2011, 2013, 1969,\n",
       "       1983, 1984, 2019, 2004, 2005, 1961, 2007, 1980, 2024, 1991, 1989,\n",
       "       1990, 2010, 2002, 1978, 1963, 1967, 1987, 1995, 1962, 2022, 2006,\n",
       "       1979, 2014, 1974, 1976, 1999, 1998, 1986, 2023, 2009, 1981, 2015,\n",
       "       2021, 1968, 2016, 2001, 1985, 1996, 1973, 1964, 1965, 1972, 2008,\n",
       "       2003, 1997, 1960, 1993, 2018, 2000, 1994, 1992, 1971, 1988])"
      ]
     },
     "execution_count": 226,
     "metadata": {},
     "output_type": "execute_result"
    }
   ],
   "source": [
    "df[\"Year\"].unique()"
   ]
  },
  {
   "cell_type": "code",
   "execution_count": 227,
   "id": "194970f7-2ac6-4172-b27b-c63c2f359f8b",
   "metadata": {},
   "outputs": [
    {
     "data": {
      "text/plain": [
       "65"
      ]
     },
     "execution_count": 227,
     "metadata": {},
     "output_type": "execute_result"
    }
   ],
   "source": [
    "len(df[\"Year\"].unique())"
   ]
  },
  {
   "cell_type": "code",
   "execution_count": 228,
   "id": "4a259bed-0887-46da-9975-4e5bafd72adf",
   "metadata": {},
   "outputs": [
    {
     "data": {
      "text/plain": [
       "array(['PG', 'R', 'G', 'Not Rated', 'TV-MA', 'NC-17', 'Unrated', 'TV-14',\n",
       "       'X', 'PG-13', 'Approved', 'TV-PG', '16+', 'TV-Y7-FV', 'GP', 'M',\n",
       "       'M/PG', 'TV-G', '18+', 'TV-Y7', 'Passed', 'MA-17', '13+', 'TV-Y',\n",
       "       'TV-13', 'K-A'], dtype=object)"
      ]
     },
     "execution_count": 228,
     "metadata": {},
     "output_type": "execute_result"
    }
   ],
   "source": [
    "df[\"MPA\"].unique()"
   ]
  },
  {
   "cell_type": "code",
   "execution_count": 229,
   "id": "1ddab5c8-f9d9-4e09-a55c-9096b7868413",
   "metadata": {},
   "outputs": [
    {
     "data": {
      "text/plain": [
       "26"
      ]
     },
     "execution_count": 229,
     "metadata": {},
     "output_type": "execute_result"
    }
   ],
   "source": [
    "len(df[\"MPA\"].unique())"
   ]
  },
  {
   "cell_type": "code",
   "execution_count": 230,
   "id": "6b7f1892-6bfd-4c53-bb1f-c734af5017d9",
   "metadata": {},
   "outputs": [
    {
     "data": {
      "text/plain": [
       "230"
      ]
     },
     "execution_count": 230,
     "metadata": {},
     "output_type": "execute_result"
    }
   ],
   "source": [
    "len(df[\"Duration\"].unique())"
   ]
  },
  {
   "cell_type": "code",
   "execution_count": 231,
   "id": "edd27dd8-a90c-400a-a053-7933a4235548",
   "metadata": {},
   "outputs": [
    {
     "name": "stdout",
     "output_type": "stream",
     "text": [
      "<class 'pandas.core.frame.DataFrame'>\n",
      "RangeIndex: 33600 entries, 0 to 33599\n",
      "Data columns (total 15 columns):\n",
      " #   Column                 Non-Null Count  Dtype  \n",
      "---  ------                 --------------  -----  \n",
      " 0   Year                   33600 non-null  int64  \n",
      " 1   Duration               33600 non-null  object \n",
      " 2   MPA                    33600 non-null  object \n",
      " 3   Rating                 33600 non-null  float64\n",
      " 4   Votes                  33600 non-null  object \n",
      " 5   budget                 33600 non-null  float64\n",
      " 6   grossWorldWide         33600 non-null  float64\n",
      " 7   gross_US_Canada        33600 non-null  float64\n",
      " 8   opening_weekend_Gross  33600 non-null  float64\n",
      " 9   genres                 33600 non-null  object \n",
      " 10  countries_origin       33600 non-null  object \n",
      " 11  Languages              33600 non-null  object \n",
      " 12  wins                   33600 non-null  int64  \n",
      " 13  nominations            33600 non-null  int64  \n",
      " 14  oscars                 33600 non-null  int64  \n",
      "dtypes: float64(5), int64(4), object(6)\n",
      "memory usage: 3.8+ MB\n"
     ]
    }
   ],
   "source": [
    "df.info()"
   ]
  },
  {
   "cell_type": "code",
   "execution_count": 232,
   "id": "216cca17-784a-4fc8-929a-ca450dab239b",
   "metadata": {},
   "outputs": [
    {
     "data": {
      "text/html": [
       "<div>\n",
       "<style scoped>\n",
       "    .dataframe tbody tr th:only-of-type {\n",
       "        vertical-align: middle;\n",
       "    }\n",
       "\n",
       "    .dataframe tbody tr th {\n",
       "        vertical-align: top;\n",
       "    }\n",
       "\n",
       "    .dataframe thead th {\n",
       "        text-align: right;\n",
       "    }\n",
       "</style>\n",
       "<table border=\"1\" class=\"dataframe\">\n",
       "  <thead>\n",
       "    <tr style=\"text-align: right;\">\n",
       "      <th></th>\n",
       "      <th>Year</th>\n",
       "      <th>Duration</th>\n",
       "      <th>MPA</th>\n",
       "      <th>Rating</th>\n",
       "      <th>Votes</th>\n",
       "      <th>budget</th>\n",
       "      <th>grossWorldWide</th>\n",
       "      <th>gross_US_Canada</th>\n",
       "      <th>opening_weekend_Gross</th>\n",
       "      <th>genres</th>\n",
       "      <th>countries_origin</th>\n",
       "      <th>Languages</th>\n",
       "      <th>wins</th>\n",
       "      <th>nominations</th>\n",
       "      <th>oscars</th>\n",
       "    </tr>\n",
       "  </thead>\n",
       "  <tbody>\n",
       "    <tr>\n",
       "      <th>0</th>\n",
       "      <td>1975</td>\n",
       "      <td>2h 4m</td>\n",
       "      <td>PG</td>\n",
       "      <td>8.1</td>\n",
       "      <td>683K</td>\n",
       "      <td>7000000.0</td>\n",
       "      <td>477220580.0</td>\n",
       "      <td>266567580.0</td>\n",
       "      <td>7061513.0</td>\n",
       "      <td>['Monster Horror', 'Sea Adventure', 'Survival'...</td>\n",
       "      <td>['United States']</td>\n",
       "      <td>['English']</td>\n",
       "      <td>0</td>\n",
       "      <td>20</td>\n",
       "      <td>0</td>\n",
       "    </tr>\n",
       "    <tr>\n",
       "      <th>1</th>\n",
       "      <td>1975</td>\n",
       "      <td>1h 40m</td>\n",
       "      <td>R</td>\n",
       "      <td>7.4</td>\n",
       "      <td>173K</td>\n",
       "      <td>1200000.0</td>\n",
       "      <td>115798478.0</td>\n",
       "      <td>112892319.0</td>\n",
       "      <td>7061513.0</td>\n",
       "      <td>['Dark Comedy', 'Raunchy Comedy', 'Rock Musica...</td>\n",
       "      <td>['United Kingdom', 'United States']</td>\n",
       "      <td>['English']</td>\n",
       "      <td>0</td>\n",
       "      <td>4</td>\n",
       "      <td>0</td>\n",
       "    </tr>\n",
       "    <tr>\n",
       "      <th>2</th>\n",
       "      <td>1975</td>\n",
       "      <td>2h 13m</td>\n",
       "      <td>R</td>\n",
       "      <td>8.7</td>\n",
       "      <td>1.1M</td>\n",
       "      <td>3000000.0</td>\n",
       "      <td>109115366.0</td>\n",
       "      <td>108981275.0</td>\n",
       "      <td>7061513.0</td>\n",
       "      <td>['Medical Drama', 'Psychological Drama', 'Drama']</td>\n",
       "      <td>['United States']</td>\n",
       "      <td>['English']</td>\n",
       "      <td>0</td>\n",
       "      <td>15</td>\n",
       "      <td>0</td>\n",
       "    </tr>\n",
       "    <tr>\n",
       "      <th>3</th>\n",
       "      <td>1975</td>\n",
       "      <td>2h 5m</td>\n",
       "      <td>R</td>\n",
       "      <td>8.0</td>\n",
       "      <td>279K</td>\n",
       "      <td>1800000.0</td>\n",
       "      <td>50002721.0</td>\n",
       "      <td>50000000.0</td>\n",
       "      <td>7061513.0</td>\n",
       "      <td>['Heist', 'True Crime', 'Biography', 'Crime', ...</td>\n",
       "      <td>['United States']</td>\n",
       "      <td>['English']</td>\n",
       "      <td>0</td>\n",
       "      <td>20</td>\n",
       "      <td>0</td>\n",
       "    </tr>\n",
       "    <tr>\n",
       "      <th>4</th>\n",
       "      <td>1975</td>\n",
       "      <td>1h 50m</td>\n",
       "      <td>R</td>\n",
       "      <td>6.4</td>\n",
       "      <td>15K</td>\n",
       "      <td>4000000.0</td>\n",
       "      <td>49407734.0</td>\n",
       "      <td>49407734.0</td>\n",
       "      <td>7061513.0</td>\n",
       "      <td>['Satire', 'Comedy', 'Drama']</td>\n",
       "      <td>['United States']</td>\n",
       "      <td>['English']</td>\n",
       "      <td>0</td>\n",
       "      <td>11</td>\n",
       "      <td>0</td>\n",
       "    </tr>\n",
       "  </tbody>\n",
       "</table>\n",
       "</div>"
      ],
      "text/plain": [
       "   Year Duration MPA  Rating Votes     budget  grossWorldWide  \\\n",
       "0  1975    2h 4m  PG     8.1  683K  7000000.0     477220580.0   \n",
       "1  1975   1h 40m   R     7.4  173K  1200000.0     115798478.0   \n",
       "2  1975   2h 13m   R     8.7  1.1M  3000000.0     109115366.0   \n",
       "3  1975    2h 5m   R     8.0  279K  1800000.0      50002721.0   \n",
       "4  1975   1h 50m   R     6.4   15K  4000000.0      49407734.0   \n",
       "\n",
       "   gross_US_Canada  opening_weekend_Gross  \\\n",
       "0      266567580.0              7061513.0   \n",
       "1      112892319.0              7061513.0   \n",
       "2      108981275.0              7061513.0   \n",
       "3       50000000.0              7061513.0   \n",
       "4       49407734.0              7061513.0   \n",
       "\n",
       "                                              genres  \\\n",
       "0  ['Monster Horror', 'Sea Adventure', 'Survival'...   \n",
       "1  ['Dark Comedy', 'Raunchy Comedy', 'Rock Musica...   \n",
       "2  ['Medical Drama', 'Psychological Drama', 'Drama']   \n",
       "3  ['Heist', 'True Crime', 'Biography', 'Crime', ...   \n",
       "4                      ['Satire', 'Comedy', 'Drama']   \n",
       "\n",
       "                      countries_origin    Languages  wins  nominations  oscars  \n",
       "0                    ['United States']  ['English']     0           20       0  \n",
       "1  ['United Kingdom', 'United States']  ['English']     0            4       0  \n",
       "2                    ['United States']  ['English']     0           15       0  \n",
       "3                    ['United States']  ['English']     0           20       0  \n",
       "4                    ['United States']  ['English']     0           11       0  "
      ]
     },
     "execution_count": 232,
     "metadata": {},
     "output_type": "execute_result"
    }
   ],
   "source": [
    "df.head()"
   ]
  },
  {
   "cell_type": "code",
   "execution_count": 233,
   "id": "f9bb4400-3ad5-4982-b5cd-46b731f601f0",
   "metadata": {
    "scrolled": true
   },
   "outputs": [
    {
     "data": {
      "text/plain": [
       "array(['2h 4m', '1h 40m', '2h 13m', '2h 5m', '1h 50m', '1h 53m', '2h 16m',\n",
       "       '1h 51m', '1h 57m', '1h 58m', '1h 47m', '1h 25m', '1h 37m',\n",
       "       '2h 1m', '2h 9m', '1h 59m', '1h 44m', '2h 40m', '1h 39m', '1h 31m',\n",
       "       '1h 46m', '2h 6m', '1h 24m', '1h 55m', '1h 35m', '1h 49m',\n",
       "       '1h 56m', '1h 48m', '1h 36m', '3h 5m', '1h 20m', '1h 29m',\n",
       "       '1h 38m', '1h 28m', '2h 7m', '3h 22m', '1h 30m', '1h 27m',\n",
       "       '1h 33m', '2h 22m', '1h 45m', '2h 42m', '2h 24m', '2h 20m',\n",
       "       '1h 23m', '2h 54m', '1h 52m', '1h 42m', '2h', '2h 2m', '1h 34m',\n",
       "       '1h 32m', '1h 15m', '2h 12m', '1h 43m', '2h 32m', '1h 41m',\n",
       "       '1h 14m', '1h 26m', '2h 26m', '2h 15m', '2h 30m', '2h 10m',\n",
       "       '1h 22m', '1h 16m', '1h 21m', '1h 13m', '53m', '1h 19m', '3h 50m',\n",
       "       '2h 38m', '2h 25m', '2h 43m', '2h 50m', '2h 36m', '1h 1m',\n",
       "       '1h 18m', '2h 39m', '2h 19m', '1h 7m', '2h 11m', '1h 54m',\n",
       "       '1h 17m', '1h 9m', '2h 3m', '2h 33m', '2h 57m', '1h 3m', '2h 35m',\n",
       "       '2h 23m', '1h 12m', '2h 18m', '2h 55m', '2h 8m', '2h 45m', '4h',\n",
       "       '2h 17m', '1h 10m', '3h 4m', '1h 11m', '1h 6m', '1h 8m', '2h 49m',\n",
       "       '2h 41m', '7h 22m', '1h 5m', '1h 2m', '2h 29m', '56m', '3h',\n",
       "       '2h 46m', '3h 53m', '2h 48m', '3h 2m', '2h 21m', '3h 30m',\n",
       "       '2h 58m', '3h 9m', '2h 14m', '2h 56m', '59m', '2h 53m', '1h',\n",
       "       '48m', '2h 52m', '2h 28m', '55m', '50m', '2h 44m', '2h 34m', '47m',\n",
       "       '2h 27m', '2h 51m', '3h 11m', '3h 8m', '3h 3m', '3h 40m', '3h 14m',\n",
       "       '4h 15m', '2h 31m', '57m', '45m', '52m', '2h 37m', '2h 47m',\n",
       "       '3h 58m', '3h 17m', '4h 11m', '3h 52m', '4h 12m', '3h 36m',\n",
       "       '1h 4m', '3h 13m', '3h 1m', '3h 18m', '2h 59m', '3h 49m', '3h 7m',\n",
       "       '49m', '51m', '4h 30m', '3h 12m', '3h 6m', '3h 10m', '54m', '46m',\n",
       "       'PG-13', '3h 39m', '3h 33m', '3h 15m', '58m', '3h 21m', '3h 35m',\n",
       "       '4h 47m', '3h 57m', '43m', '3h 34m', '5h 35m', '3h 19m', '5h 10m',\n",
       "       '3h 55m', '4h 20m', '5h 20m', '25h', '5h 57m', '87h', '40m',\n",
       "       '3h 47m', '3h 25m', '3h 27m', '3h 16m', '3h 20m', '3h 41m',\n",
       "       '3h 44m', '48h', '5h 19m', '4h 6m', '5h 17m', '4h 4m', '4h 10m',\n",
       "       '3h 26m', '3h 24m', 'PG', '5h 16m', '5h 23m', '4h 48m', '3h 37m',\n",
       "       '4h 2m', '44m', '4h 44m', '9h 26m', '3h 59m', '8h 5m', '5h 21m',\n",
       "       '6h 33m', '3h 54m', '4h 7m', '6h 38m', '6h 14m', 'TV-G', '3h 28m',\n",
       "       '4h 14m', '4h 18m', 'X', '5h 25m', 'TV-14', '5h 45m', '7h 19m',\n",
       "       '12h 56m', '3h 23m'], dtype=object)"
      ]
     },
     "execution_count": 233,
     "metadata": {},
     "output_type": "execute_result"
    }
   ],
   "source": [
    "df[\"Duration\"].unique()"
   ]
  },
  {
   "cell_type": "code",
   "execution_count": 234,
   "id": "62371000-eae8-4896-888e-eaa6def52397",
   "metadata": {},
   "outputs": [
    {
     "data": {
      "text/plain": [
       "0    1h 30m\n",
       "Name: Duration, dtype: object"
      ]
     },
     "execution_count": 234,
     "metadata": {},
     "output_type": "execute_result"
    }
   ],
   "source": [
    "df[\"Duration\"].mode()"
   ]
  },
  {
   "cell_type": "code",
   "execution_count": 235,
   "id": "3dad3062-985a-4327-b2ee-cc10f1779c2e",
   "metadata": {},
   "outputs": [
    {
     "data": {
      "text/plain": [
       "'m'"
      ]
     },
     "execution_count": 235,
     "metadata": {},
     "output_type": "execute_result"
    }
   ],
   "source": [
    "df[\"Duration\"][1].split()[1][-1]"
   ]
  },
  {
   "cell_type": "code",
   "execution_count": 236,
   "id": "a10f3fa2-62e3-446e-98f7-f0ab74d8034a",
   "metadata": {},
   "outputs": [],
   "source": [
    "def updateDuration(value):\n",
    "    ar = value.split()\n",
    "    if(len(ar)==2):\n",
    "        if(ar[0][-1]=='h' and ar[1][-1]=='m'):\n",
    "            return value\n",
    "        else:\n",
    "            df[\"Duration\"].mode()[0]\n",
    "    else:\n",
    "        if(ar[0][-1]=='h'):\n",
    "            return ar[0]+\" 0m\"\n",
    "        elif(ar[0][-1]=='m'):\n",
    "            return \"0h \"+ar[0]\n",
    "        else:\n",
    "            return df[\"Duration\"].mode()[0]"
   ]
  },
  {
   "cell_type": "code",
   "execution_count": 237,
   "id": "57082c2f-afcc-4c17-833e-21222f1ef9e5",
   "metadata": {},
   "outputs": [],
   "source": [
    "df[\"Duration\"] = df[\"Duration\"].map(updateDuration)"
   ]
  },
  {
   "cell_type": "code",
   "execution_count": 238,
   "id": "45cd8576-ba8f-4f40-b677-7fdd099f6f86",
   "metadata": {},
   "outputs": [
    {
     "data": {
      "text/plain": [
       "array(['2h 4m', '1h 40m', '2h 13m', '2h 5m', '1h 50m', '1h 53m', '2h 16m',\n",
       "       '1h 51m', '1h 57m', '1h 58m', '1h 47m', '1h 25m', '1h 37m',\n",
       "       '2h 1m', '2h 9m', '1h 59m', '1h 44m', '2h 40m', '1h 39m', '1h 31m',\n",
       "       '1h 46m', '2h 6m', '1h 24m', '1h 55m', '1h 35m', '1h 49m',\n",
       "       '1h 56m', '1h 48m', '1h 36m', '3h 5m', '1h 20m', '1h 29m',\n",
       "       '1h 38m', '1h 28m', '2h 7m', '3h 22m', '1h 30m', '1h 27m',\n",
       "       '1h 33m', '2h 22m', '1h 45m', '2h 42m', '2h 24m', '2h 20m',\n",
       "       '1h 23m', '2h 54m', '1h 52m', '1h 42m', '2h 0m', '2h 2m', '1h 34m',\n",
       "       '1h 32m', '1h 15m', '2h 12m', '1h 43m', '2h 32m', '1h 41m',\n",
       "       '1h 14m', '1h 26m', '2h 26m', '2h 15m', '2h 30m', '2h 10m',\n",
       "       '1h 22m', '1h 16m', '1h 21m', '1h 13m', '0h 53m', '1h 19m',\n",
       "       '3h 50m', '2h 38m', '2h 25m', '2h 43m', '2h 50m', '2h 36m',\n",
       "       '1h 1m', '1h 18m', '2h 39m', '2h 19m', '1h 7m', '2h 11m', '1h 54m',\n",
       "       '1h 17m', '1h 9m', '2h 3m', '2h 33m', '2h 57m', '1h 3m', '2h 35m',\n",
       "       '2h 23m', '1h 12m', '2h 18m', '2h 55m', '2h 8m', '2h 45m', '4h 0m',\n",
       "       '2h 17m', '1h 10m', '3h 4m', '1h 11m', '1h 6m', '1h 8m', '2h 49m',\n",
       "       '2h 41m', '7h 22m', '1h 5m', '1h 2m', '2h 29m', '0h 56m', '3h 0m',\n",
       "       '2h 46m', '3h 53m', '2h 48m', '3h 2m', '2h 21m', '3h 30m',\n",
       "       '2h 58m', '3h 9m', '2h 14m', '2h 56m', '0h 59m', '2h 53m', '1h 0m',\n",
       "       '0h 48m', '2h 52m', '2h 28m', '0h 55m', '0h 50m', '2h 44m',\n",
       "       '2h 34m', '0h 47m', '2h 27m', '2h 51m', '3h 11m', '3h 8m', '3h 3m',\n",
       "       '3h 40m', '3h 14m', '4h 15m', '2h 31m', '0h 57m', '0h 45m',\n",
       "       '0h 52m', '2h 37m', '2h 47m', '3h 58m', '3h 17m', '4h 11m',\n",
       "       '3h 52m', '4h 12m', '3h 36m', '1h 4m', '3h 13m', '3h 1m', '3h 18m',\n",
       "       '2h 59m', '3h 49m', '3h 7m', '0h 49m', '0h 51m', '4h 30m',\n",
       "       '3h 12m', '3h 6m', '3h 10m', '0h 54m', '0h 46m', '3h 39m',\n",
       "       '3h 33m', '3h 15m', '0h 58m', '3h 21m', '3h 35m', '4h 47m',\n",
       "       '3h 57m', '0h 43m', '3h 34m', '5h 35m', '3h 19m', '5h 10m',\n",
       "       '3h 55m', '4h 20m', '5h 20m', '25h 0m', '5h 57m', '87h 0m',\n",
       "       '0h 40m', '3h 47m', '3h 25m', '3h 27m', '3h 16m', '3h 20m',\n",
       "       '3h 41m', '3h 44m', '48h 0m', '5h 19m', '4h 6m', '5h 17m', '4h 4m',\n",
       "       '4h 10m', '3h 26m', '3h 24m', '5h 16m', '5h 23m', '4h 48m',\n",
       "       '3h 37m', '4h 2m', '0h 44m', '4h 44m', '9h 26m', '3h 59m', '8h 5m',\n",
       "       '5h 21m', '6h 33m', '3h 54m', '4h 7m', '6h 38m', '6h 14m',\n",
       "       '3h 28m', '4h 14m', '4h 18m', '5h 25m', '5h 45m', '7h 19m',\n",
       "       '12h 56m', '3h 23m'], dtype=object)"
      ]
     },
     "execution_count": 238,
     "metadata": {},
     "output_type": "execute_result"
    }
   ],
   "source": [
    "df[\"Duration\"].unique()"
   ]
  },
  {
   "cell_type": "code",
   "execution_count": 239,
   "id": "a4b12744-88f0-40bd-866c-57697a4551fd",
   "metadata": {},
   "outputs": [
    {
     "data": {
      "text/plain": [
       "0     2h 4m\n",
       "1    1h 40m\n",
       "2    2h 13m\n",
       "3     2h 5m\n",
       "4    1h 50m\n",
       "Name: Duration, dtype: object"
      ]
     },
     "execution_count": 239,
     "metadata": {},
     "output_type": "execute_result"
    }
   ],
   "source": [
    "df[\"Duration\"].head()"
   ]
  },
  {
   "cell_type": "code",
   "execution_count": 240,
   "id": "0ef83948-04b1-4751-a356-70809f0d858f",
   "metadata": {},
   "outputs": [],
   "source": [
    "def convertTime(value):\n",
    "    ar = value.split()\n",
    "    for i in range(0,len(ar)):\n",
    "        ar[i]=ar[i][0:len(ar[i])-1]\n",
    "        if(len(ar[i])==1):\n",
    "            ar[i]=\"0\"+ar[i]\n",
    "    return ar[0]+\":\"+ar[1]"
   ]
  },
  {
   "cell_type": "code",
   "execution_count": 241,
   "id": "4b819c81-3410-4a83-a65f-c82dce896f25",
   "metadata": {},
   "outputs": [],
   "source": [
    "df[\"Duration\"] = df[\"Duration\"].map(convertTime)"
   ]
  },
  {
   "cell_type": "code",
   "execution_count": 242,
   "id": "daddd25f-0240-49ee-b444-399494a0ebe0",
   "metadata": {},
   "outputs": [
    {
     "data": {
      "text/plain": [
       "array(['02:04', '01:40', '02:13', '02:05', '01:50', '01:53', '02:16',\n",
       "       '01:51', '01:57', '01:58', '01:47', '01:25', '01:37', '02:01',\n",
       "       '02:09', '01:59', '01:44', '02:40', '01:39', '01:31', '01:46',\n",
       "       '02:06', '01:24', '01:55', '01:35', '01:49', '01:56', '01:48',\n",
       "       '01:36', '03:05', '01:20', '01:29', '01:38', '01:28', '02:07',\n",
       "       '03:22', '01:30', '01:27', '01:33', '02:22', '01:45', '02:42',\n",
       "       '02:24', '02:20', '01:23', '02:54', '01:52', '01:42', '02:00',\n",
       "       '02:02', '01:34', '01:32', '01:15', '02:12', '01:43', '02:32',\n",
       "       '01:41', '01:14', '01:26', '02:26', '02:15', '02:30', '02:10',\n",
       "       '01:22', '01:16', '01:21', '01:13', '00:53', '01:19', '03:50',\n",
       "       '02:38', '02:25', '02:43', '02:50', '02:36', '01:01', '01:18',\n",
       "       '02:39', '02:19', '01:07', '02:11', '01:54', '01:17', '01:09',\n",
       "       '02:03', '02:33', '02:57', '01:03', '02:35', '02:23', '01:12',\n",
       "       '02:18', '02:55', '02:08', '02:45', '04:00', '02:17', '01:10',\n",
       "       '03:04', '01:11', '01:06', '01:08', '02:49', '02:41', '07:22',\n",
       "       '01:05', '01:02', '02:29', '00:56', '03:00', '02:46', '03:53',\n",
       "       '02:48', '03:02', '02:21', '03:30', '02:58', '03:09', '02:14',\n",
       "       '02:56', '00:59', '02:53', '01:00', '00:48', '02:52', '02:28',\n",
       "       '00:55', '00:50', '02:44', '02:34', '00:47', '02:27', '02:51',\n",
       "       '03:11', '03:08', '03:03', '03:40', '03:14', '04:15', '02:31',\n",
       "       '00:57', '00:45', '00:52', '02:37', '02:47', '03:58', '03:17',\n",
       "       '04:11', '03:52', '04:12', '03:36', '01:04', '03:13', '03:01',\n",
       "       '03:18', '02:59', '03:49', '03:07', '00:49', '00:51', '04:30',\n",
       "       '03:12', '03:06', '03:10', '00:54', '00:46', '03:39', '03:33',\n",
       "       '03:15', '00:58', '03:21', '03:35', '04:47', '03:57', '00:43',\n",
       "       '03:34', '05:35', '03:19', '05:10', '03:55', '04:20', '05:20',\n",
       "       '25:00', '05:57', '87:00', '00:40', '03:47', '03:25', '03:27',\n",
       "       '03:16', '03:20', '03:41', '03:44', '48:00', '05:19', '04:06',\n",
       "       '05:17', '04:04', '04:10', '03:26', '03:24', '05:16', '05:23',\n",
       "       '04:48', '03:37', '04:02', '00:44', '04:44', '09:26', '03:59',\n",
       "       '08:05', '05:21', '06:33', '03:54', '04:07', '06:38', '06:14',\n",
       "       '03:28', '04:14', '04:18', '05:25', '05:45', '07:19', '12:56',\n",
       "       '03:23'], dtype=object)"
      ]
     },
     "execution_count": 242,
     "metadata": {},
     "output_type": "execute_result"
    }
   ],
   "source": [
    "df[\"Duration\"].unique()"
   ]
  },
  {
   "cell_type": "code",
   "execution_count": 243,
   "id": "d6a1b24f-d832-4bf8-aac2-cd6f46f721a1",
   "metadata": {},
   "outputs": [
    {
     "data": {
      "text/plain": [
       "0    02:04\n",
       "1    01:40\n",
       "2    02:13\n",
       "3    02:05\n",
       "4    01:50\n",
       "Name: Duration, dtype: object"
      ]
     },
     "execution_count": 243,
     "metadata": {},
     "output_type": "execute_result"
    }
   ],
   "source": [
    "df[\"Duration\"].head()"
   ]
  },
  {
   "cell_type": "code",
   "execution_count": 244,
   "id": "ccd5297d-1cf3-481f-a154-a6ccd76ca84b",
   "metadata": {},
   "outputs": [
    {
     "data": {
      "text/html": [
       "<div>\n",
       "<style scoped>\n",
       "    .dataframe tbody tr th:only-of-type {\n",
       "        vertical-align: middle;\n",
       "    }\n",
       "\n",
       "    .dataframe tbody tr th {\n",
       "        vertical-align: top;\n",
       "    }\n",
       "\n",
       "    .dataframe thead th {\n",
       "        text-align: right;\n",
       "    }\n",
       "</style>\n",
       "<table border=\"1\" class=\"dataframe\">\n",
       "  <thead>\n",
       "    <tr style=\"text-align: right;\">\n",
       "      <th></th>\n",
       "      <th>Year</th>\n",
       "      <th>Duration</th>\n",
       "      <th>MPA</th>\n",
       "      <th>Rating</th>\n",
       "      <th>Votes</th>\n",
       "      <th>budget</th>\n",
       "      <th>grossWorldWide</th>\n",
       "      <th>gross_US_Canada</th>\n",
       "      <th>opening_weekend_Gross</th>\n",
       "      <th>genres</th>\n",
       "      <th>countries_origin</th>\n",
       "      <th>Languages</th>\n",
       "      <th>wins</th>\n",
       "      <th>nominations</th>\n",
       "      <th>oscars</th>\n",
       "    </tr>\n",
       "  </thead>\n",
       "  <tbody>\n",
       "    <tr>\n",
       "      <th>0</th>\n",
       "      <td>1975</td>\n",
       "      <td>02:04</td>\n",
       "      <td>PG</td>\n",
       "      <td>8.1</td>\n",
       "      <td>683K</td>\n",
       "      <td>7000000.0</td>\n",
       "      <td>477220580.0</td>\n",
       "      <td>266567580.0</td>\n",
       "      <td>7061513.0</td>\n",
       "      <td>['Monster Horror', 'Sea Adventure', 'Survival'...</td>\n",
       "      <td>['United States']</td>\n",
       "      <td>['English']</td>\n",
       "      <td>0</td>\n",
       "      <td>20</td>\n",
       "      <td>0</td>\n",
       "    </tr>\n",
       "    <tr>\n",
       "      <th>1</th>\n",
       "      <td>1975</td>\n",
       "      <td>01:40</td>\n",
       "      <td>R</td>\n",
       "      <td>7.4</td>\n",
       "      <td>173K</td>\n",
       "      <td>1200000.0</td>\n",
       "      <td>115798478.0</td>\n",
       "      <td>112892319.0</td>\n",
       "      <td>7061513.0</td>\n",
       "      <td>['Dark Comedy', 'Raunchy Comedy', 'Rock Musica...</td>\n",
       "      <td>['United Kingdom', 'United States']</td>\n",
       "      <td>['English']</td>\n",
       "      <td>0</td>\n",
       "      <td>4</td>\n",
       "      <td>0</td>\n",
       "    </tr>\n",
       "    <tr>\n",
       "      <th>2</th>\n",
       "      <td>1975</td>\n",
       "      <td>02:13</td>\n",
       "      <td>R</td>\n",
       "      <td>8.7</td>\n",
       "      <td>1.1M</td>\n",
       "      <td>3000000.0</td>\n",
       "      <td>109115366.0</td>\n",
       "      <td>108981275.0</td>\n",
       "      <td>7061513.0</td>\n",
       "      <td>['Medical Drama', 'Psychological Drama', 'Drama']</td>\n",
       "      <td>['United States']</td>\n",
       "      <td>['English']</td>\n",
       "      <td>0</td>\n",
       "      <td>15</td>\n",
       "      <td>0</td>\n",
       "    </tr>\n",
       "    <tr>\n",
       "      <th>3</th>\n",
       "      <td>1975</td>\n",
       "      <td>02:05</td>\n",
       "      <td>R</td>\n",
       "      <td>8.0</td>\n",
       "      <td>279K</td>\n",
       "      <td>1800000.0</td>\n",
       "      <td>50002721.0</td>\n",
       "      <td>50000000.0</td>\n",
       "      <td>7061513.0</td>\n",
       "      <td>['Heist', 'True Crime', 'Biography', 'Crime', ...</td>\n",
       "      <td>['United States']</td>\n",
       "      <td>['English']</td>\n",
       "      <td>0</td>\n",
       "      <td>20</td>\n",
       "      <td>0</td>\n",
       "    </tr>\n",
       "    <tr>\n",
       "      <th>4</th>\n",
       "      <td>1975</td>\n",
       "      <td>01:50</td>\n",
       "      <td>R</td>\n",
       "      <td>6.4</td>\n",
       "      <td>15K</td>\n",
       "      <td>4000000.0</td>\n",
       "      <td>49407734.0</td>\n",
       "      <td>49407734.0</td>\n",
       "      <td>7061513.0</td>\n",
       "      <td>['Satire', 'Comedy', 'Drama']</td>\n",
       "      <td>['United States']</td>\n",
       "      <td>['English']</td>\n",
       "      <td>0</td>\n",
       "      <td>11</td>\n",
       "      <td>0</td>\n",
       "    </tr>\n",
       "  </tbody>\n",
       "</table>\n",
       "</div>"
      ],
      "text/plain": [
       "   Year Duration MPA  Rating Votes     budget  grossWorldWide  \\\n",
       "0  1975    02:04  PG     8.1  683K  7000000.0     477220580.0   \n",
       "1  1975    01:40   R     7.4  173K  1200000.0     115798478.0   \n",
       "2  1975    02:13   R     8.7  1.1M  3000000.0     109115366.0   \n",
       "3  1975    02:05   R     8.0  279K  1800000.0      50002721.0   \n",
       "4  1975    01:50   R     6.4   15K  4000000.0      49407734.0   \n",
       "\n",
       "   gross_US_Canada  opening_weekend_Gross  \\\n",
       "0      266567580.0              7061513.0   \n",
       "1      112892319.0              7061513.0   \n",
       "2      108981275.0              7061513.0   \n",
       "3       50000000.0              7061513.0   \n",
       "4       49407734.0              7061513.0   \n",
       "\n",
       "                                              genres  \\\n",
       "0  ['Monster Horror', 'Sea Adventure', 'Survival'...   \n",
       "1  ['Dark Comedy', 'Raunchy Comedy', 'Rock Musica...   \n",
       "2  ['Medical Drama', 'Psychological Drama', 'Drama']   \n",
       "3  ['Heist', 'True Crime', 'Biography', 'Crime', ...   \n",
       "4                      ['Satire', 'Comedy', 'Drama']   \n",
       "\n",
       "                      countries_origin    Languages  wins  nominations  oscars  \n",
       "0                    ['United States']  ['English']     0           20       0  \n",
       "1  ['United Kingdom', 'United States']  ['English']     0            4       0  \n",
       "2                    ['United States']  ['English']     0           15       0  \n",
       "3                    ['United States']  ['English']     0           20       0  \n",
       "4                    ['United States']  ['English']     0           11       0  "
      ]
     },
     "execution_count": 244,
     "metadata": {},
     "output_type": "execute_result"
    }
   ],
   "source": [
    "df.head()"
   ]
  },
  {
   "cell_type": "code",
   "execution_count": 245,
   "id": "d14c4f6a-b56e-46d0-a6ec-3769c7c2a3c2",
   "metadata": {},
   "outputs": [
    {
     "name": "stdout",
     "output_type": "stream",
     "text": [
      "<class 'pandas.core.frame.DataFrame'>\n",
      "RangeIndex: 33600 entries, 0 to 33599\n",
      "Data columns (total 15 columns):\n",
      " #   Column                 Non-Null Count  Dtype  \n",
      "---  ------                 --------------  -----  \n",
      " 0   Year                   33600 non-null  int64  \n",
      " 1   Duration               33600 non-null  object \n",
      " 2   MPA                    33600 non-null  object \n",
      " 3   Rating                 33600 non-null  float64\n",
      " 4   Votes                  33600 non-null  object \n",
      " 5   budget                 33600 non-null  float64\n",
      " 6   grossWorldWide         33600 non-null  float64\n",
      " 7   gross_US_Canada        33600 non-null  float64\n",
      " 8   opening_weekend_Gross  33600 non-null  float64\n",
      " 9   genres                 33600 non-null  object \n",
      " 10  countries_origin       33600 non-null  object \n",
      " 11  Languages              33600 non-null  object \n",
      " 12  wins                   33600 non-null  int64  \n",
      " 13  nominations            33600 non-null  int64  \n",
      " 14  oscars                 33600 non-null  int64  \n",
      "dtypes: float64(5), int64(4), object(6)\n",
      "memory usage: 3.8+ MB\n"
     ]
    }
   ],
   "source": [
    "df.info()"
   ]
  },
  {
   "cell_type": "code",
   "execution_count": 246,
   "id": "22c4039e-d01f-461b-8b7e-a1cddcc7c341",
   "metadata": {},
   "outputs": [
    {
     "data": {
      "text/plain": [
       "0    683K\n",
       "1    173K\n",
       "2    1.1M\n",
       "3    279K\n",
       "4     15K\n",
       "Name: Votes, dtype: object"
      ]
     },
     "execution_count": 246,
     "metadata": {},
     "output_type": "execute_result"
    }
   ],
   "source": [
    "df[\"Votes\"].head()"
   ]
  },
  {
   "cell_type": "code",
   "execution_count": 247,
   "id": "c77500bc-c97a-44ed-9701-ab00633f647a",
   "metadata": {},
   "outputs": [
    {
     "data": {
      "text/plain": [
       "array(['683K', '173K', '1.1M', ..., '901K', '557K', '977K'],\n",
       "      shape=(1758,), dtype=object)"
      ]
     },
     "execution_count": 247,
     "metadata": {},
     "output_type": "execute_result"
    }
   ],
   "source": [
    "df[\"Votes\"].unique()"
   ]
  },
  {
   "cell_type": "code",
   "execution_count": 248,
   "id": "ef5572a2-c5d5-438b-baf3-f83cd9e23431",
   "metadata": {},
   "outputs": [],
   "source": [
    "def transformVotes(value):\n",
    "    if(value[-1]=='K'):\n",
    "        return int(float(value[0:len(value)-1])*1000)\n",
    "    elif(value[-1]=='M'):\n",
    "        return int(float(value[0:len(value)-1])*1000000)\n",
    "    else:\n",
    "        return int(value)"
   ]
  },
  {
   "cell_type": "code",
   "execution_count": 249,
   "id": "416637c8-c65d-48b7-b3c0-0c0f524cb8c0",
   "metadata": {},
   "outputs": [],
   "source": [
    "df[\"Votes\"] = df[\"Votes\"].map(transformVotes)"
   ]
  },
  {
   "cell_type": "code",
   "execution_count": 250,
   "id": "949fc980-b755-4129-bb0c-8ad6462243ca",
   "metadata": {},
   "outputs": [
    {
     "data": {
      "text/plain": [
       "0     683000\n",
       "1     173000\n",
       "2    1100000\n",
       "3     279000\n",
       "4      15000\n",
       "Name: Votes, dtype: int64"
      ]
     },
     "execution_count": 250,
     "metadata": {},
     "output_type": "execute_result"
    }
   ],
   "source": [
    "df[\"Votes\"].head()"
   ]
  },
  {
   "cell_type": "code",
   "execution_count": 251,
   "id": "0ee193cc-3228-48ee-9ba3-b3d29368410a",
   "metadata": {},
   "outputs": [
    {
     "name": "stdout",
     "output_type": "stream",
     "text": [
      "<class 'pandas.core.frame.DataFrame'>\n",
      "RangeIndex: 33600 entries, 0 to 33599\n",
      "Data columns (total 15 columns):\n",
      " #   Column                 Non-Null Count  Dtype  \n",
      "---  ------                 --------------  -----  \n",
      " 0   Year                   33600 non-null  int64  \n",
      " 1   Duration               33600 non-null  object \n",
      " 2   MPA                    33600 non-null  object \n",
      " 3   Rating                 33600 non-null  float64\n",
      " 4   Votes                  33600 non-null  int64  \n",
      " 5   budget                 33600 non-null  float64\n",
      " 6   grossWorldWide         33600 non-null  float64\n",
      " 7   gross_US_Canada        33600 non-null  float64\n",
      " 8   opening_weekend_Gross  33600 non-null  float64\n",
      " 9   genres                 33600 non-null  object \n",
      " 10  countries_origin       33600 non-null  object \n",
      " 11  Languages              33600 non-null  object \n",
      " 12  wins                   33600 non-null  int64  \n",
      " 13  nominations            33600 non-null  int64  \n",
      " 14  oscars                 33600 non-null  int64  \n",
      "dtypes: float64(5), int64(5), object(5)\n",
      "memory usage: 3.8+ MB\n"
     ]
    }
   ],
   "source": [
    "df.info()"
   ]
  },
  {
   "cell_type": "code",
   "execution_count": 256,
   "id": "a4617650-dc4a-4cac-9b95-dbe013abbb9d",
   "metadata": {},
   "outputs": [],
   "source": [
    "def findGenres(value):\n",
    "    li = value.split(\"'\")\n",
    "    gen = []\n",
    "    for x in li:\n",
    "        if( (ord(x[0])>=65 and ord(x[0])<=90) or (ord(x[0])>=97 and ord(x[0])<=122) ):\n",
    "            gen.append(x)\n",
    "    return gen[-1]"
   ]
  },
  {
   "cell_type": "code",
   "execution_count": 260,
   "id": "3d7b4f22-d516-47f2-b84a-e5094a41f677",
   "metadata": {},
   "outputs": [],
   "source": [
    "df[\"genres\"] = df[\"genres\"].map(findGenres)"
   ]
  },
  {
   "cell_type": "code",
   "execution_count": 264,
   "id": "fc06d999-c770-4b08-b246-755bb43ae79a",
   "metadata": {},
   "outputs": [
    {
     "data": {
      "text/plain": [
       "array(['Thriller', 'Musical', 'Drama', 'Mystery', 'Romance', 'Western',\n",
       "       'War', 'Sci-Fi', 'Music', 'Fantasy', 'History', 'Sport', 'Comedy',\n",
       "       'Adventure', 'Horror', 'Crime', 'Family', 'Action', 'Documentary',\n",
       "       'Biography', 'Animation', 'Holiday', 'Financial Drama',\n",
       "       'Supernatural Horror', 'Psychological Drama', 'Period Drama',\n",
       "       'Tragedy', 'Reality TV', 'Vampire Horror', 'Talk Show', 'Mecha',\n",
       "       'Game Show', 'Psychological Thriller', 'Wuxia', 'Quirky Comedy',\n",
       "       'Sci-Fi Epic'], dtype=object)"
      ]
     },
     "execution_count": 264,
     "metadata": {},
     "output_type": "execute_result"
    }
   ],
   "source": [
    "(df[\"genres\"].unique())"
   ]
  },
  {
   "cell_type": "code",
   "execution_count": 262,
   "id": "16a62d39-aad2-43e6-8444-e68b89848cfd",
   "metadata": {},
   "outputs": [
    {
     "data": {
      "text/plain": [
       "36"
      ]
     },
     "execution_count": 262,
     "metadata": {},
     "output_type": "execute_result"
    }
   ],
   "source": [
    "len(df[\"genres\"].unique())"
   ]
  },
  {
   "cell_type": "code",
   "execution_count": null,
   "id": "37407423-7933-4a77-bcb1-fc55f6879d9f",
   "metadata": {},
   "outputs": [],
   "source": []
  }
 ],
 "metadata": {
  "kernelspec": {
   "display_name": "Python 3 (ipykernel)",
   "language": "python",
   "name": "python3"
  },
  "language_info": {
   "codemirror_mode": {
    "name": "ipython",
    "version": 3
   },
   "file_extension": ".py",
   "mimetype": "text/x-python",
   "name": "python",
   "nbconvert_exporter": "python",
   "pygments_lexer": "ipython3",
   "version": "3.12.5"
  }
 },
 "nbformat": 4,
 "nbformat_minor": 5
}
