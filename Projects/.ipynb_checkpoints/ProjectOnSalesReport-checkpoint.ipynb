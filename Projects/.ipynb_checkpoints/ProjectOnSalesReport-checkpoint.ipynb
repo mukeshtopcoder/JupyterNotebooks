{
 "cells": [
  {
   "cell_type": "code",
   "execution_count": 2,
   "id": "498c7d4f-c27e-4ea6-a1f2-1a217c2f43ac",
   "metadata": {},
   "outputs": [
    {
     "data": {
      "text/html": [
       "<div>\n",
       "<style scoped>\n",
       "    .dataframe tbody tr th:only-of-type {\n",
       "        vertical-align: middle;\n",
       "    }\n",
       "\n",
       "    .dataframe tbody tr th {\n",
       "        vertical-align: top;\n",
       "    }\n",
       "\n",
       "    .dataframe thead th {\n",
       "        text-align: right;\n",
       "    }\n",
       "</style>\n",
       "<table border=\"1\" class=\"dataframe\">\n",
       "  <thead>\n",
       "    <tr style=\"text-align: right;\">\n",
       "      <th></th>\n",
       "      <th>Segment</th>\n",
       "      <th>Country</th>\n",
       "      <th>Product</th>\n",
       "      <th>Discount Band</th>\n",
       "      <th>Units Sold</th>\n",
       "      <th>Manufacturing Price</th>\n",
       "      <th>Sale Price</th>\n",
       "      <th>Gross Sales</th>\n",
       "      <th>Discounts</th>\n",
       "      <th>Sales</th>\n",
       "      <th>COGS</th>\n",
       "      <th>Profit</th>\n",
       "      <th>Date</th>\n",
       "      <th>Month Number</th>\n",
       "      <th>Month Name</th>\n",
       "      <th>Year</th>\n",
       "    </tr>\n",
       "  </thead>\n",
       "  <tbody>\n",
       "    <tr>\n",
       "      <th>0</th>\n",
       "      <td>Government</td>\n",
       "      <td>Canada</td>\n",
       "      <td>Carretera</td>\n",
       "      <td>NaN</td>\n",
       "      <td>1618.5</td>\n",
       "      <td>3</td>\n",
       "      <td>20.0</td>\n",
       "      <td>32370.0</td>\n",
       "      <td>0.0</td>\n",
       "      <td>32370.0</td>\n",
       "      <td>16185.0</td>\n",
       "      <td>16185.0</td>\n",
       "      <td>2014-01-01</td>\n",
       "      <td>1</td>\n",
       "      <td>January</td>\n",
       "      <td>2014</td>\n",
       "    </tr>\n",
       "    <tr>\n",
       "      <th>1</th>\n",
       "      <td>Government</td>\n",
       "      <td>Germany</td>\n",
       "      <td>Carretera</td>\n",
       "      <td>NaN</td>\n",
       "      <td>1321.0</td>\n",
       "      <td>3</td>\n",
       "      <td>20.0</td>\n",
       "      <td>26420.0</td>\n",
       "      <td>0.0</td>\n",
       "      <td>26420.0</td>\n",
       "      <td>13210.0</td>\n",
       "      <td>13210.0</td>\n",
       "      <td>2014-01-01</td>\n",
       "      <td>1</td>\n",
       "      <td>January</td>\n",
       "      <td>2014</td>\n",
       "    </tr>\n",
       "    <tr>\n",
       "      <th>2</th>\n",
       "      <td>Midmarket</td>\n",
       "      <td>France</td>\n",
       "      <td>Carretera</td>\n",
       "      <td>NaN</td>\n",
       "      <td>2178.0</td>\n",
       "      <td>3</td>\n",
       "      <td>15.0</td>\n",
       "      <td>32670.0</td>\n",
       "      <td>0.0</td>\n",
       "      <td>32670.0</td>\n",
       "      <td>21780.0</td>\n",
       "      <td>10890.0</td>\n",
       "      <td>2014-06-01</td>\n",
       "      <td>6</td>\n",
       "      <td>June</td>\n",
       "      <td>2014</td>\n",
       "    </tr>\n",
       "  </tbody>\n",
       "</table>\n",
       "</div>"
      ],
      "text/plain": [
       "      Segment  Country    Product Discount Band  Units Sold  \\\n",
       "0  Government   Canada  Carretera           NaN      1618.5   \n",
       "1  Government  Germany  Carretera           NaN      1321.0   \n",
       "2   Midmarket   France  Carretera           NaN      2178.0   \n",
       "\n",
       "   Manufacturing Price  Sale Price  Gross Sales  Discounts    Sales     COGS  \\\n",
       "0                    3        20.0      32370.0        0.0  32370.0  16185.0   \n",
       "1                    3        20.0      26420.0        0.0  26420.0  13210.0   \n",
       "2                    3        15.0      32670.0        0.0  32670.0  21780.0   \n",
       "\n",
       "    Profit       Date  Month Number Month Name  Year  \n",
       "0  16185.0 2014-01-01             1    January  2014  \n",
       "1  13210.0 2014-01-01             1    January  2014  \n",
       "2  10890.0 2014-06-01             6       June  2014  "
      ]
     },
     "execution_count": 2,
     "metadata": {},
     "output_type": "execute_result"
    }
   ],
   "source": [
    "import pandas as pd\n",
    "df = pd.read_excel(\"../SampleData/Financial_Sample.xlsx\")\n",
    "df.head(3)"
   ]
  },
  {
   "cell_type": "code",
   "execution_count": 3,
   "id": "ce2bb98d-9fc5-454f-99b2-3deabc5e4e62",
   "metadata": {},
   "outputs": [
    {
     "data": {
      "text/plain": [
       "Segment                 8\n",
       "Country                11\n",
       "Product                 8\n",
       "Discount Band          62\n",
       "Units Sold              5\n",
       "Manufacturing Price     0\n",
       "Sale Price              7\n",
       "Gross Sales             5\n",
       "Discounts               5\n",
       " Sales                  0\n",
       "COGS                    0\n",
       "Profit                  0\n",
       "Date                    0\n",
       "Month Number            0\n",
       "Month Name              0\n",
       "Year                    0\n",
       "dtype: int64"
      ]
     },
     "execution_count": 3,
     "metadata": {},
     "output_type": "execute_result"
    }
   ],
   "source": [
    "df.isnull().sum()"
   ]
  },
  {
   "cell_type": "code",
   "execution_count": 4,
   "id": "ae55681e-bdb5-41ed-a2c7-9314bff9d4d5",
   "metadata": {},
   "outputs": [
    {
     "name": "stdout",
     "output_type": "stream",
     "text": [
      "<class 'pandas.core.frame.DataFrame'>\n",
      "RangeIndex: 700 entries, 0 to 699\n",
      "Data columns (total 16 columns):\n",
      " #   Column               Non-Null Count  Dtype         \n",
      "---  ------               --------------  -----         \n",
      " 0   Segment              692 non-null    object        \n",
      " 1   Country              689 non-null    object        \n",
      " 2   Product              692 non-null    object        \n",
      " 3   Discount Band        638 non-null    object        \n",
      " 4   Units Sold           695 non-null    float64       \n",
      " 5   Manufacturing Price  700 non-null    int64         \n",
      " 6   Sale Price           693 non-null    float64       \n",
      " 7   Gross Sales          695 non-null    float64       \n",
      " 8   Discounts            695 non-null    float64       \n",
      " 9    Sales               700 non-null    float64       \n",
      " 10  COGS                 700 non-null    float64       \n",
      " 11  Profit               700 non-null    float64       \n",
      " 12  Date                 700 non-null    datetime64[ns]\n",
      " 13  Month Number         700 non-null    int64         \n",
      " 14  Month Name           700 non-null    object        \n",
      " 15  Year                 700 non-null    int64         \n",
      "dtypes: datetime64[ns](1), float64(7), int64(3), object(5)\n",
      "memory usage: 87.6+ KB\n"
     ]
    }
   ],
   "source": [
    "df.info()"
   ]
  },
  {
   "cell_type": "code",
   "execution_count": 5,
   "id": "758a755a-ffb2-4a6a-983a-d50ba94909b2",
   "metadata": {},
   "outputs": [
    {
     "data": {
      "text/plain": [
       "np.float64(15.86)"
      ]
     },
     "execution_count": 5,
     "metadata": {},
     "output_type": "execute_result"
    }
   ],
   "source": [
    "# Null Data Percentage in Data\n",
    "(df.isnull().sum().sum()/df.shape[0]*100).round(2)"
   ]
  },
  {
   "cell_type": "code",
   "execution_count": 6,
   "id": "9737537b-f72e-4a8a-97a0-3008aa538242",
   "metadata": {},
   "outputs": [
    {
     "data": {
      "text/plain": [
       "['Segment', 'Country', 'Product', 'Discount Band', 'Month Name']"
      ]
     },
     "execution_count": 6,
     "metadata": {},
     "output_type": "execute_result"
    }
   ],
   "source": [
    "# objects Columns\n",
    "objects = list(df.select_dtypes(include=\"object\").columns)\n",
    "objects"
   ]
  },
  {
   "cell_type": "code",
   "execution_count": 7,
   "id": "506ea908-881c-4ad1-97fb-be53d8dee7f8",
   "metadata": {},
   "outputs": [
    {
     "data": {
      "text/plain": [
       "Segment           8\n",
       "Country          11\n",
       "Product           8\n",
       "Discount Band    62\n",
       "Month Name        0\n",
       "dtype: int64"
      ]
     },
     "execution_count": 7,
     "metadata": {},
     "output_type": "execute_result"
    }
   ],
   "source": [
    "df.select_dtypes(include=\"object\").isnull().sum()"
   ]
  },
  {
   "cell_type": "code",
   "execution_count": 8,
   "id": "c5d61ff9-5ec2-4082-8430-f6e3f0b934aa",
   "metadata": {},
   "outputs": [],
   "source": [
    "# Fill All Null Values in Object Fields\n",
    "for obj in objects:\n",
    "    df[obj] = df[obj].fillna(df[obj].mode()[0])"
   ]
  },
  {
   "cell_type": "code",
   "execution_count": 9,
   "id": "f618eea9-7e3b-4982-a3f0-2c98807f95b0",
   "metadata": {},
   "outputs": [
    {
     "data": {
      "text/html": [
       "<div>\n",
       "<style scoped>\n",
       "    .dataframe tbody tr th:only-of-type {\n",
       "        vertical-align: middle;\n",
       "    }\n",
       "\n",
       "    .dataframe tbody tr th {\n",
       "        vertical-align: top;\n",
       "    }\n",
       "\n",
       "    .dataframe thead th {\n",
       "        text-align: right;\n",
       "    }\n",
       "</style>\n",
       "<table border=\"1\" class=\"dataframe\">\n",
       "  <thead>\n",
       "    <tr style=\"text-align: right;\">\n",
       "      <th></th>\n",
       "      <th>Segment</th>\n",
       "      <th>Country</th>\n",
       "      <th>Product</th>\n",
       "      <th>Discount Band</th>\n",
       "      <th>Units Sold</th>\n",
       "      <th>Manufacturing Price</th>\n",
       "      <th>Sale Price</th>\n",
       "      <th>Gross Sales</th>\n",
       "      <th>Discounts</th>\n",
       "      <th>Sales</th>\n",
       "      <th>COGS</th>\n",
       "      <th>Profit</th>\n",
       "      <th>Date</th>\n",
       "      <th>Month Number</th>\n",
       "      <th>Month Name</th>\n",
       "      <th>Year</th>\n",
       "    </tr>\n",
       "  </thead>\n",
       "  <tbody>\n",
       "    <tr>\n",
       "      <th>0</th>\n",
       "      <td>Government</td>\n",
       "      <td>Canada</td>\n",
       "      <td>Carretera</td>\n",
       "      <td>High</td>\n",
       "      <td>1618.5</td>\n",
       "      <td>3</td>\n",
       "      <td>20.0</td>\n",
       "      <td>32370.0</td>\n",
       "      <td>0.0</td>\n",
       "      <td>32370.0</td>\n",
       "      <td>16185.0</td>\n",
       "      <td>16185.0</td>\n",
       "      <td>2014-01-01</td>\n",
       "      <td>1</td>\n",
       "      <td>January</td>\n",
       "      <td>2014</td>\n",
       "    </tr>\n",
       "    <tr>\n",
       "      <th>1</th>\n",
       "      <td>Government</td>\n",
       "      <td>Germany</td>\n",
       "      <td>Carretera</td>\n",
       "      <td>High</td>\n",
       "      <td>1321.0</td>\n",
       "      <td>3</td>\n",
       "      <td>20.0</td>\n",
       "      <td>26420.0</td>\n",
       "      <td>0.0</td>\n",
       "      <td>26420.0</td>\n",
       "      <td>13210.0</td>\n",
       "      <td>13210.0</td>\n",
       "      <td>2014-01-01</td>\n",
       "      <td>1</td>\n",
       "      <td>January</td>\n",
       "      <td>2014</td>\n",
       "    </tr>\n",
       "    <tr>\n",
       "      <th>2</th>\n",
       "      <td>Midmarket</td>\n",
       "      <td>France</td>\n",
       "      <td>Carretera</td>\n",
       "      <td>High</td>\n",
       "      <td>2178.0</td>\n",
       "      <td>3</td>\n",
       "      <td>15.0</td>\n",
       "      <td>32670.0</td>\n",
       "      <td>0.0</td>\n",
       "      <td>32670.0</td>\n",
       "      <td>21780.0</td>\n",
       "      <td>10890.0</td>\n",
       "      <td>2014-06-01</td>\n",
       "      <td>6</td>\n",
       "      <td>June</td>\n",
       "      <td>2014</td>\n",
       "    </tr>\n",
       "  </tbody>\n",
       "</table>\n",
       "</div>"
      ],
      "text/plain": [
       "      Segment  Country    Product Discount Band  Units Sold  \\\n",
       "0  Government   Canada  Carretera          High      1618.5   \n",
       "1  Government  Germany  Carretera          High      1321.0   \n",
       "2   Midmarket   France  Carretera          High      2178.0   \n",
       "\n",
       "   Manufacturing Price  Sale Price  Gross Sales  Discounts    Sales     COGS  \\\n",
       "0                    3        20.0      32370.0        0.0  32370.0  16185.0   \n",
       "1                    3        20.0      26420.0        0.0  26420.0  13210.0   \n",
       "2                    3        15.0      32670.0        0.0  32670.0  21780.0   \n",
       "\n",
       "    Profit       Date  Month Number Month Name  Year  \n",
       "0  16185.0 2014-01-01             1    January  2014  \n",
       "1  13210.0 2014-01-01             1    January  2014  \n",
       "2  10890.0 2014-06-01             6       June  2014  "
      ]
     },
     "execution_count": 9,
     "metadata": {},
     "output_type": "execute_result"
    }
   ],
   "source": [
    "df.head(3)"
   ]
  },
  {
   "cell_type": "code",
   "execution_count": 10,
   "id": "26a60bb5-d0ed-46e4-841c-5a2761b6289d",
   "metadata": {},
   "outputs": [
    {
     "data": {
      "text/plain": [
       "Units Sold     5\n",
       "Sale Price     7\n",
       "Gross Sales    5\n",
       "Discounts      5\n",
       " Sales         0\n",
       "COGS           0\n",
       "Profit         0\n",
       "dtype: int64"
      ]
     },
     "execution_count": 10,
     "metadata": {},
     "output_type": "execute_result"
    }
   ],
   "source": [
    "df.select_dtypes(include=\"float64\").isnull().sum()"
   ]
  },
  {
   "cell_type": "code",
   "execution_count": 11,
   "id": "4a3e08e6-cbe5-414e-8ad4-49129215ca6a",
   "metadata": {},
   "outputs": [],
   "source": [
    "# Fill Null Values in Float64\n",
    "for fl in df.select_dtypes(include=\"float64\").columns:\n",
    "    df[fl]=df[fl].fillna(df[fl].mean())"
   ]
  },
  {
   "cell_type": "code",
   "execution_count": 12,
   "id": "d851c838-45b7-44bc-bc6b-06b14678fa44",
   "metadata": {},
   "outputs": [
    {
     "data": {
      "text/plain": [
       "Units Sold     0\n",
       "Sale Price     0\n",
       "Gross Sales    0\n",
       "Discounts      0\n",
       " Sales         0\n",
       "COGS           0\n",
       "Profit         0\n",
       "dtype: int64"
      ]
     },
     "execution_count": 12,
     "metadata": {},
     "output_type": "execute_result"
    }
   ],
   "source": [
    "df.select_dtypes(include=\"float64\").isnull().sum()"
   ]
  },
  {
   "cell_type": "code",
   "execution_count": 13,
   "id": "246cb2e8-8e94-4b14-954c-ba127595db16",
   "metadata": {},
   "outputs": [
    {
     "data": {
      "text/plain": [
       "Segment                0\n",
       "Country                0\n",
       "Product                0\n",
       "Discount Band          0\n",
       "Units Sold             0\n",
       "Manufacturing Price    0\n",
       "Sale Price             0\n",
       "Gross Sales            0\n",
       "Discounts              0\n",
       " Sales                 0\n",
       "COGS                   0\n",
       "Profit                 0\n",
       "Date                   0\n",
       "Month Number           0\n",
       "Month Name             0\n",
       "Year                   0\n",
       "dtype: int64"
      ]
     },
     "execution_count": 13,
     "metadata": {},
     "output_type": "execute_result"
    }
   ],
   "source": [
    "# All Data is Cleaned\n",
    "df.isnull().sum()"
   ]
  },
  {
   "cell_type": "code",
   "execution_count": 14,
   "id": "4b7b5f77-87ec-47a5-a0fe-9d36e47adb2c",
   "metadata": {},
   "outputs": [
    {
     "data": {
      "text/html": [
       "<div>\n",
       "<style scoped>\n",
       "    .dataframe tbody tr th:only-of-type {\n",
       "        vertical-align: middle;\n",
       "    }\n",
       "\n",
       "    .dataframe tbody tr th {\n",
       "        vertical-align: top;\n",
       "    }\n",
       "\n",
       "    .dataframe thead th {\n",
       "        text-align: right;\n",
       "    }\n",
       "</style>\n",
       "<table border=\"1\" class=\"dataframe\">\n",
       "  <thead>\n",
       "    <tr style=\"text-align: right;\">\n",
       "      <th></th>\n",
       "      <th>Segment</th>\n",
       "      <th>Country</th>\n",
       "      <th>Product</th>\n",
       "      <th>Discount Band</th>\n",
       "      <th>Units Sold</th>\n",
       "      <th>Manufacturing Price</th>\n",
       "      <th>Sale Price</th>\n",
       "      <th>Gross Sales</th>\n",
       "      <th>Discounts</th>\n",
       "      <th>Sales</th>\n",
       "      <th>COGS</th>\n",
       "      <th>Profit</th>\n",
       "      <th>Date</th>\n",
       "      <th>Month Number</th>\n",
       "      <th>Month Name</th>\n",
       "      <th>Year</th>\n",
       "    </tr>\n",
       "  </thead>\n",
       "  <tbody>\n",
       "    <tr>\n",
       "      <th>0</th>\n",
       "      <td>Government</td>\n",
       "      <td>Canada</td>\n",
       "      <td>Carretera</td>\n",
       "      <td>High</td>\n",
       "      <td>1618.5</td>\n",
       "      <td>3</td>\n",
       "      <td>20.0</td>\n",
       "      <td>32370.0</td>\n",
       "      <td>0.0</td>\n",
       "      <td>32370.0</td>\n",
       "      <td>16185.0</td>\n",
       "      <td>16185.0</td>\n",
       "      <td>2014-01-01</td>\n",
       "      <td>1</td>\n",
       "      <td>January</td>\n",
       "      <td>2014</td>\n",
       "    </tr>\n",
       "    <tr>\n",
       "      <th>1</th>\n",
       "      <td>Government</td>\n",
       "      <td>Germany</td>\n",
       "      <td>Carretera</td>\n",
       "      <td>High</td>\n",
       "      <td>1321.0</td>\n",
       "      <td>3</td>\n",
       "      <td>20.0</td>\n",
       "      <td>26420.0</td>\n",
       "      <td>0.0</td>\n",
       "      <td>26420.0</td>\n",
       "      <td>13210.0</td>\n",
       "      <td>13210.0</td>\n",
       "      <td>2014-01-01</td>\n",
       "      <td>1</td>\n",
       "      <td>January</td>\n",
       "      <td>2014</td>\n",
       "    </tr>\n",
       "    <tr>\n",
       "      <th>2</th>\n",
       "      <td>Midmarket</td>\n",
       "      <td>France</td>\n",
       "      <td>Carretera</td>\n",
       "      <td>High</td>\n",
       "      <td>2178.0</td>\n",
       "      <td>3</td>\n",
       "      <td>15.0</td>\n",
       "      <td>32670.0</td>\n",
       "      <td>0.0</td>\n",
       "      <td>32670.0</td>\n",
       "      <td>21780.0</td>\n",
       "      <td>10890.0</td>\n",
       "      <td>2014-06-01</td>\n",
       "      <td>6</td>\n",
       "      <td>June</td>\n",
       "      <td>2014</td>\n",
       "    </tr>\n",
       "  </tbody>\n",
       "</table>\n",
       "</div>"
      ],
      "text/plain": [
       "      Segment  Country    Product Discount Band  Units Sold  \\\n",
       "0  Government   Canada  Carretera          High      1618.5   \n",
       "1  Government  Germany  Carretera          High      1321.0   \n",
       "2   Midmarket   France  Carretera          High      2178.0   \n",
       "\n",
       "   Manufacturing Price  Sale Price  Gross Sales  Discounts    Sales     COGS  \\\n",
       "0                    3        20.0      32370.0        0.0  32370.0  16185.0   \n",
       "1                    3        20.0      26420.0        0.0  26420.0  13210.0   \n",
       "2                    3        15.0      32670.0        0.0  32670.0  21780.0   \n",
       "\n",
       "    Profit       Date  Month Number Month Name  Year  \n",
       "0  16185.0 2014-01-01             1    January  2014  \n",
       "1  13210.0 2014-01-01             1    January  2014  \n",
       "2  10890.0 2014-06-01             6       June  2014  "
      ]
     },
     "execution_count": 14,
     "metadata": {},
     "output_type": "execute_result"
    }
   ],
   "source": [
    "df.head(3)"
   ]
  },
  {
   "cell_type": "code",
   "execution_count": 15,
   "id": "cb2a4a0e-7c26-47af-b749-06b6cfb3e72f",
   "metadata": {},
   "outputs": [
    {
     "data": {
      "text/plain": [
       "(['Canada', 'Germany', 'France', 'Mexico', 'United States of America'],\n",
       " ['Government',\n",
       "  'Midmarket',\n",
       "  'Channel Partners',\n",
       "  'Enterprise',\n",
       "  'Small Business'],\n",
       " ['Carretera', 'Montana', 'Paseo', 'Velo', 'VTT', 'Amarilla'])"
      ]
     },
     "execution_count": 15,
     "metadata": {},
     "output_type": "execute_result"
    }
   ],
   "source": [
    "# Segment and Country and Product\n",
    "segment = list(df[\"Segment\"].unique())\n",
    "country = list(df[\"Country\"].unique())\n",
    "product = list(df[\"Product\"].unique())\n",
    "country,segment,product"
   ]
  },
  {
   "cell_type": "code",
   "execution_count": 16,
   "id": "71571503-ade9-4280-b8d3-2766c3edbb3a",
   "metadata": {},
   "outputs": [
    {
     "data": {
      "text/plain": [
       "{'Government': 'Canada',\n",
       " 'Midmarket': 'Germany',\n",
       " 'Channel Partners': 'France',\n",
       " 'Enterprise': 'Mexico',\n",
       " 'Small Business': 'United States of America'}"
      ]
     },
     "execution_count": 16,
     "metadata": {},
     "output_type": "execute_result"
    }
   ],
   "source": [
    "# Making Dictionary to traverse them together because both list has same length\n",
    "dic = dict()\n",
    "for i in range(0,len(segment)):\n",
    "    dic.update({segment[i]:country[i]})\n",
    "dic"
   ]
  },
  {
   "cell_type": "code",
   "execution_count": 17,
   "id": "0d0cf389-0be2-45c8-b562-9a0bd86b9597",
   "metadata": {},
   "outputs": [
    {
     "data": {
      "text/plain": [
       "([np.float64(11414168.049999984),\n",
       "  np.float64(660103.0749999998),\n",
       "  np.float64(1290808.2599999998),\n",
       "  np.float64(-614545.625),\n",
       "  np.float64(4143168.5)],\n",
       " [np.float64(3359437.935),\n",
       "  np.float64(3624167.730000001),\n",
       "  np.float64(4297445.9799999995),\n",
       "  np.float64(2889313.87),\n",
       "  np.float64(2723336.745)])"
      ]
     },
     "execution_count": 17,
     "metadata": {},
     "output_type": "execute_result"
    }
   ],
   "source": [
    "# Calculating Profit\n",
    "profitBySegment = []\n",
    "profitByCountry = []\n",
    "for seg,cou in dic.items():\n",
    "    ps = 0\n",
    "    pc = 0\n",
    "    for i in range(0,df.shape[0]):\n",
    "        if(seg==df[\"Segment\"][i]):\n",
    "            ps = ps+df[\"Profit\"][i]\n",
    "        if(cou==df[\"Country\"][i]):\n",
    "            pc = pc+df[\"Profit\"][i]\n",
    "    profitBySegment.append(ps)\n",
    "    profitByCountry.append(pc)\n",
    "profitBySegment , profitByCountry"
   ]
  },
  {
   "cell_type": "code",
   "execution_count": 54,
   "id": "495b7143-0f8a-42b5-96b4-17a3885d32f6",
   "metadata": {},
   "outputs": [],
   "source": [
    "# start ploting"
   ]
  },
  {
   "cell_type": "code",
   "execution_count": 18,
   "id": "0b452daa-781f-4b28-9545-dcd69110edba",
   "metadata": {},
   "outputs": [],
   "source": [
    "import matplotlib.pyplot as plt"
   ]
  },
  {
   "cell_type": "code",
   "execution_count": 19,
   "id": "d4c3652c-df38-40dc-ad5c-5ef585e283a2",
   "metadata": {},
   "outputs": [],
   "source": [
    "# Short Name of Segments and Country\n",
    "def shortStr(val):\n",
    "    if(len(val)>10):\n",
    "        return val[0:10]\n",
    "    else:\n",
    "        return val\n",
    "data = {\"segment\":segment,\n",
    "       \"country\":country}\n",
    "data = pd.DataFrame(data)\n",
    "data[\"segment\"] = data[\"segment\"].map(shortStr)\n",
    "data[\"country\"] = data[\"country\"].map(shortStr)"
   ]
  },
  {
   "cell_type": "code",
   "execution_count": 20,
   "id": "217875b9-aceb-4d53-82c3-32384557dae2",
   "metadata": {},
   "outputs": [],
   "source": [
    "# Comvert All Values in Lacs\n",
    "def lacs(value):\n",
    "    return value/100000\n",
    "data2 = {\"PS\":profitBySegment,\n",
    "        \"PC\":profitByCountry}\n",
    "data2 = pd.DataFrame(data2)\n",
    "data2[\"PS\"] = data2[\"PS\"].map(lacs)\n",
    "data2[\"PC\"] = data2[\"PC\"].map(lacs)"
   ]
  },
  {
   "cell_type": "code",
   "execution_count": 21,
   "id": "754ba5ad-da52-4df1-92b5-7a5278f6c63d",
   "metadata": {},
   "outputs": [
    {
     "data": {
      "image/png": "[encoded data removed]",
      "text/plain": [
       "<Figure size 640x480 with 2 Axes>"
      ]
     },
     "metadata": {},
     "output_type": "display_data"
    }
   ],
   "source": [
    "# Profit By Segment and Country\n",
    "plt.subplot(2,1,1)\n",
    "plt.bar(data[\"segment\"],data2[\"PS\"],color=[\"lightgreen\",\"lightgreen\",\"lightgreen\",\"red\",\"lightgreen\"])\n",
    "plt.ylabel(\"Rupees in Lac\")\n",
    "plt.subplot(2,1,2)\n",
    "plt.bar(data[\"country\"],data2[\"PC\"],color=\"skyblue\")\n",
    "plt.ylabel(\"Rupees in Lac\")\n",
    "plt.suptitle(\"Profit By Segments And Country\")\n",
    "plt.show()"
   ]
  },
  {
   "cell_type": "code",
   "execution_count": 22,
   "id": "ed433fac-dee7-4c3d-bbd3-253cfd005cb0",
   "metadata": {},
   "outputs": [],
   "source": [
    "# Calculating Profit By Product\n",
    "profitByProduct = []\n",
    "for pro in product:\n",
    "    p = 0\n",
    "    for i in range(0,df.shape[0]):\n",
    "        if(pro==df[\"Product\"][i]):\n",
    "            p = p + df[\"Profit\"][i]\n",
    "    profitByProduct.append(p)"
   ]
  },
  {
   "cell_type": "code",
   "execution_count": 69,
   "id": "39922a00-db90-438c-8a23-a7a095610a8d",
   "metadata": {},
   "outputs": [
    {
     "data": {
      "text/plain": [
       "[17.500068849999998,\n",
       " 21.147548800000003,\n",
       " 52.684303500000006,\n",
       " 23.034812149999997,\n",
       " 29.180040200000004,\n",
       " 25.390249100000013]"
      ]
     },
     "execution_count": 69,
     "metadata": {},
     "output_type": "execute_result"
    }
   ],
   "source": [
    "PP = pd.DataFrame({\n",
    "    \"Product\":product,\n",
    "    \"Profit\":profitByProduct\n",
    "})\n",
    "PP[\"Profit\"] = PP[\"Profit\"].map(lacs)\n",
    "dic = dict()\n",
    "temp = list(PP[\"Profit\"])\n",
    "temp"
   ]
  },
  {
   "cell_type": "code",
   "execution_count": 70,
   "id": "649ce70c-feda-4574-afc5-7e5e95a64eda",
   "metadata": {},
   "outputs": [
    {
     "data": {
      "text/plain": [
       "({0: '#0F0', 1: '#0E0', 3: '#0D0', 5: '#0C0', 4: '#0B0', 2: '#F00'},\n",
       " ['#0F0', '#0E0', '#F00', '#0D0', '#0B0', '#0C0'])"
      ]
     },
     "execution_count": 70,
     "metadata": {},
     "output_type": "execute_result"
    }
   ],
   "source": [
    "c = 70\n",
    "while(temp != []):\n",
    "    mins = min(temp)\n",
    "    i = list(PP[\"Profit\"]).index(mins)\n",
    "    temp.remove(mins)\n",
    "    dic.update({i:\"#0\"+chr(c)+\"0\"})\n",
    "    if(len(temp)==0):\n",
    "        dic.update({i:\"#F00\"})\n",
    "    c=c-1\n",
    "colors = []\n",
    "for i in range(0,len(dic)):\n",
    "    colors.append(dic[i])\n",
    "dic,colors"
   ]
  },
  {
   "cell_type": "code",
   "execution_count": 73,
   "id": "822b0749-bf26-4a4e-98e1-84cfe37c2a74",
   "metadata": {},
   "outputs": [
    {
     "data": {
      "image/png": "[encoded data removed]",
      "text/plain": [
       "<Figure size 640x480 with 1 Axes>"
      ]
     },
     "metadata": {},
     "output_type": "display_data"
    }
   ],
   "source": [
    "# Profit By Product\n",
    "plt.bar(PP[\"Product\"],PP[\"Profit\"],color=colors)\n",
    "plt.ylabel(\"Rupees in Lacs\")\n",
    "plt.title(\"Profit By Product and Top Product\")\n",
    "plt.show()"
   ]
  },
  {
   "cell_type": "code",
   "execution_count": 74,
   "id": "9b4c4d91-daf8-4ec4-8e25-f8be3a444f90",
   "metadata": {},
   "outputs": [
    {
     "data": {
      "text/html": [
       "<div>\n",
       "<style scoped>\n",
       "    .dataframe tbody tr th:only-of-type {\n",
       "        vertical-align: middle;\n",
       "    }\n",
       "\n",
       "    .dataframe tbody tr th {\n",
       "        vertical-align: top;\n",
       "    }\n",
       "\n",
       "    .dataframe thead th {\n",
       "        text-align: right;\n",
       "    }\n",
       "</style>\n",
       "<table border=\"1\" class=\"dataframe\">\n",
       "  <thead>\n",
       "    <tr style=\"text-align: right;\">\n",
       "      <th></th>\n",
       "      <th>Segment</th>\n",
       "      <th>Country</th>\n",
       "      <th>Product</th>\n",
       "      <th>Discount Band</th>\n",
       "      <th>Units Sold</th>\n",
       "      <th>Manufacturing Price</th>\n",
       "      <th>Sale Price</th>\n",
       "      <th>Gross Sales</th>\n",
       "      <th>Discounts</th>\n",
       "      <th>Sales</th>\n",
       "      <th>COGS</th>\n",
       "      <th>Profit</th>\n",
       "      <th>Date</th>\n",
       "      <th>Month Number</th>\n",
       "      <th>Month Name</th>\n",
       "      <th>Year</th>\n",
       "    </tr>\n",
       "  </thead>\n",
       "  <tbody>\n",
       "    <tr>\n",
       "      <th>0</th>\n",
       "      <td>Government</td>\n",
       "      <td>Canada</td>\n",
       "      <td>Carretera</td>\n",
       "      <td>High</td>\n",
       "      <td>1618.5</td>\n",
       "      <td>3</td>\n",
       "      <td>20.0</td>\n",
       "      <td>32370.0</td>\n",
       "      <td>0.0</td>\n",
       "      <td>32370.0</td>\n",
       "      <td>16185.0</td>\n",
       "      <td>16185.0</td>\n",
       "      <td>2014-01-01</td>\n",
       "      <td>1</td>\n",
       "      <td>January</td>\n",
       "      <td>2014</td>\n",
       "    </tr>\n",
       "    <tr>\n",
       "      <th>1</th>\n",
       "      <td>Government</td>\n",
       "      <td>Germany</td>\n",
       "      <td>Carretera</td>\n",
       "      <td>High</td>\n",
       "      <td>1321.0</td>\n",
       "      <td>3</td>\n",
       "      <td>20.0</td>\n",
       "      <td>26420.0</td>\n",
       "      <td>0.0</td>\n",
       "      <td>26420.0</td>\n",
       "      <td>13210.0</td>\n",
       "      <td>13210.0</td>\n",
       "      <td>2014-01-01</td>\n",
       "      <td>1</td>\n",
       "      <td>January</td>\n",
       "      <td>2014</td>\n",
       "    </tr>\n",
       "    <tr>\n",
       "      <th>2</th>\n",
       "      <td>Midmarket</td>\n",
       "      <td>France</td>\n",
       "      <td>Carretera</td>\n",
       "      <td>High</td>\n",
       "      <td>2178.0</td>\n",
       "      <td>3</td>\n",
       "      <td>15.0</td>\n",
       "      <td>32670.0</td>\n",
       "      <td>0.0</td>\n",
       "      <td>32670.0</td>\n",
       "      <td>21780.0</td>\n",
       "      <td>10890.0</td>\n",
       "      <td>2014-06-01</td>\n",
       "      <td>6</td>\n",
       "      <td>June</td>\n",
       "      <td>2014</td>\n",
       "    </tr>\n",
       "  </tbody>\n",
       "</table>\n",
       "</div>"
      ],
      "text/plain": [
       "      Segment  Country    Product Discount Band  Units Sold  \\\n",
       "0  Government   Canada  Carretera          High      1618.5   \n",
       "1  Government  Germany  Carretera          High      1321.0   \n",
       "2   Midmarket   France  Carretera          High      2178.0   \n",
       "\n",
       "   Manufacturing Price  Sale Price  Gross Sales  Discounts    Sales     COGS  \\\n",
       "0                    3        20.0      32370.0        0.0  32370.0  16185.0   \n",
       "1                    3        20.0      26420.0        0.0  26420.0  13210.0   \n",
       "2                    3        15.0      32670.0        0.0  32670.0  21780.0   \n",
       "\n",
       "    Profit       Date  Month Number Month Name  Year  \n",
       "0  16185.0 2014-01-01             1    January  2014  \n",
       "1  13210.0 2014-01-01             1    January  2014  \n",
       "2  10890.0 2014-06-01             6       June  2014  "
      ]
     },
     "execution_count": 74,
     "metadata": {},
     "output_type": "execute_result"
    }
   ],
   "source": [
    "df.head(3)"
   ]
  },
  {
   "cell_type": "code",
   "execution_count": 94,
   "id": "d7b3d476-bbe6-4bdb-8bef-39670bd4303c",
   "metadata": {},
   "outputs": [
    {
     "data": {
      "text/plain": [
       "[Timestamp('2014-01-01 00:00:00'),\n",
       " Timestamp('2014-06-01 00:00:00'),\n",
       " Timestamp('2014-12-01 00:00:00'),\n",
       " Timestamp('2014-03-01 00:00:00'),\n",
       " Timestamp('2014-07-01 00:00:00'),\n",
       " Timestamp('2014-08-01 00:00:00'),\n",
       " Timestamp('2014-09-01 00:00:00'),\n",
       " Timestamp('2013-10-01 00:00:00'),\n",
       " Timestamp('2014-02-01 00:00:00'),\n",
       " Timestamp('2013-09-01 00:00:00'),\n",
       " Timestamp('2014-10-01 00:00:00'),\n",
       " Timestamp('2013-11-01 00:00:00'),\n",
       " Timestamp('2013-12-01 00:00:00'),\n",
       " Timestamp('2014-04-01 00:00:00'),\n",
       " Timestamp('2014-05-01 00:00:00'),\n",
       " Timestamp('2014-11-01 00:00:00')]"
      ]
     },
     "execution_count": 94,
     "metadata": {},
     "output_type": "execute_result"
    }
   ],
   "source": [
    "# Accessing Date for calculating Gross Sales\n",
    "date = list(df[\"Date\"].unique())\n",
    "date"
   ]
  },
  {
   "cell_type": "code",
   "execution_count": 95,
   "id": "1c5b9e3c-4e67-42c9-aa60-2c8aead505bb",
   "metadata": {},
   "outputs": [
    {
     "data": {
      "text/plain": [
       "[np.float64(7463290.542446043),\n",
       " np.float64(10268972.0),\n",
       " np.float64(12681161.042446043),\n",
       " np.float64(6124026.0),\n",
       " np.float64(8833027.5),\n",
       " np.float64(6325959.0),\n",
       " np.float64(6845317.0),\n",
       " np.float64(9828688.0),\n",
       " np.float64(7874444.042446043),\n",
       " np.float64(4729736.0),\n",
       " np.float64(13480096.042446043),\n",
       " np.float64(8167338.0),\n",
       " np.float64(5835025.0),\n",
       " np.float64(7429392.5),\n",
       " np.float64(6767911.0),\n",
       " np.float64(6122546.042446043)]"
      ]
     },
     "execution_count": 95,
     "metadata": {},
     "output_type": "execute_result"
    }
   ],
   "source": [
    "# Calculate Gross Sales on basis of Date\n",
    "grossSale = []\n",
    "for d in date:\n",
    "    gs = 0\n",
    "    for i in range(0,df.shape[0]):\n",
    "        if(d==df[\"Date\"][i]):\n",
    "            gs=gs+df[\"Gross Sales\"][i]\n",
    "    grossSale.append(gs)\n",
    "grossSale"
   ]
  },
  {
   "cell_type": "code",
   "execution_count": 102,
   "id": "349271e3-116e-4f06-9303-e78cf6eeef4e",
   "metadata": {},
   "outputs": [
    {
     "data": {
      "text/plain": [
       "['2013-09-01',\n",
       " '2013-10-01',\n",
       " '2013-11-01',\n",
       " '2013-12-01',\n",
       " '2014-01-01',\n",
       " '2014-02-01',\n",
       " '2014-03-01',\n",
       " '2014-04-01',\n",
       " '2014-05-01',\n",
       " '2014-06-01',\n",
       " '2014-07-01',\n",
       " '2014-08-01',\n",
       " '2014-09-01',\n",
       " '2014-10-01',\n",
       " '2014-11-01',\n",
       " '2014-12-01']"
      ]
     },
     "execution_count": 102,
     "metadata": {},
     "output_type": "execute_result"
    }
   ],
   "source": [
    "# Short TimeStamp\n",
    "date = list(df[\"Date\"].unique())\n",
    "date.sort()\n",
    "for i in range(0,len(date)):\n",
    "    date[i]=str(date[i])[0:10]\n",
    "date"
   ]
  },
  {
   "cell_type": "code",
   "execution_count": 112,
   "id": "d8534eee-7b8e-435e-b92a-745d119cc13c",
   "metadata": {},
   "outputs": [
    {
     "data": {
      "image/png": "[encoded data removed]",
      "text/plain": [
       "<Figure size 640x480 with 1 Axes>"
      ]
     },
     "metadata": {},
     "output_type": "display_data"
    }
   ],
   "source": [
    "plt.barh(date,grossSale)\n",
    "plt.show()"
   ]
  }
 ],
 "metadata": {
  "kernelspec": {
   "display_name": "Python 3 (ipykernel)",
   "language": "python",
   "name": "python3"
  },
  "language_info": {
   "codemirror_mode": {
    "name": "ipython",
    "version": 3
   },
   "file_extension": ".py",
   "mimetype": "text/x-python",
   "name": "python",
   "nbconvert_exporter": "python",
   "pygments_lexer": "ipython3",
   "version": "3.13.1"
  }
 },
 "nbformat": 4,
 "nbformat_minor": 5
}
