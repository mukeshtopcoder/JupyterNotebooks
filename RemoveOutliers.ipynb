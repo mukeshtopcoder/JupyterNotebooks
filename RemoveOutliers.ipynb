{
 "cells": [
  {
   "cell_type": "code",
   "execution_count": 1,
   "id": "e6535baf-f018-4b98-a395-125b5a8c8f08",
   "metadata": {},
   "outputs": [],
   "source": [
    "import pandas as pd"
   ]
  },
  {
   "cell_type": "code",
   "execution_count": 2,
   "id": "4e7a0ba6-faab-4a78-adf7-fdbede727344",
   "metadata": {},
   "outputs": [],
   "source": [
    "data = pd.read_csv(\"c:/users/saini/Downloads/final_dataset.csv\")"
   ]
  },
  {
   "cell_type": "code",
   "execution_count": 7,
   "id": "e89578f9-9a13-45f0-997a-6b52df0c2c3d",
   "metadata": {},
   "outputs": [],
   "source": [
    "df1 = data.ffill()"
   ]
  },
  {
   "cell_type": "code",
   "execution_count": 8,
   "id": "41a20216-7982-4406-b893-b28843bf0554",
   "metadata": {},
   "outputs": [
    {
     "data": {
      "text/plain": [
       "(33600, 23)"
      ]
     },
     "execution_count": 8,
     "metadata": {},
     "output_type": "execute_result"
    }
   ],
   "source": [
    "df1.shape"
   ]
  },
  {
   "cell_type": "code",
   "execution_count": 9,
   "id": "9572972c-ffc5-49d5-bd4b-f4465b2cadb6",
   "metadata": {},
   "outputs": [
    {
     "data": {
      "text/html": [
       "<div>\n",
       "<style scoped>\n",
       "    .dataframe tbody tr th:only-of-type {\n",
       "        vertical-align: middle;\n",
       "    }\n",
       "\n",
       "    .dataframe tbody tr th {\n",
       "        vertical-align: top;\n",
       "    }\n",
       "\n",
       "    .dataframe thead th {\n",
       "        text-align: right;\n",
       "    }\n",
       "</style>\n",
       "<table border=\"1\" class=\"dataframe\">\n",
       "  <thead>\n",
       "    <tr style=\"text-align: right;\">\n",
       "      <th></th>\n",
       "      <th>Year</th>\n",
       "      <th>Rating</th>\n",
       "      <th>budget</th>\n",
       "      <th>grossWorldWide</th>\n",
       "      <th>gross_US_Canada</th>\n",
       "      <th>opening_weekend_Gross</th>\n",
       "      <th>wins</th>\n",
       "      <th>nominations</th>\n",
       "      <th>oscars</th>\n",
       "    </tr>\n",
       "  </thead>\n",
       "  <tbody>\n",
       "    <tr>\n",
       "      <th>count</th>\n",
       "      <td>33600.000000</td>\n",
       "      <td>33600.000000</td>\n",
       "      <td>3.360000e+04</td>\n",
       "      <td>3.360000e+04</td>\n",
       "      <td>3.360000e+04</td>\n",
       "      <td>3.360000e+04</td>\n",
       "      <td>33600.0</td>\n",
       "      <td>33600.000000</td>\n",
       "      <td>33600.000000</td>\n",
       "    </tr>\n",
       "    <tr>\n",
       "      <th>mean</th>\n",
       "      <td>1992.393631</td>\n",
       "      <td>6.155057</td>\n",
       "      <td>2.128653e+08</td>\n",
       "      <td>2.582770e+07</td>\n",
       "      <td>1.271712e+07</td>\n",
       "      <td>2.963380e+06</td>\n",
       "      <td>0.0</td>\n",
       "      <td>4.850357</td>\n",
       "      <td>0.102619</td>\n",
       "    </tr>\n",
       "    <tr>\n",
       "      <th>std</th>\n",
       "      <td>18.957395</td>\n",
       "      <td>1.145707</td>\n",
       "      <td>6.796476e+09</td>\n",
       "      <td>1.153385e+08</td>\n",
       "      <td>4.614141e+07</td>\n",
       "      <td>1.410353e+07</td>\n",
       "      <td>0.0</td>\n",
       "      <td>17.719188</td>\n",
       "      <td>0.508687</td>\n",
       "    </tr>\n",
       "    <tr>\n",
       "      <th>min</th>\n",
       "      <td>1960.000000</td>\n",
       "      <td>1.100000</td>\n",
       "      <td>1.000000e+00</td>\n",
       "      <td>1.000000e+00</td>\n",
       "      <td>6.400000e+01</td>\n",
       "      <td>1.100000e+01</td>\n",
       "      <td>0.0</td>\n",
       "      <td>0.000000</td>\n",
       "      <td>0.000000</td>\n",
       "    </tr>\n",
       "    <tr>\n",
       "      <th>25%</th>\n",
       "      <td>1976.000000</td>\n",
       "      <td>5.500000</td>\n",
       "      <td>6.000000e+05</td>\n",
       "      <td>6.550000e+03</td>\n",
       "      <td>7.834000e+04</td>\n",
       "      <td>5.241750e+03</td>\n",
       "      <td>0.0</td>\n",
       "      <td>0.000000</td>\n",
       "      <td>0.000000</td>\n",
       "    </tr>\n",
       "    <tr>\n",
       "      <th>50%</th>\n",
       "      <td>1993.000000</td>\n",
       "      <td>6.300000</td>\n",
       "      <td>3.000000e+06</td>\n",
       "      <td>2.925765e+05</td>\n",
       "      <td>6.664420e+05</td>\n",
       "      <td>1.162300e+04</td>\n",
       "      <td>0.0</td>\n",
       "      <td>0.000000</td>\n",
       "      <td>0.000000</td>\n",
       "    </tr>\n",
       "    <tr>\n",
       "      <th>75%</th>\n",
       "      <td>2009.000000</td>\n",
       "      <td>7.000000</td>\n",
       "      <td>1.300000e+07</td>\n",
       "      <td>7.196268e+06</td>\n",
       "      <td>7.000546e+06</td>\n",
       "      <td>2.200432e+05</td>\n",
       "      <td>0.0</td>\n",
       "      <td>3.000000</td>\n",
       "      <td>0.000000</td>\n",
       "    </tr>\n",
       "    <tr>\n",
       "      <th>max</th>\n",
       "      <td>2024.000000</td>\n",
       "      <td>9.600000</td>\n",
       "      <td>3.000000e+11</td>\n",
       "      <td>2.923706e+09</td>\n",
       "      <td>9.366622e+08</td>\n",
       "      <td>3.571150e+08</td>\n",
       "      <td>0.0</td>\n",
       "      <td>433.000000</td>\n",
       "      <td>11.000000</td>\n",
       "    </tr>\n",
       "  </tbody>\n",
       "</table>\n",
       "</div>"
      ],
      "text/plain": [
       "               Year        Rating        budget  grossWorldWide  \\\n",
       "count  33600.000000  33600.000000  3.360000e+04    3.360000e+04   \n",
       "mean    1992.393631      6.155057  2.128653e+08    2.582770e+07   \n",
       "std       18.957395      1.145707  6.796476e+09    1.153385e+08   \n",
       "min     1960.000000      1.100000  1.000000e+00    1.000000e+00   \n",
       "25%     1976.000000      5.500000  6.000000e+05    6.550000e+03   \n",
       "50%     1993.000000      6.300000  3.000000e+06    2.925765e+05   \n",
       "75%     2009.000000      7.000000  1.300000e+07    7.196268e+06   \n",
       "max     2024.000000      9.600000  3.000000e+11    2.923706e+09   \n",
       "\n",
       "       gross_US_Canada  opening_weekend_Gross     wins   nominations  \\\n",
       "count     3.360000e+04           3.360000e+04  33600.0  33600.000000   \n",
       "mean      1.271712e+07           2.963380e+06      0.0      4.850357   \n",
       "std       4.614141e+07           1.410353e+07      0.0     17.719188   \n",
       "min       6.400000e+01           1.100000e+01      0.0      0.000000   \n",
       "25%       7.834000e+04           5.241750e+03      0.0      0.000000   \n",
       "50%       6.664420e+05           1.162300e+04      0.0      0.000000   \n",
       "75%       7.000546e+06           2.200432e+05      0.0      3.000000   \n",
       "max       9.366622e+08           3.571150e+08      0.0    433.000000   \n",
       "\n",
       "             oscars  \n",
       "count  33600.000000  \n",
       "mean       0.102619  \n",
       "std        0.508687  \n",
       "min        0.000000  \n",
       "25%        0.000000  \n",
       "50%        0.000000  \n",
       "75%        0.000000  \n",
       "max       11.000000  "
      ]
     },
     "execution_count": 9,
     "metadata": {},
     "output_type": "execute_result"
    }
   ],
   "source": [
    "df1.describe()"
   ]
  },
  {
   "cell_type": "code",
   "execution_count": 11,
   "id": "e01fe4e0-c778-4307-b307-cc86e0ecdd42",
   "metadata": {},
   "outputs": [],
   "source": [
    "import matplotlib.pyplot as plt\n",
    "import seaborn as sns"
   ]
  },
  {
   "cell_type": "code",
   "execution_count": 12,
   "id": "da62b853-6134-4cc5-ab10-6e9b0f77a734",
   "metadata": {},
   "outputs": [
    {
     "name": "stderr",
     "output_type": "stream",
     "text": [
      "C:\\Users\\saini\\AppData\\Local\\Temp\\ipykernel_11492\\275425264.py:1: UserWarning: \n",
      "\n",
      "`distplot` is a deprecated function and will be removed in seaborn v0.14.0.\n",
      "\n",
      "Please adapt your code to use either `displot` (a figure-level function with\n",
      "similar flexibility) or `histplot` (an axes-level function for histograms).\n",
      "\n",
      "For a guide to updating your code to use the new functions, please see\n",
      "https://gist.github.com/mwaskom/de44147ed2974457ad6372750bbe5751\n",
      "\n",
      "  sns.distplot(df1[\"budget\"])\n"
     ]
    },
    {
     "data": {
      "text/plain": [
       "<Axes: xlabel='budget', ylabel='Density'>"
      ]
     },
     "execution_count": 12,
     "metadata": {},
     "output_type": "execute_result"
    },
    {
     "data": {
      "image/png": "[encoded data removed]",
      "text/plain": [
       "<Figure size 640x480 with 1 Axes>"
      ]
     },
     "metadata": {},
     "output_type": "display_data"
    }
   ],
   "source": [
    "sns.distplot(df1[\"budget\"])"
   ]
  },
  {
   "cell_type": "code",
   "execution_count": 14,
   "id": "40c8d0ea-e0da-4fcc-af18-70d7249c5006",
   "metadata": {},
   "outputs": [
    {
     "data": {
      "image/png": "[encoded data removed]",
      "text/plain": [
       "<Figure size 640x480 with 1 Axes>"
      ]
     },
     "metadata": {},
     "output_type": "display_data"
    }
   ],
   "source": [
    "plt.scatter(df1[\"budget\"],df1[\"Year\"])\n",
    "plt.show()"
   ]
  },
  {
   "cell_type": "code",
   "execution_count": 16,
   "id": "6a6c476f-3db0-4e35-94a5-96d3405dda26",
   "metadata": {},
   "outputs": [
    {
     "data": {
      "text/plain": [
       "(np.float64(600000.0), np.float64(13000000.0), np.float64(12400000.0))"
      ]
     },
     "execution_count": 16,
     "metadata": {},
     "output_type": "execute_result"
    }
   ],
   "source": [
    "q1 = df1[\"budget\"].quantile(0.25)\n",
    "q3 = df1[\"budget\"].quantile(0.75)\n",
    "IQR = q3-q1\n",
    "q1,q3,IQR"
   ]
  },
  {
   "cell_type": "code",
   "execution_count": 18,
   "id": "97dc88c9-a459-4023-9d66-32691645ea6d",
   "metadata": {},
   "outputs": [
    {
     "data": {
      "text/plain": [
       "np.float64(212865308.88654763)"
      ]
     },
     "execution_count": 18,
     "metadata": {},
     "output_type": "execute_result"
    }
   ],
   "source": [
    "df1[\"budget\"].mean()"
   ]
  },
  {
   "cell_type": "code",
   "execution_count": 19,
   "id": "f564774f-4fb6-4006-8764-08bf3af02100",
   "metadata": {},
   "outputs": [
    {
     "data": {
      "text/plain": [
       "(np.float64(-18000000.0), np.float64(31600000.0))"
      ]
     },
     "execution_count": 19,
     "metadata": {},
     "output_type": "execute_result"
    }
   ],
   "source": [
    "min_range = q1-(1.5*IQR)\n",
    "max_range = q3+(1.5*IQR)\n",
    "min_range,max_range"
   ]
  },
  {
   "cell_type": "code",
   "execution_count": 20,
   "id": "fbb16ed0-e7be-4855-b8e0-95bb7134fa1e",
   "metadata": {},
   "outputs": [],
   "source": [
    "df1 = df1[df1[\"budget\"]<=max_range]"
   ]
  },
  {
   "cell_type": "code",
   "execution_count": 21,
   "id": "1b6a4bab-dd72-4572-b282-d951072eea00",
   "metadata": {},
   "outputs": [
    {
     "data": {
      "text/plain": [
       "(29377, 23)"
      ]
     },
     "execution_count": 21,
     "metadata": {},
     "output_type": "execute_result"
    }
   ],
   "source": [
    "df1.shape"
   ]
  },
  {
   "cell_type": "code",
   "execution_count": 22,
   "id": "f5cf74ce-6335-4009-9242-b2d0e75924cc",
   "metadata": {},
   "outputs": [
    {
     "data": {
      "text/plain": [
       "4223"
      ]
     },
     "execution_count": 22,
     "metadata": {},
     "output_type": "execute_result"
    }
   ],
   "source": [
    "33600-29377"
   ]
  },
  {
   "cell_type": "code",
   "execution_count": 23,
   "id": "13bb779f-eab9-4dd8-a8fa-53ff3d97d3b8",
   "metadata": {},
   "outputs": [
    {
     "data": {
      "text/plain": [
       "12.56845238095238"
      ]
     },
     "execution_count": 23,
     "metadata": {},
     "output_type": "execute_result"
    }
   ],
   "source": [
    "4223/33600*100"
   ]
  },
  {
   "cell_type": "code",
   "execution_count": 24,
   "id": "cdb20bc0-ca15-4fc2-9317-e9d78b2f3c17",
   "metadata": {},
   "outputs": [
    {
     "name": "stderr",
     "output_type": "stream",
     "text": [
      "C:\\Users\\saini\\AppData\\Local\\Temp\\ipykernel_11492\\275425264.py:1: UserWarning: \n",
      "\n",
      "`distplot` is a deprecated function and will be removed in seaborn v0.14.0.\n",
      "\n",
      "Please adapt your code to use either `displot` (a figure-level function with\n",
      "similar flexibility) or `histplot` (an axes-level function for histograms).\n",
      "\n",
      "For a guide to updating your code to use the new functions, please see\n",
      "https://gist.github.com/mwaskom/de44147ed2974457ad6372750bbe5751\n",
      "\n",
      "  sns.distplot(df1[\"budget\"])\n"
     ]
    },
    {
     "data": {
      "text/plain": [
       "<Axes: xlabel='budget', ylabel='Density'>"
      ]
     },
     "execution_count": 24,
     "metadata": {},
     "output_type": "execute_result"
    },
    {
     "data": {
      "image/png": "[encoded data removed]",
      "text/plain": [
       "<Figure size 640x480 with 1 Axes>"
      ]
     },
     "metadata": {},
     "output_type": "display_data"
    }
   ],
   "source": [
    "sns.distplot(df1[\"budget\"])"
   ]
  },
  {
   "cell_type": "code",
   "execution_count": 25,
   "id": "d06f681f-6fbe-4050-8e3c-2a0e034a84b1",
   "metadata": {},
   "outputs": [
    {
     "data": {
      "image/png": "[encoded data removed]",
      "text/plain": [
       "<Figure size 640x480 with 1 Axes>"
      ]
     },
     "metadata": {},
     "output_type": "display_data"
    }
   ],
   "source": [
    "plt.scatter(df1[\"budget\"],df1[\"Year\"])\n",
    "plt.show()"
   ]
  },
  {
   "cell_type": "code",
   "execution_count": 81,
   "id": "6b87308e-2295-44e7-87c5-3231a519f0a4",
   "metadata": {},
   "outputs": [],
   "source": [
    "df2 = data.ffill()"
   ]
  },
  {
   "cell_type": "code",
   "execution_count": 82,
   "id": "6c3dd739-b4fd-479c-8d1f-3e240a396d41",
   "metadata": {},
   "outputs": [
    {
     "data": {
      "text/plain": [
       "(33600, 23)"
      ]
     },
     "execution_count": 82,
     "metadata": {},
     "output_type": "execute_result"
    }
   ],
   "source": [
    "df2.shape"
   ]
  },
  {
   "cell_type": "code",
   "execution_count": 83,
   "id": "ffb751cc-91a2-4ec2-962d-5db5fb66b48e",
   "metadata": {},
   "outputs": [
    {
     "data": {
      "text/plain": [
       "id                       0\n",
       "Title                    0\n",
       "Movie Link               0\n",
       "Year                     0\n",
       "Duration                 0\n",
       "MPA                      0\n",
       "Rating                   0\n",
       "Votes                    0\n",
       "budget                   0\n",
       "grossWorldWide           0\n",
       "gross_US_Canada          0\n",
       "opening_weekend_Gross    0\n",
       "directors                0\n",
       "writers                  0\n",
       "stars                    0\n",
       "genres                   0\n",
       "countries_origin         0\n",
       "filming_locations        0\n",
       "production_companies     0\n",
       "Languages                0\n",
       "wins                     0\n",
       "nominations              0\n",
       "oscars                   0\n",
       "dtype: int64"
      ]
     },
     "execution_count": 83,
     "metadata": {},
     "output_type": "execute_result"
    }
   ],
   "source": [
    "df2.isnull().sum()"
   ]
  },
  {
   "cell_type": "code",
   "execution_count": 84,
   "id": "0e8a9c07-2b71-4571-bacc-c9ee34b482b0",
   "metadata": {},
   "outputs": [
    {
     "data": {
      "text/html": [
       "<div>\n",
       "<style scoped>\n",
       "    .dataframe tbody tr th:only-of-type {\n",
       "        vertical-align: middle;\n",
       "    }\n",
       "\n",
       "    .dataframe tbody tr th {\n",
       "        vertical-align: top;\n",
       "    }\n",
       "\n",
       "    .dataframe thead th {\n",
       "        text-align: right;\n",
       "    }\n",
       "</style>\n",
       "<table border=\"1\" class=\"dataframe\">\n",
       "  <thead>\n",
       "    <tr style=\"text-align: right;\">\n",
       "      <th></th>\n",
       "      <th>Year</th>\n",
       "      <th>Rating</th>\n",
       "      <th>budget</th>\n",
       "      <th>grossWorldWide</th>\n",
       "      <th>gross_US_Canada</th>\n",
       "      <th>opening_weekend_Gross</th>\n",
       "      <th>wins</th>\n",
       "      <th>nominations</th>\n",
       "      <th>oscars</th>\n",
       "    </tr>\n",
       "  </thead>\n",
       "  <tbody>\n",
       "    <tr>\n",
       "      <th>count</th>\n",
       "      <td>33600.000000</td>\n",
       "      <td>33600.000000</td>\n",
       "      <td>3.360000e+04</td>\n",
       "      <td>3.360000e+04</td>\n",
       "      <td>3.360000e+04</td>\n",
       "      <td>3.360000e+04</td>\n",
       "      <td>33600.0</td>\n",
       "      <td>33600.000000</td>\n",
       "      <td>33600.000000</td>\n",
       "    </tr>\n",
       "    <tr>\n",
       "      <th>mean</th>\n",
       "      <td>1992.393631</td>\n",
       "      <td>6.155057</td>\n",
       "      <td>2.128653e+08</td>\n",
       "      <td>2.582770e+07</td>\n",
       "      <td>1.271712e+07</td>\n",
       "      <td>2.963380e+06</td>\n",
       "      <td>0.0</td>\n",
       "      <td>4.850357</td>\n",
       "      <td>0.102619</td>\n",
       "    </tr>\n",
       "    <tr>\n",
       "      <th>std</th>\n",
       "      <td>18.957395</td>\n",
       "      <td>1.145707</td>\n",
       "      <td>6.796476e+09</td>\n",
       "      <td>1.153385e+08</td>\n",
       "      <td>4.614141e+07</td>\n",
       "      <td>1.410353e+07</td>\n",
       "      <td>0.0</td>\n",
       "      <td>17.719188</td>\n",
       "      <td>0.508687</td>\n",
       "    </tr>\n",
       "    <tr>\n",
       "      <th>min</th>\n",
       "      <td>1960.000000</td>\n",
       "      <td>1.100000</td>\n",
       "      <td>1.000000e+00</td>\n",
       "      <td>1.000000e+00</td>\n",
       "      <td>6.400000e+01</td>\n",
       "      <td>1.100000e+01</td>\n",
       "      <td>0.0</td>\n",
       "      <td>0.000000</td>\n",
       "      <td>0.000000</td>\n",
       "    </tr>\n",
       "    <tr>\n",
       "      <th>25%</th>\n",
       "      <td>1976.000000</td>\n",
       "      <td>5.500000</td>\n",
       "      <td>6.000000e+05</td>\n",
       "      <td>6.550000e+03</td>\n",
       "      <td>7.834000e+04</td>\n",
       "      <td>5.241750e+03</td>\n",
       "      <td>0.0</td>\n",
       "      <td>0.000000</td>\n",
       "      <td>0.000000</td>\n",
       "    </tr>\n",
       "    <tr>\n",
       "      <th>50%</th>\n",
       "      <td>1993.000000</td>\n",
       "      <td>6.300000</td>\n",
       "      <td>3.000000e+06</td>\n",
       "      <td>2.925765e+05</td>\n",
       "      <td>6.664420e+05</td>\n",
       "      <td>1.162300e+04</td>\n",
       "      <td>0.0</td>\n",
       "      <td>0.000000</td>\n",
       "      <td>0.000000</td>\n",
       "    </tr>\n",
       "    <tr>\n",
       "      <th>75%</th>\n",
       "      <td>2009.000000</td>\n",
       "      <td>7.000000</td>\n",
       "      <td>1.300000e+07</td>\n",
       "      <td>7.196268e+06</td>\n",
       "      <td>7.000546e+06</td>\n",
       "      <td>2.200432e+05</td>\n",
       "      <td>0.0</td>\n",
       "      <td>3.000000</td>\n",
       "      <td>0.000000</td>\n",
       "    </tr>\n",
       "    <tr>\n",
       "      <th>max</th>\n",
       "      <td>2024.000000</td>\n",
       "      <td>9.600000</td>\n",
       "      <td>3.000000e+11</td>\n",
       "      <td>2.923706e+09</td>\n",
       "      <td>9.366622e+08</td>\n",
       "      <td>3.571150e+08</td>\n",
       "      <td>0.0</td>\n",
       "      <td>433.000000</td>\n",
       "      <td>11.000000</td>\n",
       "    </tr>\n",
       "  </tbody>\n",
       "</table>\n",
       "</div>"
      ],
      "text/plain": [
       "               Year        Rating        budget  grossWorldWide  \\\n",
       "count  33600.000000  33600.000000  3.360000e+04    3.360000e+04   \n",
       "mean    1992.393631      6.155057  2.128653e+08    2.582770e+07   \n",
       "std       18.957395      1.145707  6.796476e+09    1.153385e+08   \n",
       "min     1960.000000      1.100000  1.000000e+00    1.000000e+00   \n",
       "25%     1976.000000      5.500000  6.000000e+05    6.550000e+03   \n",
       "50%     1993.000000      6.300000  3.000000e+06    2.925765e+05   \n",
       "75%     2009.000000      7.000000  1.300000e+07    7.196268e+06   \n",
       "max     2024.000000      9.600000  3.000000e+11    2.923706e+09   \n",
       "\n",
       "       gross_US_Canada  opening_weekend_Gross     wins   nominations  \\\n",
       "count     3.360000e+04           3.360000e+04  33600.0  33600.000000   \n",
       "mean      1.271712e+07           2.963380e+06      0.0      4.850357   \n",
       "std       4.614141e+07           1.410353e+07      0.0     17.719188   \n",
       "min       6.400000e+01           1.100000e+01      0.0      0.000000   \n",
       "25%       7.834000e+04           5.241750e+03      0.0      0.000000   \n",
       "50%       6.664420e+05           1.162300e+04      0.0      0.000000   \n",
       "75%       7.000546e+06           2.200432e+05      0.0      3.000000   \n",
       "max       9.366622e+08           3.571150e+08      0.0    433.000000   \n",
       "\n",
       "             oscars  \n",
       "count  33600.000000  \n",
       "mean       0.102619  \n",
       "std        0.508687  \n",
       "min        0.000000  \n",
       "25%        0.000000  \n",
       "50%        0.000000  \n",
       "75%        0.000000  \n",
       "max       11.000000  "
      ]
     },
     "execution_count": 84,
     "metadata": {},
     "output_type": "execute_result"
    }
   ],
   "source": [
    "df2.describe()"
   ]
  },
  {
   "cell_type": "code",
   "execution_count": 85,
   "id": "e8cfa493-892c-4fa0-985d-7184afe320fa",
   "metadata": {},
   "outputs": [
    {
     "name": "stderr",
     "output_type": "stream",
     "text": [
      "C:\\Users\\saini\\AppData\\Local\\Temp\\ipykernel_11492\\2543802552.py:1: UserWarning: \n",
      "\n",
      "`distplot` is a deprecated function and will be removed in seaborn v0.14.0.\n",
      "\n",
      "Please adapt your code to use either `displot` (a figure-level function with\n",
      "similar flexibility) or `histplot` (an axes-level function for histograms).\n",
      "\n",
      "For a guide to updating your code to use the new functions, please see\n",
      "https://gist.github.com/mwaskom/de44147ed2974457ad6372750bbe5751\n",
      "\n",
      "  sns.distplot(df2[\"budget\"])\n"
     ]
    },
    {
     "data": {
      "text/plain": [
       "<Axes: xlabel='budget', ylabel='Density'>"
      ]
     },
     "execution_count": 85,
     "metadata": {},
     "output_type": "execute_result"
    },
    {
     "data": {
      "image/png": "[encoded data removed]",
      "text/plain": [
       "<Figure size 640x480 with 1 Axes>"
      ]
     },
     "metadata": {},
     "output_type": "display_data"
    }
   ],
   "source": [
    "sns.distplot(df2[\"budget\"])"
   ]
  },
  {
   "cell_type": "code",
   "execution_count": 86,
   "id": "6c9dfdbf-eaea-41a3-8367-67604b3dc318",
   "metadata": {},
   "outputs": [
    {
     "data": {
      "image/png": "[encoded data removed]",
      "text/plain": [
       "<Figure size 640x480 with 1 Axes>"
      ]
     },
     "metadata": {},
     "output_type": "display_data"
    }
   ],
   "source": [
    "plt.scatter(df2[\"budget\"],df2[\"Year\"])\n",
    "plt.show()"
   ]
  },
  {
   "cell_type": "code",
   "execution_count": 87,
   "id": "17908832-8c77-44b2-a801-f718d8d11c5d",
   "metadata": {},
   "outputs": [],
   "source": [
    "df2['z_score'] = ( df2['budget']-df2['budget'].mean() ) / df2['budget'].std() "
   ]
  },
  {
   "cell_type": "code",
   "execution_count": 88,
   "id": "bc5d5519-d96b-408d-b1a1-303b26f85b7f",
   "metadata": {},
   "outputs": [
    {
     "data": {
      "text/html": [
       "<div>\n",
       "<style scoped>\n",
       "    .dataframe tbody tr th:only-of-type {\n",
       "        vertical-align: middle;\n",
       "    }\n",
       "\n",
       "    .dataframe tbody tr th {\n",
       "        vertical-align: top;\n",
       "    }\n",
       "\n",
       "    .dataframe thead th {\n",
       "        text-align: right;\n",
       "    }\n",
       "</style>\n",
       "<table border=\"1\" class=\"dataframe\">\n",
       "  <thead>\n",
       "    <tr style=\"text-align: right;\">\n",
       "      <th></th>\n",
       "      <th>id</th>\n",
       "      <th>Title</th>\n",
       "      <th>Movie Link</th>\n",
       "      <th>Year</th>\n",
       "      <th>Duration</th>\n",
       "      <th>MPA</th>\n",
       "      <th>Rating</th>\n",
       "      <th>Votes</th>\n",
       "      <th>budget</th>\n",
       "      <th>grossWorldWide</th>\n",
       "      <th>...</th>\n",
       "      <th>stars</th>\n",
       "      <th>genres</th>\n",
       "      <th>countries_origin</th>\n",
       "      <th>filming_locations</th>\n",
       "      <th>production_companies</th>\n",
       "      <th>Languages</th>\n",
       "      <th>wins</th>\n",
       "      <th>nominations</th>\n",
       "      <th>oscars</th>\n",
       "      <th>z_score</th>\n",
       "    </tr>\n",
       "  </thead>\n",
       "  <tbody>\n",
       "    <tr>\n",
       "      <th>0</th>\n",
       "      <td>tt0073195</td>\n",
       "      <td>Jaws</td>\n",
       "      <td>https://www.imdb.com/title/tt0073195</td>\n",
       "      <td>1975</td>\n",
       "      <td>2h 4m</td>\n",
       "      <td>PG</td>\n",
       "      <td>8.1</td>\n",
       "      <td>683K</td>\n",
       "      <td>7000000.0</td>\n",
       "      <td>477220580.0</td>\n",
       "      <td>...</td>\n",
       "      <td>['Roy Scheider', 'Robert Shaw', 'Richard Dreyf...</td>\n",
       "      <td>['Monster Horror', 'Sea Adventure', 'Survival'...</td>\n",
       "      <td>['United States']</td>\n",
       "      <td>[\"Water Street, Edgartown, Martha's Vineyard, ...</td>\n",
       "      <td>['Zanuck/Brown Productions', 'Universal Pictur...</td>\n",
       "      <td>['English']</td>\n",
       "      <td>0</td>\n",
       "      <td>20</td>\n",
       "      <td>0</td>\n",
       "      <td>-0.030290</td>\n",
       "    </tr>\n",
       "    <tr>\n",
       "      <th>1</th>\n",
       "      <td>tt0073629</td>\n",
       "      <td>The Rocky Horror Picture Show</td>\n",
       "      <td>https://www.imdb.com/title/tt0073629</td>\n",
       "      <td>1975</td>\n",
       "      <td>1h 40m</td>\n",
       "      <td>R</td>\n",
       "      <td>7.4</td>\n",
       "      <td>173K</td>\n",
       "      <td>1200000.0</td>\n",
       "      <td>115798478.0</td>\n",
       "      <td>...</td>\n",
       "      <td>['Tim Curry', 'Susan Sarandon', 'Barry Bostwick']</td>\n",
       "      <td>['Dark Comedy', 'Raunchy Comedy', 'Rock Musica...</td>\n",
       "      <td>['United Kingdom', 'United States']</td>\n",
       "      <td>['Oakley Court, Windsor Road, Oakley Green, Wi...</td>\n",
       "      <td>['Twentieth Century Fox', 'Michael White Produ...</td>\n",
       "      <td>['English']</td>\n",
       "      <td>0</td>\n",
       "      <td>4</td>\n",
       "      <td>0</td>\n",
       "      <td>-0.031143</td>\n",
       "    </tr>\n",
       "    <tr>\n",
       "      <th>2</th>\n",
       "      <td>tt0073486</td>\n",
       "      <td>One Flew Over the Cuckoo's Nest</td>\n",
       "      <td>https://www.imdb.com/title/tt0073486</td>\n",
       "      <td>1975</td>\n",
       "      <td>2h 13m</td>\n",
       "      <td>R</td>\n",
       "      <td>8.7</td>\n",
       "      <td>1.1M</td>\n",
       "      <td>3000000.0</td>\n",
       "      <td>109115366.0</td>\n",
       "      <td>...</td>\n",
       "      <td>['Jack Nicholson', 'Louise Fletcher', 'Michael...</td>\n",
       "      <td>['Medical Drama', 'Psychological Drama', 'Drama']</td>\n",
       "      <td>['United States']</td>\n",
       "      <td>['Oregon State Mental Hospital - 2600 Center S...</td>\n",
       "      <td>['Fantasy Films', 'N.V. Zvaluw']</td>\n",
       "      <td>['English']</td>\n",
       "      <td>0</td>\n",
       "      <td>15</td>\n",
       "      <td>0</td>\n",
       "      <td>-0.030879</td>\n",
       "    </tr>\n",
       "    <tr>\n",
       "      <th>3</th>\n",
       "      <td>tt0072890</td>\n",
       "      <td>Dog Day Afternoon</td>\n",
       "      <td>https://www.imdb.com/title/tt0072890</td>\n",
       "      <td>1975</td>\n",
       "      <td>2h 5m</td>\n",
       "      <td>R</td>\n",
       "      <td>8.0</td>\n",
       "      <td>279K</td>\n",
       "      <td>1800000.0</td>\n",
       "      <td>50002721.0</td>\n",
       "      <td>...</td>\n",
       "      <td>['Al Pacino', 'John Cazale', 'Penelope Allen']</td>\n",
       "      <td>['Heist', 'True Crime', 'Biography', 'Crime', ...</td>\n",
       "      <td>['United States']</td>\n",
       "      <td>['285 Prospect Park West, Brooklyn, New York C...</td>\n",
       "      <td>['Warner Bros.', 'Artists Entertainment Complex']</td>\n",
       "      <td>['English']</td>\n",
       "      <td>0</td>\n",
       "      <td>20</td>\n",
       "      <td>0</td>\n",
       "      <td>-0.031055</td>\n",
       "    </tr>\n",
       "    <tr>\n",
       "      <th>4</th>\n",
       "      <td>tt0073692</td>\n",
       "      <td>Shampoo</td>\n",
       "      <td>https://www.imdb.com/title/tt0073692</td>\n",
       "      <td>1975</td>\n",
       "      <td>1h 50m</td>\n",
       "      <td>R</td>\n",
       "      <td>6.4</td>\n",
       "      <td>15K</td>\n",
       "      <td>4000000.0</td>\n",
       "      <td>49407734.0</td>\n",
       "      <td>...</td>\n",
       "      <td>['Warren Beatty', 'Julie Christie', 'Goldie Ha...</td>\n",
       "      <td>['Satire', 'Comedy', 'Drama']</td>\n",
       "      <td>['United States']</td>\n",
       "      <td>['2270 Bowmont Drive, Beverly Hills, Californi...</td>\n",
       "      <td>['Persky-Bright / Vista', 'Columbia Pictures',...</td>\n",
       "      <td>['English']</td>\n",
       "      <td>0</td>\n",
       "      <td>11</td>\n",
       "      <td>0</td>\n",
       "      <td>-0.030731</td>\n",
       "    </tr>\n",
       "    <tr>\n",
       "      <th>...</th>\n",
       "      <td>...</td>\n",
       "      <td>...</td>\n",
       "      <td>...</td>\n",
       "      <td>...</td>\n",
       "      <td>...</td>\n",
       "      <td>...</td>\n",
       "      <td>...</td>\n",
       "      <td>...</td>\n",
       "      <td>...</td>\n",
       "      <td>...</td>\n",
       "      <td>...</td>\n",
       "      <td>...</td>\n",
       "      <td>...</td>\n",
       "      <td>...</td>\n",
       "      <td>...</td>\n",
       "      <td>...</td>\n",
       "      <td>...</td>\n",
       "      <td>...</td>\n",
       "      <td>...</td>\n",
       "      <td>...</td>\n",
       "      <td>...</td>\n",
       "    </tr>\n",
       "    <tr>\n",
       "      <th>33595</th>\n",
       "      <td>tt0094076</td>\n",
       "      <td>The South</td>\n",
       "      <td>https://www.imdb.com/title/tt0094076</td>\n",
       "      <td>1988</td>\n",
       "      <td>2h 7m</td>\n",
       "      <td>R</td>\n",
       "      <td>7.3</td>\n",
       "      <td>1.1K</td>\n",
       "      <td>60000.0</td>\n",
       "      <td>335.0</td>\n",
       "      <td>...</td>\n",
       "      <td>['Susú Pecoraro', 'Miguel Ángel Solá', 'Philip...</td>\n",
       "      <td>['Drama']</td>\n",
       "      <td>['Argentina', 'France']</td>\n",
       "      <td>['Buenos Aires, Federal District, Argentina']</td>\n",
       "      <td>['Canal+', 'Cinesur (Envar El Kadri)', 'Produc...</td>\n",
       "      <td>['Spanish', 'French']</td>\n",
       "      <td>0</td>\n",
       "      <td>2</td>\n",
       "      <td>0</td>\n",
       "      <td>-0.031311</td>\n",
       "    </tr>\n",
       "    <tr>\n",
       "      <th>33596</th>\n",
       "      <td>tt0256664</td>\n",
       "      <td>El cabaretero y sus golfas</td>\n",
       "      <td>https://www.imdb.com/title/tt0256664</td>\n",
       "      <td>1988</td>\n",
       "      <td>1h 25m</td>\n",
       "      <td>R</td>\n",
       "      <td>4.9</td>\n",
       "      <td>12</td>\n",
       "      <td>60000.0</td>\n",
       "      <td>335.0</td>\n",
       "      <td>...</td>\n",
       "      <td>['Raúl Ramírez', 'Raúl Marcelo', 'Marcela Davi...</td>\n",
       "      <td>['Comedy']</td>\n",
       "      <td>['Mexico']</td>\n",
       "      <td>['Buenos Aires, Federal District, Argentina']</td>\n",
       "      <td>['Canal+', 'Cinesur (Envar El Kadri)', 'Produc...</td>\n",
       "      <td>['Spanish']</td>\n",
       "      <td>0</td>\n",
       "      <td>0</td>\n",
       "      <td>0</td>\n",
       "      <td>-0.031311</td>\n",
       "    </tr>\n",
       "    <tr>\n",
       "      <th>33597</th>\n",
       "      <td>tt0353261</td>\n",
       "      <td>BraveStarr: The Legend</td>\n",
       "      <td>https://www.imdb.com/title/tt0353261</td>\n",
       "      <td>1988</td>\n",
       "      <td>1h 31m</td>\n",
       "      <td>PG</td>\n",
       "      <td>6.8</td>\n",
       "      <td>1.3K</td>\n",
       "      <td>60000.0</td>\n",
       "      <td>335.0</td>\n",
       "      <td>...</td>\n",
       "      <td>['Charlie Adler', 'Susan Blu', 'Pat Fraley']</td>\n",
       "      <td>['Superhero', 'Action', 'Adventure', 'Animatio...</td>\n",
       "      <td>['United States']</td>\n",
       "      <td>['Buenos Aires, Federal District, Argentina']</td>\n",
       "      <td>['Filmation Associates']</td>\n",
       "      <td>['English']</td>\n",
       "      <td>0</td>\n",
       "      <td>0</td>\n",
       "      <td>0</td>\n",
       "      <td>-0.031311</td>\n",
       "    </tr>\n",
       "    <tr>\n",
       "      <th>33598</th>\n",
       "      <td>tt0098474</td>\n",
       "      <td>Fighting Madam 2</td>\n",
       "      <td>https://www.imdb.com/title/tt0098474</td>\n",
       "      <td>1988</td>\n",
       "      <td>1h 30m</td>\n",
       "      <td>PG</td>\n",
       "      <td>6.3</td>\n",
       "      <td>337</td>\n",
       "      <td>60000.0</td>\n",
       "      <td>335.0</td>\n",
       "      <td>...</td>\n",
       "      <td>['Alex Fong', 'Moon Lee', 'Elaine Lui']</td>\n",
       "      <td>['Action']</td>\n",
       "      <td>['Hong Kong']</td>\n",
       "      <td>['Kuala Lumpur, Malaysia']</td>\n",
       "      <td>['Molesworth Limited']</td>\n",
       "      <td>['Cantonese', 'Mandarin']</td>\n",
       "      <td>0</td>\n",
       "      <td>0</td>\n",
       "      <td>0</td>\n",
       "      <td>-0.031311</td>\n",
       "    </tr>\n",
       "    <tr>\n",
       "      <th>33599</th>\n",
       "      <td>tt0096039</td>\n",
       "      <td>Saturday the 14th Strikes Back</td>\n",
       "      <td>https://www.imdb.com/title/tt0096039</td>\n",
       "      <td>1988</td>\n",
       "      <td>1h 18m</td>\n",
       "      <td>PG</td>\n",
       "      <td>3.1</td>\n",
       "      <td>737</td>\n",
       "      <td>60000.0</td>\n",
       "      <td>335.0</td>\n",
       "      <td>...</td>\n",
       "      <td>['Ray Walston', 'Avery Schreiber', 'Patty McCo...</td>\n",
       "      <td>['Comedy', 'Fantasy', 'Horror', 'Sci-Fi']</td>\n",
       "      <td>['United States']</td>\n",
       "      <td>['Venice, California, USA']</td>\n",
       "      <td>['Pacific Trust']</td>\n",
       "      <td>['English']</td>\n",
       "      <td>0</td>\n",
       "      <td>0</td>\n",
       "      <td>0</td>\n",
       "      <td>-0.031311</td>\n",
       "    </tr>\n",
       "  </tbody>\n",
       "</table>\n",
       "<p>33600 rows × 24 columns</p>\n",
       "</div>"
      ],
      "text/plain": [
       "              id                            Title  \\\n",
       "0      tt0073195                             Jaws   \n",
       "1      tt0073629    The Rocky Horror Picture Show   \n",
       "2      tt0073486  One Flew Over the Cuckoo's Nest   \n",
       "3      tt0072890                Dog Day Afternoon   \n",
       "4      tt0073692                          Shampoo   \n",
       "...          ...                              ...   \n",
       "33595  tt0094076                        The South   \n",
       "33596  tt0256664       El cabaretero y sus golfas   \n",
       "33597  tt0353261           BraveStarr: The Legend   \n",
       "33598  tt0098474                 Fighting Madam 2   \n",
       "33599  tt0096039   Saturday the 14th Strikes Back   \n",
       "\n",
       "                                 Movie Link  Year Duration MPA  Rating Votes  \\\n",
       "0      https://www.imdb.com/title/tt0073195  1975    2h 4m  PG     8.1  683K   \n",
       "1      https://www.imdb.com/title/tt0073629  1975   1h 40m   R     7.4  173K   \n",
       "2      https://www.imdb.com/title/tt0073486  1975   2h 13m   R     8.7  1.1M   \n",
       "3      https://www.imdb.com/title/tt0072890  1975    2h 5m   R     8.0  279K   \n",
       "4      https://www.imdb.com/title/tt0073692  1975   1h 50m   R     6.4   15K   \n",
       "...                                     ...   ...      ...  ..     ...   ...   \n",
       "33595  https://www.imdb.com/title/tt0094076  1988    2h 7m   R     7.3  1.1K   \n",
       "33596  https://www.imdb.com/title/tt0256664  1988   1h 25m   R     4.9    12   \n",
       "33597  https://www.imdb.com/title/tt0353261  1988   1h 31m  PG     6.8  1.3K   \n",
       "33598  https://www.imdb.com/title/tt0098474  1988   1h 30m  PG     6.3   337   \n",
       "33599  https://www.imdb.com/title/tt0096039  1988   1h 18m  PG     3.1   737   \n",
       "\n",
       "          budget  grossWorldWide  ...  \\\n",
       "0      7000000.0     477220580.0  ...   \n",
       "1      1200000.0     115798478.0  ...   \n",
       "2      3000000.0     109115366.0  ...   \n",
       "3      1800000.0      50002721.0  ...   \n",
       "4      4000000.0      49407734.0  ...   \n",
       "...          ...             ...  ...   \n",
       "33595    60000.0           335.0  ...   \n",
       "33596    60000.0           335.0  ...   \n",
       "33597    60000.0           335.0  ...   \n",
       "33598    60000.0           335.0  ...   \n",
       "33599    60000.0           335.0  ...   \n",
       "\n",
       "                                                   stars  \\\n",
       "0      ['Roy Scheider', 'Robert Shaw', 'Richard Dreyf...   \n",
       "1      ['Tim Curry', 'Susan Sarandon', 'Barry Bostwick']   \n",
       "2      ['Jack Nicholson', 'Louise Fletcher', 'Michael...   \n",
       "3         ['Al Pacino', 'John Cazale', 'Penelope Allen']   \n",
       "4      ['Warren Beatty', 'Julie Christie', 'Goldie Ha...   \n",
       "...                                                  ...   \n",
       "33595  ['Susú Pecoraro', 'Miguel Ángel Solá', 'Philip...   \n",
       "33596  ['Raúl Ramírez', 'Raúl Marcelo', 'Marcela Davi...   \n",
       "33597       ['Charlie Adler', 'Susan Blu', 'Pat Fraley']   \n",
       "33598            ['Alex Fong', 'Moon Lee', 'Elaine Lui']   \n",
       "33599  ['Ray Walston', 'Avery Schreiber', 'Patty McCo...   \n",
       "\n",
       "                                                  genres  \\\n",
       "0      ['Monster Horror', 'Sea Adventure', 'Survival'...   \n",
       "1      ['Dark Comedy', 'Raunchy Comedy', 'Rock Musica...   \n",
       "2      ['Medical Drama', 'Psychological Drama', 'Drama']   \n",
       "3      ['Heist', 'True Crime', 'Biography', 'Crime', ...   \n",
       "4                          ['Satire', 'Comedy', 'Drama']   \n",
       "...                                                  ...   \n",
       "33595                                          ['Drama']   \n",
       "33596                                         ['Comedy']   \n",
       "33597  ['Superhero', 'Action', 'Adventure', 'Animatio...   \n",
       "33598                                         ['Action']   \n",
       "33599          ['Comedy', 'Fantasy', 'Horror', 'Sci-Fi']   \n",
       "\n",
       "                          countries_origin  \\\n",
       "0                        ['United States']   \n",
       "1      ['United Kingdom', 'United States']   \n",
       "2                        ['United States']   \n",
       "3                        ['United States']   \n",
       "4                        ['United States']   \n",
       "...                                    ...   \n",
       "33595              ['Argentina', 'France']   \n",
       "33596                           ['Mexico']   \n",
       "33597                    ['United States']   \n",
       "33598                        ['Hong Kong']   \n",
       "33599                    ['United States']   \n",
       "\n",
       "                                       filming_locations  \\\n",
       "0      [\"Water Street, Edgartown, Martha's Vineyard, ...   \n",
       "1      ['Oakley Court, Windsor Road, Oakley Green, Wi...   \n",
       "2      ['Oregon State Mental Hospital - 2600 Center S...   \n",
       "3      ['285 Prospect Park West, Brooklyn, New York C...   \n",
       "4      ['2270 Bowmont Drive, Beverly Hills, Californi...   \n",
       "...                                                  ...   \n",
       "33595      ['Buenos Aires, Federal District, Argentina']   \n",
       "33596      ['Buenos Aires, Federal District, Argentina']   \n",
       "33597      ['Buenos Aires, Federal District, Argentina']   \n",
       "33598                         ['Kuala Lumpur, Malaysia']   \n",
       "33599                        ['Venice, California, USA']   \n",
       "\n",
       "                                    production_companies  \\\n",
       "0      ['Zanuck/Brown Productions', 'Universal Pictur...   \n",
       "1      ['Twentieth Century Fox', 'Michael White Produ...   \n",
       "2                       ['Fantasy Films', 'N.V. Zvaluw']   \n",
       "3      ['Warner Bros.', 'Artists Entertainment Complex']   \n",
       "4      ['Persky-Bright / Vista', 'Columbia Pictures',...   \n",
       "...                                                  ...   \n",
       "33595  ['Canal+', 'Cinesur (Envar El Kadri)', 'Produc...   \n",
       "33596  ['Canal+', 'Cinesur (Envar El Kadri)', 'Produc...   \n",
       "33597                           ['Filmation Associates']   \n",
       "33598                             ['Molesworth Limited']   \n",
       "33599                                  ['Pacific Trust']   \n",
       "\n",
       "                       Languages wins nominations oscars   z_score  \n",
       "0                    ['English']    0          20      0 -0.030290  \n",
       "1                    ['English']    0           4      0 -0.031143  \n",
       "2                    ['English']    0          15      0 -0.030879  \n",
       "3                    ['English']    0          20      0 -0.031055  \n",
       "4                    ['English']    0          11      0 -0.030731  \n",
       "...                          ...  ...         ...    ...       ...  \n",
       "33595      ['Spanish', 'French']    0           2      0 -0.031311  \n",
       "33596                ['Spanish']    0           0      0 -0.031311  \n",
       "33597                ['English']    0           0      0 -0.031311  \n",
       "33598  ['Cantonese', 'Mandarin']    0           0      0 -0.031311  \n",
       "33599                ['English']    0           0      0 -0.031311  \n",
       "\n",
       "[33600 rows x 24 columns]"
      ]
     },
     "execution_count": 88,
     "metadata": {},
     "output_type": "execute_result"
    }
   ],
   "source": [
    "df2"
   ]
  },
  {
   "cell_type": "code",
   "execution_count": 89,
   "id": "bec3cada-a0bf-4b21-9255-a65dc7b8621a",
   "metadata": {},
   "outputs": [],
   "source": [
    "df2 = df2[df2['z_score']<1]"
   ]
  },
  {
   "cell_type": "code",
   "execution_count": 90,
   "id": "759b85c1-5ac8-42fe-9284-df006768fdd3",
   "metadata": {},
   "outputs": [
    {
     "data": {
      "text/plain": [
       "(33513, 24)"
      ]
     },
     "execution_count": 90,
     "metadata": {},
     "output_type": "execute_result"
    }
   ],
   "source": [
    "df2.shape"
   ]
  },
  {
   "cell_type": "code",
   "execution_count": 91,
   "id": "1231a498-f77c-4543-8149-f3772de97f8f",
   "metadata": {},
   "outputs": [
    {
     "data": {
      "text/plain": [
       "33"
      ]
     },
     "execution_count": 91,
     "metadata": {},
     "output_type": "execute_result"
    }
   ],
   "source": [
    "33600-33567"
   ]
  },
  {
   "cell_type": "code",
   "execution_count": 92,
   "id": "146f7468-3bd8-4ba9-b60a-53e0963dec6d",
   "metadata": {},
   "outputs": [
    {
     "data": {
      "text/plain": [
       "0.09821428571428573"
      ]
     },
     "execution_count": 92,
     "metadata": {},
     "output_type": "execute_result"
    }
   ],
   "source": [
    "33/33600*100"
   ]
  },
  {
   "cell_type": "code",
   "execution_count": 93,
   "id": "d9b816e4-01af-4a64-830e-52a38376bca0",
   "metadata": {},
   "outputs": [
    {
     "data": {
      "image/png": "[encoded data removed]",
      "text/plain": [
       "<Figure size 640x480 with 1 Axes>"
      ]
     },
     "metadata": {},
     "output_type": "display_data"
    }
   ],
   "source": [
    "plt.scatter(df2[\"budget\"],df2[\"Year\"])\n",
    "plt.show()"
   ]
  },
  {
   "cell_type": "code",
   "execution_count": 94,
   "id": "7536db07-9e94-4215-bfcc-a799317b5d7b",
   "metadata": {},
   "outputs": [
    {
     "name": "stderr",
     "output_type": "stream",
     "text": [
      "C:\\Users\\saini\\AppData\\Local\\Temp\\ipykernel_11492\\2543802552.py:1: UserWarning: \n",
      "\n",
      "`distplot` is a deprecated function and will be removed in seaborn v0.14.0.\n",
      "\n",
      "Please adapt your code to use either `displot` (a figure-level function with\n",
      "similar flexibility) or `histplot` (an axes-level function for histograms).\n",
      "\n",
      "For a guide to updating your code to use the new functions, please see\n",
      "https://gist.github.com/mwaskom/de44147ed2974457ad6372750bbe5751\n",
      "\n",
      "  sns.distplot(df2[\"budget\"])\n"
     ]
    },
    {
     "data": {
      "text/plain": [
       "<Axes: xlabel='budget', ylabel='Density'>"
      ]
     },
     "execution_count": 94,
     "metadata": {},
     "output_type": "execute_result"
    },
    {
     "data": {
      "image/png": "[encoded data removed]",
      "text/plain": [
       "<Figure size 640x480 with 1 Axes>"
      ]
     },
     "metadata": {},
     "output_type": "display_data"
    }
   ],
   "source": [
    "sns.distplot(df2[\"budget\"])"
   ]
  },
  {
   "cell_type": "code",
   "execution_count": 95,
   "id": "c679692b-b261-4069-bada-866957b3ca24",
   "metadata": {},
   "outputs": [
    {
     "data": {
      "text/html": [
       "<div>\n",
       "<style scoped>\n",
       "    .dataframe tbody tr th:only-of-type {\n",
       "        vertical-align: middle;\n",
       "    }\n",
       "\n",
       "    .dataframe tbody tr th {\n",
       "        vertical-align: top;\n",
       "    }\n",
       "\n",
       "    .dataframe thead th {\n",
       "        text-align: right;\n",
       "    }\n",
       "</style>\n",
       "<table border=\"1\" class=\"dataframe\">\n",
       "  <thead>\n",
       "    <tr style=\"text-align: right;\">\n",
       "      <th></th>\n",
       "      <th>Year</th>\n",
       "      <th>Rating</th>\n",
       "      <th>budget</th>\n",
       "      <th>grossWorldWide</th>\n",
       "      <th>gross_US_Canada</th>\n",
       "      <th>opening_weekend_Gross</th>\n",
       "      <th>wins</th>\n",
       "      <th>nominations</th>\n",
       "      <th>oscars</th>\n",
       "      <th>z_score</th>\n",
       "    </tr>\n",
       "  </thead>\n",
       "  <tbody>\n",
       "    <tr>\n",
       "      <th>count</th>\n",
       "      <td>33513.000000</td>\n",
       "      <td>33513.000000</td>\n",
       "      <td>3.351300e+04</td>\n",
       "      <td>3.351300e+04</td>\n",
       "      <td>3.351300e+04</td>\n",
       "      <td>3.351300e+04</td>\n",
       "      <td>33513.0</td>\n",
       "      <td>33513.000000</td>\n",
       "      <td>33513.000000</td>\n",
       "      <td>33513.000000</td>\n",
       "    </tr>\n",
       "    <tr>\n",
       "      <th>mean</th>\n",
       "      <td>1992.320652</td>\n",
       "      <td>6.154033</td>\n",
       "      <td>2.664170e+07</td>\n",
       "      <td>2.587042e+07</td>\n",
       "      <td>1.274763e+07</td>\n",
       "      <td>2.970930e+06</td>\n",
       "      <td>0.0</td>\n",
       "      <td>4.834572</td>\n",
       "      <td>0.102856</td>\n",
       "      <td>-0.027400</td>\n",
       "    </tr>\n",
       "    <tr>\n",
       "      <th>std</th>\n",
       "      <td>18.925572</td>\n",
       "      <td>1.145842</td>\n",
       "      <td>1.646930e+08</td>\n",
       "      <td>1.154748e+08</td>\n",
       "      <td>4.619630e+07</td>\n",
       "      <td>1.412104e+07</td>\n",
       "      <td>0.0</td>\n",
       "      <td>17.716647</td>\n",
       "      <td>0.509297</td>\n",
       "      <td>0.024232</td>\n",
       "    </tr>\n",
       "    <tr>\n",
       "      <th>min</th>\n",
       "      <td>1960.000000</td>\n",
       "      <td>1.100000</td>\n",
       "      <td>1.000000e+00</td>\n",
       "      <td>1.000000e+00</td>\n",
       "      <td>6.400000e+01</td>\n",
       "      <td>1.100000e+01</td>\n",
       "      <td>0.0</td>\n",
       "      <td>0.000000</td>\n",
       "      <td>0.000000</td>\n",
       "      <td>-0.031320</td>\n",
       "    </tr>\n",
       "    <tr>\n",
       "      <th>25%</th>\n",
       "      <td>1976.000000</td>\n",
       "      <td>5.500000</td>\n",
       "      <td>6.000000e+05</td>\n",
       "      <td>6.550000e+03</td>\n",
       "      <td>7.880800e+04</td>\n",
       "      <td>5.204000e+03</td>\n",
       "      <td>0.0</td>\n",
       "      <td>0.000000</td>\n",
       "      <td>0.000000</td>\n",
       "      <td>-0.031232</td>\n",
       "    </tr>\n",
       "    <tr>\n",
       "      <th>50%</th>\n",
       "      <td>1993.000000</td>\n",
       "      <td>6.300000</td>\n",
       "      <td>3.000000e+06</td>\n",
       "      <td>2.926690e+05</td>\n",
       "      <td>6.700860e+05</td>\n",
       "      <td>1.162300e+04</td>\n",
       "      <td>0.0</td>\n",
       "      <td>0.000000</td>\n",
       "      <td>0.000000</td>\n",
       "      <td>-0.030879</td>\n",
       "    </tr>\n",
       "    <tr>\n",
       "      <th>75%</th>\n",
       "      <td>2009.000000</td>\n",
       "      <td>7.000000</td>\n",
       "      <td>1.300000e+07</td>\n",
       "      <td>7.196268e+06</td>\n",
       "      <td>7.061128e+06</td>\n",
       "      <td>2.215520e+05</td>\n",
       "      <td>0.0</td>\n",
       "      <td>3.000000</td>\n",
       "      <td>0.000000</td>\n",
       "      <td>-0.029407</td>\n",
       "    </tr>\n",
       "    <tr>\n",
       "      <th>max</th>\n",
       "      <td>2024.000000</td>\n",
       "      <td>9.600000</td>\n",
       "      <td>7.000000e+09</td>\n",
       "      <td>2.923706e+09</td>\n",
       "      <td>9.366622e+08</td>\n",
       "      <td>3.571150e+08</td>\n",
       "      <td>0.0</td>\n",
       "      <td>433.000000</td>\n",
       "      <td>11.000000</td>\n",
       "      <td>0.998626</td>\n",
       "    </tr>\n",
       "  </tbody>\n",
       "</table>\n",
       "</div>"
      ],
      "text/plain": [
       "               Year        Rating        budget  grossWorldWide  \\\n",
       "count  33513.000000  33513.000000  3.351300e+04    3.351300e+04   \n",
       "mean    1992.320652      6.154033  2.664170e+07    2.587042e+07   \n",
       "std       18.925572      1.145842  1.646930e+08    1.154748e+08   \n",
       "min     1960.000000      1.100000  1.000000e+00    1.000000e+00   \n",
       "25%     1976.000000      5.500000  6.000000e+05    6.550000e+03   \n",
       "50%     1993.000000      6.300000  3.000000e+06    2.926690e+05   \n",
       "75%     2009.000000      7.000000  1.300000e+07    7.196268e+06   \n",
       "max     2024.000000      9.600000  7.000000e+09    2.923706e+09   \n",
       "\n",
       "       gross_US_Canada  opening_weekend_Gross     wins   nominations  \\\n",
       "count     3.351300e+04           3.351300e+04  33513.0  33513.000000   \n",
       "mean      1.274763e+07           2.970930e+06      0.0      4.834572   \n",
       "std       4.619630e+07           1.412104e+07      0.0     17.716647   \n",
       "min       6.400000e+01           1.100000e+01      0.0      0.000000   \n",
       "25%       7.880800e+04           5.204000e+03      0.0      0.000000   \n",
       "50%       6.700860e+05           1.162300e+04      0.0      0.000000   \n",
       "75%       7.061128e+06           2.215520e+05      0.0      3.000000   \n",
       "max       9.366622e+08           3.571150e+08      0.0    433.000000   \n",
       "\n",
       "             oscars       z_score  \n",
       "count  33513.000000  33513.000000  \n",
       "mean       0.102856     -0.027400  \n",
       "std        0.509297      0.024232  \n",
       "min        0.000000     -0.031320  \n",
       "25%        0.000000     -0.031232  \n",
       "50%        0.000000     -0.030879  \n",
       "75%        0.000000     -0.029407  \n",
       "max       11.000000      0.998626  "
      ]
     },
     "execution_count": 95,
     "metadata": {},
     "output_type": "execute_result"
    }
   ],
   "source": [
    "df2.describe()"
   ]
  },
  {
   "cell_type": "code",
   "execution_count": null,
   "id": "e26cb35e-3ae3-4a95-b134-0c6a7ea9c72b",
   "metadata": {},
   "outputs": [],
   "source": []
  }
 ],
 "metadata": {
  "kernelspec": {
   "display_name": "Python 3 (ipykernel)",
   "language": "python",
   "name": "python3"
  },
  "language_info": {
   "codemirror_mode": {
    "name": "ipython",
    "version": 3
   },
   "file_extension": ".py",
   "mimetype": "text/x-python",
   "name": "python",
   "nbconvert_exporter": "python",
   "pygments_lexer": "ipython3",
   "version": "3.12.5"
  }
 },
 "nbformat": 4,
 "nbformat_minor": 5
}
