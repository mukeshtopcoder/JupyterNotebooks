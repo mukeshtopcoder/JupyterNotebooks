{
 "cells": [
  {
   "cell_type": "code",
   "execution_count": 174,
   "id": "7f60c535-f7d1-4388-ad8a-515d77069d50",
   "metadata": {},
   "outputs": [],
   "source": [
    "import pandas as pd\n",
    "import requests as r\n",
    "from bs4 import BeautifulSoup as bs"
   ]
  },
  {
   "cell_type": "code",
   "execution_count": 175,
   "id": "60a2dcfa-a0df-494a-8a00-4f7114149904",
   "metadata": {},
   "outputs": [],
   "source": [
    "url = \"https://boxofficemojo.com/year\""
   ]
  },
  {
   "cell_type": "code",
   "execution_count": 176,
   "id": "96d5533a-930a-451f-a4bc-e57e4007033b",
   "metadata": {},
   "outputs": [],
   "source": [
    "res = r.get(url)"
   ]
  },
  {
   "cell_type": "code",
   "execution_count": 177,
   "id": "72cc1755-2de2-4a37-9bf2-b660d525d831",
   "metadata": {},
   "outputs": [
    {
     "data": {
      "text/plain": [
       "200"
      ]
     },
     "execution_count": 177,
     "metadata": {},
     "output_type": "execute_result"
    }
   ],
   "source": [
    "res.status_code"
   ]
  },
  {
   "cell_type": "code",
   "execution_count": 178,
   "id": "76db9318-a2e3-475b-80c7-2a48512d2748",
   "metadata": {},
   "outputs": [],
   "source": [
    "content = res.text"
   ]
  },
  {
   "cell_type": "code",
   "execution_count": 179,
   "id": "9ca26a5b-eefe-464a-8d07-d74cb1f7b168",
   "metadata": {},
   "outputs": [
    {
     "data": {
      "text/plain": [
       "'<!doctype html><html class=\"a-no-js\" data-19ax5a9jf=\"dingo\"><head><script>var aPageStart = (new Date()).getTime();</script><meta charset=\"utf-8\"/>\\n<script type=\\'text/javascript\\'>var ue_t0=ue_t0||+new Date();</script>\\n<script type=\\'text/javascript\\'>\\nwindow.ue_ihb = (window.ue_ihb || window.ueinit || 0) + 1;\\nif (window.ue_ihb === 1) {\\n\\nvar ue_csm = window,\\n    ue_hob = +new Date();\\n(function(d){var e=d.ue=d.ue||{},f=Date.now||function(){return+new Date};e.d=function(b){return f()-(b?0:d.ue_t0)};e.'"
      ]
     },
     "execution_count": 179,
     "metadata": {},
     "output_type": "execute_result"
    }
   ],
   "source": [
    "content[:500]"
   ]
  },
  {
   "cell_type": "code",
   "execution_count": 180,
   "id": "b1e97d96-5941-43fb-9cee-c3cddaff8cfc",
   "metadata": {},
   "outputs": [],
   "source": [
    "soup = bs(content,\"html.parser\")"
   ]
  },
  {
   "cell_type": "code",
   "execution_count": 181,
   "id": "76b7f856-3915-4443-b91d-543097f7b739",
   "metadata": {},
   "outputs": [
    {
     "data": {
      "text/plain": [
       "2"
      ]
     },
     "execution_count": 181,
     "metadata": {},
     "output_type": "execute_result"
    }
   ],
   "source": [
    "len(soup)"
   ]
  },
  {
   "cell_type": "code",
   "execution_count": 182,
   "id": "40d67a6e-efdc-42e3-af7a-3b8bab6b7422",
   "metadata": {},
   "outputs": [],
   "source": [
    "year = []\n",
    "best_movie = []\n",
    "link = []"
   ]
  },
  {
   "cell_type": "code",
   "execution_count": 183,
   "id": "169c1195-2337-465b-b4f8-bbcc73865c22",
   "metadata": {},
   "outputs": [],
   "source": [
    "for tr in soup.find('table').find_all('tr')[1:]:\n",
    "    y = tr.find_all('td')[0].text\n",
    "    year.append(y)\n",
    "    link.append(\"https://boxofficemojo.com/year/\"+y)\n",
    "    best_movie.append(tr.find_all('td')[5].text)"
   ]
  },
  {
   "cell_type": "code",
   "execution_count": 184,
   "id": "9e0bc4c2-4922-4bab-be7b-5ae8cded76f7",
   "metadata": {},
   "outputs": [
    {
     "data": {
      "text/plain": [
       "(49, 49, 49)"
      ]
     },
     "execution_count": 184,
     "metadata": {},
     "output_type": "execute_result"
    }
   ],
   "source": [
    "len(year) , len(best_movie) , len(link)"
   ]
  },
  {
   "cell_type": "code",
   "execution_count": 185,
   "id": "1d97d536-def2-40cf-97bc-4383304c7837",
   "metadata": {},
   "outputs": [],
   "source": [
    "ds = {\n",
    "    'Movie_Year':year,\n",
    "    'Best_Movie_Name':best_movie,\n",
    "    'All_Movies_Link':link\n",
    "}"
   ]
  },
  {
   "cell_type": "code",
   "execution_count": 186,
   "id": "54ded8aa-4bbc-4165-9a9f-2a55d635a258",
   "metadata": {},
   "outputs": [],
   "source": [
    "df1 = pd.DataFrame(ds,index=None)"
   ]
  },
  {
   "cell_type": "code",
   "execution_count": 187,
   "id": "dee0ec7e-7f50-40a4-90e4-6dd92f3645ce",
   "metadata": {},
   "outputs": [
    {
     "data": {
      "text/html": [
       "<div>\n",
       "<style scoped>\n",
       "    .dataframe tbody tr th:only-of-type {\n",
       "        vertical-align: middle;\n",
       "    }\n",
       "\n",
       "    .dataframe tbody tr th {\n",
       "        vertical-align: top;\n",
       "    }\n",
       "\n",
       "    .dataframe thead th {\n",
       "        text-align: right;\n",
       "    }\n",
       "</style>\n",
       "<table border=\"1\" class=\"dataframe\">\n",
       "  <thead>\n",
       "    <tr style=\"text-align: right;\">\n",
       "      <th></th>\n",
       "      <th>Movie_Year</th>\n",
       "      <th>Best_Movie_Name</th>\n",
       "      <th>All_Movies_Link</th>\n",
       "    </tr>\n",
       "  </thead>\n",
       "  <tbody>\n",
       "    <tr>\n",
       "      <th>0</th>\n",
       "      <td>2025</td>\n",
       "      <td>A Minecraft Movie</td>\n",
       "      <td>https://boxofficemojo.com/year/2025</td>\n",
       "    </tr>\n",
       "    <tr>\n",
       "      <th>1</th>\n",
       "      <td>2024</td>\n",
       "      <td>Inside Out 2</td>\n",
       "      <td>https://boxofficemojo.com/year/2024</td>\n",
       "    </tr>\n",
       "    <tr>\n",
       "      <th>2</th>\n",
       "      <td>2023</td>\n",
       "      <td>Barbie</td>\n",
       "      <td>https://boxofficemojo.com/year/2023</td>\n",
       "    </tr>\n",
       "    <tr>\n",
       "      <th>3</th>\n",
       "      <td>2022</td>\n",
       "      <td>Top Gun: Maverick</td>\n",
       "      <td>https://boxofficemojo.com/year/2022</td>\n",
       "    </tr>\n",
       "    <tr>\n",
       "      <th>4</th>\n",
       "      <td>2021</td>\n",
       "      <td>Spider-Man: No Way Home</td>\n",
       "      <td>https://boxofficemojo.com/year/2021</td>\n",
       "    </tr>\n",
       "  </tbody>\n",
       "</table>\n",
       "</div>"
      ],
      "text/plain": [
       "  Movie_Year          Best_Movie_Name                      All_Movies_Link\n",
       "0       2025        A Minecraft Movie  https://boxofficemojo.com/year/2025\n",
       "1       2024             Inside Out 2  https://boxofficemojo.com/year/2024\n",
       "2       2023                   Barbie  https://boxofficemojo.com/year/2023\n",
       "3       2022        Top Gun: Maverick  https://boxofficemojo.com/year/2022\n",
       "4       2021  Spider-Man: No Way Home  https://boxofficemojo.com/year/2021"
      ]
     },
     "execution_count": 187,
     "metadata": {},
     "output_type": "execute_result"
    }
   ],
   "source": [
    "df1.head()"
   ]
  },
  {
   "cell_type": "code",
   "execution_count": 188,
   "id": "5adf4a29-bf56-4370-b2b0-6e77aa4edcea",
   "metadata": {},
   "outputs": [
    {
     "data": {
      "text/plain": [
       "(49, 3)"
      ]
     },
     "execution_count": 188,
     "metadata": {},
     "output_type": "execute_result"
    }
   ],
   "source": [
    "df1.shape"
   ]
  },
  {
   "cell_type": "code",
   "execution_count": 189,
   "id": "895bc715-dd51-4e9b-9064-ae688bcd84ab",
   "metadata": {},
   "outputs": [
    {
     "data": {
      "text/plain": [
       "0    https://boxofficemojo.com/year/2025\n",
       "1    https://boxofficemojo.com/year/2024\n",
       "2    https://boxofficemojo.com/year/2023\n",
       "3    https://boxofficemojo.com/year/2022\n",
       "4    https://boxofficemojo.com/year/2021\n",
       "Name: All_Movies_Link, dtype: object"
      ]
     },
     "execution_count": 189,
     "metadata": {},
     "output_type": "execute_result"
    }
   ],
   "source": [
    "df1['All_Movies_Link'].head()"
   ]
  },
  {
   "cell_type": "code",
   "execution_count": 190,
   "id": "8beab1b3-f5a6-4d0c-a563-3f7c850d7543",
   "metadata": {},
   "outputs": [],
   "source": [
    "movie_name = []\n",
    "gross = []\n",
    "theater = []\n",
    "total_gross = []\n",
    "release = []\n",
    "dist = []"
   ]
  },
  {
   "cell_type": "code",
   "execution_count": 191,
   "id": "7b3ba662-cfe6-40db-9c72-3b5b0befa9db",
   "metadata": {},
   "outputs": [],
   "source": [
    "i = 0\n",
    "for url in df1['All_Movies_Link']:\n",
    "    soup = bs(r.get(url).text,\"html.parser\")\n",
    "    for tr in soup.find('table').find_all('tr')[1:]:\n",
    "        movie_name.append(tr.find_all('td')[1].text)\n",
    "        gross.append(tr.find_all('td')[5].text)\n",
    "        theater.append(tr.find_all('td')[6].text)\n",
    "        total_gross.append(tr.find_all('td')[7].text)\n",
    "        release.append(tr.find_all('td')[8].text+\" \"+df1['Movie_Year'][i])\n",
    "        dist.append(tr.find_all('td')[9].text.strip())\n",
    "    i = i+1"
   ]
  },
  {
   "cell_type": "code",
   "execution_count": 192,
   "id": "487e4418-06c6-4814-822b-ef0fd1a97a15",
   "metadata": {},
   "outputs": [],
   "source": [
    "ds = {\n",
    "    \"Movie_Name\":movie_name,\n",
    "\"Gross_Amount\":gross,\n",
    "\"Number_of_Theater\":theater,\n",
    "\"Total_Gross_Amount\":total_gross,\n",
    "\"Release_Date\":release,\n",
    "\"Producers\":dist\n",
    "}"
   ]
  },
  {
   "cell_type": "code",
   "execution_count": 193,
   "id": "452891d5-c284-43de-bf00-44dcd42ece9d",
   "metadata": {},
   "outputs": [],
   "source": [
    "df2 = pd.DataFrame(ds,index=None)"
   ]
  },
  {
   "cell_type": "code",
   "execution_count": 194,
   "id": "ded35694-1bbb-411f-a838-85c0e375cf4d",
   "metadata": {},
   "outputs": [
    {
     "data": {
      "text/plain": [
       "(8827, 6)"
      ]
     },
     "execution_count": 194,
     "metadata": {},
     "output_type": "execute_result"
    }
   ],
   "source": [
    "df2.shape"
   ]
  },
  {
   "cell_type": "code",
   "execution_count": 195,
   "id": "bd7f1df0-7fdc-47ee-932b-bef34997baa9",
   "metadata": {},
   "outputs": [
    {
     "data": {
      "text/html": [
       "<div>\n",
       "<style scoped>\n",
       "    .dataframe tbody tr th:only-of-type {\n",
       "        vertical-align: middle;\n",
       "    }\n",
       "\n",
       "    .dataframe tbody tr th {\n",
       "        vertical-align: top;\n",
       "    }\n",
       "\n",
       "    .dataframe thead th {\n",
       "        text-align: right;\n",
       "    }\n",
       "</style>\n",
       "<table border=\"1\" class=\"dataframe\">\n",
       "  <thead>\n",
       "    <tr style=\"text-align: right;\">\n",
       "      <th></th>\n",
       "      <th>Movie_Name</th>\n",
       "      <th>Gross_Amount</th>\n",
       "      <th>Number_of_Theater</th>\n",
       "      <th>Total_Gross_Amount</th>\n",
       "      <th>Release_Date</th>\n",
       "      <th>Producers</th>\n",
       "    </tr>\n",
       "  </thead>\n",
       "  <tbody>\n",
       "    <tr>\n",
       "      <th>0</th>\n",
       "      <td>A Minecraft Movie</td>\n",
       "      <td>$303,326,515</td>\n",
       "      <td>4,289</td>\n",
       "      <td>$303,326,515</td>\n",
       "      <td>Apr 4 2025</td>\n",
       "      <td>Warner Bros.</td>\n",
       "    </tr>\n",
       "    <tr>\n",
       "      <th>1</th>\n",
       "      <td>Captain America: Brave New World</td>\n",
       "      <td>$200,045,644</td>\n",
       "      <td>4,105</td>\n",
       "      <td>$200,045,644</td>\n",
       "      <td>Feb 14 2025</td>\n",
       "      <td>Walt Disney Studios Motion Pictures</td>\n",
       "    </tr>\n",
       "    <tr>\n",
       "      <th>2</th>\n",
       "      <td>Mufasa: The Lion King</td>\n",
       "      <td>$126,423,748</td>\n",
       "      <td>4,100</td>\n",
       "      <td>$254,567,693</td>\n",
       "      <td>Dec 20 2025</td>\n",
       "      <td>Walt Disney Studios Motion Pictures</td>\n",
       "    </tr>\n",
       "    <tr>\n",
       "      <th>3</th>\n",
       "      <td>Dog Man</td>\n",
       "      <td>$97,970,355</td>\n",
       "      <td>3,887</td>\n",
       "      <td>$97,970,355</td>\n",
       "      <td>Jan 31 2025</td>\n",
       "      <td>DreamWorks Distribution</td>\n",
       "    </tr>\n",
       "    <tr>\n",
       "      <th>4</th>\n",
       "      <td>Sonic the Hedgehog 3</td>\n",
       "      <td>$84,556,206</td>\n",
       "      <td>3,769</td>\n",
       "      <td>$236,115,100</td>\n",
       "      <td>Dec 20 2025</td>\n",
       "      <td>Paramount Pictures</td>\n",
       "    </tr>\n",
       "    <tr>\n",
       "      <th>...</th>\n",
       "      <td>...</td>\n",
       "      <td>...</td>\n",
       "      <td>...</td>\n",
       "      <td>...</td>\n",
       "      <td>...</td>\n",
       "      <td>...</td>\n",
       "    </tr>\n",
       "    <tr>\n",
       "      <th>8822</th>\n",
       "      <td>Exorcist II: The Heretic</td>\n",
       "      <td>$30,749,142</td>\n",
       "      <td>703</td>\n",
       "      <td>$30,749,142</td>\n",
       "      <td>Jun 17 1977</td>\n",
       "      <td>Warner Bros.</td>\n",
       "    </tr>\n",
       "    <tr>\n",
       "      <th>8823</th>\n",
       "      <td>The Turning Point</td>\n",
       "      <td>$25,815,410</td>\n",
       "      <td>5</td>\n",
       "      <td>$25,933,445</td>\n",
       "      <td>Nov 14 1977</td>\n",
       "      <td>Twentieth Century Fox</td>\n",
       "    </tr>\n",
       "    <tr>\n",
       "      <th>8824</th>\n",
       "      <td>Looking for Mr. Goodbar</td>\n",
       "      <td>$22,512,655</td>\n",
       "      <td>110</td>\n",
       "      <td>$22,512,655</td>\n",
       "      <td>Oct 19 1977</td>\n",
       "      <td>Paramount Pictures</td>\n",
       "    </tr>\n",
       "    <tr>\n",
       "      <th>8825</th>\n",
       "      <td>Saturday Night Fever</td>\n",
       "      <td>$18,234,852</td>\n",
       "      <td>726</td>\n",
       "      <td>$94,213,184</td>\n",
       "      <td>Dec 16 1977</td>\n",
       "      <td>Paramount Pictures</td>\n",
       "    </tr>\n",
       "    <tr>\n",
       "      <th>8826</th>\n",
       "      <td>Close Encounters of the Third Kind</td>\n",
       "      <td>$16,172,445</td>\n",
       "      <td>650</td>\n",
       "      <td>$116,395,460</td>\n",
       "      <td>Nov 16 1977</td>\n",
       "      <td>Columbia Pictures</td>\n",
       "    </tr>\n",
       "  </tbody>\n",
       "</table>\n",
       "<p>8827 rows × 6 columns</p>\n",
       "</div>"
      ],
      "text/plain": [
       "                              Movie_Name  Gross_Amount Number_of_Theater  \\\n",
       "0                      A Minecraft Movie  $303,326,515             4,289   \n",
       "1       Captain America: Brave New World  $200,045,644             4,105   \n",
       "2                  Mufasa: The Lion King  $126,423,748             4,100   \n",
       "3                                Dog Man   $97,970,355             3,887   \n",
       "4                   Sonic the Hedgehog 3   $84,556,206             3,769   \n",
       "...                                  ...           ...               ...   \n",
       "8822            Exorcist II: The Heretic   $30,749,142               703   \n",
       "8823                   The Turning Point   $25,815,410                 5   \n",
       "8824             Looking for Mr. Goodbar   $22,512,655               110   \n",
       "8825                Saturday Night Fever   $18,234,852               726   \n",
       "8826  Close Encounters of the Third Kind   $16,172,445               650   \n",
       "\n",
       "     Total_Gross_Amount Release_Date                            Producers  \n",
       "0          $303,326,515   Apr 4 2025                         Warner Bros.  \n",
       "1          $200,045,644  Feb 14 2025  Walt Disney Studios Motion Pictures  \n",
       "2          $254,567,693  Dec 20 2025  Walt Disney Studios Motion Pictures  \n",
       "3           $97,970,355  Jan 31 2025              DreamWorks Distribution  \n",
       "4          $236,115,100  Dec 20 2025                   Paramount Pictures  \n",
       "...                 ...          ...                                  ...  \n",
       "8822        $30,749,142  Jun 17 1977                         Warner Bros.  \n",
       "8823        $25,933,445  Nov 14 1977                Twentieth Century Fox  \n",
       "8824        $22,512,655  Oct 19 1977                   Paramount Pictures  \n",
       "8825        $94,213,184  Dec 16 1977                   Paramount Pictures  \n",
       "8826       $116,395,460  Nov 16 1977                    Columbia Pictures  \n",
       "\n",
       "[8827 rows x 6 columns]"
      ]
     },
     "execution_count": 195,
     "metadata": {},
     "output_type": "execute_result"
    }
   ],
   "source": [
    "df2"
   ]
  },
  {
   "cell_type": "code",
   "execution_count": 198,
   "id": "471d0de0-9819-43b0-af7c-24253742117c",
   "metadata": {},
   "outputs": [],
   "source": [
    "df2.to_csv('Movies_details.csv',index=None)"
   ]
  },
  {
   "cell_type": "code",
   "execution_count": null,
   "id": "d0991f52-70c4-4ad4-a779-3c363f01912e",
   "metadata": {},
   "outputs": [],
   "source": []
  }
 ],
 "metadata": {
  "kernelspec": {
   "display_name": "Python 3 (ipykernel)",
   "language": "python",
   "name": "python3"
  },
  "language_info": {
   "codemirror_mode": {
    "name": "ipython",
    "version": 3
   },
   "file_extension": ".py",
   "mimetype": "text/x-python",
   "name": "python",
   "nbconvert_exporter": "python",
   "pygments_lexer": "ipython3",
   "version": "3.12.5"
  }
 },
 "nbformat": 4,
 "nbformat_minor": 5
}
