{
 "cells": [
  {
   "cell_type": "code",
   "execution_count": 46,
   "id": "a2fcefc4-da2b-484a-8724-12612ed6898e",
   "metadata": {},
   "outputs": [],
   "source": [
    "import numpy as np\n",
    "import pandas as pd"
   ]
  },
  {
   "cell_type": "code",
   "execution_count": 185,
   "id": "5be603a6-e7ad-4eb9-a005-d83ced202e1b",
   "metadata": {},
   "outputs": [],
   "source": [
    "# Creating a Dictionary for dataframe\n",
    "emp = {\n",
    "    \"EMP_ID\":[101,102,103,104,105],\n",
    "    \"EMP_NAME\":[\"Rahul Kumar\",\"Vijay Sagar\",\"Siya Singh\",\"Ravi Kumar\",\"Raju Dev\"],\n",
    "    \"EMP_SAL\":[35300,25500,np.nan,56000,np.nan],\n",
    "    \"EMP_COMPANY\":[\"Google\",\"Microsoft\",\"OpenAI\",\"Google\",np.nan],\n",
    "    \"EMP_COUNTRY\":[\"INDIA\",\"JAPAN\",\"USA\",\"AUSTRALIA\",\"SPAIN\"]\n",
    "}"
   ]
  },
  {
   "cell_type": "code",
   "execution_count": 186,
   "id": "e886ef35-b3f5-446c-8eec-80b61889ddce",
   "metadata": {},
   "outputs": [],
   "source": [
    "df = abc.DataFrame(emp)"
   ]
  },
  {
   "cell_type": "code",
   "execution_count": 82,
   "id": "c54cb92b-2f41-4e02-8efc-358b41c34d1d",
   "metadata": {},
   "outputs": [
    {
     "data": {
      "text/html": [
       "<div>\n",
       "<style scoped>\n",
       "    .dataframe tbody tr th:only-of-type {\n",
       "        vertical-align: middle;\n",
       "    }\n",
       "\n",
       "    .dataframe tbody tr th {\n",
       "        vertical-align: top;\n",
       "    }\n",
       "\n",
       "    .dataframe thead th {\n",
       "        text-align: right;\n",
       "    }\n",
       "</style>\n",
       "<table border=\"1\" class=\"dataframe\">\n",
       "  <thead>\n",
       "    <tr style=\"text-align: right;\">\n",
       "      <th></th>\n",
       "      <th>EMP_ID</th>\n",
       "      <th>EMP_NAME</th>\n",
       "      <th>EMP_SAL</th>\n",
       "      <th>EMP_COMPANY</th>\n",
       "    </tr>\n",
       "  </thead>\n",
       "  <tbody>\n",
       "    <tr>\n",
       "      <th>0</th>\n",
       "      <td>101</td>\n",
       "      <td>Rahul Kumar</td>\n",
       "      <td>35300.0</td>\n",
       "      <td>Google</td>\n",
       "    </tr>\n",
       "    <tr>\n",
       "      <th>1</th>\n",
       "      <td>102</td>\n",
       "      <td>Vijay Sagar</td>\n",
       "      <td>25500.0</td>\n",
       "      <td>Microsoft</td>\n",
       "    </tr>\n",
       "    <tr>\n",
       "      <th>2</th>\n",
       "      <td>103</td>\n",
       "      <td>Siya Singh</td>\n",
       "      <td>NaN</td>\n",
       "      <td>OpenAI</td>\n",
       "    </tr>\n",
       "    <tr>\n",
       "      <th>3</th>\n",
       "      <td>104</td>\n",
       "      <td>Ravi Kumar</td>\n",
       "      <td>56000.0</td>\n",
       "      <td>Amazaon</td>\n",
       "    </tr>\n",
       "    <tr>\n",
       "      <th>4</th>\n",
       "      <td>105</td>\n",
       "      <td>Raju Dev</td>\n",
       "      <td>NaN</td>\n",
       "      <td>NaN</td>\n",
       "    </tr>\n",
       "  </tbody>\n",
       "</table>\n",
       "</div>"
      ],
      "text/plain": [
       "   EMP_ID     EMP_NAME  EMP_SAL EMP_COMPANY\n",
       "0     101  Rahul Kumar  35300.0      Google\n",
       "1     102  Vijay Sagar  25500.0   Microsoft\n",
       "2     103   Siya Singh      NaN      OpenAI\n",
       "3     104   Ravi Kumar  56000.0     Amazaon\n",
       "4     105     Raju Dev      NaN         NaN"
      ]
     },
     "execution_count": 82,
     "metadata": {},
     "output_type": "execute_result"
    }
   ],
   "source": [
    "df"
   ]
  },
  {
   "cell_type": "code",
   "execution_count": 61,
   "id": "f2afba17-4515-4127-a2c7-b261e2b7dbfd",
   "metadata": {},
   "outputs": [
    {
     "data": {
      "text/html": [
       "<div>\n",
       "<style scoped>\n",
       "    .dataframe tbody tr th:only-of-type {\n",
       "        vertical-align: middle;\n",
       "    }\n",
       "\n",
       "    .dataframe tbody tr th {\n",
       "        vertical-align: top;\n",
       "    }\n",
       "\n",
       "    .dataframe thead th {\n",
       "        text-align: right;\n",
       "    }\n",
       "</style>\n",
       "<table border=\"1\" class=\"dataframe\">\n",
       "  <thead>\n",
       "    <tr style=\"text-align: right;\">\n",
       "      <th></th>\n",
       "      <th>EMP_ID</th>\n",
       "      <th>EMP_NAME</th>\n",
       "      <th>EMP_SAL</th>\n",
       "      <th>EMP_COMPANY</th>\n",
       "    </tr>\n",
       "  </thead>\n",
       "  <tbody>\n",
       "    <tr>\n",
       "      <th>0</th>\n",
       "      <td>False</td>\n",
       "      <td>False</td>\n",
       "      <td>False</td>\n",
       "      <td>False</td>\n",
       "    </tr>\n",
       "    <tr>\n",
       "      <th>1</th>\n",
       "      <td>False</td>\n",
       "      <td>False</td>\n",
       "      <td>False</td>\n",
       "      <td>False</td>\n",
       "    </tr>\n",
       "    <tr>\n",
       "      <th>2</th>\n",
       "      <td>False</td>\n",
       "      <td>False</td>\n",
       "      <td>True</td>\n",
       "      <td>False</td>\n",
       "    </tr>\n",
       "    <tr>\n",
       "      <th>3</th>\n",
       "      <td>False</td>\n",
       "      <td>False</td>\n",
       "      <td>False</td>\n",
       "      <td>False</td>\n",
       "    </tr>\n",
       "    <tr>\n",
       "      <th>4</th>\n",
       "      <td>False</td>\n",
       "      <td>False</td>\n",
       "      <td>True</td>\n",
       "      <td>True</td>\n",
       "    </tr>\n",
       "  </tbody>\n",
       "</table>\n",
       "</div>"
      ],
      "text/plain": [
       "   EMP_ID  EMP_NAME  EMP_SAL  EMP_COMPANY\n",
       "0   False     False    False        False\n",
       "1   False     False    False        False\n",
       "2   False     False     True        False\n",
       "3   False     False    False        False\n",
       "4   False     False     True         True"
      ]
     },
     "execution_count": 61,
     "metadata": {},
     "output_type": "execute_result"
    }
   ],
   "source": [
    "df.isnull()"
   ]
  },
  {
   "cell_type": "code",
   "execution_count": 64,
   "id": "c4c2070d-0603-4772-8aac-b6b9e13d4ec0",
   "metadata": {},
   "outputs": [
    {
     "data": {
      "text/plain": [
       "EMP_ID         0\n",
       "EMP_NAME       0\n",
       "EMP_SAL        2\n",
       "EMP_COMPANY    1\n",
       "dtype: int64"
      ]
     },
     "execution_count": 64,
     "metadata": {},
     "output_type": "execute_result"
    }
   ],
   "source": [
    "df.isnull().sum()"
   ]
  },
  {
   "cell_type": "code",
   "execution_count": 65,
   "id": "fe43426a-28f6-44ea-a167-6a84cf0dbeda",
   "metadata": {},
   "outputs": [
    {
     "data": {
      "text/plain": [
       "np.int64(3)"
      ]
     },
     "execution_count": 65,
     "metadata": {},
     "output_type": "execute_result"
    }
   ],
   "source": [
    "df.isnull().sum().sum()"
   ]
  },
  {
   "cell_type": "code",
   "execution_count": 66,
   "id": "dc8ebbd3-26e2-4120-b597-ad286d9055cc",
   "metadata": {},
   "outputs": [
    {
     "data": {
      "text/plain": [
       "(5, 4)"
      ]
     },
     "execution_count": 66,
     "metadata": {},
     "output_type": "execute_result"
    }
   ],
   "source": [
    "df.shape"
   ]
  },
  {
   "cell_type": "code",
   "execution_count": 67,
   "id": "53f7dea7-42dd-4344-941b-5e5d17ae8e5f",
   "metadata": {},
   "outputs": [
    {
     "name": "stdout",
     "output_type": "stream",
     "text": [
      "Rows : 5\n"
     ]
    }
   ],
   "source": [
    "print(\"Rows :\",df.shape[0])"
   ]
  },
  {
   "cell_type": "code",
   "execution_count": 68,
   "id": "c159d022-b0dd-4eb7-b544-839c1c6bf30f",
   "metadata": {},
   "outputs": [
    {
     "name": "stdout",
     "output_type": "stream",
     "text": [
      "Column : 4\n"
     ]
    }
   ],
   "source": [
    "print(\"Column :\",df.shape[1])"
   ]
  },
  {
   "cell_type": "code",
   "execution_count": 69,
   "id": "c59c75c8-9384-4ce6-a0a6-d8f517fc269c",
   "metadata": {},
   "outputs": [
    {
     "name": "stdout",
     "output_type": "stream",
     "text": [
      "Total Cell : 20\n"
     ]
    }
   ],
   "source": [
    "print(\"Total Cell :\",df.shape[0]*df.shape[1])"
   ]
  },
  {
   "cell_type": "code",
   "execution_count": 70,
   "id": "bce0bc3d-4cc5-4137-8cd6-6322a2db6654",
   "metadata": {},
   "outputs": [
    {
     "name": "stdout",
     "output_type": "stream",
     "text": [
      "Missing Values :  3\n"
     ]
    }
   ],
   "source": [
    "print(\"Missing Values : \",df.isnull().sum().sum())"
   ]
  },
  {
   "cell_type": "code",
   "execution_count": 72,
   "id": "092e4c77-1923-43ed-86d3-eed8d2d1e229",
   "metadata": {},
   "outputs": [
    {
     "name": "stdout",
     "output_type": "stream",
     "text": [
      "Missing Value %age :  15.0\n"
     ]
    }
   ],
   "source": [
    "print(\"Missing Value %age : \",df.isnull().sum().sum()/(df.shape[0]*df.shape[1])*100)"
   ]
  },
  {
   "cell_type": "code",
   "execution_count": 73,
   "id": "20f0795f-78b1-4885-973d-d86af8e54750",
   "metadata": {},
   "outputs": [
    {
     "data": {
      "text/html": [
       "<div>\n",
       "<style scoped>\n",
       "    .dataframe tbody tr th:only-of-type {\n",
       "        vertical-align: middle;\n",
       "    }\n",
       "\n",
       "    .dataframe tbody tr th {\n",
       "        vertical-align: top;\n",
       "    }\n",
       "\n",
       "    .dataframe thead th {\n",
       "        text-align: right;\n",
       "    }\n",
       "</style>\n",
       "<table border=\"1\" class=\"dataframe\">\n",
       "  <thead>\n",
       "    <tr style=\"text-align: right;\">\n",
       "      <th></th>\n",
       "      <th>EMP_ID</th>\n",
       "      <th>EMP_NAME</th>\n",
       "      <th>EMP_SAL</th>\n",
       "      <th>EMP_COMPANY</th>\n",
       "    </tr>\n",
       "  </thead>\n",
       "  <tbody>\n",
       "    <tr>\n",
       "      <th>0</th>\n",
       "      <td>101</td>\n",
       "      <td>Rahul Kumar</td>\n",
       "      <td>35300.0</td>\n",
       "      <td>Google</td>\n",
       "    </tr>\n",
       "    <tr>\n",
       "      <th>1</th>\n",
       "      <td>102</td>\n",
       "      <td>Vijay Sagar</td>\n",
       "      <td>25500.0</td>\n",
       "      <td>Microsoft</td>\n",
       "    </tr>\n",
       "    <tr>\n",
       "      <th>2</th>\n",
       "      <td>103</td>\n",
       "      <td>Siya Singh</td>\n",
       "      <td>NaN</td>\n",
       "      <td>OpenAI</td>\n",
       "    </tr>\n",
       "    <tr>\n",
       "      <th>3</th>\n",
       "      <td>104</td>\n",
       "      <td>Ravi Kumar</td>\n",
       "      <td>56000.0</td>\n",
       "      <td>Amazaon</td>\n",
       "    </tr>\n",
       "    <tr>\n",
       "      <th>4</th>\n",
       "      <td>105</td>\n",
       "      <td>Raju Dev</td>\n",
       "      <td>NaN</td>\n",
       "      <td>NaN</td>\n",
       "    </tr>\n",
       "  </tbody>\n",
       "</table>\n",
       "</div>"
      ],
      "text/plain": [
       "   EMP_ID     EMP_NAME  EMP_SAL EMP_COMPANY\n",
       "0     101  Rahul Kumar  35300.0      Google\n",
       "1     102  Vijay Sagar  25500.0   Microsoft\n",
       "2     103   Siya Singh      NaN      OpenAI\n",
       "3     104   Ravi Kumar  56000.0     Amazaon\n",
       "4     105     Raju Dev      NaN         NaN"
      ]
     },
     "execution_count": 73,
     "metadata": {},
     "output_type": "execute_result"
    }
   ],
   "source": [
    "df"
   ]
  },
  {
   "cell_type": "code",
   "execution_count": 84,
   "id": "12bd3aa7-d851-456f-b381-26a29a03f04b",
   "metadata": {},
   "outputs": [
    {
     "data": {
      "text/html": [
       "<div>\n",
       "<style scoped>\n",
       "    .dataframe tbody tr th:only-of-type {\n",
       "        vertical-align: middle;\n",
       "    }\n",
       "\n",
       "    .dataframe tbody tr th {\n",
       "        vertical-align: top;\n",
       "    }\n",
       "\n",
       "    .dataframe thead th {\n",
       "        text-align: right;\n",
       "    }\n",
       "</style>\n",
       "<table border=\"1\" class=\"dataframe\">\n",
       "  <thead>\n",
       "    <tr style=\"text-align: right;\">\n",
       "      <th></th>\n",
       "      <th>EMP_ID</th>\n",
       "      <th>EMP_NAME</th>\n",
       "      <th>EMP_SAL</th>\n",
       "      <th>EMP_COMPANY</th>\n",
       "    </tr>\n",
       "  </thead>\n",
       "  <tbody>\n",
       "    <tr>\n",
       "      <th>0</th>\n",
       "      <td>101</td>\n",
       "      <td>Rahul Kumar</td>\n",
       "      <td>35300.0</td>\n",
       "      <td>Google</td>\n",
       "    </tr>\n",
       "    <tr>\n",
       "      <th>1</th>\n",
       "      <td>102</td>\n",
       "      <td>Vijay Sagar</td>\n",
       "      <td>25500.0</td>\n",
       "      <td>Microsoft</td>\n",
       "    </tr>\n",
       "    <tr>\n",
       "      <th>3</th>\n",
       "      <td>104</td>\n",
       "      <td>Ravi Kumar</td>\n",
       "      <td>56000.0</td>\n",
       "      <td>Amazaon</td>\n",
       "    </tr>\n",
       "  </tbody>\n",
       "</table>\n",
       "</div>"
      ],
      "text/plain": [
       "   EMP_ID     EMP_NAME  EMP_SAL EMP_COMPANY\n",
       "0     101  Rahul Kumar  35300.0      Google\n",
       "1     102  Vijay Sagar  25500.0   Microsoft\n",
       "3     104   Ravi Kumar  56000.0     Amazaon"
      ]
     },
     "execution_count": 84,
     "metadata": {},
     "output_type": "execute_result"
    }
   ],
   "source": [
    "df.dropna()"
   ]
  },
  {
   "cell_type": "code",
   "execution_count": 85,
   "id": "c2e03e88-fa5d-441c-a552-fee4cb938f70",
   "metadata": {},
   "outputs": [
    {
     "data": {
      "text/html": [
       "<div>\n",
       "<style scoped>\n",
       "    .dataframe tbody tr th:only-of-type {\n",
       "        vertical-align: middle;\n",
       "    }\n",
       "\n",
       "    .dataframe tbody tr th {\n",
       "        vertical-align: top;\n",
       "    }\n",
       "\n",
       "    .dataframe thead th {\n",
       "        text-align: right;\n",
       "    }\n",
       "</style>\n",
       "<table border=\"1\" class=\"dataframe\">\n",
       "  <thead>\n",
       "    <tr style=\"text-align: right;\">\n",
       "      <th></th>\n",
       "      <th>EMP_ID</th>\n",
       "      <th>EMP_NAME</th>\n",
       "      <th>EMP_SAL</th>\n",
       "      <th>EMP_COMPANY</th>\n",
       "    </tr>\n",
       "  </thead>\n",
       "  <tbody>\n",
       "    <tr>\n",
       "      <th>0</th>\n",
       "      <td>101</td>\n",
       "      <td>Rahul Kumar</td>\n",
       "      <td>35300.0</td>\n",
       "      <td>Google</td>\n",
       "    </tr>\n",
       "    <tr>\n",
       "      <th>1</th>\n",
       "      <td>102</td>\n",
       "      <td>Vijay Sagar</td>\n",
       "      <td>25500.0</td>\n",
       "      <td>Microsoft</td>\n",
       "    </tr>\n",
       "    <tr>\n",
       "      <th>2</th>\n",
       "      <td>103</td>\n",
       "      <td>Siya Singh</td>\n",
       "      <td>NaN</td>\n",
       "      <td>OpenAI</td>\n",
       "    </tr>\n",
       "    <tr>\n",
       "      <th>3</th>\n",
       "      <td>104</td>\n",
       "      <td>Ravi Kumar</td>\n",
       "      <td>56000.0</td>\n",
       "      <td>Amazaon</td>\n",
       "    </tr>\n",
       "    <tr>\n",
       "      <th>4</th>\n",
       "      <td>105</td>\n",
       "      <td>Raju Dev</td>\n",
       "      <td>NaN</td>\n",
       "      <td>NaN</td>\n",
       "    </tr>\n",
       "  </tbody>\n",
       "</table>\n",
       "</div>"
      ],
      "text/plain": [
       "   EMP_ID     EMP_NAME  EMP_SAL EMP_COMPANY\n",
       "0     101  Rahul Kumar  35300.0      Google\n",
       "1     102  Vijay Sagar  25500.0   Microsoft\n",
       "2     103   Siya Singh      NaN      OpenAI\n",
       "3     104   Ravi Kumar  56000.0     Amazaon\n",
       "4     105     Raju Dev      NaN         NaN"
      ]
     },
     "execution_count": 85,
     "metadata": {},
     "output_type": "execute_result"
    }
   ],
   "source": [
    "df"
   ]
  },
  {
   "cell_type": "code",
   "execution_count": 90,
   "id": "868a5191-5e44-4fc5-b9f6-5ba19f9d5fd4",
   "metadata": {},
   "outputs": [
    {
     "data": {
      "text/html": [
       "<div>\n",
       "<style scoped>\n",
       "    .dataframe tbody tr th:only-of-type {\n",
       "        vertical-align: middle;\n",
       "    }\n",
       "\n",
       "    .dataframe tbody tr th {\n",
       "        vertical-align: top;\n",
       "    }\n",
       "\n",
       "    .dataframe thead th {\n",
       "        text-align: right;\n",
       "    }\n",
       "</style>\n",
       "<table border=\"1\" class=\"dataframe\">\n",
       "  <thead>\n",
       "    <tr style=\"text-align: right;\">\n",
       "      <th></th>\n",
       "      <th>EMP_ID</th>\n",
       "      <th>EMP_NAME</th>\n",
       "      <th>EMP_SAL</th>\n",
       "      <th>EMP_COMPANY</th>\n",
       "    </tr>\n",
       "  </thead>\n",
       "  <tbody>\n",
       "    <tr>\n",
       "      <th>0</th>\n",
       "      <td>101</td>\n",
       "      <td>Rahul Kumar</td>\n",
       "      <td>35300.0</td>\n",
       "      <td>Google</td>\n",
       "    </tr>\n",
       "    <tr>\n",
       "      <th>1</th>\n",
       "      <td>102</td>\n",
       "      <td>Vijay Sagar</td>\n",
       "      <td>25500.0</td>\n",
       "      <td>Microsoft</td>\n",
       "    </tr>\n",
       "    <tr>\n",
       "      <th>2</th>\n",
       "      <td>103</td>\n",
       "      <td>Siya Singh</td>\n",
       "      <td>Missing</td>\n",
       "      <td>OpenAI</td>\n",
       "    </tr>\n",
       "    <tr>\n",
       "      <th>3</th>\n",
       "      <td>104</td>\n",
       "      <td>Ravi Kumar</td>\n",
       "      <td>56000.0</td>\n",
       "      <td>Amazaon</td>\n",
       "    </tr>\n",
       "    <tr>\n",
       "      <th>4</th>\n",
       "      <td>105</td>\n",
       "      <td>Raju Dev</td>\n",
       "      <td>Missing</td>\n",
       "      <td>Missing</td>\n",
       "    </tr>\n",
       "  </tbody>\n",
       "</table>\n",
       "</div>"
      ],
      "text/plain": [
       "   EMP_ID     EMP_NAME  EMP_SAL EMP_COMPANY\n",
       "0     101  Rahul Kumar  35300.0      Google\n",
       "1     102  Vijay Sagar  25500.0   Microsoft\n",
       "2     103   Siya Singh  Missing      OpenAI\n",
       "3     104   Ravi Kumar  56000.0     Amazaon\n",
       "4     105     Raju Dev  Missing     Missing"
      ]
     },
     "execution_count": 90,
     "metadata": {},
     "output_type": "execute_result"
    }
   ],
   "source": [
    "# We can not fill all values at once like this\n",
    "df.fillna(value=\"Missing\")"
   ]
  },
  {
   "cell_type": "code",
   "execution_count": 91,
   "id": "03a49ed1-17b6-4582-baeb-39f7cb037619",
   "metadata": {},
   "outputs": [
    {
     "data": {
      "text/html": [
       "<div>\n",
       "<style scoped>\n",
       "    .dataframe tbody tr th:only-of-type {\n",
       "        vertical-align: middle;\n",
       "    }\n",
       "\n",
       "    .dataframe tbody tr th {\n",
       "        vertical-align: top;\n",
       "    }\n",
       "\n",
       "    .dataframe thead th {\n",
       "        text-align: right;\n",
       "    }\n",
       "</style>\n",
       "<table border=\"1\" class=\"dataframe\">\n",
       "  <thead>\n",
       "    <tr style=\"text-align: right;\">\n",
       "      <th></th>\n",
       "      <th>EMP_ID</th>\n",
       "      <th>EMP_NAME</th>\n",
       "      <th>EMP_SAL</th>\n",
       "      <th>EMP_COMPANY</th>\n",
       "    </tr>\n",
       "  </thead>\n",
       "  <tbody>\n",
       "    <tr>\n",
       "      <th>0</th>\n",
       "      <td>101</td>\n",
       "      <td>Rahul Kumar</td>\n",
       "      <td>35300.0</td>\n",
       "      <td>Google</td>\n",
       "    </tr>\n",
       "    <tr>\n",
       "      <th>1</th>\n",
       "      <td>102</td>\n",
       "      <td>Vijay Sagar</td>\n",
       "      <td>25500.0</td>\n",
       "      <td>Microsoft</td>\n",
       "    </tr>\n",
       "    <tr>\n",
       "      <th>2</th>\n",
       "      <td>103</td>\n",
       "      <td>Siya Singh</td>\n",
       "      <td>NaN</td>\n",
       "      <td>OpenAI</td>\n",
       "    </tr>\n",
       "    <tr>\n",
       "      <th>3</th>\n",
       "      <td>104</td>\n",
       "      <td>Ravi Kumar</td>\n",
       "      <td>56000.0</td>\n",
       "      <td>Amazaon</td>\n",
       "    </tr>\n",
       "    <tr>\n",
       "      <th>4</th>\n",
       "      <td>105</td>\n",
       "      <td>Raju Dev</td>\n",
       "      <td>NaN</td>\n",
       "      <td>NaN</td>\n",
       "    </tr>\n",
       "  </tbody>\n",
       "</table>\n",
       "</div>"
      ],
      "text/plain": [
       "   EMP_ID     EMP_NAME  EMP_SAL EMP_COMPANY\n",
       "0     101  Rahul Kumar  35300.0      Google\n",
       "1     102  Vijay Sagar  25500.0   Microsoft\n",
       "2     103   Siya Singh      NaN      OpenAI\n",
       "3     104   Ravi Kumar  56000.0     Amazaon\n",
       "4     105     Raju Dev      NaN         NaN"
      ]
     },
     "execution_count": 91,
     "metadata": {},
     "output_type": "execute_result"
    }
   ],
   "source": [
    "df"
   ]
  },
  {
   "cell_type": "code",
   "execution_count": 92,
   "id": "7546ffa0-89a6-4393-afd1-c6116e05f90f",
   "metadata": {},
   "outputs": [
    {
     "data": {
      "text/plain": [
       "0    35300.0\n",
       "1    25500.0\n",
       "2        NaN\n",
       "3    56000.0\n",
       "4        NaN\n",
       "Name: EMP_SAL, dtype: float64"
      ]
     },
     "execution_count": 92,
     "metadata": {},
     "output_type": "execute_result"
    }
   ],
   "source": [
    "df[\"EMP_SAL\"]"
   ]
  },
  {
   "cell_type": "code",
   "execution_count": 95,
   "id": "441a0b25-0815-4830-ba93-0540b47dd10a",
   "metadata": {},
   "outputs": [],
   "source": [
    "df[\"EMP_SAL\"] = df[\"EMP_SAL\"].fillna(value=20000)"
   ]
  },
  {
   "cell_type": "code",
   "execution_count": 96,
   "id": "2fe578fa-360a-4b01-9c6d-881829c47096",
   "metadata": {},
   "outputs": [
    {
     "data": {
      "text/html": [
       "<div>\n",
       "<style scoped>\n",
       "    .dataframe tbody tr th:only-of-type {\n",
       "        vertical-align: middle;\n",
       "    }\n",
       "\n",
       "    .dataframe tbody tr th {\n",
       "        vertical-align: top;\n",
       "    }\n",
       "\n",
       "    .dataframe thead th {\n",
       "        text-align: right;\n",
       "    }\n",
       "</style>\n",
       "<table border=\"1\" class=\"dataframe\">\n",
       "  <thead>\n",
       "    <tr style=\"text-align: right;\">\n",
       "      <th></th>\n",
       "      <th>EMP_ID</th>\n",
       "      <th>EMP_NAME</th>\n",
       "      <th>EMP_SAL</th>\n",
       "      <th>EMP_COMPANY</th>\n",
       "    </tr>\n",
       "  </thead>\n",
       "  <tbody>\n",
       "    <tr>\n",
       "      <th>0</th>\n",
       "      <td>101</td>\n",
       "      <td>Rahul Kumar</td>\n",
       "      <td>35300.0</td>\n",
       "      <td>Google</td>\n",
       "    </tr>\n",
       "    <tr>\n",
       "      <th>1</th>\n",
       "      <td>102</td>\n",
       "      <td>Vijay Sagar</td>\n",
       "      <td>25500.0</td>\n",
       "      <td>Microsoft</td>\n",
       "    </tr>\n",
       "    <tr>\n",
       "      <th>2</th>\n",
       "      <td>103</td>\n",
       "      <td>Siya Singh</td>\n",
       "      <td>20000.0</td>\n",
       "      <td>OpenAI</td>\n",
       "    </tr>\n",
       "    <tr>\n",
       "      <th>3</th>\n",
       "      <td>104</td>\n",
       "      <td>Ravi Kumar</td>\n",
       "      <td>56000.0</td>\n",
       "      <td>Amazaon</td>\n",
       "    </tr>\n",
       "    <tr>\n",
       "      <th>4</th>\n",
       "      <td>105</td>\n",
       "      <td>Raju Dev</td>\n",
       "      <td>20000.0</td>\n",
       "      <td>NaN</td>\n",
       "    </tr>\n",
       "  </tbody>\n",
       "</table>\n",
       "</div>"
      ],
      "text/plain": [
       "   EMP_ID     EMP_NAME  EMP_SAL EMP_COMPANY\n",
       "0     101  Rahul Kumar  35300.0      Google\n",
       "1     102  Vijay Sagar  25500.0   Microsoft\n",
       "2     103   Siya Singh  20000.0      OpenAI\n",
       "3     104   Ravi Kumar  56000.0     Amazaon\n",
       "4     105     Raju Dev  20000.0         NaN"
      ]
     },
     "execution_count": 96,
     "metadata": {},
     "output_type": "execute_result"
    }
   ],
   "source": [
    "df"
   ]
  },
  {
   "cell_type": "code",
   "execution_count": 97,
   "id": "586c4e5e-5f6e-42fc-85c9-557e75a2c78d",
   "metadata": {},
   "outputs": [
    {
     "data": {
      "text/plain": [
       "0       Google\n",
       "1    Microsoft\n",
       "2       OpenAI\n",
       "3      Amazaon\n",
       "4          NaN\n",
       "Name: EMP_COMPANY, dtype: object"
      ]
     },
     "execution_count": 97,
     "metadata": {},
     "output_type": "execute_result"
    }
   ],
   "source": [
    "df[\"EMP_COMPANY\"]"
   ]
  },
  {
   "cell_type": "code",
   "execution_count": 99,
   "id": "253182f5-1da0-41e1-9c53-597074f41adf",
   "metadata": {},
   "outputs": [],
   "source": [
    "df[\"EMP_COMPANY\"]=df[\"EMP_COMPANY\"].fillna(value=\"MISSING\")"
   ]
  },
  {
   "cell_type": "code",
   "execution_count": 100,
   "id": "ee356e6d-4721-44b1-94a1-f81768d50435",
   "metadata": {},
   "outputs": [
    {
     "data": {
      "text/html": [
       "<div>\n",
       "<style scoped>\n",
       "    .dataframe tbody tr th:only-of-type {\n",
       "        vertical-align: middle;\n",
       "    }\n",
       "\n",
       "    .dataframe tbody tr th {\n",
       "        vertical-align: top;\n",
       "    }\n",
       "\n",
       "    .dataframe thead th {\n",
       "        text-align: right;\n",
       "    }\n",
       "</style>\n",
       "<table border=\"1\" class=\"dataframe\">\n",
       "  <thead>\n",
       "    <tr style=\"text-align: right;\">\n",
       "      <th></th>\n",
       "      <th>EMP_ID</th>\n",
       "      <th>EMP_NAME</th>\n",
       "      <th>EMP_SAL</th>\n",
       "      <th>EMP_COMPANY</th>\n",
       "    </tr>\n",
       "  </thead>\n",
       "  <tbody>\n",
       "    <tr>\n",
       "      <th>0</th>\n",
       "      <td>101</td>\n",
       "      <td>Rahul Kumar</td>\n",
       "      <td>35300.0</td>\n",
       "      <td>Google</td>\n",
       "    </tr>\n",
       "    <tr>\n",
       "      <th>1</th>\n",
       "      <td>102</td>\n",
       "      <td>Vijay Sagar</td>\n",
       "      <td>25500.0</td>\n",
       "      <td>Microsoft</td>\n",
       "    </tr>\n",
       "    <tr>\n",
       "      <th>2</th>\n",
       "      <td>103</td>\n",
       "      <td>Siya Singh</td>\n",
       "      <td>20000.0</td>\n",
       "      <td>OpenAI</td>\n",
       "    </tr>\n",
       "    <tr>\n",
       "      <th>3</th>\n",
       "      <td>104</td>\n",
       "      <td>Ravi Kumar</td>\n",
       "      <td>56000.0</td>\n",
       "      <td>Amazaon</td>\n",
       "    </tr>\n",
       "    <tr>\n",
       "      <th>4</th>\n",
       "      <td>105</td>\n",
       "      <td>Raju Dev</td>\n",
       "      <td>20000.0</td>\n",
       "      <td>MISSING</td>\n",
       "    </tr>\n",
       "  </tbody>\n",
       "</table>\n",
       "</div>"
      ],
      "text/plain": [
       "   EMP_ID     EMP_NAME  EMP_SAL EMP_COMPANY\n",
       "0     101  Rahul Kumar  35300.0      Google\n",
       "1     102  Vijay Sagar  25500.0   Microsoft\n",
       "2     103   Siya Singh  20000.0      OpenAI\n",
       "3     104   Ravi Kumar  56000.0     Amazaon\n",
       "4     105     Raju Dev  20000.0     MISSING"
      ]
     },
     "execution_count": 100,
     "metadata": {},
     "output_type": "execute_result"
    }
   ],
   "source": [
    "df"
   ]
  },
  {
   "cell_type": "code",
   "execution_count": 101,
   "id": "94c8f1ef-11ed-4ff1-bdc3-3502ce4928ea",
   "metadata": {},
   "outputs": [
    {
     "data": {
      "text/plain": [
       "156800.0"
      ]
     },
     "execution_count": 101,
     "metadata": {},
     "output_type": "execute_result"
    }
   ],
   "source": [
    "sum(df[\"EMP_SAL\"])"
   ]
  },
  {
   "cell_type": "code",
   "execution_count": 165,
   "id": "0c98cf59-37a7-47cb-bd5f-9125d2a02ebd",
   "metadata": {},
   "outputs": [
    {
     "data": {
      "text/html": [
       "<div>\n",
       "<style scoped>\n",
       "    .dataframe tbody tr th:only-of-type {\n",
       "        vertical-align: middle;\n",
       "    }\n",
       "\n",
       "    .dataframe tbody tr th {\n",
       "        vertical-align: top;\n",
       "    }\n",
       "\n",
       "    .dataframe thead th {\n",
       "        text-align: right;\n",
       "    }\n",
       "</style>\n",
       "<table border=\"1\" class=\"dataframe\">\n",
       "  <thead>\n",
       "    <tr style=\"text-align: right;\">\n",
       "      <th></th>\n",
       "      <th>EMP_ID</th>\n",
       "      <th>EMP_NAME</th>\n",
       "      <th>EMP_SAL</th>\n",
       "      <th>EMP_COMPANY</th>\n",
       "    </tr>\n",
       "  </thead>\n",
       "  <tbody>\n",
       "    <tr>\n",
       "      <th>0</th>\n",
       "      <td>101</td>\n",
       "      <td>Rahul Kumar</td>\n",
       "      <td>35300.0</td>\n",
       "      <td>Google</td>\n",
       "    </tr>\n",
       "    <tr>\n",
       "      <th>1</th>\n",
       "      <td>102</td>\n",
       "      <td>Vijay Sagar</td>\n",
       "      <td>25500.0</td>\n",
       "      <td>Microsoft</td>\n",
       "    </tr>\n",
       "    <tr>\n",
       "      <th>2</th>\n",
       "      <td>103</td>\n",
       "      <td>Siya Singh</td>\n",
       "      <td>NaN</td>\n",
       "      <td>OpenAI</td>\n",
       "    </tr>\n",
       "    <tr>\n",
       "      <th>3</th>\n",
       "      <td>104</td>\n",
       "      <td>Ravi Kumar</td>\n",
       "      <td>56000.0</td>\n",
       "      <td>Google</td>\n",
       "    </tr>\n",
       "    <tr>\n",
       "      <th>4</th>\n",
       "      <td>105</td>\n",
       "      <td>Raju Dev</td>\n",
       "      <td>NaN</td>\n",
       "      <td>NaN</td>\n",
       "    </tr>\n",
       "  </tbody>\n",
       "</table>\n",
       "</div>"
      ],
      "text/plain": [
       "   EMP_ID     EMP_NAME  EMP_SAL EMP_COMPANY\n",
       "0     101  Rahul Kumar  35300.0      Google\n",
       "1     102  Vijay Sagar  25500.0   Microsoft\n",
       "2     103   Siya Singh      NaN      OpenAI\n",
       "3     104   Ravi Kumar  56000.0      Google\n",
       "4     105     Raju Dev      NaN         NaN"
      ]
     },
     "execution_count": 165,
     "metadata": {},
     "output_type": "execute_result"
    }
   ],
   "source": [
    "df"
   ]
  },
  {
   "cell_type": "code",
   "execution_count": null,
   "id": "de037fd4-7601-434d-8997-74215befdad6",
   "metadata": {},
   "outputs": [],
   "source": []
  },
  {
   "cell_type": "code",
   "execution_count": 166,
   "id": "79deed12-b5bb-45de-97e0-2d0bfb93a4fd",
   "metadata": {},
   "outputs": [],
   "source": [
    "sums = 0\n",
    "count = 0\n",
    "for sal in df[\"EMP_SAL\"]:\n",
    "    if(not np.isnan(sal)):\n",
    "        sums = sums+sal\n",
    "        count+=1"
   ]
  },
  {
   "cell_type": "code",
   "execution_count": 167,
   "id": "4fbd246b-c35f-4dce-b553-038ff54dece8",
   "metadata": {},
   "outputs": [
    {
     "data": {
      "text/plain": [
       "116800.0"
      ]
     },
     "execution_count": 167,
     "metadata": {},
     "output_type": "execute_result"
    }
   ],
   "source": [
    "sums"
   ]
  },
  {
   "cell_type": "code",
   "execution_count": 168,
   "id": "97ba5aea-09fd-447e-8902-7d8caca8fd2a",
   "metadata": {},
   "outputs": [
    {
     "data": {
      "text/plain": [
       "3"
      ]
     },
     "execution_count": 168,
     "metadata": {},
     "output_type": "execute_result"
    }
   ],
   "source": [
    "count"
   ]
  },
  {
   "cell_type": "code",
   "execution_count": 169,
   "id": "7bda3078-f76a-4f40-b113-973e5baed866",
   "metadata": {},
   "outputs": [
    {
     "data": {
      "text/plain": [
       "38933.333333333336"
      ]
     },
     "execution_count": 169,
     "metadata": {},
     "output_type": "execute_result"
    }
   ],
   "source": [
    "sums/count"
   ]
  },
  {
   "cell_type": "code",
   "execution_count": 170,
   "id": "92156d3f-7d4d-4594-9c96-bfe6288de699",
   "metadata": {},
   "outputs": [],
   "source": [
    "df[\"EMP_SAL\"] = df[\"EMP_SAL\"].fillna(value=sums//count)"
   ]
  },
  {
   "cell_type": "code",
   "execution_count": 172,
   "id": "f4307358-f8f9-44a4-aa34-e1f58680d34c",
   "metadata": {},
   "outputs": [
    {
     "data": {
      "text/html": [
       "<div>\n",
       "<style scoped>\n",
       "    .dataframe tbody tr th:only-of-type {\n",
       "        vertical-align: middle;\n",
       "    }\n",
       "\n",
       "    .dataframe tbody tr th {\n",
       "        vertical-align: top;\n",
       "    }\n",
       "\n",
       "    .dataframe thead th {\n",
       "        text-align: right;\n",
       "    }\n",
       "</style>\n",
       "<table border=\"1\" class=\"dataframe\">\n",
       "  <thead>\n",
       "    <tr style=\"text-align: right;\">\n",
       "      <th></th>\n",
       "      <th>EMP_ID</th>\n",
       "      <th>EMP_NAME</th>\n",
       "      <th>EMP_SAL</th>\n",
       "      <th>EMP_COMPANY</th>\n",
       "    </tr>\n",
       "  </thead>\n",
       "  <tbody>\n",
       "    <tr>\n",
       "      <th>0</th>\n",
       "      <td>101</td>\n",
       "      <td>Rahul Kumar</td>\n",
       "      <td>35300.0</td>\n",
       "      <td>Google</td>\n",
       "    </tr>\n",
       "    <tr>\n",
       "      <th>1</th>\n",
       "      <td>102</td>\n",
       "      <td>Vijay Sagar</td>\n",
       "      <td>25500.0</td>\n",
       "      <td>Microsoft</td>\n",
       "    </tr>\n",
       "    <tr>\n",
       "      <th>2</th>\n",
       "      <td>103</td>\n",
       "      <td>Siya Singh</td>\n",
       "      <td>38933.0</td>\n",
       "      <td>OpenAI</td>\n",
       "    </tr>\n",
       "    <tr>\n",
       "      <th>3</th>\n",
       "      <td>104</td>\n",
       "      <td>Ravi Kumar</td>\n",
       "      <td>56000.0</td>\n",
       "      <td>Google</td>\n",
       "    </tr>\n",
       "    <tr>\n",
       "      <th>4</th>\n",
       "      <td>105</td>\n",
       "      <td>Raju Dev</td>\n",
       "      <td>38933.0</td>\n",
       "      <td>NaN</td>\n",
       "    </tr>\n",
       "  </tbody>\n",
       "</table>\n",
       "</div>"
      ],
      "text/plain": [
       "   EMP_ID     EMP_NAME  EMP_SAL EMP_COMPANY\n",
       "0     101  Rahul Kumar  35300.0      Google\n",
       "1     102  Vijay Sagar  25500.0   Microsoft\n",
       "2     103   Siya Singh  38933.0      OpenAI\n",
       "3     104   Ravi Kumar  56000.0      Google\n",
       "4     105     Raju Dev  38933.0         NaN"
      ]
     },
     "execution_count": 172,
     "metadata": {},
     "output_type": "execute_result"
    }
   ],
   "source": [
    "df"
   ]
  },
  {
   "cell_type": "code",
   "execution_count": 174,
   "id": "432a3093-6f2a-4a6a-ae0c-baa170931066",
   "metadata": {},
   "outputs": [
    {
     "data": {
      "text/plain": [
       "'Google'"
      ]
     },
     "execution_count": 174,
     "metadata": {},
     "output_type": "execute_result"
    }
   ],
   "source": [
    "df[\"EMP_COMPANY\"].mode()[0]"
   ]
  },
  {
   "cell_type": "code",
   "execution_count": 175,
   "id": "5750e202-b132-4849-9151-d498463ea31b",
   "metadata": {},
   "outputs": [],
   "source": [
    "df[\"EMP_COMPANY\"] = df[\"EMP_COMPANY\"].fillna(value=df[\"EMP_COMPANY\"].mode()[0])"
   ]
  },
  {
   "cell_type": "code",
   "execution_count": 176,
   "id": "dc11f536-54ab-4e62-a06f-6c0c5f562994",
   "metadata": {},
   "outputs": [
    {
     "data": {
      "text/html": [
       "<div>\n",
       "<style scoped>\n",
       "    .dataframe tbody tr th:only-of-type {\n",
       "        vertical-align: middle;\n",
       "    }\n",
       "\n",
       "    .dataframe tbody tr th {\n",
       "        vertical-align: top;\n",
       "    }\n",
       "\n",
       "    .dataframe thead th {\n",
       "        text-align: right;\n",
       "    }\n",
       "</style>\n",
       "<table border=\"1\" class=\"dataframe\">\n",
       "  <thead>\n",
       "    <tr style=\"text-align: right;\">\n",
       "      <th></th>\n",
       "      <th>EMP_ID</th>\n",
       "      <th>EMP_NAME</th>\n",
       "      <th>EMP_SAL</th>\n",
       "      <th>EMP_COMPANY</th>\n",
       "    </tr>\n",
       "  </thead>\n",
       "  <tbody>\n",
       "    <tr>\n",
       "      <th>0</th>\n",
       "      <td>101</td>\n",
       "      <td>Rahul Kumar</td>\n",
       "      <td>35300.0</td>\n",
       "      <td>Google</td>\n",
       "    </tr>\n",
       "    <tr>\n",
       "      <th>1</th>\n",
       "      <td>102</td>\n",
       "      <td>Vijay Sagar</td>\n",
       "      <td>25500.0</td>\n",
       "      <td>Microsoft</td>\n",
       "    </tr>\n",
       "    <tr>\n",
       "      <th>2</th>\n",
       "      <td>103</td>\n",
       "      <td>Siya Singh</td>\n",
       "      <td>38933.0</td>\n",
       "      <td>OpenAI</td>\n",
       "    </tr>\n",
       "    <tr>\n",
       "      <th>3</th>\n",
       "      <td>104</td>\n",
       "      <td>Ravi Kumar</td>\n",
       "      <td>56000.0</td>\n",
       "      <td>Google</td>\n",
       "    </tr>\n",
       "    <tr>\n",
       "      <th>4</th>\n",
       "      <td>105</td>\n",
       "      <td>Raju Dev</td>\n",
       "      <td>38933.0</td>\n",
       "      <td>Google</td>\n",
       "    </tr>\n",
       "  </tbody>\n",
       "</table>\n",
       "</div>"
      ],
      "text/plain": [
       "   EMP_ID     EMP_NAME  EMP_SAL EMP_COMPANY\n",
       "0     101  Rahul Kumar  35300.0      Google\n",
       "1     102  Vijay Sagar  25500.0   Microsoft\n",
       "2     103   Siya Singh  38933.0      OpenAI\n",
       "3     104   Ravi Kumar  56000.0      Google\n",
       "4     105     Raju Dev  38933.0      Google"
      ]
     },
     "execution_count": 176,
     "metadata": {},
     "output_type": "execute_result"
    }
   ],
   "source": [
    "df"
   ]
  },
  {
   "cell_type": "code",
   "execution_count": 179,
   "id": "1488c1e5-9d0b-42f8-b838-36836a53c955",
   "metadata": {},
   "outputs": [
    {
     "data": {
      "text/html": [
       "<div>\n",
       "<style scoped>\n",
       "    .dataframe tbody tr th:only-of-type {\n",
       "        vertical-align: middle;\n",
       "    }\n",
       "\n",
       "    .dataframe tbody tr th {\n",
       "        vertical-align: top;\n",
       "    }\n",
       "\n",
       "    .dataframe thead th {\n",
       "        text-align: right;\n",
       "    }\n",
       "</style>\n",
       "<table border=\"1\" class=\"dataframe\">\n",
       "  <thead>\n",
       "    <tr style=\"text-align: right;\">\n",
       "      <th></th>\n",
       "      <th>EMP_ID</th>\n",
       "      <th>EMP_NAME</th>\n",
       "      <th>EMP_SAL</th>\n",
       "      <th>EMP_COMPANY</th>\n",
       "    </tr>\n",
       "  </thead>\n",
       "  <tbody>\n",
       "    <tr>\n",
       "      <th>0</th>\n",
       "      <td>101</td>\n",
       "      <td>Rahul Kumar</td>\n",
       "      <td>35300.0</td>\n",
       "      <td>Google</td>\n",
       "    </tr>\n",
       "    <tr>\n",
       "      <th>1</th>\n",
       "      <td>102</td>\n",
       "      <td>Vijay Sagar</td>\n",
       "      <td>25500.0</td>\n",
       "      <td>Microsoft</td>\n",
       "    </tr>\n",
       "    <tr>\n",
       "      <th>2</th>\n",
       "      <td>103</td>\n",
       "      <td>Siya Singh</td>\n",
       "      <td>NaN</td>\n",
       "      <td>OpenAI</td>\n",
       "    </tr>\n",
       "    <tr>\n",
       "      <th>3</th>\n",
       "      <td>104</td>\n",
       "      <td>Ravi Kumar</td>\n",
       "      <td>56000.0</td>\n",
       "      <td>Google</td>\n",
       "    </tr>\n",
       "    <tr>\n",
       "      <th>4</th>\n",
       "      <td>105</td>\n",
       "      <td>Raju Dev</td>\n",
       "      <td>NaN</td>\n",
       "      <td>NaN</td>\n",
       "    </tr>\n",
       "  </tbody>\n",
       "</table>\n",
       "</div>"
      ],
      "text/plain": [
       "   EMP_ID     EMP_NAME  EMP_SAL EMP_COMPANY\n",
       "0     101  Rahul Kumar  35300.0      Google\n",
       "1     102  Vijay Sagar  25500.0   Microsoft\n",
       "2     103   Siya Singh      NaN      OpenAI\n",
       "3     104   Ravi Kumar  56000.0      Google\n",
       "4     105     Raju Dev      NaN         NaN"
      ]
     },
     "execution_count": 179,
     "metadata": {},
     "output_type": "execute_result"
    }
   ],
   "source": [
    "df"
   ]
  },
  {
   "cell_type": "code",
   "execution_count": 182,
   "id": "e5e94bd6-75fc-450f-ade8-d4caac2b2a2d",
   "metadata": {},
   "outputs": [
    {
     "name": "stderr",
     "output_type": "stream",
     "text": [
      "C:\\Users\\saini\\AppData\\Local\\Temp\\ipykernel_14068\\3944122520.py:1: FutureWarning: DataFrame.fillna with 'method' is deprecated and will raise in a future version. Use obj.ffill() or obj.bfill() instead.\n",
      "  df.fillna(method=\"ffill\")\n"
     ]
    },
    {
     "data": {
      "text/html": [
       "<div>\n",
       "<style scoped>\n",
       "    .dataframe tbody tr th:only-of-type {\n",
       "        vertical-align: middle;\n",
       "    }\n",
       "\n",
       "    .dataframe tbody tr th {\n",
       "        vertical-align: top;\n",
       "    }\n",
       "\n",
       "    .dataframe thead th {\n",
       "        text-align: right;\n",
       "    }\n",
       "</style>\n",
       "<table border=\"1\" class=\"dataframe\">\n",
       "  <thead>\n",
       "    <tr style=\"text-align: right;\">\n",
       "      <th></th>\n",
       "      <th>EMP_ID</th>\n",
       "      <th>EMP_NAME</th>\n",
       "      <th>EMP_SAL</th>\n",
       "      <th>EMP_COMPANY</th>\n",
       "    </tr>\n",
       "  </thead>\n",
       "  <tbody>\n",
       "    <tr>\n",
       "      <th>0</th>\n",
       "      <td>101</td>\n",
       "      <td>Rahul Kumar</td>\n",
       "      <td>35300.0</td>\n",
       "      <td>Google</td>\n",
       "    </tr>\n",
       "    <tr>\n",
       "      <th>1</th>\n",
       "      <td>102</td>\n",
       "      <td>Vijay Sagar</td>\n",
       "      <td>25500.0</td>\n",
       "      <td>Microsoft</td>\n",
       "    </tr>\n",
       "    <tr>\n",
       "      <th>2</th>\n",
       "      <td>103</td>\n",
       "      <td>Siya Singh</td>\n",
       "      <td>25500.0</td>\n",
       "      <td>OpenAI</td>\n",
       "    </tr>\n",
       "    <tr>\n",
       "      <th>3</th>\n",
       "      <td>104</td>\n",
       "      <td>Ravi Kumar</td>\n",
       "      <td>56000.0</td>\n",
       "      <td>Google</td>\n",
       "    </tr>\n",
       "    <tr>\n",
       "      <th>4</th>\n",
       "      <td>105</td>\n",
       "      <td>Raju Dev</td>\n",
       "      <td>56000.0</td>\n",
       "      <td>Google</td>\n",
       "    </tr>\n",
       "  </tbody>\n",
       "</table>\n",
       "</div>"
      ],
      "text/plain": [
       "   EMP_ID     EMP_NAME  EMP_SAL EMP_COMPANY\n",
       "0     101  Rahul Kumar  35300.0      Google\n",
       "1     102  Vijay Sagar  25500.0   Microsoft\n",
       "2     103   Siya Singh  25500.0      OpenAI\n",
       "3     104   Ravi Kumar  56000.0      Google\n",
       "4     105     Raju Dev  56000.0      Google"
      ]
     },
     "execution_count": 182,
     "metadata": {},
     "output_type": "execute_result"
    }
   ],
   "source": [
    "df.fillna(method=\"ffill\")"
   ]
  },
  {
   "cell_type": "code",
   "execution_count": 183,
   "id": "d7a9f871-709f-4e1b-bdee-2490014afffe",
   "metadata": {},
   "outputs": [
    {
     "data": {
      "text/html": [
       "<div>\n",
       "<style scoped>\n",
       "    .dataframe tbody tr th:only-of-type {\n",
       "        vertical-align: middle;\n",
       "    }\n",
       "\n",
       "    .dataframe tbody tr th {\n",
       "        vertical-align: top;\n",
       "    }\n",
       "\n",
       "    .dataframe thead th {\n",
       "        text-align: right;\n",
       "    }\n",
       "</style>\n",
       "<table border=\"1\" class=\"dataframe\">\n",
       "  <thead>\n",
       "    <tr style=\"text-align: right;\">\n",
       "      <th></th>\n",
       "      <th>EMP_ID</th>\n",
       "      <th>EMP_NAME</th>\n",
       "      <th>EMP_SAL</th>\n",
       "      <th>EMP_COMPANY</th>\n",
       "    </tr>\n",
       "  </thead>\n",
       "  <tbody>\n",
       "    <tr>\n",
       "      <th>0</th>\n",
       "      <td>101</td>\n",
       "      <td>Rahul Kumar</td>\n",
       "      <td>35300.0</td>\n",
       "      <td>Google</td>\n",
       "    </tr>\n",
       "    <tr>\n",
       "      <th>1</th>\n",
       "      <td>102</td>\n",
       "      <td>Vijay Sagar</td>\n",
       "      <td>25500.0</td>\n",
       "      <td>Microsoft</td>\n",
       "    </tr>\n",
       "    <tr>\n",
       "      <th>2</th>\n",
       "      <td>103</td>\n",
       "      <td>Siya Singh</td>\n",
       "      <td>NaN</td>\n",
       "      <td>OpenAI</td>\n",
       "    </tr>\n",
       "    <tr>\n",
       "      <th>3</th>\n",
       "      <td>104</td>\n",
       "      <td>Ravi Kumar</td>\n",
       "      <td>56000.0</td>\n",
       "      <td>Google</td>\n",
       "    </tr>\n",
       "    <tr>\n",
       "      <th>4</th>\n",
       "      <td>105</td>\n",
       "      <td>Raju Dev</td>\n",
       "      <td>NaN</td>\n",
       "      <td>NaN</td>\n",
       "    </tr>\n",
       "  </tbody>\n",
       "</table>\n",
       "</div>"
      ],
      "text/plain": [
       "   EMP_ID     EMP_NAME  EMP_SAL EMP_COMPANY\n",
       "0     101  Rahul Kumar  35300.0      Google\n",
       "1     102  Vijay Sagar  25500.0   Microsoft\n",
       "2     103   Siya Singh      NaN      OpenAI\n",
       "3     104   Ravi Kumar  56000.0      Google\n",
       "4     105     Raju Dev      NaN         NaN"
      ]
     },
     "execution_count": 183,
     "metadata": {},
     "output_type": "execute_result"
    }
   ],
   "source": [
    "df"
   ]
  },
  {
   "cell_type": "code",
   "execution_count": 184,
   "id": "6488f3a7-73db-410a-9a52-69bd54505232",
   "metadata": {},
   "outputs": [
    {
     "data": {
      "text/html": [
       "<div>\n",
       "<style scoped>\n",
       "    .dataframe tbody tr th:only-of-type {\n",
       "        vertical-align: middle;\n",
       "    }\n",
       "\n",
       "    .dataframe tbody tr th {\n",
       "        vertical-align: top;\n",
       "    }\n",
       "\n",
       "    .dataframe thead th {\n",
       "        text-align: right;\n",
       "    }\n",
       "</style>\n",
       "<table border=\"1\" class=\"dataframe\">\n",
       "  <thead>\n",
       "    <tr style=\"text-align: right;\">\n",
       "      <th></th>\n",
       "      <th>EMP_ID</th>\n",
       "      <th>EMP_NAME</th>\n",
       "      <th>EMP_SAL</th>\n",
       "      <th>EMP_COMPANY</th>\n",
       "    </tr>\n",
       "  </thead>\n",
       "  <tbody>\n",
       "    <tr>\n",
       "      <th>0</th>\n",
       "      <td>101</td>\n",
       "      <td>Rahul Kumar</td>\n",
       "      <td>35300.0</td>\n",
       "      <td>Google</td>\n",
       "    </tr>\n",
       "    <tr>\n",
       "      <th>1</th>\n",
       "      <td>102</td>\n",
       "      <td>Vijay Sagar</td>\n",
       "      <td>25500.0</td>\n",
       "      <td>Microsoft</td>\n",
       "    </tr>\n",
       "    <tr>\n",
       "      <th>2</th>\n",
       "      <td>103</td>\n",
       "      <td>Siya Singh</td>\n",
       "      <td>25500.0</td>\n",
       "      <td>OpenAI</td>\n",
       "    </tr>\n",
       "    <tr>\n",
       "      <th>3</th>\n",
       "      <td>104</td>\n",
       "      <td>Ravi Kumar</td>\n",
       "      <td>56000.0</td>\n",
       "      <td>Google</td>\n",
       "    </tr>\n",
       "    <tr>\n",
       "      <th>4</th>\n",
       "      <td>105</td>\n",
       "      <td>Raju Dev</td>\n",
       "      <td>56000.0</td>\n",
       "      <td>Google</td>\n",
       "    </tr>\n",
       "  </tbody>\n",
       "</table>\n",
       "</div>"
      ],
      "text/plain": [
       "   EMP_ID     EMP_NAME  EMP_SAL EMP_COMPANY\n",
       "0     101  Rahul Kumar  35300.0      Google\n",
       "1     102  Vijay Sagar  25500.0   Microsoft\n",
       "2     103   Siya Singh  25500.0      OpenAI\n",
       "3     104   Ravi Kumar  56000.0      Google\n",
       "4     105     Raju Dev  56000.0      Google"
      ]
     },
     "execution_count": 184,
     "metadata": {},
     "output_type": "execute_result"
    }
   ],
   "source": [
    "df.ffill()"
   ]
  },
  {
   "cell_type": "code",
   "execution_count": 187,
   "id": "c5d93a47-d690-4d27-bc81-088132a0624b",
   "metadata": {},
   "outputs": [
    {
     "data": {
      "text/html": [
       "<div>\n",
       "<style scoped>\n",
       "    .dataframe tbody tr th:only-of-type {\n",
       "        vertical-align: middle;\n",
       "    }\n",
       "\n",
       "    .dataframe tbody tr th {\n",
       "        vertical-align: top;\n",
       "    }\n",
       "\n",
       "    .dataframe thead th {\n",
       "        text-align: right;\n",
       "    }\n",
       "</style>\n",
       "<table border=\"1\" class=\"dataframe\">\n",
       "  <thead>\n",
       "    <tr style=\"text-align: right;\">\n",
       "      <th></th>\n",
       "      <th>EMP_ID</th>\n",
       "      <th>EMP_NAME</th>\n",
       "      <th>EMP_SAL</th>\n",
       "      <th>EMP_COMPANY</th>\n",
       "      <th>EMP_COUNTRY</th>\n",
       "    </tr>\n",
       "  </thead>\n",
       "  <tbody>\n",
       "    <tr>\n",
       "      <th>0</th>\n",
       "      <td>101</td>\n",
       "      <td>Rahul Kumar</td>\n",
       "      <td>35300.0</td>\n",
       "      <td>Google</td>\n",
       "      <td>INDIA</td>\n",
       "    </tr>\n",
       "    <tr>\n",
       "      <th>1</th>\n",
       "      <td>102</td>\n",
       "      <td>Vijay Sagar</td>\n",
       "      <td>25500.0</td>\n",
       "      <td>Microsoft</td>\n",
       "      <td>JAPAN</td>\n",
       "    </tr>\n",
       "    <tr>\n",
       "      <th>2</th>\n",
       "      <td>103</td>\n",
       "      <td>Siya Singh</td>\n",
       "      <td>NaN</td>\n",
       "      <td>OpenAI</td>\n",
       "      <td>USA</td>\n",
       "    </tr>\n",
       "    <tr>\n",
       "      <th>3</th>\n",
       "      <td>104</td>\n",
       "      <td>Ravi Kumar</td>\n",
       "      <td>56000.0</td>\n",
       "      <td>Google</td>\n",
       "      <td>AUSTRALIA</td>\n",
       "    </tr>\n",
       "    <tr>\n",
       "      <th>4</th>\n",
       "      <td>105</td>\n",
       "      <td>Raju Dev</td>\n",
       "      <td>NaN</td>\n",
       "      <td>NaN</td>\n",
       "      <td>SPAIN</td>\n",
       "    </tr>\n",
       "  </tbody>\n",
       "</table>\n",
       "</div>"
      ],
      "text/plain": [
       "   EMP_ID     EMP_NAME  EMP_SAL EMP_COMPANY EMP_COUNTRY\n",
       "0     101  Rahul Kumar  35300.0      Google       INDIA\n",
       "1     102  Vijay Sagar  25500.0   Microsoft       JAPAN\n",
       "2     103   Siya Singh      NaN      OpenAI         USA\n",
       "3     104   Ravi Kumar  56000.0      Google   AUSTRALIA\n",
       "4     105     Raju Dev      NaN         NaN       SPAIN"
      ]
     },
     "execution_count": 187,
     "metadata": {},
     "output_type": "execute_result"
    }
   ],
   "source": [
    "df"
   ]
  },
  {
   "cell_type": "code",
   "execution_count": 191,
   "id": "c7168da9-05c3-4b6f-a35e-03cd083a01c2",
   "metadata": {},
   "outputs": [],
   "source": [
    "df = df.ffill()"
   ]
  },
  {
   "cell_type": "code",
   "execution_count": 192,
   "id": "f842aad5-3370-4448-a8b0-48b724276f48",
   "metadata": {},
   "outputs": [
    {
     "data": {
      "text/html": [
       "<div>\n",
       "<style scoped>\n",
       "    .dataframe tbody tr th:only-of-type {\n",
       "        vertical-align: middle;\n",
       "    }\n",
       "\n",
       "    .dataframe tbody tr th {\n",
       "        vertical-align: top;\n",
       "    }\n",
       "\n",
       "    .dataframe thead th {\n",
       "        text-align: right;\n",
       "    }\n",
       "</style>\n",
       "<table border=\"1\" class=\"dataframe\">\n",
       "  <thead>\n",
       "    <tr style=\"text-align: right;\">\n",
       "      <th></th>\n",
       "      <th>EMP_ID</th>\n",
       "      <th>EMP_NAME</th>\n",
       "      <th>EMP_SAL</th>\n",
       "      <th>EMP_COMPANY</th>\n",
       "      <th>EMP_COUNTRY</th>\n",
       "    </tr>\n",
       "  </thead>\n",
       "  <tbody>\n",
       "    <tr>\n",
       "      <th>0</th>\n",
       "      <td>101</td>\n",
       "      <td>Rahul Kumar</td>\n",
       "      <td>35300.0</td>\n",
       "      <td>Google</td>\n",
       "      <td>INDIA</td>\n",
       "    </tr>\n",
       "    <tr>\n",
       "      <th>1</th>\n",
       "      <td>102</td>\n",
       "      <td>Vijay Sagar</td>\n",
       "      <td>25500.0</td>\n",
       "      <td>Microsoft</td>\n",
       "      <td>JAPAN</td>\n",
       "    </tr>\n",
       "    <tr>\n",
       "      <th>2</th>\n",
       "      <td>103</td>\n",
       "      <td>Siya Singh</td>\n",
       "      <td>25500.0</td>\n",
       "      <td>OpenAI</td>\n",
       "      <td>USA</td>\n",
       "    </tr>\n",
       "    <tr>\n",
       "      <th>3</th>\n",
       "      <td>104</td>\n",
       "      <td>Ravi Kumar</td>\n",
       "      <td>56000.0</td>\n",
       "      <td>Google</td>\n",
       "      <td>AUSTRALIA</td>\n",
       "    </tr>\n",
       "    <tr>\n",
       "      <th>4</th>\n",
       "      <td>105</td>\n",
       "      <td>Raju Dev</td>\n",
       "      <td>56000.0</td>\n",
       "      <td>Google</td>\n",
       "      <td>SPAIN</td>\n",
       "    </tr>\n",
       "  </tbody>\n",
       "</table>\n",
       "</div>"
      ],
      "text/plain": [
       "   EMP_ID     EMP_NAME  EMP_SAL EMP_COMPANY EMP_COUNTRY\n",
       "0     101  Rahul Kumar  35300.0      Google       INDIA\n",
       "1     102  Vijay Sagar  25500.0   Microsoft       JAPAN\n",
       "2     103   Siya Singh  25500.0      OpenAI         USA\n",
       "3     104   Ravi Kumar  56000.0      Google   AUSTRALIA\n",
       "4     105     Raju Dev  56000.0      Google       SPAIN"
      ]
     },
     "execution_count": 192,
     "metadata": {},
     "output_type": "execute_result"
    }
   ],
   "source": [
    "df"
   ]
  },
  {
   "cell_type": "code",
   "execution_count": 197,
   "id": "e0946435-a562-4ae3-a6b6-5f03dbcd1248",
   "metadata": {},
   "outputs": [],
   "source": [
    "def Country(value):\n",
    "    return value[:3]"
   ]
  },
  {
   "cell_type": "code",
   "execution_count": 199,
   "id": "d2007aff-ff29-4291-8cf7-505c7d8005d8",
   "metadata": {},
   "outputs": [],
   "source": [
    "df[\"EMP_COUNTRY\"] = df[\"EMP_COUNTRY\"].map(Country)"
   ]
  },
  {
   "cell_type": "code",
   "execution_count": 200,
   "id": "8de2f320-180d-432f-9b06-98c48ce630d0",
   "metadata": {},
   "outputs": [
    {
     "data": {
      "text/html": [
       "<div>\n",
       "<style scoped>\n",
       "    .dataframe tbody tr th:only-of-type {\n",
       "        vertical-align: middle;\n",
       "    }\n",
       "\n",
       "    .dataframe tbody tr th {\n",
       "        vertical-align: top;\n",
       "    }\n",
       "\n",
       "    .dataframe thead th {\n",
       "        text-align: right;\n",
       "    }\n",
       "</style>\n",
       "<table border=\"1\" class=\"dataframe\">\n",
       "  <thead>\n",
       "    <tr style=\"text-align: right;\">\n",
       "      <th></th>\n",
       "      <th>EMP_ID</th>\n",
       "      <th>EMP_NAME</th>\n",
       "      <th>EMP_SAL</th>\n",
       "      <th>EMP_COMPANY</th>\n",
       "      <th>EMP_COUNTRY</th>\n",
       "    </tr>\n",
       "  </thead>\n",
       "  <tbody>\n",
       "    <tr>\n",
       "      <th>0</th>\n",
       "      <td>101</td>\n",
       "      <td>Rahul Kumar</td>\n",
       "      <td>35300.0</td>\n",
       "      <td>Google</td>\n",
       "      <td>IND</td>\n",
       "    </tr>\n",
       "    <tr>\n",
       "      <th>1</th>\n",
       "      <td>102</td>\n",
       "      <td>Vijay Sagar</td>\n",
       "      <td>25500.0</td>\n",
       "      <td>Microsoft</td>\n",
       "      <td>JAP</td>\n",
       "    </tr>\n",
       "    <tr>\n",
       "      <th>2</th>\n",
       "      <td>103</td>\n",
       "      <td>Siya Singh</td>\n",
       "      <td>25500.0</td>\n",
       "      <td>OpenAI</td>\n",
       "      <td>USA</td>\n",
       "    </tr>\n",
       "    <tr>\n",
       "      <th>3</th>\n",
       "      <td>104</td>\n",
       "      <td>Ravi Kumar</td>\n",
       "      <td>56000.0</td>\n",
       "      <td>Google</td>\n",
       "      <td>AUS</td>\n",
       "    </tr>\n",
       "    <tr>\n",
       "      <th>4</th>\n",
       "      <td>105</td>\n",
       "      <td>Raju Dev</td>\n",
       "      <td>56000.0</td>\n",
       "      <td>Google</td>\n",
       "      <td>SPA</td>\n",
       "    </tr>\n",
       "  </tbody>\n",
       "</table>\n",
       "</div>"
      ],
      "text/plain": [
       "   EMP_ID     EMP_NAME  EMP_SAL EMP_COMPANY EMP_COUNTRY\n",
       "0     101  Rahul Kumar  35300.0      Google         IND\n",
       "1     102  Vijay Sagar  25500.0   Microsoft         JAP\n",
       "2     103   Siya Singh  25500.0      OpenAI         USA\n",
       "3     104   Ravi Kumar  56000.0      Google         AUS\n",
       "4     105     Raju Dev  56000.0      Google         SPA"
      ]
     },
     "execution_count": 200,
     "metadata": {},
     "output_type": "execute_result"
    }
   ],
   "source": [
    "df"
   ]
  },
  {
   "cell_type": "code",
   "execution_count": 201,
   "id": "98db1b03-0e37-4674-a776-f0d2c646b2a2",
   "metadata": {},
   "outputs": [],
   "source": [
    "def updateSalary(sal):\n",
    "    return sal+2000"
   ]
  },
  {
   "cell_type": "code",
   "execution_count": 202,
   "id": "ac868463-4faa-4a28-b0e0-fb754d8cf702",
   "metadata": {},
   "outputs": [
    {
     "data": {
      "text/html": [
       "<div>\n",
       "<style scoped>\n",
       "    .dataframe tbody tr th:only-of-type {\n",
       "        vertical-align: middle;\n",
       "    }\n",
       "\n",
       "    .dataframe tbody tr th {\n",
       "        vertical-align: top;\n",
       "    }\n",
       "\n",
       "    .dataframe thead th {\n",
       "        text-align: right;\n",
       "    }\n",
       "</style>\n",
       "<table border=\"1\" class=\"dataframe\">\n",
       "  <thead>\n",
       "    <tr style=\"text-align: right;\">\n",
       "      <th></th>\n",
       "      <th>EMP_ID</th>\n",
       "      <th>EMP_NAME</th>\n",
       "      <th>EMP_SAL</th>\n",
       "      <th>EMP_COMPANY</th>\n",
       "      <th>EMP_COUNTRY</th>\n",
       "    </tr>\n",
       "  </thead>\n",
       "  <tbody>\n",
       "    <tr>\n",
       "      <th>0</th>\n",
       "      <td>101</td>\n",
       "      <td>Rahul Kumar</td>\n",
       "      <td>35300.0</td>\n",
       "      <td>Google</td>\n",
       "      <td>IND</td>\n",
       "    </tr>\n",
       "    <tr>\n",
       "      <th>1</th>\n",
       "      <td>102</td>\n",
       "      <td>Vijay Sagar</td>\n",
       "      <td>25500.0</td>\n",
       "      <td>Microsoft</td>\n",
       "      <td>JAP</td>\n",
       "    </tr>\n",
       "    <tr>\n",
       "      <th>2</th>\n",
       "      <td>103</td>\n",
       "      <td>Siya Singh</td>\n",
       "      <td>25500.0</td>\n",
       "      <td>OpenAI</td>\n",
       "      <td>USA</td>\n",
       "    </tr>\n",
       "    <tr>\n",
       "      <th>3</th>\n",
       "      <td>104</td>\n",
       "      <td>Ravi Kumar</td>\n",
       "      <td>56000.0</td>\n",
       "      <td>Google</td>\n",
       "      <td>AUS</td>\n",
       "    </tr>\n",
       "    <tr>\n",
       "      <th>4</th>\n",
       "      <td>105</td>\n",
       "      <td>Raju Dev</td>\n",
       "      <td>56000.0</td>\n",
       "      <td>Google</td>\n",
       "      <td>SPA</td>\n",
       "    </tr>\n",
       "  </tbody>\n",
       "</table>\n",
       "</div>"
      ],
      "text/plain": [
       "   EMP_ID     EMP_NAME  EMP_SAL EMP_COMPANY EMP_COUNTRY\n",
       "0     101  Rahul Kumar  35300.0      Google         IND\n",
       "1     102  Vijay Sagar  25500.0   Microsoft         JAP\n",
       "2     103   Siya Singh  25500.0      OpenAI         USA\n",
       "3     104   Ravi Kumar  56000.0      Google         AUS\n",
       "4     105     Raju Dev  56000.0      Google         SPA"
      ]
     },
     "execution_count": 202,
     "metadata": {},
     "output_type": "execute_result"
    }
   ],
   "source": [
    "df"
   ]
  },
  {
   "cell_type": "code",
   "execution_count": 203,
   "id": "8e9581d7-8fa9-4961-93cb-596e178ddcdb",
   "metadata": {},
   "outputs": [],
   "source": [
    "df[\"EMP_SAL\"] = df[\"EMP_SAL\"].map(updateSalary)"
   ]
  },
  {
   "cell_type": "code",
   "execution_count": 204,
   "id": "46266683-d409-4306-8548-705dec100e04",
   "metadata": {},
   "outputs": [
    {
     "data": {
      "text/html": [
       "<div>\n",
       "<style scoped>\n",
       "    .dataframe tbody tr th:only-of-type {\n",
       "        vertical-align: middle;\n",
       "    }\n",
       "\n",
       "    .dataframe tbody tr th {\n",
       "        vertical-align: top;\n",
       "    }\n",
       "\n",
       "    .dataframe thead th {\n",
       "        text-align: right;\n",
       "    }\n",
       "</style>\n",
       "<table border=\"1\" class=\"dataframe\">\n",
       "  <thead>\n",
       "    <tr style=\"text-align: right;\">\n",
       "      <th></th>\n",
       "      <th>EMP_ID</th>\n",
       "      <th>EMP_NAME</th>\n",
       "      <th>EMP_SAL</th>\n",
       "      <th>EMP_COMPANY</th>\n",
       "      <th>EMP_COUNTRY</th>\n",
       "    </tr>\n",
       "  </thead>\n",
       "  <tbody>\n",
       "    <tr>\n",
       "      <th>0</th>\n",
       "      <td>101</td>\n",
       "      <td>Rahul Kumar</td>\n",
       "      <td>37300.0</td>\n",
       "      <td>Google</td>\n",
       "      <td>IND</td>\n",
       "    </tr>\n",
       "    <tr>\n",
       "      <th>1</th>\n",
       "      <td>102</td>\n",
       "      <td>Vijay Sagar</td>\n",
       "      <td>27500.0</td>\n",
       "      <td>Microsoft</td>\n",
       "      <td>JAP</td>\n",
       "    </tr>\n",
       "    <tr>\n",
       "      <th>2</th>\n",
       "      <td>103</td>\n",
       "      <td>Siya Singh</td>\n",
       "      <td>27500.0</td>\n",
       "      <td>OpenAI</td>\n",
       "      <td>USA</td>\n",
       "    </tr>\n",
       "    <tr>\n",
       "      <th>3</th>\n",
       "      <td>104</td>\n",
       "      <td>Ravi Kumar</td>\n",
       "      <td>58000.0</td>\n",
       "      <td>Google</td>\n",
       "      <td>AUS</td>\n",
       "    </tr>\n",
       "    <tr>\n",
       "      <th>4</th>\n",
       "      <td>105</td>\n",
       "      <td>Raju Dev</td>\n",
       "      <td>58000.0</td>\n",
       "      <td>Google</td>\n",
       "      <td>SPA</td>\n",
       "    </tr>\n",
       "  </tbody>\n",
       "</table>\n",
       "</div>"
      ],
      "text/plain": [
       "   EMP_ID     EMP_NAME  EMP_SAL EMP_COMPANY EMP_COUNTRY\n",
       "0     101  Rahul Kumar  37300.0      Google         IND\n",
       "1     102  Vijay Sagar  27500.0   Microsoft         JAP\n",
       "2     103   Siya Singh  27500.0      OpenAI         USA\n",
       "3     104   Ravi Kumar  58000.0      Google         AUS\n",
       "4     105     Raju Dev  58000.0      Google         SPA"
      ]
     },
     "execution_count": 204,
     "metadata": {},
     "output_type": "execute_result"
    }
   ],
   "source": [
    "df"
   ]
  },
  {
   "cell_type": "code",
   "execution_count": null,
   "id": "7cd26f3b-9d98-4696-9ff4-4618e1560050",
   "metadata": {},
   "outputs": [],
   "source": []
  }
 ],
 "metadata": {
  "kernelspec": {
   "display_name": "Python 3 (ipykernel)",
   "language": "python",
   "name": "python3"
  },
  "language_info": {
   "codemirror_mode": {
    "name": "ipython",
    "version": 3
   },
   "file_extension": ".py",
   "mimetype": "text/x-python",
   "name": "python",
   "nbconvert_exporter": "python",
   "pygments_lexer": "ipython3",
   "version": "3.12.5"
  }
 },
 "nbformat": 4,
 "nbformat_minor": 5
}
