{
 "cells": [
  {
   "cell_type": "code",
   "execution_count": 1,
   "id": "1b81dad0-5a1a-4ed3-a7b8-aef7d9dea8d9",
   "metadata": {},
   "outputs": [],
   "source": [
    "import requests"
   ]
  },
  {
   "cell_type": "code",
   "execution_count": 11,
   "id": "9a5771ce-09b9-4057-815d-20dc4aa13d70",
   "metadata": {},
   "outputs": [],
   "source": [
    "url = \"https://github.com/topics\""
   ]
  },
  {
   "cell_type": "code",
   "execution_count": 12,
   "id": "7654fc59-0e6f-48d4-90dd-b48e5d09fcfa",
   "metadata": {},
   "outputs": [],
   "source": [
    "response = requests.get(url)"
   ]
  },
  {
   "cell_type": "code",
   "execution_count": 13,
   "id": "bbb60386-3d2a-4267-ad38-05e48e8c4f4b",
   "metadata": {},
   "outputs": [
    {
     "data": {
      "text/plain": [
       "200"
      ]
     },
     "execution_count": 13,
     "metadata": {},
     "output_type": "execute_result"
    }
   ],
   "source": [
    "response.status_code"
   ]
  },
  {
   "cell_type": "code",
   "execution_count": 45,
   "id": "78695707-cee6-4e9c-9b38-fd9d2b704021",
   "metadata": {},
   "outputs": [
    {
     "data": {
      "text/plain": [
       "'\\n\\n<!DOCTYPE html>\\n<html\\n  lang=\"en\"\\n  \\n  data-color-mode=\"auto\" data-light-theme=\"light\" data-dark-theme=\"dark\"\\n  data-a11y-animated-images=\"system\" data-a11y-link-underlines=\"true\"\\n  \\n  >\\n\\n\\n\\n  <head>\\n    <meta charset=\"utf-8\">\\n  <link rel=\"dns-prefetch\" href=\"https://github.githubassets.com\">\\n  <link rel=\"dns-prefetch\" href=\"https://avatars.githubusercontent.com\">\\n  <link rel=\"dns-prefetch\" href=\"https://github-cloud.s3.amazonaws.com\">\\n  <link rel=\"dns-prefetch\" href=\"https://user-images.githubusercontent.com/\">\\n  <link rel=\"preconnect\" href=\"https://github.githubassets.com\" crossorigin>\\n  <link rel=\"preconnect\" href=\"https://avatars.githubusercontent.com\">\\n\\n  \\n\\n  <link crossorigin=\"anonymous\" media=\"all\" rel=\"stylesheet\" href=\"https://github.githubassets.com/assets/light-0cfd1fd8509e.css\" /><link crossorigin=\"anonymous\" media=\"all\" rel=\"stylesheet\" href=\"https://github.githubassets.com/assets/dark-d782f59290e2.css\" /><link data-color-theme=\"dark_dimmed\" crossorigin=\"anonymous\" media='"
      ]
     },
     "execution_count": 45,
     "metadata": {},
     "output_type": "execute_result"
    }
   ],
   "source": [
    "content = response.text\n",
    "content[:1000]"
   ]
  },
  {
   "cell_type": "code",
   "execution_count": 22,
   "id": "ee29c6a5-b15a-4e14-b563-b8e7796e7060",
   "metadata": {},
   "outputs": [],
   "source": [
    "from bs4 import BeautifulSoup"
   ]
  },
  {
   "cell_type": "code",
   "execution_count": 25,
   "id": "b8d48173-b4f5-414c-9b02-0b71ca594330",
   "metadata": {},
   "outputs": [],
   "source": [
    "# Create a file for this HMTL page\n",
    "file = open(\"myfile.html\",\"w\",encoding=\"utf-8\")\n",
    "file.write(content)\n",
    "file.close()"
   ]
  },
  {
   "cell_type": "code",
   "execution_count": 26,
   "id": "f3598461-73ad-4397-8d89-aad7ad6a73ff",
   "metadata": {},
   "outputs": [],
   "source": [
    "doc = BeautifulSoup(content,\"html.parser\")"
   ]
  },
  {
   "cell_type": "code",
   "execution_count": 30,
   "id": "746de1dd-4ade-46a1-b9fb-86edb4fa0dfe",
   "metadata": {},
   "outputs": [
    {
     "data": {
      "text/plain": [
       "bs4.BeautifulSoup"
      ]
     },
     "execution_count": 30,
     "metadata": {},
     "output_type": "execute_result"
    }
   ],
   "source": [
    "type(doc)"
   ]
  },
  {
   "cell_type": "code",
   "execution_count": 46,
   "id": "16189b9e-a0b0-4b96-8518-38143c3958d8",
   "metadata": {},
   "outputs": [
    {
     "data": {
      "text/plain": [
       "5"
      ]
     },
     "execution_count": 46,
     "metadata": {},
     "output_type": "execute_result"
    }
   ],
   "source": [
    "len(doc)"
   ]
  },
  {
   "cell_type": "code",
   "execution_count": 47,
   "id": "194e9f10-1393-40a7-9bc7-55779cdfae8b",
   "metadata": {},
   "outputs": [
    {
     "data": {
      "text/plain": [
       "[<p class=\"f3 lh-condensed mb-0 mt-1 Link--primary\">3D</p>,\n",
       " <p class=\"f3 lh-condensed mb-0 mt-1 Link--primary\">Ajax</p>,\n",
       " <p class=\"f3 lh-condensed mb-0 mt-1 Link--primary\">Algorithm</p>,\n",
       " <p class=\"f3 lh-condensed mb-0 mt-1 Link--primary\">Amp</p>,\n",
       " <p class=\"f3 lh-condensed mb-0 mt-1 Link--primary\">Android</p>,\n",
       " <p class=\"f3 lh-condensed mb-0 mt-1 Link--primary\">Angular</p>,\n",
       " <p class=\"f3 lh-condensed mb-0 mt-1 Link--primary\">Ansible</p>,\n",
       " <p class=\"f3 lh-condensed mb-0 mt-1 Link--primary\">API</p>,\n",
       " <p class=\"f3 lh-condensed mb-0 mt-1 Link--primary\">Arduino</p>,\n",
       " <p class=\"f3 lh-condensed mb-0 mt-1 Link--primary\">ASP.NET</p>,\n",
       " <p class=\"f3 lh-condensed mb-0 mt-1 Link--primary\">Awesome Lists</p>,\n",
       " <p class=\"f3 lh-condensed mb-0 mt-1 Link--primary\">Amazon Web Services</p>,\n",
       " <p class=\"f3 lh-condensed mb-0 mt-1 Link--primary\">Azure</p>,\n",
       " <p class=\"f3 lh-condensed mb-0 mt-1 Link--primary\">Babel</p>,\n",
       " <p class=\"f3 lh-condensed mb-0 mt-1 Link--primary\">Bash</p>,\n",
       " <p class=\"f3 lh-condensed mb-0 mt-1 Link--primary\">Bitcoin</p>,\n",
       " <p class=\"f3 lh-condensed mb-0 mt-1 Link--primary\">Bootstrap</p>,\n",
       " <p class=\"f3 lh-condensed mb-0 mt-1 Link--primary\">Bot</p>,\n",
       " <p class=\"f3 lh-condensed mb-0 mt-1 Link--primary\">C</p>,\n",
       " <p class=\"f3 lh-condensed mb-0 mt-1 Link--primary\">Chrome</p>,\n",
       " <p class=\"f3 lh-condensed mb-0 mt-1 Link--primary\">Chrome extension</p>,\n",
       " <p class=\"f3 lh-condensed mb-0 mt-1 Link--primary\">Command-line interface</p>,\n",
       " <p class=\"f3 lh-condensed mb-0 mt-1 Link--primary\">Clojure</p>,\n",
       " <p class=\"f3 lh-condensed mb-0 mt-1 Link--primary\">Code quality</p>,\n",
       " <p class=\"f3 lh-condensed mb-0 mt-1 Link--primary\">Code review</p>,\n",
       " <p class=\"f3 lh-condensed mb-0 mt-1 Link--primary\">Compiler</p>,\n",
       " <p class=\"f3 lh-condensed mb-0 mt-1 Link--primary\">Continuous integration</p>,\n",
       " <p class=\"f3 lh-condensed mb-0 mt-1 Link--primary\">C++</p>,\n",
       " <p class=\"f3 lh-condensed mb-0 mt-1 Link--primary\">Cryptocurrency</p>,\n",
       " <p class=\"f3 lh-condensed mb-0 mt-1 Link--primary\">Crystal</p>]"
      ]
     },
     "execution_count": 47,
     "metadata": {},
     "output_type": "execute_result"
    }
   ],
   "source": [
    "topic = doc.find_all('p',{\"class\":\"f3 lh-condensed mb-0 mt-1 Link--primary\"})\n",
    "topic"
   ]
  },
  {
   "cell_type": "code",
   "execution_count": 48,
   "id": "fa45cd21-cddc-43dd-bbff-be190212da2c",
   "metadata": {},
   "outputs": [
    {
     "data": {
      "text/plain": [
       "[<p class=\"f5 color-fg-muted mb-0 mt-1\">\n",
       "           3D refers to the use of three-dimensional graphics, modeling, and animation in various industries.\n",
       "         </p>,\n",
       " <p class=\"f5 color-fg-muted mb-0 mt-1\">\n",
       "           Ajax is a technique for creating interactive web applications.\n",
       "         </p>,\n",
       " <p class=\"f5 color-fg-muted mb-0 mt-1\">\n",
       "           Algorithms are self-contained sequences that carry out a variety of tasks.\n",
       "         </p>]"
      ]
     },
     "execution_count": 48,
     "metadata": {},
     "output_type": "execute_result"
    }
   ],
   "source": [
    "description = doc.find_all(\"p\",{\"class\":\"f5 color-fg-muted mb-0 mt-1\"})\n",
    "description[:3]"
   ]
  },
  {
   "cell_type": "code",
   "execution_count": 61,
   "id": "bade1147-5dde-431e-8e56-6414c656dd11",
   "metadata": {},
   "outputs": [
    {
     "data": {
      "text/plain": [
       "[<a class=\"no-underline flex-1 d-flex flex-column\" href=\"/topics/3d\">\n",
       " <p class=\"f3 lh-condensed mb-0 mt-1 Link--primary\">3D</p>\n",
       " <p class=\"f5 color-fg-muted mb-0 mt-1\">\n",
       "           3D refers to the use of three-dimensional graphics, modeling, and animation in various industries.\n",
       "         </p>\n",
       " </a>,\n",
       " <a class=\"no-underline flex-1 d-flex flex-column\" href=\"/topics/ajax\">\n",
       " <p class=\"f3 lh-condensed mb-0 mt-1 Link--primary\">Ajax</p>\n",
       " <p class=\"f5 color-fg-muted mb-0 mt-1\">\n",
       "           Ajax is a technique for creating interactive web applications.\n",
       "         </p>\n",
       " </a>,\n",
       " <a class=\"no-underline flex-1 d-flex flex-column\" href=\"/topics/algorithm\">\n",
       " <p class=\"f3 lh-condensed mb-0 mt-1 Link--primary\">Algorithm</p>\n",
       " <p class=\"f5 color-fg-muted mb-0 mt-1\">\n",
       "           Algorithms are self-contained sequences that carry out a variety of tasks.\n",
       "         </p>\n",
       " </a>]"
      ]
     },
     "execution_count": 61,
     "metadata": {},
     "output_type": "execute_result"
    }
   ],
   "source": [
    "link = doc.find_all(\"a\",{\"class\":\"no-underline flex-1 d-flex flex-column\"})\n",
    "link[:3]"
   ]
  },
  {
   "cell_type": "code",
   "execution_count": 65,
   "id": "76933399-0d41-458a-b4bc-644ea1cac38e",
   "metadata": {},
   "outputs": [
    {
     "data": {
      "text/plain": [
       "['3D',\n",
       " 'Ajax',\n",
       " 'Algorithm',\n",
       " 'Amp',\n",
       " 'Android',\n",
       " 'Angular',\n",
       " 'Ansible',\n",
       " 'API',\n",
       " 'Arduino',\n",
       " 'ASP.NET',\n",
       " 'Awesome Lists',\n",
       " 'Amazon Web Services',\n",
       " 'Azure',\n",
       " 'Babel',\n",
       " 'Bash',\n",
       " 'Bitcoin',\n",
       " 'Bootstrap',\n",
       " 'Bot',\n",
       " 'C',\n",
       " 'Chrome',\n",
       " 'Chrome extension',\n",
       " 'Command-line interface',\n",
       " 'Clojure',\n",
       " 'Code quality',\n",
       " 'Code review',\n",
       " 'Compiler',\n",
       " 'Continuous integration',\n",
       " 'C++',\n",
       " 'Cryptocurrency',\n",
       " 'Crystal']"
      ]
     },
     "execution_count": 65,
     "metadata": {},
     "output_type": "execute_result"
    }
   ],
   "source": [
    "topics = []\n",
    "for i in range(0,len(topic)):\n",
    "    topics.append(topic[i].text)\n",
    "topics"
   ]
  },
  {
   "cell_type": "code",
   "execution_count": 70,
   "id": "38a23818-756a-4a1c-b6fb-4fc334a4fcb8",
   "metadata": {},
   "outputs": [
    {
     "data": {
      "text/plain": [
       "['3D refers to the use of three-dimensional graphics, modeling, and animation in various industries.',\n",
       " 'Ajax is a technique for creating interactive web applications.',\n",
       " 'Algorithms are self-contained sequences that carry out a variety of tasks.',\n",
       " 'Amp is a non-blocking concurrency library for PHP.',\n",
       " 'Android is an operating system built by Google designed for mobile devices.',\n",
       " 'Angular is an open source web application platform.',\n",
       " 'Ansible is a simple and powerful automation engine.',\n",
       " 'An API (Application Programming Interface) is a collection of protocols and subroutines for building software.',\n",
       " 'Arduino is an open source platform for building electronic devices.',\n",
       " 'ASP.NET is a web framework for building modern web apps and services.',\n",
       " 'An awesome list is a list of awesome things curated by the community.',\n",
       " 'Amazon Web Services provides on-demand cloud computing platforms on a subscription basis.',\n",
       " 'Azure is a cloud computing service created by Microsoft.',\n",
       " 'Babel is a compiler for writing next generation JavaScript, today.',\n",
       " 'Bash is a shell and command language interpreter for the GNU operating system.',\n",
       " 'Bitcoin is a cryptocurrency developed by Satoshi Nakamoto.',\n",
       " 'Bootstrap is an HTML, CSS, and JavaScript framework.',\n",
       " 'A bot is an application that runs automated tasks over the Internet.',\n",
       " 'C is a general purpose programming language that first appeared in 1972.',\n",
       " 'Chrome is a web browser from the tech company Google.',\n",
       " 'Chrome extensions enable users to customize the Chrome browsing experience.',\n",
       " 'A CLI, or command-line interface, is a console that helps users issue commands to a program.',\n",
       " 'Clojure is a dynamic, general-purpose programming language.',\n",
       " 'Automate your code review with style, quality, security, and test‑coverage checks when you need them.',\n",
       " 'Ensure your code meets quality standards and ship with confidence.',\n",
       " 'Compilers are software that translate higher-level programming languages to lower-level languages (e.g. machine code).',\n",
       " 'Automatically build and test your code as you push it upstream, preventing bugs from being deployed to production.',\n",
       " 'C++ is a general purpose and object-oriented programming language.',\n",
       " 'A cryptocurrency is a digital currency that uses cryptography.',\n",
       " 'Crystal is a self-hosted, general purpose programming language.']"
      ]
     },
     "execution_count": 70,
     "metadata": {},
     "output_type": "execute_result"
    }
   ],
   "source": [
    "descriptions = []\n",
    "for i in range(0,len(description)):\n",
    "    descriptions.append(description[i].text.strip())\n",
    "descriptions"
   ]
  },
  {
   "cell_type": "code",
   "execution_count": 75,
   "id": "4f9ba8e5-071f-4aca-b12a-ecdeaae1aa20",
   "metadata": {},
   "outputs": [
    {
     "data": {
      "text/plain": [
       "['https://github.com/topics/3d',\n",
       " 'https://github.com/topics/ajax',\n",
       " 'https://github.com/topics/algorithm',\n",
       " 'https://github.com/topics/amphp',\n",
       " 'https://github.com/topics/android',\n",
       " 'https://github.com/topics/angular',\n",
       " 'https://github.com/topics/ansible',\n",
       " 'https://github.com/topics/api',\n",
       " 'https://github.com/topics/arduino',\n",
       " 'https://github.com/topics/aspnet',\n",
       " 'https://github.com/topics/awesome',\n",
       " 'https://github.com/topics/aws',\n",
       " 'https://github.com/topics/azure',\n",
       " 'https://github.com/topics/babel',\n",
       " 'https://github.com/topics/bash',\n",
       " 'https://github.com/topics/bitcoin',\n",
       " 'https://github.com/topics/bootstrap',\n",
       " 'https://github.com/topics/bot',\n",
       " 'https://github.com/topics/c',\n",
       " 'https://github.com/topics/chrome',\n",
       " 'https://github.com/topics/chrome-extension',\n",
       " 'https://github.com/topics/cli',\n",
       " 'https://github.com/topics/clojure',\n",
       " 'https://github.com/topics/code-quality',\n",
       " 'https://github.com/topics/code-review',\n",
       " 'https://github.com/topics/compiler',\n",
       " 'https://github.com/topics/continuous-integration',\n",
       " 'https://github.com/topics/cpp',\n",
       " 'https://github.com/topics/cryptocurrency',\n",
       " 'https://github.com/topics/crystal']"
      ]
     },
     "execution_count": 75,
     "metadata": {},
     "output_type": "execute_result"
    }
   ],
   "source": [
    "links = []\n",
    "for i in range(0,len(link)):\n",
    "    links.append(\"https://github.com\"+link[i]['href'])\n",
    "links"
   ]
  },
  {
   "cell_type": "code",
   "execution_count": 76,
   "id": "b23d68b9-25c7-4bd4-a244-dc369c6b4061",
   "metadata": {},
   "outputs": [],
   "source": [
    "import pandas as pd"
   ]
  },
  {
   "cell_type": "code",
   "execution_count": 77,
   "id": "8ef9125e-0bb1-47ea-8755-2fa350a3714c",
   "metadata": {},
   "outputs": [],
   "source": [
    "data = {\n",
    "    \"Title\":topics,\n",
    "    \"Description\":descriptions,\n",
    "    \"Links\":links\n",
    "}"
   ]
  },
  {
   "cell_type": "code",
   "execution_count": 79,
   "id": "aad68612-b7ee-4eac-8e27-a3d4687c6c50",
   "metadata": {},
   "outputs": [
    {
     "data": {
      "text/html": [
       "<div>\n",
       "<style scoped>\n",
       "    .dataframe tbody tr th:only-of-type {\n",
       "        vertical-align: middle;\n",
       "    }\n",
       "\n",
       "    .dataframe tbody tr th {\n",
       "        vertical-align: top;\n",
       "    }\n",
       "\n",
       "    .dataframe thead th {\n",
       "        text-align: right;\n",
       "    }\n",
       "</style>\n",
       "<table border=\"1\" class=\"dataframe\">\n",
       "  <thead>\n",
       "    <tr style=\"text-align: right;\">\n",
       "      <th></th>\n",
       "      <th>Title</th>\n",
       "      <th>Description</th>\n",
       "      <th>Links</th>\n",
       "    </tr>\n",
       "  </thead>\n",
       "  <tbody>\n",
       "    <tr>\n",
       "      <th>0</th>\n",
       "      <td>3D</td>\n",
       "      <td>3D refers to the use of three-dimensional grap...</td>\n",
       "      <td>https://github.com/topics/3d</td>\n",
       "    </tr>\n",
       "    <tr>\n",
       "      <th>1</th>\n",
       "      <td>Ajax</td>\n",
       "      <td>Ajax is a technique for creating interactive w...</td>\n",
       "      <td>https://github.com/topics/ajax</td>\n",
       "    </tr>\n",
       "    <tr>\n",
       "      <th>2</th>\n",
       "      <td>Algorithm</td>\n",
       "      <td>Algorithms are self-contained sequences that c...</td>\n",
       "      <td>https://github.com/topics/algorithm</td>\n",
       "    </tr>\n",
       "    <tr>\n",
       "      <th>3</th>\n",
       "      <td>Amp</td>\n",
       "      <td>Amp is a non-blocking concurrency library for ...</td>\n",
       "      <td>https://github.com/topics/amphp</td>\n",
       "    </tr>\n",
       "    <tr>\n",
       "      <th>4</th>\n",
       "      <td>Android</td>\n",
       "      <td>Android is an operating system built by Google...</td>\n",
       "      <td>https://github.com/topics/android</td>\n",
       "    </tr>\n",
       "  </tbody>\n",
       "</table>\n",
       "</div>"
      ],
      "text/plain": [
       "       Title                                        Description  \\\n",
       "0         3D  3D refers to the use of three-dimensional grap...   \n",
       "1       Ajax  Ajax is a technique for creating interactive w...   \n",
       "2  Algorithm  Algorithms are self-contained sequences that c...   \n",
       "3        Amp  Amp is a non-blocking concurrency library for ...   \n",
       "4    Android  Android is an operating system built by Google...   \n",
       "\n",
       "                                 Links  \n",
       "0         https://github.com/topics/3d  \n",
       "1       https://github.com/topics/ajax  \n",
       "2  https://github.com/topics/algorithm  \n",
       "3      https://github.com/topics/amphp  \n",
       "4    https://github.com/topics/android  "
      ]
     },
     "execution_count": 79,
     "metadata": {},
     "output_type": "execute_result"
    }
   ],
   "source": [
    "df = pd.DataFrame(data)\n",
    "df.head(5)"
   ]
  },
  {
   "cell_type": "code",
   "execution_count": 83,
   "id": "ffe82b61-190a-4326-93e1-36fa12868904",
   "metadata": {},
   "outputs": [],
   "source": [
    "# Generate A CSV File For Furture Use\n",
    "df.to_csv(\"GitHubTopics.csv\",index=None)"
   ]
  },
  {
   "cell_type": "code",
   "execution_count": 88,
   "id": "b4625271-a94f-4fea-805b-a3593263c3d0",
   "metadata": {},
   "outputs": [],
   "source": [
    "df = pd.read_csv(\"GitHubTopics.csv\")"
   ]
  },
  {
   "cell_type": "code",
   "execution_count": 90,
   "id": "32af763b-8864-49de-8c11-f0e51c36f92e",
   "metadata": {},
   "outputs": [
    {
     "data": {
      "text/html": [
       "<div>\n",
       "<style scoped>\n",
       "    .dataframe tbody tr th:only-of-type {\n",
       "        vertical-align: middle;\n",
       "    }\n",
       "\n",
       "    .dataframe tbody tr th {\n",
       "        vertical-align: top;\n",
       "    }\n",
       "\n",
       "    .dataframe thead th {\n",
       "        text-align: right;\n",
       "    }\n",
       "</style>\n",
       "<table border=\"1\" class=\"dataframe\">\n",
       "  <thead>\n",
       "    <tr style=\"text-align: right;\">\n",
       "      <th></th>\n",
       "      <th>Title</th>\n",
       "      <th>Description</th>\n",
       "      <th>Links</th>\n",
       "    </tr>\n",
       "  </thead>\n",
       "  <tbody>\n",
       "    <tr>\n",
       "      <th>0</th>\n",
       "      <td>3D</td>\n",
       "      <td>3D refers to the use of three-dimensional grap...</td>\n",
       "      <td>https://github.com/topics/3d</td>\n",
       "    </tr>\n",
       "    <tr>\n",
       "      <th>1</th>\n",
       "      <td>Ajax</td>\n",
       "      <td>Ajax is a technique for creating interactive w...</td>\n",
       "      <td>https://github.com/topics/ajax</td>\n",
       "    </tr>\n",
       "    <tr>\n",
       "      <th>2</th>\n",
       "      <td>Algorithm</td>\n",
       "      <td>Algorithms are self-contained sequences that c...</td>\n",
       "      <td>https://github.com/topics/algorithm</td>\n",
       "    </tr>\n",
       "  </tbody>\n",
       "</table>\n",
       "</div>"
      ],
      "text/plain": [
       "       Title                                        Description  \\\n",
       "0         3D  3D refers to the use of three-dimensional grap...   \n",
       "1       Ajax  Ajax is a technique for creating interactive w...   \n",
       "2  Algorithm  Algorithms are self-contained sequences that c...   \n",
       "\n",
       "                                 Links  \n",
       "0         https://github.com/topics/3d  \n",
       "1       https://github.com/topics/ajax  \n",
       "2  https://github.com/topics/algorithm  "
      ]
     },
     "execution_count": 90,
     "metadata": {},
     "output_type": "execute_result"
    }
   ],
   "source": [
    "df.head(3)"
   ]
  },
  {
   "cell_type": "code",
   "execution_count": 92,
   "id": "51bdf942-9717-4b3d-a081-3f2821fd6dce",
   "metadata": {},
   "outputs": [
    {
     "data": {
      "text/plain": [
       "0           https://github.com/topics/3d\n",
       "1         https://github.com/topics/ajax\n",
       "2    https://github.com/topics/algorithm\n",
       "Name: Links, dtype: object"
      ]
     },
     "execution_count": 92,
     "metadata": {},
     "output_type": "execute_result"
    }
   ],
   "source": [
    "df[\"Links\"].head(3)"
   ]
  },
  {
   "cell_type": "code",
   "execution_count": 97,
   "id": "0c1fcdd7-bbda-425f-b2aa-c92a796db076",
   "metadata": {},
   "outputs": [],
   "source": [
    "def findDoc(url):\n",
    "    response = requests.get(url)\n",
    "    content = response.text\n",
    "    doc = BeautifulSoup(content,\"html.parser\")\n",
    "    return doc"
   ]
  },
  {
   "cell_type": "code",
   "execution_count": 99,
   "id": "b7b98587-961a-40e9-8498-4cebeee5f9ef",
   "metadata": {},
   "outputs": [],
   "source": [
    "doc1 = findDoc(df[\"Links\"][0])"
   ]
  },
  {
   "cell_type": "code",
   "execution_count": 148,
   "id": "26b9ad2d-530f-46d4-99ae-7189e58c98c3",
   "metadata": {},
   "outputs": [],
   "source": [
    "def findUsername(doc):\n",
    "    userList = doc.find_all(\"h3\",{\"class\":\"f3 color-fg-muted text-normal lh-condensed\"})\n",
    "    return userList"
   ]
  },
  {
   "cell_type": "code",
   "execution_count": 209,
   "id": "79ed8b90-6958-45b4-90dd-2303101465ca",
   "metadata": {},
   "outputs": [],
   "source": [
    "# Users\n",
    "def calUser(doc1):\n",
    "    users = []\n",
    "    unames = findUsername(doc1)\n",
    "    for i in range(0,len(unames)):\n",
    "        users.append(unames[i].find('a').text)\n",
    "    return users"
   ]
  },
  {
   "cell_type": "code",
   "execution_count": 182,
   "id": "9cc4a761-a55b-4b16-9eca-289cb1c7ac6d",
   "metadata": {},
   "outputs": [
    {
     "data": {
      "text/plain": [
       "['mrdoob', 'pmndrs', 'libgdx', 'BabylonJS', 'FreeCAD']"
      ]
     },
     "execution_count": 182,
     "metadata": {},
     "output_type": "execute_result"
    }
   ],
   "source": [
    "users[:5]"
   ]
  },
  {
   "cell_type": "code",
   "execution_count": 210,
   "id": "9ad0de27-d5e8-4113-abc3-ca277eeb319e",
   "metadata": {},
   "outputs": [],
   "source": [
    "# Repositries\n",
    "def calRepo(doc1):\n",
    "    repositryNames = []\n",
    "    repo = findUsername(doc1)\n",
    "    for i in range(0,len(repo)):\n",
    "        repositryNames.append(repo[i].find_all('a')[1].text)\n",
    "    return repositryNames"
   ]
  },
  {
   "cell_type": "code",
   "execution_count": 173,
   "id": "3a3f4b7b-9ddc-446a-aac6-93147ed991e6",
   "metadata": {},
   "outputs": [
    {
     "data": {
      "text/plain": [
       "['three.js', 'react-three-fiber', 'libgdx', 'Babylon.js', 'FreeCAD']"
      ]
     },
     "execution_count": 173,
     "metadata": {},
     "output_type": "execute_result"
    }
   ],
   "source": [
    "repositryNames[:5]"
   ]
  },
  {
   "cell_type": "code",
   "execution_count": 211,
   "id": "ab4012a8-b17d-43c9-a888-4e021c843ac7",
   "metadata": {},
   "outputs": [],
   "source": [
    "# Repositries Links\n",
    "def calLink(users,repositryNames):\n",
    "    repolinks = []\n",
    "    for i in range(0,len(users)):\n",
    "        repolinks.append(\"https://github.com/\"+users[i]+\"/\"+repositryNames[i])\n",
    "    return repolinks"
   ]
  },
  {
   "cell_type": "code",
   "execution_count": 190,
   "id": "4dafbcea-4139-4238-8bcf-9d5d7d77d884",
   "metadata": {},
   "outputs": [
    {
     "data": {
      "text/plain": [
       "['https://github.com/mrdoob/three.js',\n",
       " 'https://github.com/pmndrs/react-three-fiber',\n",
       " 'https://github.com/libgdx/libgdx',\n",
       " 'https://github.com/BabylonJS/Babylon.js',\n",
       " 'https://github.com/FreeCAD/FreeCAD']"
      ]
     },
     "execution_count": 190,
     "metadata": {},
     "output_type": "execute_result"
    }
   ],
   "source": [
    "repolinks[:5]"
   ]
  },
  {
   "cell_type": "code",
   "execution_count": 195,
   "id": "9248ec9d-848c-4499-b454-90ce3344fed0",
   "metadata": {},
   "outputs": [],
   "source": [
    "def findStar(doc):\n",
    "    doc2 = doc.find_all('span',{'id':'repo-stars-counter-star'})\n",
    "    return doc2"
   ]
  },
  {
   "cell_type": "code",
   "execution_count": 213,
   "id": "158330f0-14d2-44d8-8b1c-b62eb2f32662",
   "metadata": {},
   "outputs": [],
   "source": [
    "def calStar(doc1):\n",
    "    stars = []\n",
    "    star = findStar(doc1)\n",
    "    for i in range(0,len(star)):\n",
    "        stars.append(star[i]['title'])\n",
    "    return stars"
   ]
  },
  {
   "cell_type": "code",
   "execution_count": 208,
   "id": "6790d113-2422-403b-a948-deb61e6ac342",
   "metadata": {},
   "outputs": [
    {
     "data": {
      "text/plain": [
       "['103,415', '27,831', '23,510', '23,419', '22,112']"
      ]
     },
     "execution_count": 208,
     "metadata": {},
     "output_type": "execute_result"
    }
   ],
   "source": [
    "stars[0:5]"
   ]
  },
  {
   "cell_type": "code",
   "execution_count": 215,
   "id": "59447c18-6045-46e6-ab4b-d0d2ea333025",
   "metadata": {},
   "outputs": [],
   "source": [
    "Github_Users = []\n",
    "Github_Repo = []\n",
    "Github_RepoLink = []\n",
    "Github_Star = []"
   ]
  },
  {
   "cell_type": "code",
   "execution_count": 220,
   "id": "98e6154a-3a18-4c97-9ae6-521177fddc91",
   "metadata": {},
   "outputs": [],
   "source": [
    "for url in df[\"Links\"]:\n",
    "    doc = findDoc(url)\n",
    "    user = calUser(doc)\n",
    "    Github_Users.extend(user)\n",
    "    repo = calRepo(doc)\n",
    "    Github_Repo.extend(repo)\n",
    "    link = calLink(user,repo)\n",
    "    Github_RepoLink.extend(link)\n",
    "    star = calStar(doc)\n",
    "    Github_Star.extend(star)"
   ]
  },
  {
   "cell_type": "code",
   "execution_count": 222,
   "id": "5e35ea43-43af-4596-8eaf-9b691b4f4561",
   "metadata": {},
   "outputs": [],
   "source": [
    "data = {\n",
    "    \"Usernames\":Github_Users,\n",
    "    \"Repositries\":Github_Repo,\n",
    "    \"Repo Links\":Github_RepoLink,\n",
    "    \"Repo Stars\":Github_Star\n",
    "}"
   ]
  },
  {
   "cell_type": "code",
   "execution_count": 223,
   "id": "3f5adcf9-a5cf-4ae8-aca7-2899309ef783",
   "metadata": {},
   "outputs": [],
   "source": [
    "dataFrame = pd.DataFrame(data)"
   ]
  },
  {
   "cell_type": "code",
   "execution_count": 225,
   "id": "8fbbd111-fa1e-43b3-8717-6b438b2e07e8",
   "metadata": {},
   "outputs": [],
   "source": [
    "dataFrame.to_csv(\"repo_reports.csv\",index=None)"
   ]
  }
 ],
 "metadata": {
  "kernelspec": {
   "display_name": "Python 3 (ipykernel)",
   "language": "python",
   "name": "python3"
  },
  "language_info": {
   "codemirror_mode": {
    "name": "ipython",
    "version": 3
   },
   "file_extension": ".py",
   "mimetype": "text/x-python",
   "name": "python",
   "nbconvert_exporter": "python",
   "pygments_lexer": "ipython3",
   "version": "3.13.1"
  }
 },
 "nbformat": 4,
 "nbformat_minor": 5
}
