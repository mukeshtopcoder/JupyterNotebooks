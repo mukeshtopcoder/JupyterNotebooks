{
 "cells": [
  {
   "cell_type": "code",
   "execution_count": 2,
   "id": "4edce248-08d3-4fe6-8e34-f5011604aafa",
   "metadata": {},
   "outputs": [],
   "source": [
    "import pandas as pd\n",
    "import numpy as np\n",
    "from bs4 import BeautifulSoup\n",
    "import requests"
   ]
  },
  {
   "cell_type": "code",
   "execution_count": 3,
   "id": "989c0725-1fa6-4b76-9d7e-d5296c659c6a",
   "metadata": {},
   "outputs": [],
   "source": [
    "url = \"https://boxofficemojo.com/year\""
   ]
  },
  {
   "cell_type": "code",
   "execution_count": 4,
   "id": "7ff34108-dcd3-4448-a7a4-b6c040a445a7",
   "metadata": {},
   "outputs": [],
   "source": [
    "res = requests.get(url)"
   ]
  },
  {
   "cell_type": "code",
   "execution_count": 5,
   "id": "c6fbf7d5-e9e7-4155-aa82-a5db13267a1b",
   "metadata": {},
   "outputs": [
    {
     "data": {
      "text/plain": [
       "200"
      ]
     },
     "execution_count": 5,
     "metadata": {},
     "output_type": "execute_result"
    }
   ],
   "source": [
    "res.status_code"
   ]
  },
  {
   "cell_type": "code",
   "execution_count": 6,
   "id": "244ac7eb-5a4f-4dda-969a-d0128768e623",
   "metadata": {},
   "outputs": [],
   "source": [
    "content = res.content"
   ]
  },
  {
   "cell_type": "code",
   "execution_count": 8,
   "id": "c53ad36f-9e0e-4d20-9170-c1da616cade5",
   "metadata": {},
   "outputs": [
    {
     "data": {
      "text/plain": [
       "b'<!doctype html><html class=\"a-no-js\" data-19ax5a9jf=\"dingo\"><head><script>var aPageStart = (new Date()).getTime();</script><meta charset=\"utf-8\"/>\\n<script type=\\'text/javascript\\'>var ue_t0=ue_t0||+new Date();</script>\\n<script type=\\'text/javascript\\'>\\nwindow.ue_ihb = (window.ue_ihb || window.ueinit || 0) + 1;\\nif (window.ue_ihb === 1) {\\n\\nvar ue_csm = window,\\n    ue_hob = +new Date();\\n(function(d){var e=d.ue=d.ue||{},f=Date.now||function(){return+new Date};e.d=function(b){return f()-(b?0:d.ue_t0)};e.'"
      ]
     },
     "execution_count": 8,
     "metadata": {},
     "output_type": "execute_result"
    }
   ],
   "source": [
    "content[:500]"
   ]
  },
  {
   "cell_type": "code",
   "execution_count": 9,
   "id": "54e01bd1-8acd-403f-8e17-f437f6111f2f",
   "metadata": {},
   "outputs": [],
   "source": [
    "data = BeautifulSoup(content,'html.parser')"
   ]
  },
  {
   "cell_type": "code",
   "execution_count": 23,
   "id": "cd1c6d49-36de-417a-ab51-75c414589048",
   "metadata": {},
   "outputs": [
    {
     "data": {
      "text/plain": [
       "[<td class=\"a-text-left mojo-header-column mojo-truncate mojo-field-type-year mojo-sort-column\"><a class=\"a-link-normal\" href=\"/year/2025/?ref_=bo_yl_table_1\">2025</a></td>,\n",
       " <td class=\"a-text-right mojo-field-type-money\">$1,238,623,992</td>,\n",
       " <td class=\"a-text-right mojo-field-type-percent_delta\">-</td>,\n",
       " <td class=\"a-text-right mojo-field-type-positive_integer\">187</td>,\n",
       " <td class=\"a-text-right mojo-field-type-money\">$6,623,657</td>,\n",
       " <td class=\"a-text-left mojo-field-type-release mojo-cell-wide\"><a class=\"a-link-normal\" href=\"/release/rl2597421825/?ref_=bo_yl_table_1\">Captain America: Brave New World</a></td>]"
      ]
     },
     "execution_count": 23,
     "metadata": {},
     "output_type": "execute_result"
    }
   ],
   "source": [
    "data.find('table').find_all('tr')[1].find_all('td')"
   ]
  },
  {
   "cell_type": "code",
   "execution_count": 37,
   "id": "992e4843-a617-427a-8177-78794a601e20",
   "metadata": {},
   "outputs": [],
   "source": [
    "year = []\n",
    "link = []\n",
    "gross = []\n",
    "ly = []\n",
    "totalrelease = []\n",
    "average = []\n",
    "topmovie = []"
   ]
  },
  {
   "cell_type": "code",
   "execution_count": 38,
   "id": "52260720-7829-4e3c-baf8-d657cef9368c",
   "metadata": {},
   "outputs": [],
   "source": [
    "# Scraping Top Movies of the Year\n",
    "for row in data.find('table').find_all('tr')[1:]:\n",
    "    year.append(row.find_all('td')[0].text)\n",
    "    link.append(\"https://boxofficemojo.com\"+row.find_all('td')[0].find('a')['href'])\n",
    "    gross.append(row.find_all('td')[1].text)\n",
    "    ly.append(row.find_all('td')[2].text)\n",
    "    totalrelease.append(row.find_all('td')[3].text)\n",
    "    average.append(row.find_all('td')[4].text)\n",
    "    topmovie.append(row.find_all('td')[5].text)"
   ]
  },
  {
   "cell_type": "code",
   "execution_count": 41,
   "id": "7537deca-9783-4539-ab43-626ad12c118c",
   "metadata": {},
   "outputs": [],
   "source": [
    "ds = {\n",
    "    'Year':year,\n",
    "    'All_Movies_Link_By_Year':link,\n",
    "    'Total_Gross_Amount':gross,\n",
    "    'LY_By_Year':ly,\n",
    "    'Total_Movies_Release':totalrelease,\n",
    "    'Average_Amount':average,\n",
    "    'Best_Movie_Of_The_Year':topmovie\n",
    "}"
   ]
  },
  {
   "cell_type": "code",
   "execution_count": 42,
   "id": "8647b594-57ab-4129-89d2-cbce7d316f5f",
   "metadata": {},
   "outputs": [],
   "source": [
    "df1 = pd.DataFrame(ds)"
   ]
  },
  {
   "cell_type": "code",
   "execution_count": 43,
   "id": "4b074603-a6e6-44da-bc04-7dabcc30cb10",
   "metadata": {},
   "outputs": [
    {
     "data": {
      "text/plain": [
       "(49, 7)"
      ]
     },
     "execution_count": 43,
     "metadata": {},
     "output_type": "execute_result"
    }
   ],
   "source": [
    "df1.shape"
   ]
  },
  {
   "cell_type": "code",
   "execution_count": 45,
   "id": "65abed19-ffdc-485d-a6fe-aa0ed5edb874",
   "metadata": {},
   "outputs": [
    {
     "data": {
      "text/html": [
       "<div>\n",
       "<style scoped>\n",
       "    .dataframe tbody tr th:only-of-type {\n",
       "        vertical-align: middle;\n",
       "    }\n",
       "\n",
       "    .dataframe tbody tr th {\n",
       "        vertical-align: top;\n",
       "    }\n",
       "\n",
       "    .dataframe thead th {\n",
       "        text-align: right;\n",
       "    }\n",
       "</style>\n",
       "<table border=\"1\" class=\"dataframe\">\n",
       "  <thead>\n",
       "    <tr style=\"text-align: right;\">\n",
       "      <th></th>\n",
       "      <th>Year</th>\n",
       "      <th>All_Movies_Link_By_Year</th>\n",
       "      <th>Total_Gross_Amount</th>\n",
       "      <th>LY_By_Year</th>\n",
       "      <th>Total_Movies_Release</th>\n",
       "      <th>Average_Amount</th>\n",
       "      <th>Best_Movie_Of_The_Year</th>\n",
       "    </tr>\n",
       "  </thead>\n",
       "  <tbody>\n",
       "    <tr>\n",
       "      <th>0</th>\n",
       "      <td>2025</td>\n",
       "      <td>https://boxofficemojo.com/year/2025/?ref_=bo_y...</td>\n",
       "      <td>$1,238,623,992</td>\n",
       "      <td>-</td>\n",
       "      <td>187</td>\n",
       "      <td>$6,623,657</td>\n",
       "      <td>Captain America: Brave New World</td>\n",
       "    </tr>\n",
       "    <tr>\n",
       "      <th>1</th>\n",
       "      <td>2024</td>\n",
       "      <td>https://boxofficemojo.com/year/2024/?ref_=bo_y...</td>\n",
       "      <td>$8,570,012,657</td>\n",
       "      <td>-3.8%</td>\n",
       "      <td>675</td>\n",
       "      <td>$12,696,315</td>\n",
       "      <td>Inside Out 2</td>\n",
       "    </tr>\n",
       "    <tr>\n",
       "      <th>2</th>\n",
       "      <td>2023</td>\n",
       "      <td>https://boxofficemojo.com/year/2023/?ref_=bo_y...</td>\n",
       "      <td>$8,907,111,984</td>\n",
       "      <td>+20.9%</td>\n",
       "      <td>592</td>\n",
       "      <td>$15,045,797</td>\n",
       "      <td>Barbie</td>\n",
       "    </tr>\n",
       "  </tbody>\n",
       "</table>\n",
       "</div>"
      ],
      "text/plain": [
       "   Year                            All_Movies_Link_By_Year Total_Gross_Amount  \\\n",
       "0  2025  https://boxofficemojo.com/year/2025/?ref_=bo_y...     $1,238,623,992   \n",
       "1  2024  https://boxofficemojo.com/year/2024/?ref_=bo_y...     $8,570,012,657   \n",
       "2  2023  https://boxofficemojo.com/year/2023/?ref_=bo_y...     $8,907,111,984   \n",
       "\n",
       "  LY_By_Year Total_Movies_Release Average_Amount  \\\n",
       "0          -                  187     $6,623,657   \n",
       "1      -3.8%                  675    $12,696,315   \n",
       "2     +20.9%                  592    $15,045,797   \n",
       "\n",
       "             Best_Movie_Of_The_Year  \n",
       "0  Captain America: Brave New World  \n",
       "1                      Inside Out 2  \n",
       "2                            Barbie  "
      ]
     },
     "execution_count": 45,
     "metadata": {},
     "output_type": "execute_result"
    }
   ],
   "source": [
    "df1.head(3)"
   ]
  },
  {
   "cell_type": "code",
   "execution_count": 47,
   "id": "9fd125ba-4410-4a3c-879c-5be622dc9ffa",
   "metadata": {},
   "outputs": [
    {
     "data": {
      "text/plain": [
       "0    https://boxofficemojo.com/year/2025/?ref_=bo_y...\n",
       "1    https://boxofficemojo.com/year/2024/?ref_=bo_y...\n",
       "2    https://boxofficemojo.com/year/2023/?ref_=bo_y...\n",
       "Name: All_Movies_Link_By_Year, dtype: object"
      ]
     },
     "execution_count": 47,
     "metadata": {},
     "output_type": "execute_result"
    }
   ],
   "source": [
    "df1['All_Movies_Link_By_Year'][0:3]"
   ]
  },
  {
   "cell_type": "code",
   "execution_count": 77,
   "id": "cb19e9ef-f776-439e-8bb8-83d8a706b6e1",
   "metadata": {},
   "outputs": [],
   "source": [
    "year = []\n",
    "moviename = []\n",
    "gross = []\n",
    "theater = []\n",
    "totalgross = []\n",
    "releasedate = []\n",
    "distributor = []"
   ]
  },
  {
   "cell_type": "code",
   "execution_count": 78,
   "id": "3e9f26a7-c944-49ce-9333-7466bc793e2e",
   "metadata": {},
   "outputs": [],
   "source": [
    "for u in df1['All_Movies_Link_By_Year']:\n",
    "    url = u\n",
    "    con = requests.get(url)\n",
    "    dt = BeautifulSoup(con.content,'html.parser')\n",
    "    for row in dt.find('table').find_all('tr')[1:]:\n",
    "        moviename.append(row.find_all('td')[1].text)\n",
    "        gross.append(row.find_all('td')[5].text)\n",
    "        theater.append(row.find_all('td')[6].text)\n",
    "        totalgross.append(row.find_all('td')[7].text)\n",
    "        releasedate.append(row.find_all('td')[8].text)\n",
    "        distributor.append(row.find_all('td')[9].text)"
   ]
  },
  {
   "cell_type": "code",
   "execution_count": 82,
   "id": "dc10fc52-057a-4547-a9e1-de74dbfd4eec",
   "metadata": {},
   "outputs": [],
   "source": [
    "ds = {\n",
    "    'Movie_Name':moviename,\n",
    "    'Gross':gross,\n",
    "    'Theater':theater,\n",
    "    'Total_Gross':totalgross,\n",
    "    'Release_Date':releasedate,\n",
    "    'Distributor':distributor\n",
    "}"
   ]
  },
  {
   "cell_type": "code",
   "execution_count": 83,
   "id": "41630597-a6f1-412b-bca4-a22d0cb1f857",
   "metadata": {},
   "outputs": [],
   "source": [
    "df2 = pd.DataFrame(ds)"
   ]
  },
  {
   "cell_type": "code",
   "execution_count": 84,
   "id": "fb4ffc55-9c93-4492-a7d5-272dbb175fcd",
   "metadata": {},
   "outputs": [
    {
     "data": {
      "text/plain": [
       "(8814, 6)"
      ]
     },
     "execution_count": 84,
     "metadata": {},
     "output_type": "execute_result"
    }
   ],
   "source": [
    "df2.shape"
   ]
  },
  {
   "cell_type": "code",
   "execution_count": 85,
   "id": "f0e05945-c842-4dfb-8e97-095238933aed",
   "metadata": {},
   "outputs": [
    {
     "data": {
      "text/html": [
       "<div>\n",
       "<style scoped>\n",
       "    .dataframe tbody tr th:only-of-type {\n",
       "        vertical-align: middle;\n",
       "    }\n",
       "\n",
       "    .dataframe tbody tr th {\n",
       "        vertical-align: top;\n",
       "    }\n",
       "\n",
       "    .dataframe thead th {\n",
       "        text-align: right;\n",
       "    }\n",
       "</style>\n",
       "<table border=\"1\" class=\"dataframe\">\n",
       "  <thead>\n",
       "    <tr style=\"text-align: right;\">\n",
       "      <th></th>\n",
       "      <th>Movie_Name</th>\n",
       "      <th>Gross</th>\n",
       "      <th>Theater</th>\n",
       "      <th>Total_Gross</th>\n",
       "      <th>Release_Date</th>\n",
       "      <th>Distributor</th>\n",
       "    </tr>\n",
       "  </thead>\n",
       "  <tbody>\n",
       "    <tr>\n",
       "      <th>0</th>\n",
       "      <td>Captain America: Brave New World</td>\n",
       "      <td>$188,017,391</td>\n",
       "      <td>4,105</td>\n",
       "      <td>$188,017,391</td>\n",
       "      <td>Feb 14</td>\n",
       "      <td>Walt Disney Studios Motion Pictures\\n\\n</td>\n",
       "    </tr>\n",
       "    <tr>\n",
       "      <th>1</th>\n",
       "      <td>Mufasa: The Lion King</td>\n",
       "      <td>$124,956,898</td>\n",
       "      <td>4,100</td>\n",
       "      <td>$253,100,843</td>\n",
       "      <td>Dec 20</td>\n",
       "      <td>Walt Disney Studios Motion Pictures\\n\\n</td>\n",
       "    </tr>\n",
       "    <tr>\n",
       "      <th>2</th>\n",
       "      <td>Dog Man</td>\n",
       "      <td>$94,130,545</td>\n",
       "      <td>3,887</td>\n",
       "      <td>$94,130,545</td>\n",
       "      <td>Jan 31</td>\n",
       "      <td>DreamWorks Distribution\\n\\n</td>\n",
       "    </tr>\n",
       "    <tr>\n",
       "      <th>3</th>\n",
       "      <td>Sonic the Hedgehog 3</td>\n",
       "      <td>$84,483,259</td>\n",
       "      <td>3,769</td>\n",
       "      <td>$236,042,153</td>\n",
       "      <td>Dec 20</td>\n",
       "      <td>Paramount Pictures\\n\\n</td>\n",
       "    </tr>\n",
       "    <tr>\n",
       "      <th>4</th>\n",
       "      <td>Moana 2</td>\n",
       "      <td>$56,290,767</td>\n",
       "      <td>4,200</td>\n",
       "      <td>$460,308,256</td>\n",
       "      <td>Nov 27</td>\n",
       "      <td>Walt Disney Studios Motion Pictures\\n\\n</td>\n",
       "    </tr>\n",
       "  </tbody>\n",
       "</table>\n",
       "</div>"
      ],
      "text/plain": [
       "                         Movie_Name         Gross Theater   Total_Gross  \\\n",
       "0  Captain America: Brave New World  $188,017,391   4,105  $188,017,391   \n",
       "1             Mufasa: The Lion King  $124,956,898   4,100  $253,100,843   \n",
       "2                           Dog Man   $94,130,545   3,887   $94,130,545   \n",
       "3              Sonic the Hedgehog 3   $84,483,259   3,769  $236,042,153   \n",
       "4                           Moana 2   $56,290,767   4,200  $460,308,256   \n",
       "\n",
       "  Release_Date                              Distributor  \n",
       "0       Feb 14  Walt Disney Studios Motion Pictures\\n\\n  \n",
       "1       Dec 20  Walt Disney Studios Motion Pictures\\n\\n  \n",
       "2       Jan 31              DreamWorks Distribution\\n\\n  \n",
       "3       Dec 20                   Paramount Pictures\\n\\n  \n",
       "4       Nov 27  Walt Disney Studios Motion Pictures\\n\\n  "
      ]
     },
     "execution_count": 85,
     "metadata": {},
     "output_type": "execute_result"
    }
   ],
   "source": [
    "df2.head()"
   ]
  },
  {
   "cell_type": "code",
   "execution_count": 86,
   "id": "9bd7fc2b-3a67-4403-a271-4d60a97344f0",
   "metadata": {},
   "outputs": [
    {
     "name": "stdout",
     "output_type": "stream",
     "text": [
      "<class 'pandas.core.frame.DataFrame'>\n",
      "RangeIndex: 8814 entries, 0 to 8813\n",
      "Data columns (total 6 columns):\n",
      " #   Column        Non-Null Count  Dtype \n",
      "---  ------        --------------  ----- \n",
      " 0   Movie_Name    8814 non-null   object\n",
      " 1   Gross         8814 non-null   object\n",
      " 2   Theater       8814 non-null   object\n",
      " 3   Total_Gross   8814 non-null   object\n",
      " 4   Release_Date  8814 non-null   object\n",
      " 5   Distributor   8814 non-null   object\n",
      "dtypes: object(6)\n",
      "memory usage: 413.3+ KB\n"
     ]
    }
   ],
   "source": [
    "df2.info()"
   ]
  },
  {
   "cell_type": "code",
   "execution_count": 87,
   "id": "25fde5db-35bd-4796-8981-06c6de49b060",
   "metadata": {},
   "outputs": [
    {
     "data": {
      "text/plain": [
       "Movie_Name      0\n",
       "Gross           0\n",
       "Theater         0\n",
       "Total_Gross     0\n",
       "Release_Date    0\n",
       "Distributor     0\n",
       "dtype: int64"
      ]
     },
     "execution_count": 87,
     "metadata": {},
     "output_type": "execute_result"
    }
   ],
   "source": [
    "df2.isnull().sum()"
   ]
  },
  {
   "cell_type": "code",
   "execution_count": null,
   "id": "7d7a9f77-c058-42d5-a5c1-212604b479ae",
   "metadata": {},
   "outputs": [],
   "source": []
  }
 ],
 "metadata": {
  "kernelspec": {
   "display_name": "Python 3 (ipykernel)",
   "language": "python",
   "name": "python3"
  },
  "language_info": {
   "codemirror_mode": {
    "name": "ipython",
    "version": 3
   },
   "file_extension": ".py",
   "mimetype": "text/x-python",
   "name": "python",
   "nbconvert_exporter": "python",
   "pygments_lexer": "ipython3",
   "version": "3.12.5"
  }
 },
 "nbformat": 4,
 "nbformat_minor": 5
}
